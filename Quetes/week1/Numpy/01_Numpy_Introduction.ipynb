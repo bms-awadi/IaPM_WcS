{
  "cells": [
    {
      "cell_type": "markdown",
      "metadata": {
        "id": "s6odsFbLpgIh"
      },
      "source": [
        "# NumPy : Introduction\n",
        "\n",
        "**NumPy allows you to manipulate data in the form of an array.**\n",
        "\n",
        "**Complete the missions below using NumPy.**"
      ]
    },
    {
      "cell_type": "code",
      "execution_count": 2,
      "metadata": {
        "id": "sXzBVR4imVvO"
      },
      "outputs": [
        {
          "name": "stdout",
          "output_type": "stream",
          "text": [
            "2.1.2\n"
          ]
        }
      ],
      "source": [
        "import numpy as np # Here we rename numpy as np, it's shorter, and everybody does that\n",
        "\n",
        "# Mission 1 : Display the version of NumPy you are running (as each library, you can use np.__version__)\n",
        "print(np.__version__)\n"
      ]
    },
    {
      "cell_type": "code",
      "execution_count": 3,
      "metadata": {
        "id": "vQGzQgU-phGc"
      },
      "outputs": [
        {
          "name": "stdout",
          "output_type": "stream",
          "text": [
            "[0.8 0.6 0.4]\n"
          ]
        }
      ],
      "source": [
        "# Mission 2 : Create a NumPy array with a length of 3, that contains this 3 floats: 0.8, 0.6, 0.4\n",
        "# Expected result: array([0.8, 0.6, 0.4])\n",
        "array1 = np.array([0.8, 0.6, 0.4])\n",
        "print(array1)"
      ]
    },
    {
      "cell_type": "code",
      "execution_count": 10,
      "metadata": {
        "id": "66-o1bXYqPC_"
      },
      "outputs": [
        {
          "name": "stdout",
          "output_type": "stream",
          "text": [
            "[0.90483425 0.43693478 0.42264331 0.46327091 0.49058619 0.63104629\n",
            " 0.44799991 0.66681332 0.54469124 0.73330106]\n"
          ]
        }
      ],
      "source": [
        "# Mission 3 : Create a function that uses the np.random.random() function to return an array with 10 random elements,\n",
        "# all of which must be greater than 0.25 and less than 1.0\n",
        "\n",
        "# Example of expected result: array([0.3897948 , 0.82850041, 0.5499838 , 0.81940137, 0.92175875, 0.89634373, 0.26821861, 0.72376496, 0.81098623, 0.28192741])\n",
        "\n",
        "def random_array(interv_min, interv_max, nbre_alea):\n",
        "    return np.random.random(nbre_alea) * (interv_max - interv_min) + interv_min\n",
        "\n",
        "interv_min, interv_max, nbre_alea = 0.25, 1, 10\n",
        "\n",
        "print(random_array(interv_min, interv_max, nbre_alea))"
      ]
    },
    {
      "cell_type": "code",
      "execution_count": 19,
      "metadata": {
        "id": "hx8Ck-neqRZe"
      },
      "outputs": [
        {
          "name": "stdout",
          "output_type": "stream",
          "text": [
            "empty_array = [ 1.    2.75  6.   10.75 17.  ]\n",
            "type of empty_array = <class 'numpy.ndarray'>\n"
          ]
        }
      ],
      "source": [
        "# Mission 4 : What does the np.empty() method do? Don't just copy the documentation, explain in your own words here\n",
        "n, m = 5, 10\n",
        "empty_array = np.empty(n)\n",
        "print(\"empty_array =\", empty_array)\n",
        "print(\"type of empty_array =\", type(empty_array))\n",
        "# np.empty() crée un tableau sans initialiser ses valeurs. \n",
        "# Le tableau contient donc des valeurs arbitraires\n",
        "# Allocation de mémoire pour remplir le tableau plus tard"
      ]
    },
    {
      "cell_type": "code",
      "execution_count": 22,
      "metadata": {
        "id": "q_BJsGjwqTQp"
      },
      "outputs": [
        {
          "name": "stdout",
          "output_type": "stream",
          "text": [
            "[0. 0. 0. 0. 0. 0. 0. 0. 0. 0.]\n",
            "<class 'numpy.ndarray'>\n"
          ]
        }
      ],
      "source": [
        "# Mission 5 : Create an array filled with only zeros. You can choose the length of this array.\n",
        "n, m = 10, 5\n",
        "zero_array2 = np.zeros(n)\n",
        "print(zero_array2)\n",
        "print(type(zero_array2))"
      ]
    },
    {
      "cell_type": "code",
      "execution_count": 21,
      "metadata": {
        "id": "KhQZPyHhqUql"
      },
      "outputs": [
        {
          "name": "stdout",
          "output_type": "stream",
          "text": [
            "[33 72 55 75 99  2 32 69 62 32]\n"
          ]
        }
      ],
      "source": [
        "# Mission 6 : Create an array filled with 10 random integers.\n",
        "n, m = 10, 10\n",
        "random_integers1 = np.random.randint(0, 100, n)  # 10 entiers aléatoires entre 0 et 99\n",
        "print(random_integers1)"
      ]
    },
    {
      "cell_type": "code",
      "execution_count": 23,
      "metadata": {
        "id": "v3vqX26BqWTo"
      },
      "outputs": [
        {
          "name": "stdout",
          "output_type": "stream",
          "text": [
            "[0 2 5 6 0 7 1 5 0 1 2 4 2 7 6 0 3 3 5 3 0 2 0 1 1 1 0 5 2 5 0 0 1 4 6 7 2\n",
            " 2 5 5 3 7 0 4 1 0 3 6 4 0]\n"
          ]
        }
      ],
      "source": [
        "# Mission 7 : Create an array that contains 50 values randomly selected only from these numbers: 0, 1, 2, 3, 4, 5, 6, 7.\n",
        "n, m = 50, 100\n",
        "random_choice_array = np.random.choice([0, 1, 2, 3, 4, 5, 6, 7], size=n)\n",
        "print(random_choice_array)"
      ]
    }
  ],
  "metadata": {
    "colab": {
      "provenance": []
    },
    "kernelspec": {
      "display_name": "env_wcs",
      "language": "python",
      "name": "python3"
    },
    "language_info": {
      "codemirror_mode": {
        "name": "ipython",
        "version": 3
      },
      "file_extension": ".py",
      "mimetype": "text/x-python",
      "name": "python",
      "nbconvert_exporter": "python",
      "pygments_lexer": "ipython3",
      "version": "3.12.4"
    }
  },
  "nbformat": 4,
  "nbformat_minor": 0
}
