{
  "cells": [
    {
      "cell_type": "code",
      "execution_count": 1,
      "metadata": {
        "id": "oAgzIe8SHxxF"
      },
      "outputs": [],
      "source": [
        "import numpy as np\n"
      ]
    },
    {
      "cell_type": "markdown",
      "metadata": {
        "id": "B2WKsy0JKfwk"
      },
      "source": [
        "Execute the cell below before starting the 1st mission."
      ]
    },
    {
      "cell_type": "code",
      "execution_count": 2,
      "metadata": {
        "colab": {
          "base_uri": "https://localhost:8080/"
        },
        "id": "v301-QT9KHHn",
        "outputId": "a0d23380-84aa-40a8-91dc-11f6dba3de3b"
      },
      "outputs": [
        {
          "data": {
            "text/plain": [
              "array([10, 40, 45,  5, 66, 91, 43, 75, 40, 28, 55, 45, 31, 71, 67, 54, 54,\n",
              "       35, 64, 27, 12, 93, 17, 91, 50, 57, 74, 61, 86, 20, 36, 35])"
            ]
          },
          "execution_count": 2,
          "metadata": {},
          "output_type": "execute_result"
        }
      ],
      "source": [
        "array_1 = np.array([10, 40, 45,  5, 66, 91, 43, 75, 40, 28, 55, 45, 31, 71, 67, 54, 54,\n",
        "       35, 64, 27, 12, 93, 17, 91, 50, 57, 74, 61, 86, 20, 36, 35])\n",
        "\n",
        "array_1"
      ]
    },
    {
      "cell_type": "markdown",
      "metadata": {
        "id": "ZAXuwsahKkiR"
      },
      "source": [
        "# Mission 1"
      ]
    },
    {
      "cell_type": "markdown",
      "metadata": {
        "id": "yrkLENtQKpNb"
      },
      "source": [
        "Using Numpy, how many axes `array_1` has ?"
      ]
    },
    {
      "cell_type": "code",
      "execution_count": 31,
      "metadata": {
        "id": "HQP8v-MrgELK"
      },
      "outputs": [
        {
          "data": {
            "text/plain": [
              "1"
            ]
          },
          "execution_count": 31,
          "metadata": {},
          "output_type": "execute_result"
        }
      ],
      "source": [
        "len(array_1.shape)"
      ]
    },
    {
      "cell_type": "markdown",
      "metadata": {
        "id": "UalGJQxz33yA"
      },
      "source": [
        "Still using Numpy, how many dimensions `array_1` has?"
      ]
    },
    {
      "cell_type": "code",
      "execution_count": 4,
      "metadata": {
        "id": "y26JYHgCgJqT"
      },
      "outputs": [
        {
          "data": {
            "text/plain": [
              "1"
            ]
          },
          "execution_count": 4,
          "metadata": {},
          "output_type": "execute_result"
        }
      ],
      "source": [
        "array_1.ndim"
      ]
    },
    {
      "cell_type": "markdown",
      "metadata": {
        "id": "FigiIh9o4PZ2"
      },
      "source": [
        "Display the first element of `array_1`"
      ]
    },
    {
      "cell_type": "code",
      "execution_count": 5,
      "metadata": {
        "id": "baOmyxdDgNh-"
      },
      "outputs": [
        {
          "data": {
            "text/plain": [
              "np.int64(10)"
            ]
          },
          "execution_count": 5,
          "metadata": {},
          "output_type": "execute_result"
        }
      ],
      "source": [
        "array_1[0]\n"
      ]
    },
    {
      "cell_type": "markdown",
      "metadata": {
        "id": "XgHAtDey4ecq"
      },
      "source": [
        "# Mission 2"
      ]
    },
    {
      "cell_type": "markdown",
      "metadata": {
        "id": "jiooiSHv4f-u"
      },
      "source": [
        "Modify, using a `numpy` method, the `array_1` object to be an object that has two axes, including 1 row and 32 columns.  \n",
        "Save it under the variable `array_2`."
      ]
    },
    {
      "cell_type": "code",
      "execution_count": 7,
      "metadata": {
        "id": "IV96vGr0gPNH"
      },
      "outputs": [
        {
          "data": {
            "text/plain": [
              "array([[10, 40, 45,  5, 66, 91, 43, 75, 40, 28, 55, 45, 31, 71, 67, 54,\n",
              "        54, 35, 64, 27, 12, 93, 17, 91, 50, 57, 74, 61, 86, 20, 36, 35]])"
            ]
          },
          "execution_count": 7,
          "metadata": {},
          "output_type": "execute_result"
        }
      ],
      "source": [
        "array_2 = array_1.reshape(1, 32)\n",
        "array_2"
      ]
    },
    {
      "cell_type": "markdown",
      "metadata": {
        "id": "pPrJF4lh4-nU"
      },
      "source": [
        "Now, modify `array_1` into an object that has 32 rows and only 1 column.  \n",
        "Save it under the variable `array_3`."
      ]
    },
    {
      "cell_type": "code",
      "execution_count": 8,
      "metadata": {
        "id": "NUOuSHC-gQj8"
      },
      "outputs": [
        {
          "data": {
            "text/plain": [
              "array([[10],\n",
              "       [40],\n",
              "       [45],\n",
              "       [ 5],\n",
              "       [66],\n",
              "       [91],\n",
              "       [43],\n",
              "       [75],\n",
              "       [40],\n",
              "       [28],\n",
              "       [55],\n",
              "       [45],\n",
              "       [31],\n",
              "       [71],\n",
              "       [67],\n",
              "       [54],\n",
              "       [54],\n",
              "       [35],\n",
              "       [64],\n",
              "       [27],\n",
              "       [12],\n",
              "       [93],\n",
              "       [17],\n",
              "       [91],\n",
              "       [50],\n",
              "       [57],\n",
              "       [74],\n",
              "       [61],\n",
              "       [86],\n",
              "       [20],\n",
              "       [36],\n",
              "       [35]])"
            ]
          },
          "execution_count": 8,
          "metadata": {},
          "output_type": "execute_result"
        }
      ],
      "source": [
        "array_3 = array_1.reshape(32, 1)\n",
        "array_3"
      ]
    },
    {
      "cell_type": "markdown",
      "metadata": {
        "id": "m1MNZ-G255JC"
      },
      "source": [
        "Access the first element of `array_2`, then of `array_3`.  \n",
        "What do you notice?  \n",
        "Why ?"
      ]
    },
    {
      "cell_type": "code",
      "execution_count": 11,
      "metadata": {
        "id": "OvdCAGBDgRxL"
      },
      "outputs": [
        {
          "data": {
            "text/plain": [
              "np.int64(10)"
            ]
          },
          "execution_count": 11,
          "metadata": {},
          "output_type": "execute_result"
        }
      ],
      "source": [
        "# First element of array_2\n",
        "array_2[0, 0]"
      ]
    },
    {
      "cell_type": "code",
      "execution_count": 12,
      "metadata": {},
      "outputs": [
        {
          "data": {
            "text/plain": [
              "np.int64(10)"
            ]
          },
          "execution_count": 12,
          "metadata": {},
          "output_type": "execute_result"
        }
      ],
      "source": [
        "# First element of array_3\n",
        "array_3[0, 0]"
      ]
    },
    {
      "cell_type": "markdown",
      "metadata": {
        "id": "zjxwDouC66FZ"
      },
      "source": [
        "# Mission 3"
      ]
    },
    {
      "cell_type": "markdown",
      "metadata": {
        "id": "BE6DnozV67pW"
      },
      "source": [
        "Access the value that is at index 3 of array `array_2`.  \n",
        "Do it with Numpy way, then with Python way."
      ]
    },
    {
      "cell_type": "code",
      "execution_count": 13,
      "metadata": {
        "id": "FlduHmRmgS_v"
      },
      "outputs": [
        {
          "data": {
            "text/plain": [
              "np.int64(5)"
            ]
          },
          "execution_count": 13,
          "metadata": {},
          "output_type": "execute_result"
        }
      ],
      "source": [
        "array_2[0, 3]"
      ]
    },
    {
      "cell_type": "markdown",
      "metadata": {
        "id": "umMUOSLM7y5j"
      },
      "source": [
        "Access the value which is at index 3 of array `array_3` in Numpy."
      ]
    },
    {
      "cell_type": "code",
      "execution_count": 14,
      "metadata": {
        "id": "cCcW9LcMgURK"
      },
      "outputs": [
        {
          "data": {
            "text/plain": [
              "np.int64(5)"
            ]
          },
          "execution_count": 14,
          "metadata": {},
          "output_type": "execute_result"
        }
      ],
      "source": [
        "array_3[3, 0]"
      ]
    },
    {
      "cell_type": "markdown",
      "metadata": {
        "id": "wDgUXd2GFxTG"
      },
      "source": [
        "# Mission 4"
      ]
    },
    {
      "cell_type": "markdown",
      "metadata": {
        "id": "A9lWaV2MF47x"
      },
      "source": [
        "Reshape `array_1` to be a 4-row, 8-column array,\n",
        "rather than a 32-element vector.  \n",
        "Save your array under the variable `array_4`."
      ]
    },
    {
      "cell_type": "code",
      "execution_count": 16,
      "metadata": {
        "id": "5xcE1Ao-gVOM"
      },
      "outputs": [
        {
          "data": {
            "text/plain": [
              "array([[10, 40, 45,  5, 66, 91, 43, 75],\n",
              "       [40, 28, 55, 45, 31, 71, 67, 54],\n",
              "       [54, 35, 64, 27, 12, 93, 17, 91],\n",
              "       [50, 57, 74, 61, 86, 20, 36, 35]])"
            ]
          },
          "execution_count": 16,
          "metadata": {},
          "output_type": "execute_result"
        }
      ],
      "source": [
        "array_4 = array_1.reshape(4, 8)\n",
        "array_4"
      ]
    },
    {
      "cell_type": "markdown",
      "metadata": {
        "id": "e7li0x-9HJRj"
      },
      "source": [
        "Access for each row, the values ​​of the columns which have the index 1 to 2 included."
      ]
    },
    {
      "cell_type": "code",
      "execution_count": 17,
      "metadata": {
        "id": "iCTmSBdhgWSy"
      },
      "outputs": [
        {
          "data": {
            "text/plain": [
              "array([[40, 45],\n",
              "       [28, 55],\n",
              "       [35, 64],\n",
              "       [57, 74]])"
            ]
          },
          "execution_count": 17,
          "metadata": {},
          "output_type": "execute_result"
        }
      ],
      "source": [
        "array_4[:, 1:3]"
      ]
    },
    {
      "cell_type": "markdown",
      "metadata": {
        "id": "dhImhpqRIkfm"
      },
      "source": [
        "Access for rows at position 1 and 2 inclusive, the values ​​of all columns."
      ]
    },
    {
      "cell_type": "code",
      "execution_count": 18,
      "metadata": {
        "id": "4hNN6Z8egZsH"
      },
      "outputs": [
        {
          "data": {
            "text/plain": [
              "array([[40, 28, 55, 45, 31, 71, 67, 54],\n",
              "       [54, 35, 64, 27, 12, 93, 17, 91]])"
            ]
          },
          "execution_count": 18,
          "metadata": {},
          "output_type": "execute_result"
        }
      ],
      "source": [
        "array_4[1:3, :]"
      ]
    },
    {
      "cell_type": "markdown",
      "metadata": {
        "id": "r74v4LSWIJTS"
      },
      "source": [
        "Access for the rows which have the index 2 to 3 inclusive, to the values ​​of the columns which have the index 3 to 5 inclusive."
      ]
    },
    {
      "cell_type": "code",
      "execution_count": 19,
      "metadata": {
        "id": "6nHMvCV3ga5z"
      },
      "outputs": [
        {
          "data": {
            "text/plain": [
              "array([[27, 12, 93],\n",
              "       [61, 86, 20]])"
            ]
          },
          "execution_count": 19,
          "metadata": {},
          "output_type": "execute_result"
        }
      ],
      "source": [
        "array_4[2:4, 3:6]"
      ]
    },
    {
      "cell_type": "markdown",
      "metadata": {
        "id": "04wOFcQ7LScR"
      },
      "source": [
        "Select the first column, as well as the columns whose index is a multiple of 2."
      ]
    },
    {
      "cell_type": "code",
      "execution_count": 20,
      "metadata": {
        "id": "3cCJG_uQgb5-"
      },
      "outputs": [
        {
          "data": {
            "text/plain": [
              "array([[10, 45, 66, 43],\n",
              "       [40, 55, 31, 67],\n",
              "       [54, 64, 12, 17],\n",
              "       [50, 74, 86, 36]])"
            ]
          },
          "execution_count": 20,
          "metadata": {},
          "output_type": "execute_result"
        }
      ],
      "source": [
        "array_4[:, [0, 2, 4, 6]]"
      ]
    },
    {
      "cell_type": "markdown",
      "metadata": {
        "id": "RiB2pjaeL3Fr"
      },
      "source": [
        "Select columns whose index is odd."
      ]
    },
    {
      "cell_type": "code",
      "execution_count": 21,
      "metadata": {
        "id": "7XtaV4xGgev1"
      },
      "outputs": [
        {
          "data": {
            "text/plain": [
              "array([[40,  5, 91, 75],\n",
              "       [28, 45, 71, 54],\n",
              "       [35, 27, 93, 91],\n",
              "       [57, 61, 20, 35]])"
            ]
          },
          "execution_count": 21,
          "metadata": {},
          "output_type": "execute_result"
        }
      ],
      "source": [
        "array_4[:, 1::2]"
      ]
    },
    {
      "cell_type": "markdown",
      "metadata": {
        "id": "YN3Nm1cnPNbO"
      },
      "source": [
        "# Mission 5"
      ]
    },
    {
      "cell_type": "markdown",
      "metadata": {
        "id": "nRqB_vIZPSF_"
      },
      "source": [
        "Reshape your `array_1` vector into a 3-dimensional array.\n",
        "Your 3-dimensional array should have 2 matrices, each of which has 4 rows and 4 columns.\n",
        "Save your array under the variable `array_5`."
      ]
    },
    {
      "cell_type": "code",
      "execution_count": 23,
      "metadata": {
        "id": "sZtizWIxgftT"
      },
      "outputs": [
        {
          "data": {
            "text/plain": [
              "array([[[10, 40, 45,  5],\n",
              "        [66, 91, 43, 75],\n",
              "        [40, 28, 55, 45],\n",
              "        [31, 71, 67, 54]],\n",
              "\n",
              "       [[54, 35, 64, 27],\n",
              "        [12, 93, 17, 91],\n",
              "        [50, 57, 74, 61],\n",
              "        [86, 20, 36, 35]]])"
            ]
          },
          "execution_count": 23,
          "metadata": {},
          "output_type": "execute_result"
        }
      ],
      "source": [
        "array_5 = array_1.reshape(2, 4, 4)\n",
        "array_5"
      ]
    },
    {
      "cell_type": "markdown",
      "metadata": {
        "id": "c5bKE_q2QVTU"
      },
      "source": [
        "Use the .shape attribute to observe the number of axes for `array_5`."
      ]
    },
    {
      "cell_type": "code",
      "execution_count": 24,
      "metadata": {
        "id": "tf6-0qrlggsF"
      },
      "outputs": [
        {
          "data": {
            "text/plain": [
              "(2, 4, 4)"
            ]
          },
          "execution_count": 24,
          "metadata": {},
          "output_type": "execute_result"
        }
      ],
      "source": [
        "array_5.shape"
      ]
    },
    {
      "cell_type": "markdown",
      "metadata": {
        "id": "sk3eOLAxR4p7"
      },
      "source": [
        "Select all values ​​from the first matrix."
      ]
    },
    {
      "cell_type": "code",
      "execution_count": 25,
      "metadata": {
        "id": "kuCkwm2wghrE"
      },
      "outputs": [
        {
          "data": {
            "text/plain": [
              "array([[10, 40, 45,  5],\n",
              "       [66, 91, 43, 75],\n",
              "       [40, 28, 55, 45],\n",
              "       [31, 71, 67, 54]])"
            ]
          },
          "execution_count": 25,
          "metadata": {},
          "output_type": "execute_result"
        }
      ],
      "source": [
        "array_5[0, :, :]"
      ]
    },
    {
      "cell_type": "markdown",
      "metadata": {
        "id": "JrU1RDIPQhpE"
      },
      "source": [
        "Access for both matrices,\n",
        "to the values ​​corresponding to the rows at index 1 and to the columns that have positions 3 and 4."
      ]
    },
    {
      "cell_type": "code",
      "execution_count": 26,
      "metadata": {
        "id": "9r9PKEExgi8m"
      },
      "outputs": [
        {
          "data": {
            "text/plain": [
              "array([[43, 75],\n",
              "       [17, 91]])"
            ]
          },
          "execution_count": 26,
          "metadata": {},
          "output_type": "execute_result"
        }
      ],
      "source": [
        "array_5[:, 1, 2:4]"
      ]
    },
    {
      "cell_type": "markdown",
      "metadata": {
        "id": "O4Nbgj7zRfm5"
      },
      "source": [
        "Access row values ​​at positions 2 to 3,\n",
        "columns at indexes 1 to 3 included for the second matrix only."
      ]
    },
    {
      "cell_type": "code",
      "execution_count": 29,
      "metadata": {
        "id": "C6M1IAmlgkJA"
      },
      "outputs": [
        {
          "data": {
            "text/plain": [
              "array([[57, 74, 61],\n",
              "       [20, 36, 35]])"
            ]
          },
          "execution_count": 29,
          "metadata": {},
          "output_type": "execute_result"
        }
      ],
      "source": [
        "array_5[1, 2:4, 1:4]"
      ]
    },
    {
      "cell_type": "markdown",
      "metadata": {
        "id": "odAFpIAwSB-F"
      },
      "source": [
        "\n",
        "Reshape `array_5` so that we have 8 rows and 4 columns."
      ]
    },
    {
      "cell_type": "code",
      "execution_count": 28,
      "metadata": {
        "id": "0OvfG5ffglMa"
      },
      "outputs": [
        {
          "data": {
            "text/plain": [
              "array([[10, 40, 45,  5],\n",
              "       [66, 91, 43, 75],\n",
              "       [40, 28, 55, 45],\n",
              "       [31, 71, 67, 54],\n",
              "       [54, 35, 64, 27],\n",
              "       [12, 93, 17, 91],\n",
              "       [50, 57, 74, 61],\n",
              "       [86, 20, 36, 35]])"
            ]
          },
          "execution_count": 28,
          "metadata": {},
          "output_type": "execute_result"
        }
      ],
      "source": [
        "array_5_reshaped = array_5.reshape(8, 4)\n",
        "array_5_reshaped"
      ]
    }
  ],
  "metadata": {
    "colab": {
      "provenance": []
    },
    "kernelspec": {
      "display_name": "env_wcs",
      "language": "python",
      "name": "python3"
    },
    "language_info": {
      "codemirror_mode": {
        "name": "ipython",
        "version": 3
      },
      "file_extension": ".py",
      "mimetype": "text/x-python",
      "name": "python",
      "nbconvert_exporter": "python",
      "pygments_lexer": "ipython3",
      "version": "3.12.4"
    }
  },
  "nbformat": 4,
  "nbformat_minor": 0
}
