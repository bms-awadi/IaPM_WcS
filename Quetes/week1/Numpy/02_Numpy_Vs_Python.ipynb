{
  "cells": [
    {
      "cell_type": "markdown",
      "metadata": {
        "id": "8msPqS8imUVt"
      },
      "source": [
        "## Vectorized operations"
      ]
    },
    {
      "cell_type": "markdown",
      "metadata": {
        "id": "3UxDqS97mXiv"
      },
      "source": [
        "As you could see in the quest, one of the great strengths of Numpy are the vectorized operations. Numpy will not perform loops to do calculations, but rather perform operations in parallel.   \n",
        "You can look at it this way:  \n",
        "* Python --> loop --> serial (actions one after the other)\n",
        "* Numpy --> vectorized operation --> in parallel (actions next to each other)"
      ]
    },
    {
      "cell_type": "markdown",
      "metadata": {
        "id": "jPO68Q9pnUIy"
      },
      "source": [
        "# Mission 1"
      ]
    },
    {
      "cell_type": "markdown",
      "metadata": {
        "id": "4WffbDfcnwkZ"
      },
      "source": [
        "Considering the object below, we want to calculate the sum for each row.  \n",
        "That is, return the sum of `12 + 5`, then `8 + 32` etc...  \n",
        "Find a way to return the sums of the 4 rows in a list, coding in Python. You must have 4 values in this list."
      ]
    },
    {
      "cell_type": "code",
      "execution_count": 11,
      "metadata": {
        "id": "Rkvky1nUmHj_"
      },
      "outputs": [
        {
          "name": "stdout",
          "output_type": "stream",
          "text": [
            "row_sums = [17, 40, 31, 21]\n"
          ]
        }
      ],
      "source": [
        "my_list = [\n",
        "           [12,5],\n",
        "           [8,32],\n",
        "           [25,6],\n",
        "           [7,14]\n",
        "]\n",
        "row_sums_py = [sum(row) for row in my_list]\n",
        "print(\"row_sums =\", row_sums_py)"
      ]
    },
    {
      "cell_type": "markdown",
      "metadata": {
        "id": "L3WVhtI_oU6S"
      },
      "source": [
        "Now do the same thing, but this time coding in `Numpy`.  \n",
        "`index`: You must first convert `my_list` to ndarray."
      ]
    },
    {
      "cell_type": "code",
      "execution_count": 12,
      "metadata": {
        "id": "HIv2CRVRob-Y"
      },
      "outputs": [
        {
          "name": "stdout",
          "output_type": "stream",
          "text": [
            "[[12  5]\n",
            " [ 8 32]\n",
            " [25  6]\n",
            " [ 7 14]]\n",
            "row_sums = [17 40 31 21]\n"
          ]
        }
      ],
      "source": [
        "import numpy as np\n",
        "\n",
        "array = np.array(my_list)\n",
        "print(array)\n",
        "row_sums_np = np.sum(array, axis = 1)\n",
        "print(\"row_sums =\", row_sums_np)"
      ]
    },
    {
      "cell_type": "markdown",
      "metadata": {
        "id": "hcIV_9nypVg7"
      },
      "source": [
        "# Mission 2"
      ]
    },
    {
      "cell_type": "markdown",
      "metadata": {
        "id": "uEawd8a9pbrH"
      },
      "source": [
        "Find a way to return the sums of the 2 columns in a list, by coding in Python. You must have 2 values in this list."
      ]
    },
    {
      "cell_type": "code",
      "execution_count": 13,
      "metadata": {
        "id": "Pfvwbn-kpXEw"
      },
      "outputs": [
        {
          "name": "stdout",
          "output_type": "stream",
          "text": [
            "col_sums = [52, 57]\n"
          ]
        }
      ],
      "source": [
        "my_list = [\n",
        "           [12,5],\n",
        "           [8,32],\n",
        "           [25,6],\n",
        "           [7,14]\n",
        "]\n",
        "\n",
        "zip_list = zip(*my_list)\n",
        "col_sums_py = [sum(col) for col in zip_list]\n",
        "print(\"col_sums =\", col_sums_py)"
      ]
    },
    {
      "cell_type": "markdown",
      "metadata": {
        "id": "aj-Vz9hRqhqH"
      },
      "source": [
        "Now do the same thing, but coding this time in Numpy.  \n",
        "This time you have to propose 2 different solutions, coding in Numpy each time.\n"
      ]
    },
    {
      "cell_type": "code",
      "execution_count": 14,
      "metadata": {
        "id": "pSTnC3PkqlXB"
      },
      "outputs": [
        {
          "name": "stdout",
          "output_type": "stream",
          "text": [
            "col_sums = [52 57]\n"
          ]
        }
      ],
      "source": [
        "col_sums_np = np.sum(array, axis = 0)\n",
        "print(\"col_sums =\", col_sums_np)"
      ]
    },
    {
      "cell_type": "markdown",
      "metadata": {
        "id": "hjEZwMBirvL0"
      },
      "source": [
        "# Mission 3"
      ]
    },
    {
      "cell_type": "markdown",
      "metadata": {
        "id": "5gNu1KM8r03j"
      },
      "source": [
        "This time, you will have to return the sum of all the elements included in the object below, coding in `Python`."
      ]
    },
    {
      "cell_type": "code",
      "execution_count": 15,
      "metadata": {
        "id": "lkJFTJucr0Nz"
      },
      "outputs": [
        {
          "name": "stdout",
          "output_type": "stream",
          "text": [
            "total_sum = 109\n"
          ]
        }
      ],
      "source": [
        "my_list = [\n",
        "           [12,5],\n",
        "           [8,32],\n",
        "           [25,6],\n",
        "           [7,14]\n",
        "]\n",
        "\n",
        "total_sum_py = sum(sum(row) for row in my_list)\n",
        "print(\"total_sum =\", total_sum_py)"
      ]
    },
    {
      "cell_type": "markdown",
      "metadata": {
        "id": "OpdM8v4vsSvq"
      },
      "source": [
        "As you might expect, you'll have to do this by coding in Numpy.\n",
        "You can propose only one solution. There is a very simple one, and a very effective one too."
      ]
    },
    {
      "cell_type": "code",
      "execution_count": 16,
      "metadata": {
        "id": "BWVIH2GAuw_M"
      },
      "outputs": [
        {
          "name": "stdout",
          "output_type": "stream",
          "text": [
            "total_sum = 109\n"
          ]
        }
      ],
      "source": [
        "total_sum_np = np.sum(array)\n",
        "print(\"total_sum =\", total_sum_np)"
      ]
    },
    {
      "cell_type": "markdown",
      "metadata": {
        "id": "sJGBP8XmvNK-"
      },
      "source": [
        "# Mission 4"
      ]
    },
    {
      "cell_type": "markdown",
      "metadata": {
        "id": "w6341JpRmDqw"
      },
      "source": [
        "Find a way to calculate the following statistical indicators using NumPy functions on the array bellow.\n",
        "- mode\n",
        "- median\n",
        "- average\n",
        "- the range (the difference between max and min)\n",
        "- standard deviation\n",
        "- variance\n",
        "- the different quantiles\n",
        "\n"
      ]
    },
    {
      "cell_type": "code",
      "execution_count": 17,
      "metadata": {
        "id": "yXL0siorlg_b"
      },
      "outputs": [],
      "source": [
        "array = [5, 34, 74, 65, 98, 81, 34, 61, 9, 4, 27, 42, 42, 78, 34, 59, 56, 82, 55, 63]"
      ]
    },
    {
      "cell_type": "code",
      "execution_count": 18,
      "metadata": {},
      "outputs": [
        {
          "name": "stdout",
          "output_type": "stream",
          "text": [
            "Mode: ModeResult(mode=np.int64(34), count=np.int64(3))\n",
            "Mode: 34\n"
          ]
        }
      ],
      "source": [
        "\n",
        "# Mode\n",
        "from scipy import stats\n",
        "mode = stats.mode(array)\n",
        "\n",
        "\n",
        "print(f\"Mode: {mode}\")\n",
        "print(f\"Mode: {mode[0]}\")"
      ]
    },
    {
      "cell_type": "code",
      "execution_count": 19,
      "metadata": {},
      "outputs": [
        {
          "name": "stdout",
          "output_type": "stream",
          "text": [
            "Median: 55.5\n"
          ]
        }
      ],
      "source": [
        "# Median\n",
        "median = np.median(array)\n",
        "print(f\"Median: {median}\")"
      ]
    },
    {
      "cell_type": "code",
      "execution_count": 20,
      "metadata": {},
      "outputs": [
        {
          "name": "stdout",
          "output_type": "stream",
          "text": [
            "Average: 50.15\n"
          ]
        }
      ],
      "source": [
        "# Average\n",
        "average = np.mean(array)\n",
        "print(f\"Average: {average}\")"
      ]
    },
    {
      "cell_type": "code",
      "execution_count": 21,
      "metadata": {},
      "outputs": [
        {
          "name": "stdout",
          "output_type": "stream",
          "text": [
            "Range: 94\n",
            "Range: 94\n"
          ]
        }
      ],
      "source": [
        "# Range (max - min)\n",
        "range_value = np.ptp(array)  \n",
        "print(f\"Range: {range_value}\")\n",
        "# or\n",
        "print(f\"Range: {np.max(array) - np.min(array)}\")"
      ]
    },
    {
      "cell_type": "code",
      "execution_count": 22,
      "metadata": {},
      "outputs": [
        {
          "name": "stdout",
          "output_type": "stream",
          "text": [
            "Standard Deviation: 26.031279261688233\n"
          ]
        }
      ],
      "source": [
        "# Standard Deviation\n",
        "std_dev = np.std(array)\n",
        "print(f\"Standard Deviation: {std_dev}\")"
      ]
    },
    {
      "cell_type": "code",
      "execution_count": 23,
      "metadata": {},
      "outputs": [
        {
          "name": "stdout",
          "output_type": "stream",
          "text": [
            "Variance: 677.6274999999998\n"
          ]
        }
      ],
      "source": [
        "# Variance\n",
        "variance = np.var(array)\n",
        "print(f\"Variance: {variance}\")"
      ]
    },
    {
      "cell_type": "code",
      "execution_count": 24,
      "metadata": {},
      "outputs": [
        {
          "name": "stdout",
          "output_type": "stream",
          "text": [
            "Quantiles (25th, 50th, 75th): [34.   55.5  67.25]\n"
          ]
        }
      ],
      "source": [
        "# Different Quantiles (25th, 50th, 75th percentiles)\n",
        "quantiles = np.percentile(array, [25, 50, 75])  \n",
        "print(f\"Quantiles (25th, 50th, 75th): {quantiles}\")"
      ]
    }
  ],
  "metadata": {
    "colab": {
      "provenance": []
    },
    "kernelspec": {
      "display_name": "env_wcs",
      "language": "python",
      "name": "python3"
    },
    "language_info": {
      "codemirror_mode": {
        "name": "ipython",
        "version": 3
      },
      "file_extension": ".py",
      "mimetype": "text/x-python",
      "name": "python",
      "nbconvert_exporter": "python",
      "pygments_lexer": "ipython3",
      "version": "3.12.4"
    }
  },
  "nbformat": 4,
  "nbformat_minor": 0
}
