{
  "cells": [
    {
      "cell_type": "markdown",
      "metadata": {
        "id": "iGmmrwi0cC08"
      },
      "source": [
        "# Mission 1\n",
        "\n",
        "![](https://i.imgur.com/Ax3pp2A.png)\n",
        "\n",
        "\n",
        "Create a \"fruit\" dataframe that reflects the above example **using a list** data structure\n",
        "\n",
        "[This resource could help you](https://datatofish.com/list-to-dataframe/)."
      ]
    },
    {
      "cell_type": "code",
      "execution_count": 1,
      "metadata": {
        "id": "qaxzkL8aaM3O"
      },
      "outputs": [
        {
          "name": "stdout",
          "output_type": "stream",
          "text": [
            "   Apples  Bananas\n",
            "0      30       21\n"
          ]
        }
      ],
      "source": [
        "import pandas as pd\n",
        "\n",
        "data = [[30, 21]]\n",
        "columns = [\"Apples\", \"Bananas\"]\n",
        "fruit_df = pd.DataFrame(data, columns=columns)\n",
        "\n",
        "print(fruit_df)\n"
      ]
    },
    {
      "cell_type": "markdown",
      "metadata": {
        "id": "SyGDBMkkcQ9W"
      },
      "source": [
        "# Mission 2\n",
        "\n",
        "Create a \"fruit_vendors\" dataframe that reflects the below example **using a dictionary** data structure\n",
        "\n",
        "![](https://i.imgur.com/CHPn7ZF.png)\n",
        "\n",
        "[This resource could help you.](https://pandas.pydata.org/pandas-docs/stable/reference/api/pandas.DataFrame.from_dict.html)"
      ]
    },
    {
      "cell_type": "code",
      "execution_count": 2,
      "metadata": {
        "id": "K-giWZ5hcdRv"
      },
      "outputs": [
        {
          "name": "stdout",
          "output_type": "stream",
          "text": [
            "            Apples  Bananas\n",
            "2017 Sales      35       21\n",
            "2018 Sales      41       34\n"
          ]
        }
      ],
      "source": [
        "data = {\n",
        "    \"Apples\": [35, 41],\n",
        "    \"Bananas\": [21, 34]\n",
        "    }\n",
        "index = [\"2017 Sales\", \"2018 Sales\"]\n",
        "fruit_vendors_df = pd.DataFrame(data, index=index)\n",
        "print(fruit_vendors_df)"
      ]
    },
    {
      "cell_type": "markdown",
      "metadata": {
        "id": "XXBoq2QQeaWV"
      },
      "source": [
        "# Mission 3\n",
        "\n",
        "Use a loop to display the values from each column in the dataframe from mission 2.\n",
        "\n",
        "[This resource could help you](https://apprendrepython.com/pandas-iterate-dataframe-avec-la-boucle-for/)"
      ]
    },
    {
      "cell_type": "code",
      "execution_count": 3,
      "metadata": {
        "id": "0Gjh7zAwejGv"
      },
      "outputs": [
        {
          "name": "stdout",
          "output_type": "stream",
          "text": [
            "Apples column values:\n",
            "35\n",
            "41\n",
            "\n",
            "Bananas column values:\n",
            "21\n",
            "34\n",
            "\n"
          ]
        }
      ],
      "source": [
        "for column in fruit_vendors_df.columns:\n",
        "    print(f\"{column} column values:\")\n",
        "    for value in fruit_vendors_df[column]:\n",
        "        print(value)\n",
        "    print()"
      ]
    },
    {
      "cell_type": "markdown",
      "metadata": {
        "id": "FJsldb56eCZ0"
      },
      "source": [
        "# Mission 4\n",
        "\n",
        "Delete the first row of the dataframe from mission 2\n",
        "\n",
        "[This resource could help you.](https://pandas.pydata.org/pandas-docs/stable/reference/api/pandas.DataFrame.drop.html)"
      ]
    },
    {
      "cell_type": "code",
      "execution_count": 4,
      "metadata": {
        "id": "8NvM_j35gJTZ"
      },
      "outputs": [
        {
          "name": "stdout",
          "output_type": "stream",
          "text": [
            "            Apples  Bananas\n",
            "2018 Sales      41       34\n"
          ]
        }
      ],
      "source": [
        "fruit_vendors_df = fruit_vendors_df.drop(\"2017 Sales\")\n",
        "\n",
        "print(fruit_vendors_df)"
      ]
    },
    {
      "cell_type": "markdown",
      "metadata": {
        "id": "-XdmcyLqe66p"
      },
      "source": [
        "# Mission 5\n",
        "\n",
        "Delete the first column from the dataframe from mission 2.\n"
      ]
    },
    {
      "cell_type": "code",
      "execution_count": 5,
      "metadata": {
        "id": "g9l_0VqghJn9"
      },
      "outputs": [
        {
          "name": "stdout",
          "output_type": "stream",
          "text": [
            "            Bananas\n",
            "2018 Sales       34\n"
          ]
        }
      ],
      "source": [
        "fruit_vendors_df = fruit_vendors_df.drop(\"Apples\", axis=1)\n",
        "\n",
        "print(fruit_vendors_df)"
      ]
    }
  ],
  "metadata": {
    "colab": {
      "provenance": []
    },
    "kernelspec": {
      "display_name": "Python 3",
      "name": "python3"
    },
    "language_info": {
      "codemirror_mode": {
        "name": "ipython",
        "version": 3
      },
      "file_extension": ".py",
      "mimetype": "text/x-python",
      "name": "python",
      "nbconvert_exporter": "python",
      "pygments_lexer": "ipython3",
      "version": "3.12.4"
    }
  },
  "nbformat": 4,
  "nbformat_minor": 0
}
