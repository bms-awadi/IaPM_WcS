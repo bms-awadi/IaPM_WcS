{
  "cells": [
    {
      "cell_type": "markdown",
      "metadata": {
        "id": "t0bLJ1JMgmzT"
      },
      "source": [
        "# Imports"
      ]
    },
    {
      "cell_type": "code",
      "execution_count": 1,
      "metadata": {
        "id": "mWNA7zJHgqUB"
      },
      "outputs": [],
      "source": [
        "from datetime import datetime\n",
        "from datetime import timedelta\n",
        "import pandas as pd\n",
        "import seaborn as sns\n",
        "import matplotlib.pyplot as plt"
      ]
    },
    {
      "cell_type": "markdown",
      "metadata": {
        "id": "FL-eDQnxgsug"
      },
      "source": [
        "# Your mission: convert each string variable into datetime objects"
      ]
    },
    {
      "cell_type": "code",
      "execution_count": 2,
      "metadata": {
        "colab": {
          "base_uri": "https://localhost:8080/"
        },
        "id": "gRsiQWy1hFaz",
        "outputId": "8fda55b2-a099-41f6-8ae3-29fb4389b553"
      },
      "outputs": [
        {
          "name": "stdout",
          "output_type": "stream",
          "text": [
            "<class 'str'>\n",
            "2018-01-04\n"
          ]
        }
      ],
      "source": [
        "var1 = '2018-01-04'\n",
        "print(type(var1))\n",
        "print(var1)"
      ]
    },
    {
      "cell_type": "code",
      "execution_count": 4,
      "metadata": {
        "colab": {
          "base_uri": "https://localhost:8080/"
        },
        "id": "817Nim6FgvF4",
        "outputId": "b0a42008-f480-407c-e7a3-d888cce3614d"
      },
      "outputs": [
        {
          "name": "stdout",
          "output_type": "stream",
          "text": [
            "2018-01-04 00:00:00\n"
          ]
        }
      ],
      "source": [
        "# It's up to you :\n",
        "var_date = datetime.strptime('2018-01-04', '%Y-%m-%d')\n",
        "print(var_date)"
      ]
    },
    {
      "cell_type": "code",
      "execution_count": 6,
      "metadata": {
        "id": "-m_HBQQRhfrO"
      },
      "outputs": [
        {
          "name": "stdout",
          "output_type": "stream",
          "text": [
            "2019-02-14 00:00:00\n"
          ]
        }
      ],
      "source": [
        "var2 = '14/02/2019'\n",
        "# It's up to you :\n",
        "var_date2 = datetime.strptime(var2, '%d/%m/%Y')\n",
        "print(var_date2)"
      ]
    },
    {
      "cell_type": "code",
      "execution_count": 7,
      "metadata": {
        "id": "-UWufd5WhrXh"
      },
      "outputs": [
        {
          "name": "stdout",
          "output_type": "stream",
          "text": [
            "2020-03-14 00:00:00\n"
          ]
        }
      ],
      "source": [
        "var3 = '14 03 20'\n",
        "# It's up to you :\n",
        "var_date3 = datetime.strptime(var3, '%d %m %y')\n",
        "print(var_date3)"
      ]
    },
    {
      "cell_type": "code",
      "execution_count": 8,
      "metadata": {
        "id": "KIDWq6hXh8sL"
      },
      "outputs": [
        {
          "name": "stdout",
          "output_type": "stream",
          "text": [
            "2019-02-14 21:30:00\n"
          ]
        }
      ],
      "source": [
        "var4 = '14/02/2019 21:30'\n",
        "# It's up to you :\n",
        "var_date4 = datetime.strptime(var4, '%d/%m/%Y %H:%M')\n",
        "print(var_date4)"
      ]
    },
    {
      "cell_type": "code",
      "execution_count": 9,
      "metadata": {
        "id": "9N-VqO3DiA9y"
      },
      "outputs": [
        {
          "name": "stdout",
          "output_type": "stream",
          "text": [
            "2018-01-04 18:48:00\n"
          ]
        }
      ],
      "source": [
        "var5 = '2018-01-04 at 18 hours and 48 min'\n",
        "# It's up to you :\n",
        "var_date5 = datetime.strptime(var5.split(' at ')[0], '%Y-%m-%d') + timedelta(hours=18, minutes=48)\n",
        "print(var_date5)"
      ]
    },
    {
      "cell_type": "markdown",
      "metadata": {
        "id": "6xa7YX8AivRC"
      },
      "source": [
        "# Your mission: convert the datetime object into string with precise format"
      ]
    },
    {
      "cell_type": "code",
      "execution_count": 10,
      "metadata": {
        "colab": {
          "base_uri": "https://localhost:8080/"
        },
        "id": "ZqAwQbGKi8Og",
        "outputId": "58deee68-189d-4745-cbbd-1ba4d8b9bbe5"
      },
      "outputs": [
        {
          "name": "stdout",
          "output_type": "stream",
          "text": [
            "2020-02-15 20:05:00\n"
          ]
        }
      ],
      "source": [
        "var_date = datetime.strptime('2020-02-15 20:05', '%Y-%m-%d %H:%M')\n",
        "print(var_date)"
      ]
    },
    {
      "cell_type": "code",
      "execution_count": 11,
      "metadata": {
        "id": "Te-biE9gjkj8"
      },
      "outputs": [
        {
          "name": "stdout",
          "output_type": "stream",
          "text": [
            "15/02/2020\n"
          ]
        }
      ],
      "source": [
        "# We would like to print this format : 15/02/2020\n",
        "print(var_date.strftime('%d/%m/%Y'))"
      ]
    },
    {
      "cell_type": "code",
      "execution_count": 12,
      "metadata": {
        "id": "YaKMyjwcjwQE"
      },
      "outputs": [
        {
          "name": "stdout",
          "output_type": "stream",
          "text": [
            "15-02-2020\n"
          ]
        }
      ],
      "source": [
        "# We would like to print this format : 15-02-2020\n",
        "print(var_date.strftime('%d-%m-%Y'))"
      ]
    },
    {
      "cell_type": "code",
      "execution_count": 13,
      "metadata": {
        "id": "-QuUBNpaj1ze"
      },
      "outputs": [
        {
          "name": "stdout",
          "output_type": "stream",
          "text": [
            "15/02\n"
          ]
        }
      ],
      "source": [
        "# We would like to print this format : 15/02\n",
        "print(var_date.strftime('%d/%m'))"
      ]
    },
    {
      "cell_type": "code",
      "execution_count": 14,
      "metadata": {
        "id": "HkWp_pmbj2lw"
      },
      "outputs": [
        {
          "name": "stdout",
          "output_type": "stream",
          "text": [
            "2020-02\n"
          ]
        }
      ],
      "source": [
        "# We would like to print this format : 2020-02\n",
        "print(var_date.strftime('%Y-%m'))"
      ]
    },
    {
      "cell_type": "code",
      "execution_count": 15,
      "metadata": {
        "id": "_wPUl9tvj3DX"
      },
      "outputs": [
        {
          "name": "stdout",
          "output_type": "stream",
          "text": [
            "2020-02-15 at 20:05\n"
          ]
        }
      ],
      "source": [
        "# We would like to print this format : 2020-02-15 at 20:05\n",
        "print(var_date.strftime('%Y-%m-%d at %H:%M'))"
      ]
    },
    {
      "cell_type": "markdown",
      "metadata": {
        "id": "Bdh3lWC-kKeP"
      },
      "source": [
        "# Your mission is to determine which date it was / it will be"
      ]
    },
    {
      "cell_type": "code",
      "execution_count": 16,
      "metadata": {
        "id": "mqjWPixhjRJt"
      },
      "outputs": [
        {
          "name": "stdout",
          "output_type": "stream",
          "text": [
            "Month in 7 weeks: April\n"
          ]
        }
      ],
      "source": [
        "# what month will it be in 7 weeks ?\n",
        "seven_weeks_later = var_date + timedelta(weeks=7)\n",
        "print(\"Month in 7 weeks:\", seven_weeks_later.strftime('%B'))"
      ]
    },
    {
      "cell_type": "code",
      "execution_count": 17,
      "metadata": {
        "id": "i9qsaEC7kdV_"
      },
      "outputs": [
        {
          "name": "stdout",
          "output_type": "stream",
          "text": [
            "Day of the week in 3 days: Tuesday\n"
          ]
        }
      ],
      "source": [
        "# what day of the week will it be in 3 days ?\n",
        "three_days_later = var_date + timedelta(days=3)\n",
        "print(\"Day of the week in 3 days:\", three_days_later.strftime('%A'))"
      ]
    },
    {
      "cell_type": "code",
      "execution_count": 18,
      "metadata": {
        "id": "SJYZOuUikhIq"
      },
      "outputs": [
        {
          "name": "stdout",
          "output_type": "stream",
          "text": [
            "Hour in 100 hours: 00:05\n"
          ]
        }
      ],
      "source": [
        "# what hour will it be in 100 hours ?\n",
        "hundred_hours_later = var_date + timedelta(hours=100)\n",
        "print(\"Hour in 100 hours:\", hundred_hours_later.strftime('%H:%M'))"
      ]
    },
    {
      "cell_type": "code",
      "execution_count": 19,
      "metadata": {
        "id": "kdk858vtkljP"
      },
      "outputs": [
        {
          "name": "stdout",
          "output_type": "stream",
          "text": [
            "Date 30 days ago: 2020-01-16\n"
          ]
        }
      ],
      "source": [
        "# what date was 30 days ago ?\n",
        "thirty_days_ago = var_date - timedelta(days=30)\n",
        "print(\"Date 30 days ago:\", thirty_days_ago.strftime('%Y-%m-%d'))"
      ]
    },
    {
      "cell_type": "code",
      "execution_count": 20,
      "metadata": {
        "id": "EEORndhxkuA1"
      },
      "outputs": [
        {
          "name": "stdout",
          "output_type": "stream",
          "text": [
            "Date 30 weeks ago: 2019-07-20\n"
          ]
        }
      ],
      "source": [
        "# what date was 30 weeks ago ?\n",
        "thirty_weeks_ago = var_date - timedelta(weeks=30)\n",
        "print(\"Date 30 weeks ago:\", thirty_weeks_ago.strftime('%Y-%m-%d'))"
      ]
    },
    {
      "cell_type": "markdown",
      "metadata": {
        "id": "vlbi8zDok3sp"
      },
      "source": [
        "# With Pandas\n",
        "\"DATE\" column has only string values. On a chart, the X-axis is not well displayed."
      ]
    },
    {
      "cell_type": "code",
      "execution_count": 21,
      "metadata": {
        "colab": {
          "base_uri": "https://localhost:8080/",
          "height": 469
        },
        "id": "yd0cJVoLk3YZ",
        "outputId": "7ccd5d10-0747-4d16-b666-96eef527b58b"
      },
      "outputs": [
        {
          "name": "stderr",
          "output_type": "stream",
          "text": [
            "/var/folders/m2/d1mw5wj10rdfwjr3_bnnrxwr0000gn/T/ipykernel_9386/636473841.py:6: UserWarning: FigureCanvasAgg is non-interactive, and thus cannot be shown\n",
            "  fig.show()\n"
          ]
        },
        {
          "data": {
            "image/png": "[encoded data removed]",
            "text/plain": [
              "<Figure size 2000x1000 with 1 Axes>"
            ]
          },
          "metadata": {},
          "output_type": "display_data"
        }
      ],
      "source": [
        "df = pd.read_csv(\"https://raw.githubusercontent.com/murpi/wilddata/master/quests/weather2019.csv\")\n",
        "fig, ax = plt.subplots(figsize=(20, 10))\n",
        "ax.scatter(x=df['DATE'],\n",
        "           y=df['MAX_TEMPERATURE_C'])\n",
        "fig.show()"
      ]
    },
    {
      "cell_type": "code",
      "execution_count": 22,
      "metadata": {
        "id": "-ZxwPNNelIJV"
      },
      "outputs": [],
      "source": [
        "# Convert the \"DATE\" column into a datetime format, then display the same chart. Are ticks on X-axis better printed ?\n",
        "df['DATE'] = pd.to_datetime(df['DATE'], format='%Y-%m-%d') "
      ]
    },
    {
      "cell_type": "code",
      "execution_count": 23,
      "metadata": {
        "id": "UEyTRF_ZooSz"
      },
      "outputs": [
        {
          "data": {
            "image/png": "[encoded data removed]",
            "text/plain": [
              "<Figure size 2000x1000 with 1 Axes>"
            ]
          },
          "metadata": {},
          "output_type": "display_data"
        }
      ],
      "source": [
        "plt.figure(figsize=(20, 10))\n",
        "sns.scatterplot(data=df, x='DATE', y='MAX_TEMPERATURE_C')\n",
        "plt.title('Temperature Data with Dates as Datetime')\n",
        "plt.xlabel('Date')\n",
        "plt.ylabel('Max Temperature (C)')\n",
        "plt.xticks(rotation=45)\n",
        "plt.show()"
      ]
    },
    {
      "cell_type": "code",
      "execution_count": 24,
      "metadata": {},
      "outputs": [
        {
          "name": "stdout",
          "output_type": "stream",
          "text": [
            "          DATE  MAX_TEMPERATURE_C  MIN_TEMPERATURE_C  WINDSPEED_MAX_KMH  \\\n",
            "151 2019-06-01                 29                 16                  9   \n",
            "152 2019-06-02                 23                 15                 17   \n",
            "153 2019-06-03                 20                 14                 14   \n",
            "154 2019-06-04                 19                 13                 25   \n",
            "155 2019-06-05                 16                 10                 15   \n",
            "156 2019-06-06                 18                  9                 16   \n",
            "157 2019-06-07                 15                 13                 42   \n",
            "158 2019-06-08                 18                 11                 27   \n",
            "159 2019-06-09                 16                 10                 14   \n",
            "160 2019-06-10                 17                  9                 23   \n",
            "161 2019-06-11                 15                  7                 15   \n",
            "162 2019-06-12                 16                  8                 23   \n",
            "163 2019-06-13                 18                 10                 21   \n",
            "164 2019-06-14                 19                 10                 16   \n",
            "165 2019-06-15                 18                 10                 28   \n",
            "166 2019-06-16                 19                 13                 17   \n",
            "167 2019-06-17                 25                 10                  8   \n",
            "168 2019-06-18                 28                 17                 19   \n",
            "169 2019-06-19                 20                 14                 26   \n",
            "170 2019-06-20                 20                 12                 15   \n",
            "171 2019-06-21                 20                 10                 13   \n",
            "172 2019-06-22                 23                 11                 15   \n",
            "173 2019-06-23                 27                 15                 16   \n",
            "174 2019-06-24                 23                 16                 21   \n",
            "175 2019-06-25                 26                 15                  9   \n",
            "176 2019-06-26                 31                 19                 23   \n",
            "177 2019-06-27                 34                 23                 18   \n",
            "178 2019-06-28                 34                 25                 13   \n",
            "179 2019-06-29                 32                 18                 18   \n",
            "180 2019-06-30                 26                 16                 10   \n",
            "\n",
            "     TEMPERATURE_MORNING_C  TEMPERATURE_NOON_C  TEMPERATURE_EVENING_C  \\\n",
            "151                     17                  27                     27   \n",
            "152                     19                  23                     20   \n",
            "153                     14                  19                     19   \n",
            "154                     14                  18                     18   \n",
            "155                     12                  16                     15   \n",
            "156                     10                  17                     17   \n",
            "157                     14                  15                     13   \n",
            "158                     12                  17                     17   \n",
            "159                     11                  16                     13   \n",
            "160                     10                  16                     15   \n",
            "161                      9                  15                     14   \n",
            "162                      9                  15                     15   \n",
            "163                     12                  17                     16   \n",
            "164                     12                  19                     17   \n",
            "165                     12                  18                     16   \n",
            "166                     14                  18                     19   \n",
            "167                     12                  23                     25   \n",
            "168                     18                  26                     26   \n",
            "169                     17                  20                     19   \n",
            "170                     12                  19                     18   \n",
            "171                     12                  20                     19   \n",
            "172                     14                  22                     23   \n",
            "173                     16                  25                     23   \n",
            "174                     17                  18                     23   \n",
            "175                     16                  25                     25   \n",
            "176                     21                  29                     31   \n",
            "177                     23                  31                     34   \n",
            "178                     25                  33                     32   \n",
            "179                     24                  32                     24   \n",
            "180                     17                  23                     25   \n",
            "\n",
            "     PRECIP_TOTAL_DAY_MM  HUMIDITY_MAX_PERCENT  VISIBILITY_AVG_KM  ...  \\\n",
            "151                  0.0                    75             10.000  ...   \n",
            "152                  0.0                    72             10.000  ...   \n",
            "153                  0.5                    77              8.000  ...   \n",
            "154                  6.3                    87              9.375  ...   \n",
            "155                  1.5                    76              9.875  ...   \n",
            "156                  2.7                    75              9.625  ...   \n",
            "157                 27.3                    83              8.625  ...   \n",
            "158                  3.4                    77              9.375  ...   \n",
            "159                  4.0                    82             15.375  ...   \n",
            "160                  2.7                    78              9.125  ...   \n",
            "161                  3.4                    77             10.250  ...   \n",
            "162                  5.1                    85             15.500  ...   \n",
            "163                  2.3                    79             17.625  ...   \n",
            "164                  0.0                    72             20.000  ...   \n",
            "165                  0.6                    76             18.875  ...   \n",
            "166                  0.3                    78             17.625  ...   \n",
            "167                  0.0                    73             20.000  ...   \n",
            "168                  0.0                    81             19.000  ...   \n",
            "169                  0.9                    79             11.500  ...   \n",
            "170                  0.0                    68              9.000  ...   \n",
            "171                  0.5                    70              9.875  ...   \n",
            "172                  0.0                    70             10.000  ...   \n",
            "173                  0.0                    76             10.000  ...   \n",
            "174                 14.1                    90              8.500  ...   \n",
            "175                  0.9                    77              8.750  ...   \n",
            "176                  0.0                    79             10.000  ...   \n",
            "177                  0.0                    71             10.000  ...   \n",
            "178                  0.0                    77              9.750  ...   \n",
            "179                  0.0                    73              9.375  ...   \n",
            "180                  0.7                    68              9.250  ...   \n",
            "\n",
            "     WINDTEMP_MAX_C  WEATHER_CODE_MORNING  WEATHER_CODE_NOON  \\\n",
            "151              22                   116                113   \n",
            "152              21                   116                116   \n",
            "153              16                   266                116   \n",
            "154              17                   296                353   \n",
            "155              15                   116                176   \n",
            "156              13                   116                176   \n",
            "157              12                   299                353   \n",
            "158              14                   176                176   \n",
            "159              13                   116                116   \n",
            "160              12                   143                176   \n",
            "161              12                   143                119   \n",
            "162              11                   248                122   \n",
            "163              14                   296                353   \n",
            "164              15                   143                116   \n",
            "165              15                   143                176   \n",
            "166              16                   176                176   \n",
            "167              18                   116                116   \n",
            "168              20                   119                116   \n",
            "169              19                   119                176   \n",
            "170              15                   119                116   \n",
            "171              16                   116                116   \n",
            "172              18                   116                116   \n",
            "173              20                   116                116   \n",
            "174              16                   116                299   \n",
            "175              21                   143                116   \n",
            "176              25                   116                116   \n",
            "177              27                   116                116   \n",
            "178              28                   200                122   \n",
            "179              29                   116                113   \n",
            "180              19                   176                116   \n",
            "\n",
            "     WEATHER_CODE_EVENING  TOTAL_SNOW_MM  UV_INDEX  SUNHOUR           OPINION  \\\n",
            "151                   113              0         1     14.5         very good   \n",
            "152                   119              0         1     13.5              good   \n",
            "153                   116              0         1     12.6              good   \n",
            "154                   122              0         1      9.7               bad   \n",
            "155                   176              0         1      9.7  not good not bad   \n",
            "156                   353              0         1     11.6              good   \n",
            "157                   356              0         1      9.7          very bad   \n",
            "158                   176              0         1     13.7  not good not bad   \n",
            "159                   353              0         1     13.8  not good not bad   \n",
            "160                   299              0         1     14.7  not good not bad   \n",
            "161                   353              0         1     13.8               bad   \n",
            "162                   356              0         1     12.9               bad   \n",
            "163                   116              0         1     14.7  not good not bad   \n",
            "164                   116              0         1     15.9              good   \n",
            "165                   176              0         1     13.8  not good not bad   \n",
            "166                   116              0         1     14.7              good   \n",
            "167                   116              0         1     16.0              good   \n",
            "168                   116              0         1     16.0              good   \n",
            "169                   176              0         1     12.9  not good not bad   \n",
            "170                   116              0         1     16.0              good   \n",
            "171                   176              0         1     14.7              good   \n",
            "172                   116              0         1     16.0              good   \n",
            "173                   116              0         1     16.0              good   \n",
            "174                   116              0         1     12.9               bad   \n",
            "175                   116              0         1     16.0              good   \n",
            "176                   116              0         1     16.0              good   \n",
            "177                   116              0         1     15.9  not good not bad   \n",
            "178                   116              0         1     15.9  not good not bad   \n",
            "179                   113              0         1     15.9              good   \n",
            "180                   116              0         1     15.6              good   \n",
            "\n",
            "     MONTH  DAY  \n",
            "151      6    1  \n",
            "152      6    2  \n",
            "153      6    3  \n",
            "154      6    4  \n",
            "155      6    5  \n",
            "156      6    6  \n",
            "157      6    7  \n",
            "158      6    8  \n",
            "159      6    9  \n",
            "160      6   10  \n",
            "161      6   11  \n",
            "162      6   12  \n",
            "163      6   13  \n",
            "164      6   14  \n",
            "165      6   15  \n",
            "166      6   16  \n",
            "167      6   17  \n",
            "168      6   18  \n",
            "169      6   19  \n",
            "170      6   20  \n",
            "171      6   21  \n",
            "172      6   22  \n",
            "173      6   23  \n",
            "174      6   24  \n",
            "175      6   25  \n",
            "176      6   26  \n",
            "177      6   27  \n",
            "178      6   28  \n",
            "179      6   29  \n",
            "180      6   30  \n",
            "\n",
            "[30 rows x 24 columns]\n"
          ]
        }
      ],
      "source": [
        "# Only rows for the month of June\n",
        "june_data = df[df['DATE'].dt.month == 6]\n",
        "print(june_data)"
      ]
    }
  ],
  "metadata": {
    "colab": {
      "provenance": []
    },
    "kernelspec": {
      "display_name": "Python 3",
      "name": "python3"
    },
    "language_info": {
      "codemirror_mode": {
        "name": "ipython",
        "version": 3
      },
      "file_extension": ".py",
      "mimetype": "text/x-python",
      "name": "python",
      "nbconvert_exporter": "python",
      "pygments_lexer": "ipython3",
      "version": "3.12.4"
    }
  },
  "nbformat": 4,
  "nbformat_minor": 0
}
