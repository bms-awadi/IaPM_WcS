{
  "cells": [
    {
      "cell_type": "markdown",
      "metadata": {
        "id": "vPeraeSVmy3l"
      },
      "source": [
        "# Mission 1\n",
        "\n",
        "Display the following information [for this dataset](https://raw.githubusercontent.com/justmarkham/pandas-videos/master/data/u.user).\n",
        "- The last 5 rows\n",
        "- The first 5 rows\n",
        "- The type of each column\n",
        "\n",
        "Note : start coding something by typing `pd.read_csv()` and explore the different options available, especially the `sep` parameter.\n"
      ]
    },
    {
      "cell_type": "code",
      "execution_count": 1,
      "metadata": {
        "id": "hYiMPyQjnDiX"
      },
      "outputs": [
        {
          "name": "stdout",
          "output_type": "stream",
          "text": [
            "Last 5 rows:\n",
            "       1  24  M     technician  85711\n",
            "937  939  26  F        student  33319\n",
            "938  940  32  M  administrator  02215\n",
            "939  941  20  M        student  97229\n",
            "940  942  48  F      librarian  78209\n",
            "941  943  22  M        student  77841\n",
            "\n",
            "First 5 rows:\n",
            "   1  24  M  technician  85711\n",
            "0  2  53  F       other  94043\n",
            "1  3  23  M      writer  32067\n",
            "2  4  24  M  technician  43537\n",
            "3  5  33  F       other  15213\n",
            "4  6  42  M   executive  98101\n",
            "\n",
            "Data types of each column:\n",
            "1              int64\n",
            "24             int64\n",
            "M             object\n",
            "technician    object\n",
            "85711         object\n",
            "dtype: object\n"
          ]
        }
      ],
      "source": [
        "import pandas as pd\n",
        "\n",
        "url = \"https://raw.githubusercontent.com/justmarkham/pandas-videos/master/data/u.user\"\n",
        "users_df = pd.read_csv(url, sep='|')\n",
        "\n",
        "# Display the last 5 rows\n",
        "print(\"Last 5 rows:\")\n",
        "print(users_df.tail())\n",
        "\n",
        "# Display the first 5 rows\n",
        "print(\"\\nFirst 5 rows:\")\n",
        "print(users_df.head())\n",
        "\n",
        "# Display the data type of each column\n",
        "print(\"\\nData types of each column:\")\n",
        "print(users_df.dtypes)\n"
      ]
    },
    {
      "cell_type": "markdown",
      "metadata": {
        "id": "FBZHvmA4m0Hp"
      },
      "source": [
        "# Mission 2\n",
        "\n",
        "Display the first 10 rows [in the following file](https://raw.githubusercontent.com/justmarkham/pandas-videos/master/data/drinks.csv)\n"
      ]
    },
    {
      "cell_type": "code",
      "execution_count": 2,
      "metadata": {
        "id": "tEarIThhnjtj"
      },
      "outputs": [
        {
          "name": "stdout",
          "output_type": "stream",
          "text": [
            "             country  beer_servings  spirit_servings  wine_servings  \\\n",
            "0        Afghanistan              0                0              0   \n",
            "1            Albania             89              132             54   \n",
            "2            Algeria             25                0             14   \n",
            "3            Andorra            245              138            312   \n",
            "4             Angola            217               57             45   \n",
            "5  Antigua & Barbuda            102              128             45   \n",
            "6          Argentina            193               25            221   \n",
            "7            Armenia             21              179             11   \n",
            "8          Australia            261               72            212   \n",
            "9            Austria            279               75            191   \n",
            "\n",
            "   total_litres_of_pure_alcohol      continent  \n",
            "0                           0.0           Asia  \n",
            "1                           4.9         Europe  \n",
            "2                           0.7         Africa  \n",
            "3                          12.4         Europe  \n",
            "4                           5.9         Africa  \n",
            "5                           4.9  North America  \n",
            "6                           8.3  South America  \n",
            "7                           3.8         Europe  \n",
            "8                          10.4        Oceania  \n",
            "9                           9.7         Europe  \n"
          ]
        }
      ],
      "source": [
        "import pandas as pd\n",
        "\n",
        "url = \"https://raw.githubusercontent.com/justmarkham/pandas-videos/master/data/drinks.csv\"\n",
        "drinks_df = pd.read_csv(url)\n",
        "\n",
        "print(drinks_df.head(10))\n"
      ]
    },
    {
      "cell_type": "markdown",
      "metadata": {
        "id": "GDYdX4GhVqcv"
      },
      "source": [
        "Set the \"country\" column as the index for the dataframe, using `set_index` method."
      ]
    },
    {
      "cell_type": "code",
      "execution_count": 3,
      "metadata": {
        "colab": {
          "base_uri": "https://localhost:8080/",
          "height": 455
        },
        "id": "v6UStsirVonR",
        "outputId": "983aa22c-8526-4791-8981-d4d664082ed6"
      },
      "outputs": [
        {
          "name": "stdout",
          "output_type": "stream",
          "text": [
            "                   beer_servings  spirit_servings  wine_servings  \\\n",
            "country                                                            \n",
            "Afghanistan                    0                0              0   \n",
            "Albania                       89              132             54   \n",
            "Algeria                       25                0             14   \n",
            "Andorra                      245              138            312   \n",
            "Angola                       217               57             45   \n",
            "Antigua & Barbuda            102              128             45   \n",
            "Argentina                    193               25            221   \n",
            "Armenia                       21              179             11   \n",
            "Australia                    261               72            212   \n",
            "Austria                      279               75            191   \n",
            "\n",
            "                   total_litres_of_pure_alcohol      continent  \n",
            "country                                                         \n",
            "Afghanistan                                 0.0           Asia  \n",
            "Albania                                     4.9         Europe  \n",
            "Algeria                                     0.7         Africa  \n",
            "Andorra                                    12.4         Europe  \n",
            "Angola                                      5.9         Africa  \n",
            "Antigua & Barbuda                           4.9  North America  \n",
            "Argentina                                   8.3  South America  \n",
            "Armenia                                     3.8         Europe  \n",
            "Australia                                  10.4        Oceania  \n",
            "Austria                                     9.7         Europe  \n"
          ]
        }
      ],
      "source": [
        "drinks_df = drinks_df.set_index(\"country\")\n",
        "print(drinks_df.head(10))"
      ]
    },
    {
      "cell_type": "markdown",
      "metadata": {
        "id": "4c0iWWwbm0J-"
      },
      "source": [
        "# Mission 3\n",
        "\n",
        "Access the values of the row for **Zimbabwe** (use the index value)  "
      ]
    },
    {
      "cell_type": "code",
      "execution_count": 4,
      "metadata": {
        "id": "FJfMGNdXq9A4"
      },
      "outputs": [
        {
          "name": "stdout",
          "output_type": "stream",
          "text": [
            "beer_servings                       64\n",
            "spirit_servings                     18\n",
            "wine_servings                        4\n",
            "total_litres_of_pure_alcohol       4.7\n",
            "continent                       Africa\n",
            "Name: Zimbabwe, dtype: object\n"
          ]
        }
      ],
      "source": [
        "zimbabwe_row = drinks_df.loc[\"Zimbabwe\"]\n",
        "print(zimbabwe_row)"
      ]
    },
    {
      "cell_type": "markdown",
      "metadata": {
        "id": "U5q4qElxm0MH"
      },
      "source": [
        "# Mision 4\n",
        "\n",
        "Display only the \"continent\" column value for the country **Zimbabwe**."
      ]
    },
    {
      "cell_type": "code",
      "execution_count": 5,
      "metadata": {
        "id": "PiIjLs4erHy6"
      },
      "outputs": [
        {
          "name": "stdout",
          "output_type": "stream",
          "text": [
            "Africa\n"
          ]
        }
      ],
      "source": [
        "zimbabwe_continent = drinks_df.loc[\"Zimbabwe\", \"continent\"]\n",
        "print(zimbabwe_continent)"
      ]
    },
    {
      "cell_type": "markdown",
      "metadata": {
        "id": "jrmdH5LirTPE"
      },
      "source": [
        "# Mission 5\n",
        "\n",
        "Rename the columns [of this dataset](https://raw.githubusercontent.com/justmarkham/pandas-videos/master/data/ufo.csv), try using the following 2 different methods to achieve this:\n",
        "- Setting column names directly when reading the file\n",
        "- Editing after creating the dataframe ([This resource could be useful](https://pandas.pydata.org/pandas-docs/stable/reference/api/pandas.DataFrame.rename.html))"
      ]
    },
    {
      "cell_type": "code",
      "execution_count": 7,
      "metadata": {
        "id": "clMCInd-sqHC"
      },
      "outputs": [
        {
          "name": "stdout",
          "output_type": "stream",
          "text": [
            "DataFrame with renamed columns (Method 1):\n",
            "      datetime             city           state country            shape  \\\n",
            "0         City  Colors Reported  Shape Reported   State             Time   \n",
            "1       Ithaca              NaN        TRIANGLE      NY   6/1/1930 22:00   \n",
            "2  Willingboro              NaN           OTHER      NJ  6/30/1930 20:00   \n",
            "3      Holyoke              NaN            OVAL      CO  2/15/1931 14:00   \n",
            "4      Abilene              NaN            DISK      KS   6/1/1931 13:00   \n",
            "\n",
            "   duration  report  \n",
            "0       NaN     NaN  \n",
            "1       NaN     NaN  \n",
            "2       NaN     NaN  \n",
            "3       NaN     NaN  \n",
            "4       NaN     NaN  \n"
          ]
        }
      ],
      "source": [
        "import pandas as pd\n",
        "\n",
        "url = \"https://raw.githubusercontent.com/justmarkham/pandas-videos/master/data/ufo.csv\"\n",
        "new_column_names = [\"datetime\", \"city\", \"state\", \"country\", \"shape\", \"duration\", \"report\"]\n",
        "ufo_df = pd.read_csv(url, names=new_column_names, header=None)\n",
        "\n",
        "print(\"DataFrame with renamed columns (Method 1):\")\n",
        "print(ufo_df.head())\n"
      ]
    },
    {
      "cell_type": "code",
      "execution_count": 8,
      "metadata": {},
      "outputs": [
        {
          "name": "stdout",
          "output_type": "stream",
          "text": [
            "\n",
            "DataFrame with renamed columns (Method 2):\n",
            "                   City Colors Reported Shape Reported State             Time\n",
            "0                Ithaca             NaN       TRIANGLE    NY   6/1/1930 22:00\n",
            "1           Willingboro             NaN          OTHER    NJ  6/30/1930 20:00\n",
            "2               Holyoke             NaN           OVAL    CO  2/15/1931 14:00\n",
            "3               Abilene             NaN           DISK    KS   6/1/1931 13:00\n",
            "4  New York Worlds Fair             NaN          LIGHT    NY  4/18/1933 19:00\n"
          ]
        }
      ],
      "source": [
        "ufo_df = pd.read_csv(url)\n",
        "\n",
        "ufo_df = ufo_df.rename(columns={\n",
        "    \"datetime\": \"datetime\",\n",
        "    \"city\": \"city\",\n",
        "    \"state\": \"state\",\n",
        "    \"country\": \"country\",\n",
        "    \"shape\": \"shape\",\n",
        "    \"duration (seconds)\": \"duration\",\n",
        "    \"report\": \"report\"\n",
        "})\n",
        "\n",
        "print(\"\\nDataFrame with renamed columns (Method 2):\")\n",
        "print(ufo_df.head())\n"
      ]
    },
    {
      "cell_type": "markdown",
      "metadata": {
        "id": "hDeNn--qVyUo"
      },
      "source": [
        "# Mission 6\n",
        "\n",
        "Select the first 3 rows and all the columns of the dataframe using iloc"
      ]
    },
    {
      "cell_type": "code",
      "execution_count": 9,
      "metadata": {
        "id": "weMAN0jeWSsy"
      },
      "outputs": [
        {
          "name": "stdout",
          "output_type": "stream",
          "text": [
            "          City Colors Reported Shape Reported State             Time\n",
            "0       Ithaca             NaN       TRIANGLE    NY   6/1/1930 22:00\n",
            "1  Willingboro             NaN          OTHER    NJ  6/30/1930 20:00\n",
            "2      Holyoke             NaN           OVAL    CO  2/15/1931 14:00\n"
          ]
        }
      ],
      "source": [
        "first_three_rows = ufo_df.iloc[0:3, :]\n",
        "print(first_three_rows)"
      ]
    },
    {
      "cell_type": "markdown",
      "metadata": {
        "id": "eGVlIK-KWSBh"
      },
      "source": [
        "# Mission 7\n",
        "\n",
        "Achieve the same result as in mission 6 by using loc"
      ]
    },
    {
      "cell_type": "code",
      "execution_count": 10,
      "metadata": {
        "id": "W9WC9f5CWWfz"
      },
      "outputs": [
        {
          "name": "stdout",
          "output_type": "stream",
          "text": [
            "          City Colors Reported Shape Reported State             Time\n",
            "0       Ithaca             NaN       TRIANGLE    NY   6/1/1930 22:00\n",
            "1  Willingboro             NaN          OTHER    NJ  6/30/1930 20:00\n",
            "2      Holyoke             NaN           OVAL    CO  2/15/1931 14:00\n"
          ]
        }
      ],
      "source": [
        "first_three_rows_loc = ufo_df.loc[0:2, :]\n",
        "print(first_three_rows_loc)"
      ]
    }
  ],
  "metadata": {
    "colab": {
      "provenance": []
    },
    "kernelspec": {
      "display_name": "Python 3",
      "name": "python3"
    },
    "language_info": {
      "codemirror_mode": {
        "name": "ipython",
        "version": 3
      },
      "file_extension": ".py",
      "mimetype": "text/x-python",
      "name": "python",
      "nbconvert_exporter": "python",
      "pygments_lexer": "ipython3",
      "version": "3.12.4"
    }
  },
  "nbformat": 4,
  "nbformat_minor": 0
}
