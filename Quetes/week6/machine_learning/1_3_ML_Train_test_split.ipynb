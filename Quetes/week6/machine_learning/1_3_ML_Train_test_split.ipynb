{
  "cells": [
    {
      "cell_type": "markdown",
      "metadata": {
        "id": "7RZbCjBZBNKL"
      },
      "source": [
        "# Execute the code below"
      ]
    },
    {
      "cell_type": "code",
      "execution_count": 1,
      "metadata": {
        "id": "ih5VsCSsAGWK"
      },
      "outputs": [],
      "source": [
        "import matplotlib.pyplot as plt\n",
        "import pandas as pd\n",
        "import numpy as np\n",
        "import seaborn as sns\n",
        "import plotly.express as px\n",
        "from sklearn.linear_model import LinearRegression\n",
        "link = \"https://raw.githubusercontent.com/murpi/wilddata/master/quests/weather2019.csv\"\n",
        "df_weather = pd.read_csv(link)"
      ]
    },
    {
      "cell_type": "code",
      "execution_count": 2,
      "metadata": {},
      "outputs": [
        {
          "data": {
            "text/html": [
              "<div>\n",
              "<style scoped>\n",
              "    .dataframe tbody tr th:only-of-type {\n",
              "        vertical-align: middle;\n",
              "    }\n",
              "\n",
              "    .dataframe tbody tr th {\n",
              "        vertical-align: top;\n",
              "    }\n",
              "\n",
              "    .dataframe thead th {\n",
              "        text-align: right;\n",
              "    }\n",
              "</style>\n",
              "<table border=\"1\" class=\"dataframe\">\n",
              "  <thead>\n",
              "    <tr style=\"text-align: right;\">\n",
              "      <th></th>\n",
              "      <th>DATE</th>\n",
              "      <th>MAX_TEMPERATURE_C</th>\n",
              "      <th>MIN_TEMPERATURE_C</th>\n",
              "      <th>WINDSPEED_MAX_KMH</th>\n",
              "      <th>TEMPERATURE_MORNING_C</th>\n",
              "      <th>TEMPERATURE_NOON_C</th>\n",
              "      <th>TEMPERATURE_EVENING_C</th>\n",
              "      <th>PRECIP_TOTAL_DAY_MM</th>\n",
              "      <th>HUMIDITY_MAX_PERCENT</th>\n",
              "      <th>VISIBILITY_AVG_KM</th>\n",
              "      <th>...</th>\n",
              "      <th>WINDTEMP_MAX_C</th>\n",
              "      <th>WEATHER_CODE_MORNING</th>\n",
              "      <th>WEATHER_CODE_NOON</th>\n",
              "      <th>WEATHER_CODE_EVENING</th>\n",
              "      <th>TOTAL_SNOW_MM</th>\n",
              "      <th>UV_INDEX</th>\n",
              "      <th>SUNHOUR</th>\n",
              "      <th>OPINION</th>\n",
              "      <th>MONTH</th>\n",
              "      <th>DAY</th>\n",
              "    </tr>\n",
              "  </thead>\n",
              "  <tbody>\n",
              "    <tr>\n",
              "      <th>0</th>\n",
              "      <td>2019-01-01</td>\n",
              "      <td>9</td>\n",
              "      <td>4</td>\n",
              "      <td>10</td>\n",
              "      <td>4</td>\n",
              "      <td>7</td>\n",
              "      <td>8</td>\n",
              "      <td>0.2</td>\n",
              "      <td>94</td>\n",
              "      <td>9.000</td>\n",
              "      <td>...</td>\n",
              "      <td>3</td>\n",
              "      <td>116</td>\n",
              "      <td>143</td>\n",
              "      <td>176</td>\n",
              "      <td>0</td>\n",
              "      <td>1</td>\n",
              "      <td>5.1</td>\n",
              "      <td>very bad</td>\n",
              "      <td>1</td>\n",
              "      <td>1</td>\n",
              "    </tr>\n",
              "    <tr>\n",
              "      <th>1</th>\n",
              "      <td>2019-01-02</td>\n",
              "      <td>8</td>\n",
              "      <td>5</td>\n",
              "      <td>18</td>\n",
              "      <td>7</td>\n",
              "      <td>7</td>\n",
              "      <td>5</td>\n",
              "      <td>0.0</td>\n",
              "      <td>90</td>\n",
              "      <td>9.000</td>\n",
              "      <td>...</td>\n",
              "      <td>3</td>\n",
              "      <td>119</td>\n",
              "      <td>116</td>\n",
              "      <td>116</td>\n",
              "      <td>0</td>\n",
              "      <td>1</td>\n",
              "      <td>8.7</td>\n",
              "      <td>very bad</td>\n",
              "      <td>1</td>\n",
              "      <td>2</td>\n",
              "    </tr>\n",
              "    <tr>\n",
              "      <th>2</th>\n",
              "      <td>2019-01-03</td>\n",
              "      <td>6</td>\n",
              "      <td>0</td>\n",
              "      <td>18</td>\n",
              "      <td>0</td>\n",
              "      <td>4</td>\n",
              "      <td>3</td>\n",
              "      <td>0.0</td>\n",
              "      <td>88</td>\n",
              "      <td>10.000</td>\n",
              "      <td>...</td>\n",
              "      <td>-4</td>\n",
              "      <td>116</td>\n",
              "      <td>116</td>\n",
              "      <td>116</td>\n",
              "      <td>0</td>\n",
              "      <td>1</td>\n",
              "      <td>8.7</td>\n",
              "      <td>very bad</td>\n",
              "      <td>1</td>\n",
              "      <td>3</td>\n",
              "    </tr>\n",
              "    <tr>\n",
              "      <th>3</th>\n",
              "      <td>2019-01-04</td>\n",
              "      <td>5</td>\n",
              "      <td>-1</td>\n",
              "      <td>15</td>\n",
              "      <td>-1</td>\n",
              "      <td>4</td>\n",
              "      <td>3</td>\n",
              "      <td>0.0</td>\n",
              "      <td>91</td>\n",
              "      <td>10.000</td>\n",
              "      <td>...</td>\n",
              "      <td>-4</td>\n",
              "      <td>116</td>\n",
              "      <td>116</td>\n",
              "      <td>122</td>\n",
              "      <td>0</td>\n",
              "      <td>1</td>\n",
              "      <td>5.1</td>\n",
              "      <td>very bad</td>\n",
              "      <td>1</td>\n",
              "      <td>4</td>\n",
              "    </tr>\n",
              "    <tr>\n",
              "      <th>4</th>\n",
              "      <td>2019-01-05</td>\n",
              "      <td>6</td>\n",
              "      <td>-1</td>\n",
              "      <td>8</td>\n",
              "      <td>-1</td>\n",
              "      <td>4</td>\n",
              "      <td>3</td>\n",
              "      <td>0.0</td>\n",
              "      <td>91</td>\n",
              "      <td>8.000</td>\n",
              "      <td>...</td>\n",
              "      <td>-2</td>\n",
              "      <td>143</td>\n",
              "      <td>116</td>\n",
              "      <td>116</td>\n",
              "      <td>0</td>\n",
              "      <td>1</td>\n",
              "      <td>8.7</td>\n",
              "      <td>very bad</td>\n",
              "      <td>1</td>\n",
              "      <td>5</td>\n",
              "    </tr>\n",
              "    <tr>\n",
              "      <th>...</th>\n",
              "      <td>...</td>\n",
              "      <td>...</td>\n",
              "      <td>...</td>\n",
              "      <td>...</td>\n",
              "      <td>...</td>\n",
              "      <td>...</td>\n",
              "      <td>...</td>\n",
              "      <td>...</td>\n",
              "      <td>...</td>\n",
              "      <td>...</td>\n",
              "      <td>...</td>\n",
              "      <td>...</td>\n",
              "      <td>...</td>\n",
              "      <td>...</td>\n",
              "      <td>...</td>\n",
              "      <td>...</td>\n",
              "      <td>...</td>\n",
              "      <td>...</td>\n",
              "      <td>...</td>\n",
              "      <td>...</td>\n",
              "      <td>...</td>\n",
              "    </tr>\n",
              "    <tr>\n",
              "      <th>360</th>\n",
              "      <td>2019-12-27</td>\n",
              "      <td>13</td>\n",
              "      <td>10</td>\n",
              "      <td>13</td>\n",
              "      <td>10</td>\n",
              "      <td>12</td>\n",
              "      <td>11</td>\n",
              "      <td>0.0</td>\n",
              "      <td>96</td>\n",
              "      <td>7.375</td>\n",
              "      <td>...</td>\n",
              "      <td>8</td>\n",
              "      <td>119</td>\n",
              "      <td>143</td>\n",
              "      <td>116</td>\n",
              "      <td>0</td>\n",
              "      <td>1</td>\n",
              "      <td>8.7</td>\n",
              "      <td>not good not bad</td>\n",
              "      <td>12</td>\n",
              "      <td>27</td>\n",
              "    </tr>\n",
              "    <tr>\n",
              "      <th>361</th>\n",
              "      <td>2019-12-28</td>\n",
              "      <td>11</td>\n",
              "      <td>5</td>\n",
              "      <td>12</td>\n",
              "      <td>7</td>\n",
              "      <td>8</td>\n",
              "      <td>8</td>\n",
              "      <td>0.0</td>\n",
              "      <td>93</td>\n",
              "      <td>7.625</td>\n",
              "      <td>...</td>\n",
              "      <td>4</td>\n",
              "      <td>143</td>\n",
              "      <td>116</td>\n",
              "      <td>116</td>\n",
              "      <td>0</td>\n",
              "      <td>1</td>\n",
              "      <td>6.9</td>\n",
              "      <td>very bad</td>\n",
              "      <td>12</td>\n",
              "      <td>28</td>\n",
              "    </tr>\n",
              "    <tr>\n",
              "      <th>362</th>\n",
              "      <td>2019-12-29</td>\n",
              "      <td>9</td>\n",
              "      <td>2</td>\n",
              "      <td>11</td>\n",
              "      <td>3</td>\n",
              "      <td>6</td>\n",
              "      <td>7</td>\n",
              "      <td>0.0</td>\n",
              "      <td>86</td>\n",
              "      <td>10.000</td>\n",
              "      <td>...</td>\n",
              "      <td>0</td>\n",
              "      <td>116</td>\n",
              "      <td>116</td>\n",
              "      <td>116</td>\n",
              "      <td>0</td>\n",
              "      <td>1</td>\n",
              "      <td>8.7</td>\n",
              "      <td>very bad</td>\n",
              "      <td>12</td>\n",
              "      <td>29</td>\n",
              "    </tr>\n",
              "    <tr>\n",
              "      <th>363</th>\n",
              "      <td>2019-12-30</td>\n",
              "      <td>12</td>\n",
              "      <td>4</td>\n",
              "      <td>7</td>\n",
              "      <td>5</td>\n",
              "      <td>9</td>\n",
              "      <td>9</td>\n",
              "      <td>0.0</td>\n",
              "      <td>61</td>\n",
              "      <td>10.000</td>\n",
              "      <td>...</td>\n",
              "      <td>4</td>\n",
              "      <td>113</td>\n",
              "      <td>113</td>\n",
              "      <td>113</td>\n",
              "      <td>0</td>\n",
              "      <td>1</td>\n",
              "      <td>8.7</td>\n",
              "      <td>very bad</td>\n",
              "      <td>12</td>\n",
              "      <td>30</td>\n",
              "    </tr>\n",
              "    <tr>\n",
              "      <th>364</th>\n",
              "      <td>2019-12-31</td>\n",
              "      <td>10</td>\n",
              "      <td>4</td>\n",
              "      <td>13</td>\n",
              "      <td>4</td>\n",
              "      <td>7</td>\n",
              "      <td>9</td>\n",
              "      <td>0.1</td>\n",
              "      <td>94</td>\n",
              "      <td>9.000</td>\n",
              "      <td>...</td>\n",
              "      <td>1</td>\n",
              "      <td>113</td>\n",
              "      <td>143</td>\n",
              "      <td>119</td>\n",
              "      <td>0</td>\n",
              "      <td>1</td>\n",
              "      <td>8.7</td>\n",
              "      <td>very bad</td>\n",
              "      <td>12</td>\n",
              "      <td>31</td>\n",
              "    </tr>\n",
              "  </tbody>\n",
              "</table>\n",
              "<p>365 rows × 24 columns</p>\n",
              "</div>"
            ],
            "text/plain": [
              "           DATE  MAX_TEMPERATURE_C  MIN_TEMPERATURE_C  WINDSPEED_MAX_KMH  \\\n",
              "0    2019-01-01                  9                  4                 10   \n",
              "1    2019-01-02                  8                  5                 18   \n",
              "2    2019-01-03                  6                  0                 18   \n",
              "3    2019-01-04                  5                 -1                 15   \n",
              "4    2019-01-05                  6                 -1                  8   \n",
              "..          ...                ...                ...                ...   \n",
              "360  2019-12-27                 13                 10                 13   \n",
              "361  2019-12-28                 11                  5                 12   \n",
              "362  2019-12-29                  9                  2                 11   \n",
              "363  2019-12-30                 12                  4                  7   \n",
              "364  2019-12-31                 10                  4                 13   \n",
              "\n",
              "     TEMPERATURE_MORNING_C  TEMPERATURE_NOON_C  TEMPERATURE_EVENING_C  \\\n",
              "0                        4                   7                      8   \n",
              "1                        7                   7                      5   \n",
              "2                        0                   4                      3   \n",
              "3                       -1                   4                      3   \n",
              "4                       -1                   4                      3   \n",
              "..                     ...                 ...                    ...   \n",
              "360                     10                  12                     11   \n",
              "361                      7                   8                      8   \n",
              "362                      3                   6                      7   \n",
              "363                      5                   9                      9   \n",
              "364                      4                   7                      9   \n",
              "\n",
              "     PRECIP_TOTAL_DAY_MM  HUMIDITY_MAX_PERCENT  VISIBILITY_AVG_KM  ...  \\\n",
              "0                    0.2                    94              9.000  ...   \n",
              "1                    0.0                    90              9.000  ...   \n",
              "2                    0.0                    88             10.000  ...   \n",
              "3                    0.0                    91             10.000  ...   \n",
              "4                    0.0                    91              8.000  ...   \n",
              "..                   ...                   ...                ...  ...   \n",
              "360                  0.0                    96              7.375  ...   \n",
              "361                  0.0                    93              7.625  ...   \n",
              "362                  0.0                    86             10.000  ...   \n",
              "363                  0.0                    61             10.000  ...   \n",
              "364                  0.1                    94              9.000  ...   \n",
              "\n",
              "     WINDTEMP_MAX_C  WEATHER_CODE_MORNING  WEATHER_CODE_NOON  \\\n",
              "0                 3                   116                143   \n",
              "1                 3                   119                116   \n",
              "2                -4                   116                116   \n",
              "3                -4                   116                116   \n",
              "4                -2                   143                116   \n",
              "..              ...                   ...                ...   \n",
              "360               8                   119                143   \n",
              "361               4                   143                116   \n",
              "362               0                   116                116   \n",
              "363               4                   113                113   \n",
              "364               1                   113                143   \n",
              "\n",
              "     WEATHER_CODE_EVENING  TOTAL_SNOW_MM  UV_INDEX  SUNHOUR           OPINION  \\\n",
              "0                     176              0         1      5.1          very bad   \n",
              "1                     116              0         1      8.7          very bad   \n",
              "2                     116              0         1      8.7          very bad   \n",
              "3                     122              0         1      5.1          very bad   \n",
              "4                     116              0         1      8.7          very bad   \n",
              "..                    ...            ...       ...      ...               ...   \n",
              "360                   116              0         1      8.7  not good not bad   \n",
              "361                   116              0         1      6.9          very bad   \n",
              "362                   116              0         1      8.7          very bad   \n",
              "363                   113              0         1      8.7          very bad   \n",
              "364                   119              0         1      8.7          very bad   \n",
              "\n",
              "     MONTH  DAY  \n",
              "0        1    1  \n",
              "1        1    2  \n",
              "2        1    3  \n",
              "3        1    4  \n",
              "4        1    5  \n",
              "..     ...  ...  \n",
              "360     12   27  \n",
              "361     12   28  \n",
              "362     12   29  \n",
              "363     12   30  \n",
              "364     12   31  \n",
              "\n",
              "[365 rows x 24 columns]"
            ]
          },
          "execution_count": 2,
          "metadata": {},
          "output_type": "execute_result"
        }
      ],
      "source": [
        "df_weather"
      ]
    },
    {
      "cell_type": "markdown",
      "metadata": {
        "id": "HDfmi_gNBRd3"
      },
      "source": [
        "# Scoring and metrics\n",
        "Last time, you did a multivariate linear regression. But how can you be sure this multivariate linear regression is better than an univariate ? You have to measure it !\n"
      ]
    },
    {
      "cell_type": "markdown",
      "metadata": {
        "id": "gs0tr5sYgvwI"
      },
      "source": [
        "## First regression\n",
        "Let's begin with a first linear regression : create a new column `'predict_from_sun'` whith the prediction of MAX temperature from the SUNHOUR variable."
      ]
    },
    {
      "cell_type": "code",
      "execution_count": 4,
      "metadata": {
        "id": "h0u82y2paa75"
      },
      "outputs": [],
      "source": [
        "# Your code here :\n",
        "X = df_weather[['SUNHOUR']]\n",
        "y = df_weather['MAX_TEMPERATURE_C']\n",
        "\n",
        "model_from_sun = LinearRegression().fit(X, y)\n"
      ]
    },
    {
      "cell_type": "markdown",
      "metadata": {
        "id": "vaSRoaFdgu23"
      },
      "source": [
        "## R2 score\n",
        "The best possible R2 score is '1', when our prediction predicts perfectly the reality. Let's see what is our R2 score :"
      ]
    },
    {
      "cell_type": "code",
      "execution_count": 5,
      "metadata": {
        "id": "bhI2x_Z-g-lM"
      },
      "outputs": [
        {
          "data": {
            "text/plain": [
              "0.47654554059087306"
            ]
          },
          "execution_count": 5,
          "metadata": {},
          "output_type": "execute_result"
        }
      ],
      "source": [
        "# Change the name of the model if it's necessary\n",
        "model_from_sun.score(X, y)"
      ]
    },
    {
      "cell_type": "markdown",
      "metadata": {
        "id": "OPYPIs6kgWq2"
      },
      "source": [
        "## Let's continue with 2 others regressions\n",
        "- Second regression : create a new column 'predict_from_min' whith the prediction of MAX temperature from the MIN temperature variable\n",
        "- Third regression : create a new column 'predict_from_both' whith the prediction of MAX temperature from the both variables (MIN temperature and Sunhours)"
      ]
    },
    {
      "cell_type": "code",
      "execution_count": 6,
      "metadata": {
        "id": "0uWGISfxiGN_"
      },
      "outputs": [],
      "source": [
        "# Your code here :\n",
        "X = df_weather[['MIN_TEMPERATURE_C']]\n",
        "model_from_min = LinearRegression().fit(X, y)\n",
        "df_weather['predict_from_min'] = model_from_min.predict(X)"
      ]
    },
    {
      "cell_type": "markdown",
      "metadata": {
        "id": "eYVUuG97h0HO"
      },
      "source": [
        "## Calculate the R2 score of the 2 new predictions\n",
        "Be careful : if you still use the same \"X\" name, you will overwrite it.\n",
        "\n",
        "Which model has the best score ? Do you think it's logical ?"
      ]
    },
    {
      "cell_type": "code",
      "execution_count": 7,
      "metadata": {
        "id": "7lQObVxpe6uh"
      },
      "outputs": [
        {
          "data": {
            "text/plain": [
              "0.7689396999057355"
            ]
          },
          "execution_count": 7,
          "metadata": {},
          "output_type": "execute_result"
        }
      ],
      "source": [
        "# Your code here :\n",
        "model_from_min.score(X, y)"
      ]
    },
    {
      "cell_type": "code",
      "execution_count": 8,
      "metadata": {},
      "outputs": [],
      "source": [
        "# Troisième régression : prédiction de MAX_TEMPERATURE_C à partir des deux variables (MIN_TEMPERATURE_C + SUNHOUR)\n",
        "X = df_weather[['MIN_TEMPERATURE_C', 'SUNHOUR']]\n",
        "model_from_both = LinearRegression().fit(X, y)\n",
        "df_weather['predict_from_both'] = model_from_both.predict(X)"
      ]
    },
    {
      "cell_type": "code",
      "execution_count": 9,
      "metadata": {},
      "outputs": [
        {
          "data": {
            "text/plain": [
              "0.867478798077497"
            ]
          },
          "execution_count": 9,
          "metadata": {},
          "output_type": "execute_result"
        }
      ],
      "source": [
        "model_from_both.score(X, y)"
      ]
    },
    {
      "cell_type": "markdown",
      "metadata": {
        "id": "1frFHshijXUK"
      },
      "source": [
        "# Train Test Split\n",
        "One of biggest problems of Machine learning is : **overfitting**.\n",
        "\n"
      ]
    },
    {
      "cell_type": "markdown",
      "metadata": {
        "id": "4UCz7M7vknsY"
      },
      "source": [
        "To be sure that machine didn't memorize the result, we use the Train Test Split methodology. We keep some data separate (often 25% of our initial dataset). Then we train our model on the 75% (the \"Train set\").\n",
        "After, we can calculate a score on the \"Test set\".\n",
        "\n",
        "Let's do that !"
      ]
    },
    {
      "cell_type": "code",
      "execution_count": 10,
      "metadata": {
        "id": "EKIttez3pFou"
      },
      "outputs": [
        {
          "name": "stdout",
          "output_type": "stream",
          "text": [
            "The length of the initial dataset is : 365\n",
            "The length of the train dataset is   : 273\n",
            "The length of the test dataset is    : 92\n",
            "\n",
            "Score for the Train dataset : 0.47243569075679914\n",
            "Score for the Test dataset : 0.4749360350733982\n"
          ]
        }
      ],
      "source": [
        "# Juste read and execute the code below\n",
        "from sklearn.model_selection import train_test_split\n",
        "\n",
        "X = df_weather[['SUNHOUR']]\n",
        "y = df_weather['MAX_TEMPERATURE_C']\n",
        "\n",
        "# Here, we split our 2 datasets (the variables \"X\" and the target \"y\") into 4 datasets X and y for the train set and X and y for the test set.\n",
        "# We set the size of the train set to 75%. And the rest is for the test set.\n",
        "X_train, X_test, y_train, y_test = train_test_split(X, y, random_state=42, train_size = 0.75)\n",
        "print(\"The length of the initial dataset is :\", len(X))\n",
        "print(\"The length of the train dataset is   :\", len(X_train))\n",
        "print(\"The length of the test dataset is    :\", len(X_test))\n",
        "\n",
        "# Here we train the model only on the train dataset.\n",
        "newmodel = LinearRegression().fit(X_train, y_train)\n",
        "\n",
        "# And now we compare both scores :\n",
        "print(\"\\nScore for the Train dataset :\", newmodel.score(X_train, y_train))\n",
        "print(\"Score for the Test dataset :\", newmodel.score(X_test, y_test))\n"
      ]
    },
    {
      "cell_type": "markdown",
      "metadata": {
        "id": "xwetw4TfsHEJ"
      },
      "source": [
        "## Both scores are very close, there is no overfitting, well done !\n",
        "\n",
        "What happens if we don't randomize our dataset. Here, the model learns only on the 9 first months."
      ]
    },
    {
      "cell_type": "code",
      "execution_count": 11,
      "metadata": {
        "id": "xsusD6mEuE36"
      },
      "outputs": [
        {
          "name": "stdout",
          "output_type": "stream",
          "text": [
            "\n",
            "Score for the Train dataset : 0.7875765302008688\n",
            "Score for the Test dataset : 0.03610833322378593\n"
          ]
        }
      ],
      "source": [
        "# Juste read and execute the code below\n",
        "from sklearn.model_selection import train_test_split\n",
        "\n",
        "X = df_weather[['MIN_TEMPERATURE_C']]\n",
        "y = df_weather['MAX_TEMPERATURE_C']\n",
        "\n",
        "# We set the size of the train set to 75%. And the rest is for the test set.\n",
        "# We set the split NOT in random.\n",
        "X_train, X_test, y_train, y_test = train_test_split(X, y, train_size = 0.75, shuffle = False)\n",
        "\n",
        "\n",
        "# Here we train the model only on the train dataset.\n",
        "newmodel = LinearRegression().fit(X_train, y_train)\n",
        "\n",
        "# And now we compare both scores :\n",
        "print(\"\\nScore for the Train dataset :\", newmodel.score(X_train, y_train))\n",
        "print(\"Score for the Test dataset :\", newmodel.score(X_test, y_test))"
      ]
    },
    {
      "cell_type": "markdown",
      "metadata": {
        "id": "2vrIsw55vNM6"
      },
      "source": [
        "## There is an overfitting !\n",
        "Indeed, the model get a good score on the Train dataset, because he learned in winter / spring / summer datas. But he gets a bad score in Falls..."
      ]
    },
    {
      "cell_type": "markdown",
      "metadata": {
        "id": "652oRHFcwI0H"
      },
      "source": [
        "# Let's play !\n",
        "Train a new model with all numeric variables (without your target of course) and try to have a better score than previously.\n",
        "\n",
        "Remember to split randomly your dataset before training your model.\n",
        "\n",
        "Display the Test score."
      ]
    },
    {
      "cell_type": "code",
      "execution_count": 12,
      "metadata": {
        "id": "nR-dmy-LxNtZ"
      },
      "outputs": [
        {
          "name": "stdout",
          "output_type": "stream",
          "text": [
            "\n",
            "Train Test Split (SUNHOUR):\n",
            "Score Train: 0.47243569075679914\n",
            "Score Test : 0.4749360350733982\n",
            "\n",
            "Train Test Split (MIN_TEMPERATURE_C - sans shuffle):\n",
            "Score Train: 0.7875765302008688\n",
            "Score Test : 0.03610833322378593\n",
            "\n",
            "Train Test Split (Toutes les variables numériques):\n",
            "Score Train: 0.9933353831340123\n",
            "Score Test : 0.9953728575100914\n"
          ]
        }
      ],
      "source": [
        "# Your code here :\n",
        "X_sun = df_weather[['SUNHOUR']]\n",
        "X_min = df_weather[['MIN_TEMPERATURE_C']]\n",
        "\n",
        "# Train Test Split sur SUNHOUR\n",
        "X_train, X_test, y_train, y_test = train_test_split(X_sun, y, random_state=42, train_size=0.75)\n",
        "model_sun_split = LinearRegression().fit(X_train, y_train)\n",
        "\n",
        "print(\"\\nTrain Test Split (SUNHOUR):\")\n",
        "print(\"Score Train:\", model_sun_split.score(X_train, y_train))\n",
        "print(\"Score Test :\", model_sun_split.score(X_test, y_test))\n",
        "\n",
        "# Train Test Split sur MIN_TEMPERATURE_C\n",
        "X_train, X_test, y_train, y_test = train_test_split(X_min, y, train_size=0.75, shuffle=False)\n",
        "model_min_split = LinearRegression().fit(X_train, y_train)\n",
        "\n",
        "print(\"\\nTrain Test Split (MIN_TEMPERATURE_C - sans shuffle):\")\n",
        "print(\"Score Train:\", model_min_split.score(X_train, y_train))\n",
        "print(\"Score Test :\", model_min_split.score(X_test, y_test))\n",
        "\n",
        "# Train Test Split avec toutes les variables numériques\n",
        "X_all = df_weather.select_dtypes(include=['float64', 'int64']).drop(columns=['MAX_TEMPERATURE_C'])\n",
        "X_train, X_test, y_train, y_test = train_test_split(X_all, y, random_state=42, train_size=0.75)\n",
        "model_all = LinearRegression().fit(X_train, y_train)\n",
        "\n",
        "print(\"\\nTrain Test Split (Toutes les variables numériques):\")\n",
        "print(\"Score Train:\", model_all.score(X_train, y_train))\n",
        "print(\"Score Test :\", model_all.score(X_test, y_test))"
      ]
    }
  ],
  "metadata": {
    "colab": {
      "collapsed_sections": [
        "7RZbCjBZBNKL"
      ],
      "provenance": []
    },
    "kernelspec": {
      "display_name": "Python 3",
      "name": "python3"
    },
    "language_info": {
      "codemirror_mode": {
        "name": "ipython",
        "version": 3
      },
      "file_extension": ".py",
      "mimetype": "text/x-python",
      "name": "python",
      "nbconvert_exporter": "python",
      "pygments_lexer": "ipython3",
      "version": "3.12.0"
    }
  },
  "nbformat": 4,
  "nbformat_minor": 0
}
