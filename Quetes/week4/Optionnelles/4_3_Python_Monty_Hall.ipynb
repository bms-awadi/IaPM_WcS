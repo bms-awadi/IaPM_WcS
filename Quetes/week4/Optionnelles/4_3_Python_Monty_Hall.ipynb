{
  "cells": [
    {
      "cell_type": "markdown",
      "metadata": {
        "id": "s6odsFbLpgIh"
      },
      "source": [
        "# Monty Hall\n",
        "\n",
        "**Below is an example of an implementation of the Monty Hall game using native Python. It contains no comments.**"
      ]
    },
    {
      "cell_type": "markdown",
      "metadata": {
        "id": "QAqgGziZPsIZ"
      },
      "source": [
        "## Mission 1\n",
        "\n",
        "After reviewing the code below, add both **unilinear** and **multilinear** comments to explain how it works to another developer."
      ]
    },
    {
      "cell_type": "code",
      "execution_count": 1,
      "metadata": {
        "id": "0dL7B4XiO1ft"
      },
      "outputs": [],
      "source": [
        "import matplotlib.pyplot as plt\n",
        "from random import choice\n",
        "\n",
        "def play_one_game(strategy):\n",
        "    \"\"\"\n",
        "    Simule une manche du jeu Monty Hall.\n",
        "    Args:\n",
        "        strategy (str): \"change\" si le participant décide de changer de porte, \"keep\" sinon.\n",
        "\n",
        "    Returns:\n",
        "        bool: True si le participant gagne le prix (voiture), False sinon.\n",
        "    \"\"\"\n",
        "\n",
        "    doors = ['A', 'B', 'C']  # Liste des étiquettes des portes.\n",
        "    correct_door = choice(doors)  # Attribue aléatoirement le prix derrière une des portes.\n",
        "    first_choice = choice(doors)  # Le participant fait un premier choix aléatoire d'une porte.\n",
        "    doors.remove(first_choice)  # Retire la porte initialement choisie de la liste.\n",
        "\n",
        "    # Boucle pour déterminer quelle porte l'animateur ouvre pour montrer une chèvre.\n",
        "    while True:\n",
        "        hint_door = choice(doors)  # L'animateur choisit aléatoirement une porte parmi les restantes.\n",
        "        if hint_door != correct_door:\n",
        "            doors.remove(hint_door)  # L'animateur ouvre une porte, révélant une chèvre.\n",
        "            break  # Sort de la boucle une fois une porte indice valide sélectionnée.\n",
        "\n",
        "    # Détermine le deuxième choix du participant en fonction de sa stratégie.\n",
        "    if strategy.lower() == \"change\":\n",
        "        second_choice = choice(doors)  # Le participant change pour l'autre porte non ouverte.\n",
        "    elif strategy.lower() == \"keep\":\n",
        "        second_choice = first_choice  # Le participant reste avec son choix initial.\n",
        "    else:\n",
        "        raise ValueError(\"Strategy not recognized!\")  # Erreur si une stratégie invalide est fournie.\n",
        "\n",
        "    # Renvoie True si le choix final du participant est la bonne porte.\n",
        "    return second_choice == correct_door\n",
        "\n"
      ]
    },
    {
      "cell_type": "code",
      "execution_count": 2,
      "metadata": {},
      "outputs": [],
      "source": [
        "def play_many_games(strategy, nb_turns):\n",
        "    \"\"\"\n",
        "    Simule plusieurs jeux du problème de Monty Hall.\n",
        "    \n",
        "    Args:\n",
        "        strategy (str): Stratégie utilisée par le participant (\"changer\" ou \"garder\").\n",
        "        nb_turns (int): Nombre de jeux à simuler.\n",
        "\n",
        "    Returns:\n",
        "        int: Le nombre de victoires pour la stratégie choisie.\n",
        "    \"\"\"\n",
        "    liste = [play_one_game(strategy) for i in range(nb_turns)]\n",
        "    return sum(liste)  # Additionne les valeurs True (1) pour compter les victoires."
      ]
    },
    {
      "cell_type": "code",
      "execution_count": 3,
      "metadata": {},
      "outputs": [
        {
          "data": {
            "image/png": "[encoded data removed]",
            "text/plain": [
              "<Figure size 800x500 with 1 Axes>"
            ]
          },
          "metadata": {},
          "output_type": "display_data"
        }
      ],
      "source": [
        "# Exemple d'exécution de la simulation et de création d'un graphique des résultats\n",
        "num_trials = 100000\n",
        "change_wins = play_many_games(\"change\", num_trials)\n",
        "keep_wins = play_many_games(\"keep\", num_trials)\n",
        "\n",
        "# Utilisation de matplotlib pour créer un graphique à barres simple des résultats.\n",
        "plt.figure(figsize=(8, 5))\n",
        "plt.bar(['Change', 'Keep'], [change_wins, keep_wins], color=['blue', 'green'])\n",
        "plt.title('Monty Hall Problem: Strategy Outcomes')\n",
        "plt.xlabel('Strategy')\n",
        "plt.ylabel('Number of Wins')\n",
        "plt.ylim(0, num_trials)\n",
        "plt.show()"
      ]
    },
    {
      "cell_type": "code",
      "execution_count": 4,
      "metadata": {
        "id": "WAkSWQyDuBik"
      },
      "outputs": [],
      "source": [
        "from random import choice\n",
        "def montyHall(strategie):\n",
        "  portes = [\"A\",\"B\", \"C\"]\n",
        "  bonnePorte = choice(portes)\n",
        "  premierChoix = choice(portes)\n",
        "  portes.remove(premierChoix)\n",
        "  if premierChoix == bonnePorte:\n",
        "    portes.pop(0)\n",
        "  else:\n",
        "    portes = [bonnePorte]\n",
        "  if strategie.lower() == \"changer\":\n",
        "    deuxiemeChoix = portes[0]\n",
        "  elif strategie.lower() == \"garder\":\n",
        "    deuxiemeChoix = premierChoix\n",
        "  return deuxiemeChoix == bonnePorte\n",
        "\n",
        "def jouerDesParties(strategie, nombreDeParties):\n",
        "  return [montyHall(strategie) for i in range(nombreDeParties)]"
      ]
    },
    {
      "cell_type": "code",
      "execution_count": 5,
      "metadata": {
        "colab": {
          "base_uri": "https://localhost:8080/"
        },
        "id": "BFfNqHyqtPKd",
        "outputId": "673f6e83-adc3-4965-e8a9-53aada086e7a"
      },
      "outputs": [
        {
          "data": {
            "text/plain": [
              "66582"
            ]
          },
          "execution_count": 5,
          "metadata": {},
          "output_type": "execute_result"
        }
      ],
      "source": [
        "play_many_games(\"change\", 100000)"
      ]
    },
    {
      "cell_type": "code",
      "execution_count": 6,
      "metadata": {},
      "outputs": [
        {
          "data": {
            "text/plain": [
              "33090"
            ]
          },
          "execution_count": 6,
          "metadata": {},
          "output_type": "execute_result"
        }
      ],
      "source": [
        "keep_wins"
      ]
    },
    {
      "cell_type": "code",
      "execution_count": 7,
      "metadata": {
        "colab": {
          "base_uri": "https://localhost:8080/"
        },
        "id": "nDQvBnI3tWVh",
        "outputId": "173c1f4a-bf24-47a8-8cf2-6cf7860afeac"
      },
      "outputs": [
        {
          "data": {
            "text/plain": [
              "33178"
            ]
          },
          "execution_count": 7,
          "metadata": {},
          "output_type": "execute_result"
        }
      ],
      "source": [
        "play_many_games(\"keep\", 100000)"
      ]
    },
    {
      "cell_type": "code",
      "execution_count": 8,
      "metadata": {
        "colab": {
          "base_uri": "https://localhost:8080/",
          "height": 112
        },
        "id": "KIzkE_ududKG",
        "outputId": "fd39663e-12fa-4adf-f0ba-ecdbb7cd6ce8"
      },
      "outputs": [
        {
          "data": {
            "text/html": [
              "<div>\n",
              "<style scoped>\n",
              "    .dataframe tbody tr th:only-of-type {\n",
              "        vertical-align: middle;\n",
              "    }\n",
              "\n",
              "    .dataframe tbody tr th {\n",
              "        vertical-align: top;\n",
              "    }\n",
              "\n",
              "    .dataframe thead th {\n",
              "        text-align: right;\n",
              "    }\n",
              "</style>\n",
              "<table border=\"1\" class=\"dataframe\">\n",
              "  <thead>\n",
              "    <tr style=\"text-align: right;\">\n",
              "      <th></th>\n",
              "      <th>strategie</th>\n",
              "      <th>resultat</th>\n",
              "    </tr>\n",
              "  </thead>\n",
              "  <tbody>\n",
              "    <tr>\n",
              "      <th>0</th>\n",
              "      <td>changer</td>\n",
              "      <td>66740</td>\n",
              "    </tr>\n",
              "    <tr>\n",
              "      <th>1</th>\n",
              "      <td>garder</td>\n",
              "      <td>33609</td>\n",
              "    </tr>\n",
              "  </tbody>\n",
              "</table>\n",
              "</div>"
            ],
            "text/plain": [
              "  strategie  resultat\n",
              "0   changer     66740\n",
              "1    garder     33609"
            ]
          },
          "execution_count": 8,
          "metadata": {},
          "output_type": "execute_result"
        }
      ],
      "source": [
        "import plotly.express as px\n",
        "import pandas as pd\n",
        "\n",
        "df = pd.DataFrame({\"strategie\" : [\"changer\", \"garder\"], \"resultat\" : [66740, 33609]})\n",
        "df"
      ]
    },
    {
      "cell_type": "code",
      "execution_count": 9,
      "metadata": {
        "colab": {
          "base_uri": "https://localhost:8080/",
          "height": 542
        },
        "id": "IZ6E5j9XvpOo",
        "outputId": "b394a5ee-46d6-489a-c99c-fd9f821f5655"
      },
      "outputs": [
        {
          "data": {
            "application/vnd.plotly.v1+json": {
              "config": {
                "plotlyServerURL": "https://plot.ly"
              },
              "data": [
                {
                  "alignmentgroup": "True",
                  "hovertemplate": "strategie=%{x}<br>resultat=%{y}<extra></extra>",
                  "legendgroup": "",
                  "marker": {
                    "color": "#636efa",
                    "pattern": {
                      "shape": ""
                    }
                  },
                  "name": "",
                  "offsetgroup": "",
                  "orientation": "v",
                  "showlegend": false,
                  "textposition": "auto",
                  "type": "bar",
                  "x": [
                    "changer",
                    "garder"
                  ],
                  "xaxis": "x",
                  "y": [
                    66740,
                    33609
                  ],
                  "yaxis": "y"
                }
              ],
              "layout": {
                "barmode": "relative",
                "legend": {
                  "tracegroupgap": 0
                },
                "margin": {
                  "t": 60
                },
                "template": {
                  "data": {
                    "bar": [
                      {
                        "error_x": {
                          "color": "#2a3f5f"
                        },
                        "error_y": {
                          "color": "#2a3f5f"
                        },
                        "marker": {
                          "line": {
                            "color": "#E5ECF6",
                            "width": 0.5
                          },
                          "pattern": {
                            "fillmode": "overlay",
                            "size": 10,
                            "solidity": 0.2
                          }
                        },
                        "type": "bar"
                      }
                    ],
                    "barpolar": [
                      {
                        "marker": {
                          "line": {
                            "color": "#E5ECF6",
                            "width": 0.5
                          },
                          "pattern": {
                            "fillmode": "overlay",
                            "size": 10,
                            "solidity": 0.2
                          }
                        },
                        "type": "barpolar"
                      }
                    ],
                    "carpet": [
                      {
                        "aaxis": {
                          "endlinecolor": "#2a3f5f",
                          "gridcolor": "white",
                          "linecolor": "white",
                          "minorgridcolor": "white",
                          "startlinecolor": "#2a3f5f"
                        },
                        "baxis": {
                          "endlinecolor": "#2a3f5f",
                          "gridcolor": "white",
                          "linecolor": "white",
                          "minorgridcolor": "white",
                          "startlinecolor": "#2a3f5f"
                        },
                        "type": "carpet"
                      }
                    ],
                    "choropleth": [
                      {
                        "colorbar": {
                          "outlinewidth": 0,
                          "ticks": ""
                        },
                        "type": "choropleth"
                      }
                    ],
                    "contour": [
                      {
                        "colorbar": {
                          "outlinewidth": 0,
                          "ticks": ""
                        },
                        "colorscale": [
                          [
                            0,
                            "#0d0887"
                          ],
                          [
                            0.1111111111111111,
                            "#46039f"
                          ],
                          [
                            0.2222222222222222,
                            "#7201a8"
                          ],
                          [
                            0.3333333333333333,
                            "#9c179e"
                          ],
                          [
                            0.4444444444444444,
                            "#bd3786"
                          ],
                          [
                            0.5555555555555556,
                            "#d8576b"
                          ],
                          [
                            0.6666666666666666,
                            "#ed7953"
                          ],
                          [
                            0.7777777777777778,
                            "#fb9f3a"
                          ],
                          [
                            0.8888888888888888,
                            "#fdca26"
                          ],
                          [
                            1,
                            "#f0f921"
                          ]
                        ],
                        "type": "contour"
                      }
                    ],
                    "contourcarpet": [
                      {
                        "colorbar": {
                          "outlinewidth": 0,
                          "ticks": ""
                        },
                        "type": "contourcarpet"
                      }
                    ],
                    "heatmap": [
                      {
                        "colorbar": {
                          "outlinewidth": 0,
                          "ticks": ""
                        },
                        "colorscale": [
                          [
                            0,
                            "#0d0887"
                          ],
                          [
                            0.1111111111111111,
                            "#46039f"
                          ],
                          [
                            0.2222222222222222,
                            "#7201a8"
                          ],
                          [
                            0.3333333333333333,
                            "#9c179e"
                          ],
                          [
                            0.4444444444444444,
                            "#bd3786"
                          ],
                          [
                            0.5555555555555556,
                            "#d8576b"
                          ],
                          [
                            0.6666666666666666,
                            "#ed7953"
                          ],
                          [
                            0.7777777777777778,
                            "#fb9f3a"
                          ],
                          [
                            0.8888888888888888,
                            "#fdca26"
                          ],
                          [
                            1,
                            "#f0f921"
                          ]
                        ],
                        "type": "heatmap"
                      }
                    ],
                    "heatmapgl": [
                      {
                        "colorbar": {
                          "outlinewidth": 0,
                          "ticks": ""
                        },
                        "colorscale": [
                          [
                            0,
                            "#0d0887"
                          ],
                          [
                            0.1111111111111111,
                            "#46039f"
                          ],
                          [
                            0.2222222222222222,
                            "#7201a8"
                          ],
                          [
                            0.3333333333333333,
                            "#9c179e"
                          ],
                          [
                            0.4444444444444444,
                            "#bd3786"
                          ],
                          [
                            0.5555555555555556,
                            "#d8576b"
                          ],
                          [
                            0.6666666666666666,
                            "#ed7953"
                          ],
                          [
                            0.7777777777777778,
                            "#fb9f3a"
                          ],
                          [
                            0.8888888888888888,
                            "#fdca26"
                          ],
                          [
                            1,
                            "#f0f921"
                          ]
                        ],
                        "type": "heatmapgl"
                      }
                    ],
                    "histogram": [
                      {
                        "marker": {
                          "pattern": {
                            "fillmode": "overlay",
                            "size": 10,
                            "solidity": 0.2
                          }
                        },
                        "type": "histogram"
                      }
                    ],
                    "histogram2d": [
                      {
                        "colorbar": {
                          "outlinewidth": 0,
                          "ticks": ""
                        },
                        "colorscale": [
                          [
                            0,
                            "#0d0887"
                          ],
                          [
                            0.1111111111111111,
                            "#46039f"
                          ],
                          [
                            0.2222222222222222,
                            "#7201a8"
                          ],
                          [
                            0.3333333333333333,
                            "#9c179e"
                          ],
                          [
                            0.4444444444444444,
                            "#bd3786"
                          ],
                          [
                            0.5555555555555556,
                            "#d8576b"
                          ],
                          [
                            0.6666666666666666,
                            "#ed7953"
                          ],
                          [
                            0.7777777777777778,
                            "#fb9f3a"
                          ],
                          [
                            0.8888888888888888,
                            "#fdca26"
                          ],
                          [
                            1,
                            "#f0f921"
                          ]
                        ],
                        "type": "histogram2d"
                      }
                    ],
                    "histogram2dcontour": [
                      {
                        "colorbar": {
                          "outlinewidth": 0,
                          "ticks": ""
                        },
                        "colorscale": [
                          [
                            0,
                            "#0d0887"
                          ],
                          [
                            0.1111111111111111,
                            "#46039f"
                          ],
                          [
                            0.2222222222222222,
                            "#7201a8"
                          ],
                          [
                            0.3333333333333333,
                            "#9c179e"
                          ],
                          [
                            0.4444444444444444,
                            "#bd3786"
                          ],
                          [
                            0.5555555555555556,
                            "#d8576b"
                          ],
                          [
                            0.6666666666666666,
                            "#ed7953"
                          ],
                          [
                            0.7777777777777778,
                            "#fb9f3a"
                          ],
                          [
                            0.8888888888888888,
                            "#fdca26"
                          ],
                          [
                            1,
                            "#f0f921"
                          ]
                        ],
                        "type": "histogram2dcontour"
                      }
                    ],
                    "mesh3d": [
                      {
                        "colorbar": {
                          "outlinewidth": 0,
                          "ticks": ""
                        },
                        "type": "mesh3d"
                      }
                    ],
                    "parcoords": [
                      {
                        "line": {
                          "colorbar": {
                            "outlinewidth": 0,
                            "ticks": ""
                          }
                        },
                        "type": "parcoords"
                      }
                    ],
                    "pie": [
                      {
                        "automargin": true,
                        "type": "pie"
                      }
                    ],
                    "scatter": [
                      {
                        "fillpattern": {
                          "fillmode": "overlay",
                          "size": 10,
                          "solidity": 0.2
                        },
                        "type": "scatter"
                      }
                    ],
                    "scatter3d": [
                      {
                        "line": {
                          "colorbar": {
                            "outlinewidth": 0,
                            "ticks": ""
                          }
                        },
                        "marker": {
                          "colorbar": {
                            "outlinewidth": 0,
                            "ticks": ""
                          }
                        },
                        "type": "scatter3d"
                      }
                    ],
                    "scattercarpet": [
                      {
                        "marker": {
                          "colorbar": {
                            "outlinewidth": 0,
                            "ticks": ""
                          }
                        },
                        "type": "scattercarpet"
                      }
                    ],
                    "scattergeo": [
                      {
                        "marker": {
                          "colorbar": {
                            "outlinewidth": 0,
                            "ticks": ""
                          }
                        },
                        "type": "scattergeo"
                      }
                    ],
                    "scattergl": [
                      {
                        "marker": {
                          "colorbar": {
                            "outlinewidth": 0,
                            "ticks": ""
                          }
                        },
                        "type": "scattergl"
                      }
                    ],
                    "scattermapbox": [
                      {
                        "marker": {
                          "colorbar": {
                            "outlinewidth": 0,
                            "ticks": ""
                          }
                        },
                        "type": "scattermapbox"
                      }
                    ],
                    "scatterpolar": [
                      {
                        "marker": {
                          "colorbar": {
                            "outlinewidth": 0,
                            "ticks": ""
                          }
                        },
                        "type": "scatterpolar"
                      }
                    ],
                    "scatterpolargl": [
                      {
                        "marker": {
                          "colorbar": {
                            "outlinewidth": 0,
                            "ticks": ""
                          }
                        },
                        "type": "scatterpolargl"
                      }
                    ],
                    "scatterternary": [
                      {
                        "marker": {
                          "colorbar": {
                            "outlinewidth": 0,
                            "ticks": ""
                          }
                        },
                        "type": "scatterternary"
                      }
                    ],
                    "surface": [
                      {
                        "colorbar": {
                          "outlinewidth": 0,
                          "ticks": ""
                        },
                        "colorscale": [
                          [
                            0,
                            "#0d0887"
                          ],
                          [
                            0.1111111111111111,
                            "#46039f"
                          ],
                          [
                            0.2222222222222222,
                            "#7201a8"
                          ],
                          [
                            0.3333333333333333,
                            "#9c179e"
                          ],
                          [
                            0.4444444444444444,
                            "#bd3786"
                          ],
                          [
                            0.5555555555555556,
                            "#d8576b"
                          ],
                          [
                            0.6666666666666666,
                            "#ed7953"
                          ],
                          [
                            0.7777777777777778,
                            "#fb9f3a"
                          ],
                          [
                            0.8888888888888888,
                            "#fdca26"
                          ],
                          [
                            1,
                            "#f0f921"
                          ]
                        ],
                        "type": "surface"
                      }
                    ],
                    "table": [
                      {
                        "cells": {
                          "fill": {
                            "color": "#EBF0F8"
                          },
                          "line": {
                            "color": "white"
                          }
                        },
                        "header": {
                          "fill": {
                            "color": "#C8D4E3"
                          },
                          "line": {
                            "color": "white"
                          }
                        },
                        "type": "table"
                      }
                    ]
                  },
                  "layout": {
                    "annotationdefaults": {
                      "arrowcolor": "#2a3f5f",
                      "arrowhead": 0,
                      "arrowwidth": 1
                    },
                    "autotypenumbers": "strict",
                    "coloraxis": {
                      "colorbar": {
                        "outlinewidth": 0,
                        "ticks": ""
                      }
                    },
                    "colorscale": {
                      "diverging": [
                        [
                          0,
                          "#8e0152"
                        ],
                        [
                          0.1,
                          "#c51b7d"
                        ],
                        [
                          0.2,
                          "#de77ae"
                        ],
                        [
                          0.3,
                          "#f1b6da"
                        ],
                        [
                          0.4,
                          "#fde0ef"
                        ],
                        [
                          0.5,
                          "#f7f7f7"
                        ],
                        [
                          0.6,
                          "#e6f5d0"
                        ],
                        [
                          0.7,
                          "#b8e186"
                        ],
                        [
                          0.8,
                          "#7fbc41"
                        ],
                        [
                          0.9,
                          "#4d9221"
                        ],
                        [
                          1,
                          "#276419"
                        ]
                      ],
                      "sequential": [
                        [
                          0,
                          "#0d0887"
                        ],
                        [
                          0.1111111111111111,
                          "#46039f"
                        ],
                        [
                          0.2222222222222222,
                          "#7201a8"
                        ],
                        [
                          0.3333333333333333,
                          "#9c179e"
                        ],
                        [
                          0.4444444444444444,
                          "#bd3786"
                        ],
                        [
                          0.5555555555555556,
                          "#d8576b"
                        ],
                        [
                          0.6666666666666666,
                          "#ed7953"
                        ],
                        [
                          0.7777777777777778,
                          "#fb9f3a"
                        ],
                        [
                          0.8888888888888888,
                          "#fdca26"
                        ],
                        [
                          1,
                          "#f0f921"
                        ]
                      ],
                      "sequentialminus": [
                        [
                          0,
                          "#0d0887"
                        ],
                        [
                          0.1111111111111111,
                          "#46039f"
                        ],
                        [
                          0.2222222222222222,
                          "#7201a8"
                        ],
                        [
                          0.3333333333333333,
                          "#9c179e"
                        ],
                        [
                          0.4444444444444444,
                          "#bd3786"
                        ],
                        [
                          0.5555555555555556,
                          "#d8576b"
                        ],
                        [
                          0.6666666666666666,
                          "#ed7953"
                        ],
                        [
                          0.7777777777777778,
                          "#fb9f3a"
                        ],
                        [
                          0.8888888888888888,
                          "#fdca26"
                        ],
                        [
                          1,
                          "#f0f921"
                        ]
                      ]
                    },
                    "colorway": [
                      "#636efa",
                      "#EF553B",
                      "#00cc96",
                      "#ab63fa",
                      "#FFA15A",
                      "#19d3f3",
                      "#FF6692",
                      "#B6E880",
                      "#FF97FF",
                      "#FECB52"
                    ],
                    "font": {
                      "color": "#2a3f5f"
                    },
                    "geo": {
                      "bgcolor": "white",
                      "lakecolor": "white",
                      "landcolor": "#E5ECF6",
                      "showlakes": true,
                      "showland": true,
                      "subunitcolor": "white"
                    },
                    "hoverlabel": {
                      "align": "left"
                    },
                    "hovermode": "closest",
                    "mapbox": {
                      "style": "light"
                    },
                    "paper_bgcolor": "white",
                    "plot_bgcolor": "#E5ECF6",
                    "polar": {
                      "angularaxis": {
                        "gridcolor": "white",
                        "linecolor": "white",
                        "ticks": ""
                      },
                      "bgcolor": "#E5ECF6",
                      "radialaxis": {
                        "gridcolor": "white",
                        "linecolor": "white",
                        "ticks": ""
                      }
                    },
                    "scene": {
                      "xaxis": {
                        "backgroundcolor": "#E5ECF6",
                        "gridcolor": "white",
                        "gridwidth": 2,
                        "linecolor": "white",
                        "showbackground": true,
                        "ticks": "",
                        "zerolinecolor": "white"
                      },
                      "yaxis": {
                        "backgroundcolor": "#E5ECF6",
                        "gridcolor": "white",
                        "gridwidth": 2,
                        "linecolor": "white",
                        "showbackground": true,
                        "ticks": "",
                        "zerolinecolor": "white"
                      },
                      "zaxis": {
                        "backgroundcolor": "#E5ECF6",
                        "gridcolor": "white",
                        "gridwidth": 2,
                        "linecolor": "white",
                        "showbackground": true,
                        "ticks": "",
                        "zerolinecolor": "white"
                      }
                    },
                    "shapedefaults": {
                      "line": {
                        "color": "#2a3f5f"
                      }
                    },
                    "ternary": {
                      "aaxis": {
                        "gridcolor": "white",
                        "linecolor": "white",
                        "ticks": ""
                      },
                      "baxis": {
                        "gridcolor": "white",
                        "linecolor": "white",
                        "ticks": ""
                      },
                      "bgcolor": "#E5ECF6",
                      "caxis": {
                        "gridcolor": "white",
                        "linecolor": "white",
                        "ticks": ""
                      }
                    },
                    "title": {
                      "x": 0.05
                    },
                    "xaxis": {
                      "automargin": true,
                      "gridcolor": "white",
                      "linecolor": "white",
                      "ticks": "",
                      "title": {
                        "standoff": 15
                      },
                      "zerolinecolor": "white",
                      "zerolinewidth": 2
                    },
                    "yaxis": {
                      "automargin": true,
                      "gridcolor": "white",
                      "linecolor": "white",
                      "ticks": "",
                      "title": {
                        "standoff": 15
                      },
                      "zerolinecolor": "white",
                      "zerolinewidth": 2
                    }
                  }
                },
                "xaxis": {
                  "anchor": "y",
                  "domain": [
                    0,
                    1
                  ],
                  "title": {
                    "text": "strategie"
                  }
                },
                "yaxis": {
                  "anchor": "x",
                  "domain": [
                    0,
                    1
                  ],
                  "title": {
                    "text": "resultat"
                  }
                }
              }
            }
          },
          "metadata": {},
          "output_type": "display_data"
        }
      ],
      "source": [
        "px.bar(df, x=\"strategie\", y=\"resultat\")"
      ]
    },
    {
      "cell_type": "code",
      "execution_count": 10,
      "metadata": {},
      "outputs": [
        {
          "data": {
            "image/png": "[encoded data removed]",
            "text/plain": [
              "<Figure size 640x480 with 1 Axes>"
            ]
          },
          "metadata": {},
          "output_type": "display_data"
        }
      ],
      "source": [
        "plt.bar([1, 2],\n",
        "        [play_many_games(\"change\", 10000), play_many_games(\"keep\", 10000)],\n",
        "        tick_label=[\"Change\", \"Keep\"])\n",
        "plt.show()\n"
      ]
    },
    {
      "cell_type": "markdown",
      "metadata": {
        "id": "KPuEESZDP-C-"
      },
      "source": [
        "# Mission 2\n",
        "\n",
        "To make sure you understood the code, in a new cell, change up the code in mission 1 to add a third bar, corresponding to a new strategy called **Alternate**.\n",
        "\n",
        "A player following it will alternate **randomly** between \"Change\" and \"Keep\".\n"
      ]
    },
    {
      "cell_type": "code",
      "execution_count": 11,
      "metadata": {
        "id": "3R82gwZxP9oo"
      },
      "outputs": [
        {
          "data": {
            "image/png": "[encoded data removed]",
            "text/plain": [
              "<Figure size 800x500 with 1 Axes>"
            ]
          },
          "metadata": {},
          "output_type": "display_data"
        }
      ],
      "source": [
        "import matplotlib.pyplot as plt\n",
        "from random import choice\n",
        "\n",
        "def play_one_game(strategy):\n",
        "    \"\"\"\n",
        "    Simulates one round of the Monty Hall game, incorporating an 'Alternate' strategy.\n",
        "    Args:\n",
        "        strategy (str): \"change\", \"keep\", or \"alternate\" for the contestant's decision strategy.\n",
        "    Returns:\n",
        "        bool: True if the contestant wins the prize (car), False otherwise.\n",
        "    \"\"\"\n",
        "    doors = ['A', 'B', 'C']\n",
        "    correct_door = choice(doors)\n",
        "    first_choice = choice(doors)\n",
        "    doors.remove(first_choice)\n",
        "\n",
        "    while True:\n",
        "        hint_door = choice(doors)\n",
        "        if hint_door != correct_door:\n",
        "            doors.remove(hint_door)\n",
        "            break\n",
        "\n",
        "    if strategy.lower() == \"change\":\n",
        "        second_choice = choice(doors)\n",
        "    elif strategy.lower() == \"keep\":\n",
        "        second_choice = first_choice\n",
        "    elif strategy.lower() == \"alternate\":\n",
        "        # Randomly chooses between keeping or changing the door\n",
        "        if choice([True, False]):\n",
        "            second_choice = choice(doors)  # Change\n",
        "        else:\n",
        "            second_choice = first_choice  # Keep\n",
        "    else:\n",
        "        raise ValueError(\"Strategy not recognized!\")\n",
        "\n",
        "    return second_choice == correct_door\n",
        "\n",
        "def play_many_games(strategy, nb_turns):\n",
        "    \"\"\"\n",
        "    Simulates multiple games of the Monty Hall problem for a given strategy.\n",
        "    Args:\n",
        "        strategy (str): Strategy used by the contestant.\n",
        "        nb_turns (int): Number of games to simulate.\n",
        "    Returns:\n",
        "        int: The number of wins.\n",
        "    \"\"\"\n",
        "    results = [play_one_game(strategy) for i in range(nb_turns)]\n",
        "    return sum(results)\n",
        "\n",
        "# Simulation parameters\n",
        "num_trials = 10000\n",
        "change_wins = play_many_games(\"change\", num_trials)\n",
        "keep_wins = play_many_games(\"keep\", num_trials)\n",
        "alternate_wins = play_many_games(\"alternate\", num_trials)  # Simulate the Alternate strategy\n",
        "\n",
        "# Plotting the results\n",
        "plt.figure(figsize=(8, 5))\n",
        "plt.bar(['Change', 'Keep', 'Alternate'], [change_wins, keep_wins, alternate_wins], color=['blue', 'green', 'red'])\n",
        "plt.title('Monty Hall Problem: Strategy Outcomes')\n",
        "plt.xlabel('Strategy')\n",
        "plt.ylabel('Number of Wins')\n",
        "plt.ylim(0, num_trials)\n",
        "plt.show()\n"
      ]
    },
    {
      "cell_type": "markdown",
      "metadata": {
        "id": "VPjKxsbQQbbx"
      },
      "source": [
        "# Mission 3\n",
        "\n",
        "Now, re-code the Monty Hall game using NumPy. **Do not use Python lists, the built-in `random` module, or any for or while loops in the code**. NumPy contains all the mechanisms you need to achieve the same result.\n",
        "\n",
        "Finally, combine the 2 functions, `play_one_game` and `play_many_games`. In other words, **your NumPy program should now contain only one function**. Obviously, **the visual should be the same as in mission 2**."
      ]
    },
    {
      "cell_type": "code",
      "execution_count": 12,
      "metadata": {
        "id": "IwRDK_YtQbre"
      },
      "outputs": [],
      "source": [
        "import numpy as np"
      ]
    },
    {
      "cell_type": "code",
      "execution_count": 13,
      "metadata": {},
      "outputs": [],
      "source": [
        "def monty_hall_game(strategy, num_games):\n",
        "    \"\"\"\n",
        "    Simulates multiple Monty Hall games using NumPy.\n",
        "    \n",
        "    Args:\n",
        "        strategy (str): Strategy to use, \"change\", \"keep\", or \"alternate\".\n",
        "        num_games (int): Number of games to simulate.\n",
        "    \n",
        "    Returns:\n",
        "        int: Number of games won using the specified strategy.\n",
        "    \"\"\"\n",
        "    doors = np.array(['A', 'B', 'C'])\n",
        "    \n",
        "    # Generate random choices for the correct door, first choice, and strategy if alternating\n",
        "    correct_doors = np.random.choice(doors, num_games)\n",
        "    first_choices = np.random.choice(doors, num_games)\n",
        "    alternate_strategies = np.random.choice(['change', 'keep'], num_games)\n",
        "\n",
        "    # Determine second choice based on strategy\n",
        "    if strategy == 'alternate':\n",
        "        second_choices = np.where(alternate_strategies == 'change', np.random.choice(doors, num_games), first_choices)\n",
        "    elif strategy == 'change':\n",
        "        # Choose a door that is not the first choice (vectorized approach)\n",
        "        second_choices = np.array([np.random.choice(list(set(doors) - {fc})) for fc in first_choices])\n",
        "    elif strategy == 'keep':\n",
        "        second_choices = first_choices\n",
        "    else:\n",
        "        raise ValueError(\"Invalid strategy specified.\")\n",
        "\n",
        "    # Calculate the number of wins\n",
        "    wins = np.sum(second_choices == correct_doors)\n",
        "    \n",
        "    return wins\n",
        "\n"
      ]
    },
    {
      "cell_type": "code",
      "execution_count": 14,
      "metadata": {},
      "outputs": [
        {
          "name": "stdout",
          "output_type": "stream",
          "text": [
            "Change strategy wins: 3317\n",
            "Keep strategy wins: 3360\n",
            "Alternate strategy wins: 3366\n"
          ]
        }
      ],
      "source": [
        "num_trials = 10000\n",
        "change_wins = monty_hall_game('change', num_trials)\n",
        "keep_wins = monty_hall_game('keep', num_trials)\n",
        "alternate_wins = monty_hall_game('alternate', num_trials)\n",
        "\n",
        "print(f\"Change strategy wins: {change_wins}\")\n",
        "print(f\"Keep strategy wins: {keep_wins}\")\n",
        "print(f\"Alternate strategy wins: {alternate_wins}\")"
      ]
    }
  ],
  "metadata": {
    "colab": {
      "provenance": []
    },
    "kernelspec": {
      "display_name": "Python 3",
      "name": "python3"
    },
    "language_info": {
      "codemirror_mode": {
        "name": "ipython",
        "version": 3
      },
      "file_extension": ".py",
      "mimetype": "text/x-python",
      "name": "python",
      "nbconvert_exporter": "python",
      "pygments_lexer": "ipython3",
      "version": "3.12.0"
    }
  },
  "nbformat": 4,
  "nbformat_minor": 0
}
