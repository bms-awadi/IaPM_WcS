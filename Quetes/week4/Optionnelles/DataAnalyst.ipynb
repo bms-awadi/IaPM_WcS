{
 "cells": [
  {
   "cell_type": "code",
   "execution_count": 1,
   "metadata": {},
   "outputs": [],
   "source": [
    "import random\n",
    "\n",
    "class DataAnalyst:\n",
    "    def __init__(self, nom, prenom, age, sexe, formationPrecedente):\n",
    "        self.nom = nom\n",
    "        self.prenom = prenom\n",
    "        self.age = age\n",
    "        self.sexe = sexe\n",
    "        self.formationPrecedente = formationPrecedente\n",
    "        self.motivation = 100\n",
    "        self.progression = 0\n",
    "\n",
    "    def suivreFormation(self):\n",
    "        # Diminue la motivation et augmente la progression\n",
    "        baisse_motivation = random.randint(5, 25)\n",
    "        gain_progression = random.randint(20, 30)\n",
    "        self.motivation -= baisse_motivation\n",
    "        self.progression += gain_progression\n",
    "        return f\"suivreFormation() : motivation -{baisse_motivation}, progression +{gain_progression}\"\n",
    "\n",
    "    def bosserPlus(self):\n",
    "        # Augmente motivation et progression\n",
    "        gain_motivation = random.randint(10, 30)\n",
    "        gain_progression = random.randint(10, 30)\n",
    "        self.motivation += gain_motivation\n",
    "        self.progression += gain_progression\n",
    "        return f\"bosserPlus() : motivation +{gain_motivation}, progression +{gain_progression}\"\n",
    "\n",
    "    def echouer(self):\n",
    "        # Diminue motivation et augmente la progression\n",
    "        baisse_motivation = random.randint(20, 40)\n",
    "        gain_progression = random.randint(20, 40)\n",
    "        self.motivation -= baisse_motivation\n",
    "        self.progression += gain_progression\n",
    "        return f\"echouer() : motivation -{baisse_motivation}, progression +{gain_progression}\"\n",
    "\n",
    "    def reussir(self):\n",
    "        # Augmente motivation et progression\n",
    "        gain_motivation = random.randint(20, 40)\n",
    "        gain_progression = random.randint(10, 20)\n",
    "        self.motivation += gain_motivation\n",
    "        self.progression += gain_progression\n",
    "        return f\"reussir() : motivation +{gain_motivation}, progression +{gain_progression}\"\n"
   ]
  },
  {
   "cell_type": "code",
   "execution_count": 2,
   "metadata": {},
   "outputs": [],
   "source": [
    "def lancer_simulation(analyst):\n",
    "\n",
    "    tour = 1\n",
    "    while analyst.motivation > 0 and analyst.progression < 100:\n",
    "        print(f\"\\nTour {tour}\")\n",
    "        \n",
    "        # Sélection aléatoire de la méthode à appeler\n",
    "        action = random.choice([\n",
    "            analyst.suivreFormation,\n",
    "            analyst.bosserPlus,\n",
    "            analyst.echouer,\n",
    "            analyst.reussir\n",
    "        ])\n",
    "        \n",
    "        # Exécution de la méthode et affichage\n",
    "        result = action()\n",
    "        print(f\"La méthode {result} a été utilisée.\")\n",
    "        print(f\"Motivation : {analyst.motivation}\")\n",
    "        print(f\"Progression : {analyst.progression}\")\n",
    "        \n",
    "        tour += 1\n",
    "    \n",
    "    # Fin du programme\n",
    "    if analyst.motivation <= 0:\n",
    "        print(\"\\nBRAVO TU AS GAGNÉ !!!\")\n",
    "    elif analyst.progression >= 100:\n",
    "        print(\"\\nBRAVO TU AS APPRIS !!!\")\n"
   ]
  },
  {
   "cell_type": "code",
   "execution_count": 3,
   "metadata": {},
   "outputs": [
    {
     "name": "stdout",
     "output_type": "stream",
     "text": [
      "\n",
      "Tour 1\n",
      "La méthode suivreFormation() : motivation -19, progression +28 a été utilisée.\n",
      "Motivation : 81\n",
      "Progression : 28\n",
      "\n",
      "Tour 2\n",
      "La méthode echouer() : motivation -35, progression +24 a été utilisée.\n",
      "Motivation : 46\n",
      "Progression : 52\n",
      "\n",
      "Tour 3\n",
      "La méthode suivreFormation() : motivation -11, progression +29 a été utilisée.\n",
      "Motivation : 35\n",
      "Progression : 81\n",
      "\n",
      "Tour 4\n",
      "La méthode suivreFormation() : motivation -20, progression +20 a été utilisée.\n",
      "Motivation : 15\n",
      "Progression : 101\n",
      "\n",
      "BRAVO TU AS APPRIS !!!\n"
     ]
    }
   ],
   "source": [
    "# Instanciation de l'objet DataAnalyst\n",
    "analyst = DataAnalyst(\"BEDJA\", \"Awadi\", 24, \"M\", \"Ingénierie Mathématque\")\n",
    "\n",
    "# Lancement de la simulation\n",
    "lancer_simulation(analyst)\n"
   ]
  }
 ],
 "metadata": {
  "kernelspec": {
   "display_name": "env-cpia-CWEp8oh_-py3.12",
   "language": "python",
   "name": "python3"
  },
  "language_info": {
   "codemirror_mode": {
    "name": "ipython",
    "version": 3
   },
   "file_extension": ".py",
   "mimetype": "text/x-python",
   "name": "python",
   "nbconvert_exporter": "python",
   "pygments_lexer": "ipython3",
   "version": "3.12.0"
  }
 },
 "nbformat": 4,
 "nbformat_minor": 2
}
