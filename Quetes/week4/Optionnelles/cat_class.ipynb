{
 "cells": [
  {
   "cell_type": "markdown",
   "metadata": {},
   "source": [
    "# Cat class\n",
    "\n",
    "Pour développer la classe Cat existante, nous ajoutons :\n",
    "-  deux nouveaux attributs et  pour améliorer sa fonctionnalité et son réalisme. Les nouveaux attributs pourraient inclure \n",
    "    - **mood** : la représentation de l'état émotionnel actuel du chat\n",
    "    - **cleanliness** : le suivi de son degré de propreté\n",
    "\n",
    "- deux nouvelles méthodes : \n",
    "    - **cleanchat**, qui affecte sa propreté et son humeur\n",
    "    - **meow**, démontrant la capacité du chat à communiquer en fonction de son humeur"
   ]
  },
  {
   "cell_type": "code",
   "execution_count": 3,
   "metadata": {},
   "outputs": [],
   "source": [
    "class Cat:\n",
    "    def __init__(self, name, sleepy, hungry, cold, playfulness, health):\n",
    "        self.name = name\n",
    "        self.sleepiness = sleepy\n",
    "        self.hunger = hungry\n",
    "        self.cold = cold\n",
    "        self.playfulness = playfulness\n",
    "        self.health = health\n",
    "        self.is_alive = True\n",
    "        self.mood = \"happy\"  # New attribute to track the mood of the cat\n",
    "        self.cleanliness = 10  # New attribute to track the cleanliness\n",
    "\n",
    "    def update_alive_status(self):\n",
    "        if self.health < 0:\n",
    "            self.is_alive = False\n",
    "\n",
    "    def sleeps(self):\n",
    "        self.update_alive_status()\n",
    "        if self.is_alive:\n",
    "            self.sleepiness = 0\n",
    "            self.playfulness = min(10, self.playfulness + 2)\n",
    "            self.health = min(10, self.health + 1)\n",
    "            self.hunger = min(10, self.hunger + 1)\n",
    "            print(f\"The cat {self.name} has slept!\")\n",
    "        else:\n",
    "            print(f\"Condolences, {self.name} is dead! If you want to play again, create a new Cat object.\")\n",
    "\n",
    "    def plays_inside(self, mins_of_play=30):\n",
    "        self.update_alive_status()\n",
    "        if self.is_alive:\n",
    "            play_impact = min(10, mins_of_play // 10)\n",
    "            self.playfulness = max(0, self.playfulness - play_impact)\n",
    "            self.sleepiness = min(10, self.sleepiness + play_impact)\n",
    "            print(f\"The cat {self.name} has played for {mins_of_play} minutes inside the house.\")\n",
    "        else:\n",
    "            print(f\"Condolences, {self.name} is dead! If you want to play again, create a new Cat object.\")\n",
    "\n",
    "    def eats(self, spoons_of_tuna=2):\n",
    "        self.update_alive_status()\n",
    "        if self.is_alive:\n",
    "            hunger_reduction = min(10, spoons_of_tuna * 2)\n",
    "            self.hunger = max(0, self.hunger - hunger_reduction)\n",
    "            self.playfulness = min(10, self.playfulness + spoons_of_tuna // 4)\n",
    "            print(f\"The cat {self.name} has eaten {spoons_of_tuna} spoons of tuna. Yum!\")\n",
    "        else:\n",
    "            print(f\"Condolences, {self.name} is dead! If you want to play again, create a new Cat object.\")\n",
    "\n",
    "    # New method to clean the cat\n",
    "    def clean(self):\n",
    "        self.update_alive_status()\n",
    "        if self.is_alive:\n",
    "            self.cleanliness = 10\n",
    "            self.mood = \"content\"\n",
    "            print(f\"{self.name} is now clean and feeling content!\")\n",
    "        else:\n",
    "            print(f\"Sadly, {self.name} is no longer with us.\")\n",
    "\n",
    "    # New method for the cat to meow, demonstrating communication\n",
    "    def meow(self):\n",
    "        self.update_alive_status()\n",
    "        if self.is_alive:\n",
    "            mood_response = \"meows happily!\" if self.mood == \"happy\" else \"meows softly.\"\n",
    "            print(f\"{self.name} {mood_response}\")\n",
    "        else:\n",
    "            print(f\"No sound from {self.name}, they have passed on.\")\n"
   ]
  },
  {
   "cell_type": "code",
   "execution_count": 4,
   "metadata": {},
   "outputs": [
    {
     "name": "stdout",
     "output_type": "stream",
     "text": [
      "Felix is now clean and feeling content!\n",
      "Felix meows softly.\n",
      "Mood: content, Cleanliness: 10\n",
      "The cat Felix has eaten 3 spoons of tuna. Yum!\n",
      "The cat Felix has played for 20 minutes inside the house.\n",
      "The cat Felix has slept!\n"
     ]
    }
   ],
   "source": [
    "# Creating an instance of Cat\n",
    "my_cat = Cat(name=\"Felix\", sleepy=3, hungry=5, cold=False, playfulness=8, health=9)\n",
    "\n",
    "# Testing new methods\n",
    "my_cat.clean()  # Should make the cat clean and content\n",
    "my_cat.meow()   # Based on the mood, should meow happily or softly\n",
    "\n",
    "print(f\"Mood: {my_cat.mood}, Cleanliness: {my_cat.cleanliness}\")\n",
    "\n",
    "my_cat.eats(3)\n",
    "my_cat.plays_inside(20)\n",
    "my_cat.sleeps()\n"
   ]
  }
 ],
 "metadata": {
  "kernelspec": {
   "display_name": "env-cpia-CWEp8oh_-py3.12",
   "language": "python",
   "name": "python3"
  },
  "language_info": {
   "codemirror_mode": {
    "name": "ipython",
    "version": 3
   },
   "file_extension": ".py",
   "mimetype": "text/x-python",
   "name": "python",
   "nbconvert_exporter": "python",
   "pygments_lexer": "ipython3",
   "version": "3.12.0"
  }
 },
 "nbformat": 4,
 "nbformat_minor": 2
}
