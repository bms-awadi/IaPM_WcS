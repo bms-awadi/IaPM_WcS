{
 "cells": [
  {
   "cell_type": "code",
   "execution_count": 1,
   "metadata": {},
   "outputs": [],
   "source": [
    "\"\"\"\n",
    "Fonction Python qui décrypte le message en effectuant un décalage inverse de 7 lettres.\n",
    "\"\"\"\n",
    "def decrypt_message(message):\n",
    "    \n",
    "    decrypted_message = \"\"\n",
    "    \n",
    "    for char in message:\n",
    "        if char.isalpha():\n",
    "            # Gérer le décalage en tenant compte des majuscules et minuscules\n",
    "            offset = 65 if char.isupper() else 97\n",
    "            decrypted_message += chr((ord(char) - offset - 7) % 26 + offset)\n",
    "        else:\n",
    "            # Si ce n'est pas une lettre, ajoute-le tel quel\n",
    "            decrypted_message += char\n",
    "    \n",
    "    return decrypted_message\n",
    "\n"
   ]
  },
  {
   "cell_type": "code",
   "execution_count": 2,
   "metadata": {},
   "outputs": [
    {
     "name": "stdout",
     "output_type": "stream",
     "text": [
      "Message décrypté : felicitations, cesar serait fier de toi, si seulement il connaissait python\n"
     ]
    }
   ],
   "source": [
    "# Message à décrypter\n",
    "encrypted_message = \"mlspjpahapvuz, jlzhy zlyhpa mply kl avp, zp zlbsltlua ps jvuuhpzzhpa wfaovu\"\n",
    "\n",
    "# Décryptage du message\n",
    "print(\"Message décrypté :\", decrypt_message(encrypted_message))"
   ]
  }
 ],
 "metadata": {
  "kernelspec": {
   "display_name": "env-cpia-CWEp8oh_-py3.12",
   "language": "python",
   "name": "python3"
  },
  "language_info": {
   "codemirror_mode": {
    "name": "ipython",
    "version": 3
   },
   "file_extension": ".py",
   "mimetype": "text/x-python",
   "name": "python",
   "nbconvert_exporter": "python",
   "pygments_lexer": "ipython3",
   "version": "3.12.0"
  }
 },
 "nbformat": 4,
 "nbformat_minor": 2
}
