{
 "cells": [
  {
   "cell_type": "markdown",
   "metadata": {},
   "source": [
    "# POO - 4 principes\n",
    "\n",
    "Utilisation de la classe Dog précédente.\n",
    "\n",
    "Paramètres :\n",
    "- nom (str) : Le nom du chien.\n",
    "- énergie (int) : Niveau initial d'énergie.\n",
    "- faim (int) : Niveau initial de faim.\n",
    "- bonheur (int) : Niveau initial de bonheur.\n",
    "- propreté (int) : Niveau initial de propreté.\n",
    "- santé (int) : Niveau initial de santé.\n",
    "\n",
    "## But\n",
    "- Ajout d'une méthode de comportement spécifique à la race qui variera entre les deux races (**Chihuahua** et **Terrier hériteront**)."
   ]
  },
  {
   "cell_type": "markdown",
   "metadata": {},
   "source": [
    "## Étape 1 : Classe parent Dog\n"
   ]
  },
  {
   "cell_type": "code",
   "execution_count": 7,
   "metadata": {},
   "outputs": [],
   "source": [
    "class Dog:\n",
    "    def __init__(self, nom, énergie=10, faim=0, bonheur=10, propreté=10, santé=10):\n",
    "        self.nom = nom\n",
    "        self.énergie = énergie\n",
    "        self.faim = faim\n",
    "        self.bonheur = bonheur\n",
    "        self.propreté = propreté\n",
    "        self.santé = santé\n",
    "\n",
    "    def jouer(self, minutes):\n",
    "        consommation_énergie = int(minutes / 5)\n",
    "        gain_bonheur = int(minutes / 10)\n",
    "        augmentation_faim = int(minutes / 15)\n",
    "\n",
    "        self.énergie = max(0, self.énergie - consommation_énergie)\n",
    "        self.bonheur = min(10, self.bonheur + gain_bonheur)\n",
    "        self.faim = min(10, self.faim + augmentation_faim)\n",
    "        print(f\"{self.nom} a joué pendant {minutes} minutes.\")\n",
    "\n",
    "    def manger(self, quantité):\n",
    "        diminution_faim = int(quantité * 2)\n",
    "        augmentation_santé = int(quantité / 4)\n",
    "\n",
    "        self.faim = max(0, self.faim - diminution_faim)\n",
    "        self.santé = min(10, self.santé + augmentation_santé)\n",
    "        print(f\"{self.nom} a mangé {quantité} unités de nourriture.\")\n",
    "\n",
    "    def dormir(self, heures):\n",
    "        gain_énergie = int(heures * 2)\n",
    "        gain_santé = int(heures / 2)\n",
    "\n",
    "        self.énergie = min(10, self.énergie + gain_énergie)\n",
    "        self.santé = min(10, self.santé + gain_santé)\n",
    "        print(f\"{self.nom} a dormi pendant {heures} heures.\")\n",
    "\n",
    "    def prendre_un_bain(self):\n",
    "        self.propreté = 10\n",
    "        self.bonheur = min(10, self.bonheur + 2)\n",
    "        print(f\"{self.nom} a été lavé.\")\n",
    "\n",
    "    def visiter_le_vétérinaire(self):\n",
    "        self.santé = 10\n",
    "        print(f\"{self.nom} a visité le vétérinaire.\")\n",
    "\n",
    "    def méthode_spéciale(self):\n",
    "        \"\"\"\n",
    "        Méthode vide à redéfinir dans les classes enfants.\n",
    "        \"\"\"\n",
    "        pass\n"
   ]
  },
  {
   "cell_type": "markdown",
   "metadata": {},
   "source": [
    "## Étape 2 : Créer des classes enfants pour des races de chiens spécifiques\n",
    "Chacune aura sa propre implémentation de la **méthode_spéciale**."
   ]
  },
  {
   "cell_type": "code",
   "execution_count": 8,
   "metadata": {},
   "outputs": [],
   "source": [
    "class Chihuahua(Dog):\n",
    "    def méthode_spéciale(self):\n",
    "        \"\"\"\n",
    "        Méthode spéciale pour le Chihuahua qui augmente le bonheur.\n",
    "        \"\"\"\n",
    "        self.bonheur = min(10, self.bonheur + 3)\n",
    "        print(f\"{self.nom} a utilisé sa méthode spéciale et est plus heureux.\")\n",
    "\n",
    "class Terrier(Dog):\n",
    "    def méthode_spéciale(self):\n",
    "        \"\"\"\n",
    "        Méthode spéciale pour le Terrier qui augmente l'énergie.\n",
    "        \"\"\"\n",
    "        self.énergie = min(10, self.énergie + 3)\n",
    "        print(f\"{self.nom} a utilisé sa méthode spéciale et est plus énergique.\")"
   ]
  },
  {
   "cell_type": "markdown",
   "metadata": {},
   "source": [
    "## Étape 3 : Test"
   ]
  },
  {
   "cell_type": "code",
   "execution_count": 11,
   "metadata": {},
   "outputs": [
    {
     "name": "stdout",
     "output_type": "stream",
     "text": [
      "État initial de Max : Énergie=8, Bonheur=7\n",
      "Max a utilisé sa méthode spéciale et est plus heureux.\n",
      "État après méthode spéciale de Max : Énergie=8, Bonheur=10\n"
     ]
    }
   ],
   "source": [
    "max = Chihuahua(\"Max\", 8, 2, 7, 9, 8)\n",
    "print(f\"État initial de {max.nom} : Énergie={max.énergie}, Bonheur={max.bonheur}\")\n",
    "max.méthode_spéciale()\n",
    "print(f\"État après méthode spéciale de {max.nom} : Énergie={max.énergie}, Bonheur={max.bonheur}\")\n"
   ]
  },
  {
   "cell_type": "code",
   "execution_count": 13,
   "metadata": {},
   "outputs": [
    {
     "name": "stdout",
     "output_type": "stream",
     "text": [
      "État initial de Roxy : Énergie=6, Bonheur=6\n",
      "Roxy a utilisé sa méthode spéciale et est plus énergique.\n",
      "État après méthode spéciale de Roxy : Énergie=9, Bonheur=6\n"
     ]
    }
   ],
   "source": [
    "roxy = Terrier(\"Roxy\", 6, 3, 6, 8, 7)\n",
    "print(f\"État initial de {roxy.nom} : Énergie={roxy.énergie}, Bonheur={roxy.bonheur}\")\n",
    "roxy.méthode_spéciale()\n",
    "print(f\"État après méthode spéciale de {roxy.nom} : Énergie={roxy.énergie}, Bonheur={roxy.bonheur}\")"
   ]
  }
 ],
 "metadata": {
  "kernelspec": {
   "display_name": "env-cpia-CWEp8oh_-py3.12",
   "language": "python",
   "name": "python3"
  },
  "language_info": {
   "codemirror_mode": {
    "name": "ipython",
    "version": 3
   },
   "file_extension": ".py",
   "mimetype": "text/x-python",
   "name": "python",
   "nbconvert_exporter": "python",
   "pygments_lexer": "ipython3",
   "version": "3.12.0"
  }
 },
 "nbformat": 4,
 "nbformat_minor": 2
}
