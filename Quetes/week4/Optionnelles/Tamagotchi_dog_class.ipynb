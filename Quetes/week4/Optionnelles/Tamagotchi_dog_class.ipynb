{
 "cells": [
  {
   "cell_type": "markdown",
   "metadata": {},
   "source": [
    "# Dog class in a Tamagotchi-style game:\n",
    "\n",
    "Structure de la Classe Dog\n",
    "1. **Attributs** :\n",
    "   - `nom` : Le nom du chien.\n",
    "   - `énergie` : Niveau d'énergie du chien, qui affecte sa capacité à jouer.\n",
    "   - `faim` : Niveau de faim, augmente avec le temps et doit être géré par l'alimentation.\n",
    "   - `bonheur` : Niveau de bonheur, affecté par diverses interactions.\n",
    "   - `propreté` : À quel point le chien est propre, affecte le bonheur.\n",
    "   - `santé` : Santé globale du chien, affectée par d'autres variables.\n",
    "\n",
    "2. **Méthodes** :\n",
    "   - `jouer(minutes)` : Affecte l'énergie, le bonheur et la faim.\n",
    "   - `manger(quantité)` : Diminue la faim et affecte la santé.\n",
    "   - `dormir(heures)` : Augmente l'énergie et affecte la santé.\n",
    "   - `prendre_un_bain()` : Augmente la propreté et le bonheur.\n",
    "   - `visiter_le_vétérinaire()` : Améliore la santé."
   ]
  },
  {
   "cell_type": "code",
   "execution_count": 1,
   "metadata": {},
   "outputs": [],
   "source": [
    "class Dog:\n",
    "    def __init__(self, nom, énergie=10, faim=0, bonheur=10, propreté=10, santé=10):\n",
    "        \"\"\"\n",
    "        Le constructeur de la classe Chien.\n",
    "\n",
    "        Paramètres :\n",
    "           nom (str) : Le nom du chien.\n",
    "           énergie (int) : Niveau initial d'énergie.\n",
    "           faim (int) : Niveau initial de faim.\n",
    "           bonheur (int) : Niveau initial de bonheur.\n",
    "           propreté (int) : Niveau initial de propreté.\n",
    "           santé (int) : Niveau initial de santé.\n",
    "        \"\"\"\n",
    "        self.nom = nom\n",
    "        self.énergie = énergie\n",
    "        self.faim = faim\n",
    "        self.bonheur = bonheur\n",
    "        self.propreté = propreté\n",
    "        self.santé = santé\n",
    "\n",
    "    def jouer(self, minutes):\n",
    "        \"\"\"\n",
    "        Simuler que le chien joue ce qui affecte l'énergie, le bonheur et la faim.\n",
    "\n",
    "        Paramètres :\n",
    "            minutes (int) : Durée du jeu en minutes.\n",
    "        \"\"\"\n",
    "        consommation_énergie = int(minutes / 5)\n",
    "        gain_bonheur = int(minutes / 10)\n",
    "        augmentation_faim = int(minutes / 15)\n",
    "        \n",
    "        self.énergie = max(0, self.énergie - consommation_énergie)\n",
    "        self.bonheur = min(10, self.bonheur + gain_bonheur)\n",
    "        self.faim = min(10, self.faim + augmentation_faim)\n",
    "        print(f\"{self.nom} a joué pendant {minutes} minutes.\")\n",
    "\n",
    "    def manger(self, quantité):\n",
    "        \"\"\"\n",
    "        Nourrir le chien ce qui diminue la faim et affecte la santé.\n",
    "\n",
    "        Paramètres :\n",
    "            quantité (int) : Combien le chien mange.\n",
    "        \"\"\"\n",
    "        diminution_faim = int(quantité * 2)\n",
    "        augmentation_santé = int(quantité / 4)\n",
    "        \n",
    "        self.faim = max(0, self.faim - diminution_faim)\n",
    "        self.santé = min(10, self.santé + augmentation_santé)\n",
    "        print(f\"{self.nom} a mangé {quantité} unités de nourriture.\")\n",
    "\n",
    "    def dormir(self, heures):\n",
    "        \"\"\"\n",
    "        Faire dormir le chien ce qui augmente l'énergie et affecte la santé.\n",
    "\n",
    "        Paramètres :\n",
    "            heures (int) : Combien d'heures le chien dort.\n",
    "        \"\"\"\n",
    "        gain_énergie = int(heures * 2)\n",
    "        gain_santé = int(heures / 2)\n",
    "        \n",
    "        self.énergie = min(10, self.énergie + gain_énergie)\n",
    "        self.santé = min(10, self.santé + gain_santé)\n",
    "        print(f\"{self.nom} a dormi pendant {heures} heures.\")\n",
    "\n",
    "    def prendre_un_bain(self):\n",
    "        \"\"\"\n",
    "        Laver le chien pour augmenter la propreté et le bonheur.\n",
    "        \"\"\"\n",
    "        self.propreté = 10\n",
    "        self.bonheur = min(10, self.bonheur + 2)\n",
    "        print(f\"{self.nom} a été lavé.\")\n",
    "\n",
    "    def visiter_le_vétérinaire(self):\n",
    "        \"\"\"\n",
    "        Emmener le chien chez le vétérinaire pour améliorer sa santé.\n",
    "        \"\"\"\n",
    "        self.santé = 10\n",
    "        print(f\"{self.nom} a visité le vétérinaire.\")\n"
   ]
  },
  {
   "cell_type": "code",
   "execution_count": 2,
   "metadata": {},
   "outputs": [
    {
     "name": "stdout",
     "output_type": "stream",
     "text": [
      "État initial de Max: Énergie=10, Faim=0, Bonheur=10, Propreté=10, Santé=10\n"
     ]
    }
   ],
   "source": [
    "# Test\n",
    "mon_chien = Dog(\"Max\")\n",
    "\n",
    "# Affichage de l'état initial\n",
    "print(f\"État initial de {mon_chien.nom}: Énergie={mon_chien.énergie}, Faim={mon_chien.faim}, Bonheur={mon_chien.bonheur}, Propreté={mon_chien.propreté}, Santé={mon_chien.santé}\")\n"
   ]
  },
  {
   "cell_type": "code",
   "execution_count": 3,
   "metadata": {},
   "outputs": [
    {
     "name": "stdout",
     "output_type": "stream",
     "text": [
      "Max a joué pendant 20 minutes.\n",
      "Après avoir joué: Énergie=6, Bonheur=10, Faim=1\n"
     ]
    }
   ],
   "source": [
    "# Le chien joue pendant 20 minutes\n",
    "mon_chien.jouer(20)\n",
    "print(f\"Après avoir joué: Énergie={mon_chien.énergie}, Bonheur={mon_chien.bonheur}, Faim={mon_chien.faim}\")\n"
   ]
  },
  {
   "cell_type": "code",
   "execution_count": 4,
   "metadata": {},
   "outputs": [
    {
     "name": "stdout",
     "output_type": "stream",
     "text": [
      "Max a mangé 5 unités de nourriture.\n",
      "Après avoir mangé: Faim=0, Santé=10\n"
     ]
    }
   ],
   "source": [
    "# Le chien mange 5 unités de nourriture\n",
    "mon_chien.manger(5)\n",
    "print(f\"Après avoir mangé: Faim={mon_chien.faim}, Santé={mon_chien.santé}\")\n"
   ]
  },
  {
   "cell_type": "code",
   "execution_count": 5,
   "metadata": {},
   "outputs": [
    {
     "name": "stdout",
     "output_type": "stream",
     "text": [
      "Max a dormi pendant 3 heures.\n",
      "Après avoir dormi: Énergie=10, Santé=10\n"
     ]
    }
   ],
   "source": [
    "# Le chien dort pendant 3 heures\n",
    "mon_chien.dormir(3)\n",
    "print(f\"Après avoir dormi: Énergie={mon_chien.énergie}, Santé={mon_chien.santé}\")\n"
   ]
  },
  {
   "cell_type": "code",
   "execution_count": 6,
   "metadata": {},
   "outputs": [
    {
     "name": "stdout",
     "output_type": "stream",
     "text": [
      "Max a été lavé.\n",
      "Après le bain: Propreté=10, Bonheur=10\n"
     ]
    }
   ],
   "source": [
    "# Le chien prend un bain\n",
    "mon_chien.prendre_un_bain()\n",
    "print(f\"Après le bain: Propreté={mon_chien.propreté}, Bonheur={mon_chien.bonheur}\")\n"
   ]
  },
  {
   "cell_type": "code",
   "execution_count": 7,
   "metadata": {},
   "outputs": [
    {
     "name": "stdout",
     "output_type": "stream",
     "text": [
      "Max a visité le vétérinaire.\n",
      "Après la visite chez le vétérinaire: Santé=10\n"
     ]
    }
   ],
   "source": [
    "# Le chien visite le vétérinaire\n",
    "mon_chien.visiter_le_vétérinaire()\n",
    "print(f\"Après la visite chez le vétérinaire: Santé={mon_chien.santé}\")\n"
   ]
  },
  {
   "cell_type": "code",
   "execution_count": 11,
   "metadata": {},
   "outputs": [
    {
     "name": "stdout",
     "output_type": "stream",
     "text": [
      "Max a joué pendant 30 minutes.\n",
      "Après une autre session de jeu: Énergie=0, Bonheur=10, Faim=2\n",
      "Max a mangé 3 unités de nourriture.\n",
      "Après une autre séance d'alimentation: Faim=0, Santé=10\n",
      "Max a dormi pendant 0.5 heures.\n",
      "Après avoir dormi: Énergie=1, Santé=10\n",
      "Max a mangé 4 unités de nourriture.\n",
      "Après une autre séance d'alimentation: Faim=0, Santé=10\n"
     ]
    }
   ],
   "source": [
    "mon_chien.jouer(30)\n",
    "print(f\"Après une autre session de jeu: Énergie={mon_chien.énergie}, Bonheur={mon_chien.bonheur}, Faim={mon_chien.faim}\")\n",
    "mon_chien.manger(3)\n",
    "print(f\"Après une autre séance d'alimentation: Faim={mon_chien.faim}, Santé={mon_chien.santé}\")\n",
    "mon_chien.dormir(1/2)\n",
    "print(f\"Après avoir dormi: Énergie={mon_chien.énergie}, Santé={mon_chien.santé}\")\n",
    "mon_chien.manger(4)\n",
    "print(f\"Après une autre séance d'alimentation: Faim={mon_chien.faim}, Santé={mon_chien.santé}\")"
   ]
  }
 ],
 "metadata": {
  "kernelspec": {
   "display_name": "env-cpia-CWEp8oh_-py3.12",
   "language": "python",
   "name": "python3"
  },
  "language_info": {
   "codemirror_mode": {
    "name": "ipython",
    "version": 3
   },
   "file_extension": ".py",
   "mimetype": "text/x-python",
   "name": "python",
   "nbconvert_exporter": "python",
   "pygments_lexer": "ipython3",
   "version": "3.12.0"
  }
 },
 "nbformat": 4,
 "nbformat_minor": 2
}
