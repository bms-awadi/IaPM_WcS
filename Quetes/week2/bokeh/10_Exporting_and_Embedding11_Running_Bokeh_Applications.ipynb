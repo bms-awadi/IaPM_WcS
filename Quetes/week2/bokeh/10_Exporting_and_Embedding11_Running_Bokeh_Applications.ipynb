{
 "cells": [
  {
   "cell_type": "markdown",
   "id": "31c8be2f",
   "metadata": {},
   "source": [
    "<table style=\"float:left; border:none\">\n",
    "   <tr style=\"border:none\">\n",
    "       <td style=\"border:none\">\n",
    "           <a href=\"https://bokeh.org/\">     \n",
    "           <img \n",
    "               src=\"assets/bokeh-transparent.png\" \n",
    "               style=\"width:50px\"\n",
    "           >\n",
    "           </a>    \n",
    "       </td>\n",
    "       <td style=\"border:none\">\n",
    "           <h1>Bokeh Tutorial</h1>\n",
    "       </td>\n",
    "   </tr>\n",
    "</table>\n",
    "\n",
    "<div style=\"float:right;\"><h2>10. Exporting and Embedding</h2></div>"
   ]
  },
  {
   "cell_type": "markdown",
   "id": "47e88b79",
   "metadata": {},
   "source": [
    "So far we have seen how to generate interactive Bokeh output directly inline in Jupyter notbeooks. It also possible to embed interactive Bokeh plots and layouts in other contexts, such as standalone HTML files, or Jinja templates. Additionally, Bokeh can export plots to static (non-interactive) PNG and SVG formats. \n",
    "\n",
    "We will look at all of these possibilities in this chapter. First we make the usual imports."
   ]
  },
  {
   "cell_type": "code",
   "execution_count": null,
   "id": "fee02f3f",
   "metadata": {},
   "outputs": [],
   "source": [
    "from bokeh.io import output_notebook, show\n",
    "output_notebook()"
   ]
  },
  {
   "cell_type": "markdown",
   "id": "ce190762",
   "metadata": {},
   "source": [
    "And also load some data that will be used throughout this chapter"
   ]
  },
  {
   "cell_type": "code",
   "execution_count": null,
   "id": "ca5451ae",
   "metadata": {},
   "outputs": [],
   "source": [
    "import pandas as pd\n",
    "\n",
    "from bokeh.plotting import figure\n",
    "from bokeh.sampledata.stocks import AAPL\n",
    "\n",
    "df = pd.DataFrame(AAPL)\n",
    "df['date'] = pd.to_datetime(df['date'])"
   ]
  },
  {
   "cell_type": "markdown",
   "id": "28d836e0",
   "metadata": {},
   "source": [
    "# Embedding Interactive Content\n",
    "\n",
    "To start we will look different ways of embedding live interactive Bokeh output in various situations. "
   ]
  },
  {
   "cell_type": "markdown",
   "id": "08baf884",
   "metadata": {},
   "source": [
    "## Displaying in the Notebook\n",
    "\n",
    "The first way to embed Bokeh output is in the Jupyter Notebooks, as we have already, seen. As a reminder, the cell below will generate a plot inline as output, because we executed `output_notebook` above."
   ]
  },
  {
   "cell_type": "code",
   "execution_count": null,
   "id": "3b2711e9",
   "metadata": {},
   "outputs": [],
   "source": [
    "p = figure(width=800, height=250, x_axis_type=\"datetime\")\n",
    "p.line(df['date'], df['close'], color='navy', alpha=0.5)\n",
    "\n",
    "show(p)"
   ]
  },
  {
   "cell_type": "markdown",
   "id": "2c9eb428",
   "metadata": {},
   "source": [
    "## Saving to an HTML File\n",
    "\n",
    "It is also often useful to generate a standalone HTML script containing Bokeh content. This is accomplished by calling the `output_file(...)` function. It is especially common to do this from standard Python scripts, but here we see that it works in the notebook as well. "
   ]
  },
  {
   "cell_type": "code",
   "execution_count": null,
   "id": "071cd14f",
   "metadata": {},
   "outputs": [],
   "source": [
    "from bokeh.io import output_file, show"
   ]
  },
  {
   "cell_type": "code",
   "execution_count": null,
   "id": "8552d802",
   "metadata": {},
   "outputs": [],
   "source": [
    "output_file(\"plot.html\")"
   ]
  },
  {
   "cell_type": "code",
   "execution_count": null,
   "id": "977d0047",
   "metadata": {},
   "outputs": [],
   "source": [
    "show(p)   # save(p) will save without opening a new browser tab"
   ]
  },
  {
   "cell_type": "markdown",
   "id": "f05f5f81",
   "metadata": {},
   "source": [
    "In addition the inline plot above, you should also have seen a new browser tab open with the contents of the newly saved \"plot.html\" file. It is important to note that `output_file` initiates a *persistent mode of operation*. That is, all subsequent calls to show will generate output to the specified file. We can \"reset\" where output will go by calling `reset_output`:"
   ]
  },
  {
   "cell_type": "code",
   "execution_count": null,
   "id": "fcf8a325",
   "metadata": {},
   "outputs": [],
   "source": [
    "from bokeh.io import reset_output\n",
    "reset_output()"
   ]
  },
  {
   "cell_type": "markdown",
   "id": "1841b708",
   "metadata": {},
   "source": [
    "## Templating in HTML Documents\n",
    "\n",
    "Another use case is to embed Bokeh content in a Jinja HTML template. We will look at a simple explicit case first, and then see how this technique might be used in a web app framework such as Flask. \n",
    "\n",
    "The simplest way to embed standalone (i.e. not Bokeh server) content is to use the `components` function. This function takes a Bokeh object, and returns a `<script>` tag and `<div>` tag that can be put in any HTML tempate. The script will execute and load the Bokeh content into the associated div. \n",
    "\n",
    "The cells below show a complete example, including loading BokehJS JS and CSS resources in the template."
   ]
  },
  {
   "cell_type": "code",
   "execution_count": null,
   "id": "3e49d61b",
   "metadata": {},
   "outputs": [],
   "source": [
    "import jinja2\n",
    "from bokeh.embed import components\n",
    "\n",
    "# IMPORTANT NOTE!! The version of BokehJS loaded in the template should match \n",
    "# the version of Bokeh installed locally.\n",
    "\n",
    "template = jinja2.Template(\"\"\"\n",
    "<!DOCTYPE html>\n",
    "<html lang=\"en-US\">\n",
    "\n",
    "<link\n",
    "    href=\"http://cdn.pydata.org/bokeh/dev/bokeh-0.13.0.min.css\"\n",
    "    rel=\"stylesheet\" type=\"text/css\"\n",
    ">\n",
    "<script \n",
    "    src=\"http://cdn.pydata.org/bokeh/dev/bokeh-0.13.0.min.js\"\n",
    "></script>\n",
    "\n",
    "<body>\n",
    "\n",
    "    <h1>Hello Bokeh!</h1>\n",
    "    \n",
    "    <p> Below is a simple plot of stock closing prices </p>\n",
    "    \n",
    "    {{ script }}\n",
    "    \n",
    "    {{ div }}\n",
    "\n",
    "</body>\n",
    "\n",
    "</html>\n",
    "\"\"\")"
   ]
  },
  {
   "cell_type": "code",
   "execution_count": null,
   "id": "134f5e75",
   "metadata": {},
   "outputs": [],
   "source": [
    "p = figure(width=800, height=250, x_axis_type=\"datetime\")\n",
    "p.line(df['date'], df['close'], color='navy', alpha=0.5)\n",
    "\n",
    "script, div = components(p)"
   ]
  },
  {
   "cell_type": "code",
   "execution_count": null,
   "id": "a4568249",
   "metadata": {},
   "outputs": [],
   "source": [
    "from IPython.display import HTML\n",
    "HTML(template.render(script=script, div=div))"
   ]
  },
  {
   "cell_type": "markdown",
   "id": "5a64a22e",
   "metadata": {},
   "source": [
    "Note that it is possible to pass multiple objects to a single call to `components`, in order to template multiple Bokeh objects at once. See the [User's Guide for components](https://bokeh.pydata.org/en/latest/docs/user_guide/embed.html#components) for more information.\n",
    "\n",
    "\n",
    "Once we have the script and div from `components`, it is straighforward to serve a rendered page containing Bokeh content in a web application, e.g. a Flask app as shown below."
   ]
  },
  {
   "cell_type": "code",
   "execution_count": null,
   "id": "31c4f010",
   "metadata": {},
   "outputs": [],
   "source": [
    "from flask import Flask\n",
    "app = Flask(__name__)\n",
    "\n",
    "@app.route('/')\n",
    "def hello_bokeh():\n",
    "   return template.render(script=script, div=div)"
   ]
  },
  {
   "cell_type": "code",
   "execution_count": null,
   "id": "6146dceb",
   "metadata": {},
   "outputs": [],
   "source": [
    "# Uncomment to run the Flask Server. Use Kernel -> Interrupt from Notebook menubar to stop \n",
    "#app.run(port=5050)"
   ]
  },
  {
   "cell_type": "code",
   "execution_count": null,
   "id": "fb181553",
   "metadata": {},
   "outputs": [],
   "source": [
    "# EXERCISE: Create your own template (or modify the one above) \n"
   ]
  },
  {
   "cell_type": "markdown",
   "id": "c6fd2f53",
   "metadata": {},
   "source": [
    "# Exporting Static Images\n",
    "\n",
    "Sometimes it is desirable to produce static images of plots or other Bokeh output, without any interactive capabilities. Bokeh supports exports to PNG and SVG formats. "
   ]
  },
  {
   "cell_type": "markdown",
   "id": "74905a85",
   "metadata": {},
   "source": [
    "## PNG Export\n",
    "\n",
    "Bokeh supports exporting a plot or layout to PNG image format with the `export_png` function. This function is alled with a Bokeh object to export, and a filename to write the PNG output to. Often the Bokeh object passed to `export_png` is a single plot, but it need not be. If a layout is exported, the entire layout is saved to one PNG image. \n",
    "\n",
    "***Important Note:*** *the PNG export capability requires installing some additional optional dependencies. The simplest way to obtain them is via conda:*\n",
    "\n",
    "    conda install selenium phantomjs pillow\n"
   ]
  },
  {
   "cell_type": "code",
   "execution_count": null,
   "id": "9919f89e",
   "metadata": {},
   "outputs": [],
   "source": [
    "from bokeh.io import export_png\n",
    "\n",
    "p = figure(width=800, height=250, x_axis_type=\"datetime\")\n",
    "p.line(df['date'], df['close'], color='navy', alpha=0.5)\n",
    "\n",
    "export_png(p, filename=\"plot.png\")"
   ]
  },
  {
   "cell_type": "code",
   "execution_count": null,
   "id": "0b5c6b17",
   "metadata": {},
   "outputs": [],
   "source": [
    "from IPython.display import Image\n",
    "Image('plot.png')"
   ]
  },
  {
   "cell_type": "code",
   "execution_count": null,
   "id": "34d619ce",
   "metadata": {},
   "outputs": [],
   "source": [
    "# EXERCISE: Save a layout of plots (e.g. row or column) as SVG and see what happens \n"
   ]
  },
  {
   "cell_type": "markdown",
   "id": "88bb6849",
   "metadata": {},
   "source": [
    "## SVG Export\n",
    "\n",
    "Bokeh can also generate SVG output in the browser, instead of rendering to HTML canvas. This is accomplished by setting `output_backend='svg'` on a figure. This can be be used to generate SVGs in `output_file` HTML files, or in content emebdded with `components`. It can also be used with the `export_svgs` function to save `.svg` files. Note that an SVG is created for *each canvas*. It is not possible to capture entire layouts or widgets in SVG output. \n",
    "\n",
    "***Important Note:*** *There a currently some known issue with SVG output, it may not work for all use-cases*"
   ]
  },
  {
   "cell_type": "code",
   "execution_count": null,
   "id": "23bda8d0",
   "metadata": {},
   "outputs": [],
   "source": [
    "from bokeh.io import export_svgs\n",
    "\n",
    "p = figure(width=800, height=250, x_axis_type=\"datetime\", output_backend='svg')\n",
    "p.line(df['date'], df['close'], color='navy', alpha=0.5)\n",
    "\n",
    "export_svgs(p, filename=\"plot.svg\")"
   ]
  },
  {
   "cell_type": "code",
   "execution_count": null,
   "id": "fbb23bc9",
   "metadata": {},
   "outputs": [],
   "source": [
    "from IPython.display import SVG\n",
    "SVG('plot.svg')"
   ]
  },
  {
   "cell_type": "code",
   "execution_count": null,
   "id": "98b15faf",
   "metadata": {},
   "outputs": [],
   "source": [
    "# EXERCISE: Save a layout of plots (e.g. row or column) as SVG and see what happens \n"
   ]
  },
  {
   "cell_type": "markdown",
   "id": "0d321ef9",
   "metadata": {},
   "source": [
    "# Next Section"
   ]
  },
  {
   "cell_type": "markdown",
   "id": "cf29fe18",
   "metadata": {},
   "source": [
    "Click on this link to go to the next notebook: [11 - Running Bokeh Applications](11%20-%20Running%20Bokeh%20Applications.ipynb).\n",
    "\n",
    "To go back to the overview, click [here](00%20-%20Introduction%20and%20Setup.ipynb)."
   ]
  },
  {
   "cell_type": "code",
   "execution_count": null,
   "id": "a637e8e1",
   "metadata": {},
   "outputs": [],
   "source": []
  },
  {
   "cell_type": "markdown",
   "id": "60838c53",
   "metadata": {},
   "source": [
    "<table style=\"float:left; border:none\">\n",
    "   <tr style=\"border:none\">\n",
    "       <td style=\"border:none\">\n",
    "           <a href=\"https://bokeh.org/\">     \n",
    "           <img \n",
    "               src=\"assets/bokeh-transparent.png\" \n",
    "               style=\"width:50px\"\n",
    "           >\n",
    "           </a>    \n",
    "       </td>\n",
    "       <td style=\"border:none\">\n",
    "           <h1>Bokeh Tutorial</h1>\n",
    "       </td>\n",
    "   </tr>\n",
    "</table>\n",
    "\n",
    "<div style=\"float:right;\"><h2>11. Running Bokeh Applications</h2></div>"
   ]
  },
  {
   "cell_type": "markdown",
   "id": "e2b0b61c",
   "metadata": {},
   "source": [
    "The architecture of Bokeh is such that high-level “model objects” (representing things like plots, ranges, axes, glyphs, etc.) are created in Python, and then converted to a JSON format that is consumed by the client library, BokehJS. Using the Bokeh Server, it is possible to keep the “model objects” in python and in the browser in sync with one another, creating powerful capabilities:\n",
    "\n",
    "* respond to UI and tool events generated in a browser with computations or queries using the full power of python\n",
    "* automatically push updates the UI (i.e. widgets or plots), in a browser\n",
    "* use periodic, timeout, and asychronous callbacks drive streaming updates\n",
    "\n",
    "***This capability to synchronize between python and the browser is the main purpose of the Bokeh Server.***"
   ]
  },
  {
   "cell_type": "code",
   "execution_count": null,
   "id": "bba94c98",
   "metadata": {},
   "outputs": [],
   "source": [
    "from bokeh.io import output_notebook, show\n",
    "output_notebook()"
   ]
  },
  {
   "cell_type": "markdown",
   "id": "cbeec598",
   "metadata": {},
   "source": [
    "## Bokeh Apps in Notebooks\n",
    "\n",
    "The easiest way to embed a Bokeh application in a notebook is to make a function `modify_doc(doc)` that creates Bokeh content, and adds it to the document. This function can be passed to `show`, and the app defined by the function will be displayed inline. A short complete example is below"
   ]
  },
  {
   "cell_type": "code",
   "execution_count": null,
   "id": "f106506d",
   "metadata": {},
   "outputs": [],
   "source": [
    "from bokeh.layouts import column\n",
    "from bokeh.models import TextInput, Button, Paragraph\n",
    "\n",
    "def modify_doc(doc):\n",
    "    \n",
    "    # create some widgets\n",
    "    button = Button(label=\"Say HI\")\n",
    "    input = TextInput(value=\"Bokeh\")\n",
    "    output = Paragraph()\n",
    "\n",
    "    # add a callback to a widget\n",
    "    def update():\n",
    "        output.text = \"Hello, \" + input.value\n",
    "    button.on_click(update)\n",
    "\n",
    "    # create a layout for everything\n",
    "    layout = column(button, input, output)\n",
    "\n",
    "    # add the layout to curdoc\n",
    "    doc.add_root(layout)\n",
    "    \n",
    "# In the notebook, just pass the function that defines the app to show\n",
    "# You may need to supply notebook_url, e.g notebook_url=\"http://localhost:8889\" \n",
    "show(modify_doc) "
   ]
  },
  {
   "cell_type": "code",
   "execution_count": null,
   "id": "b23bfd3b",
   "metadata": {},
   "outputs": [],
   "source": [
    "# EXERCISE: add a Select widget to this example that offers several different greetings\n",
    "\n"
   ]
  },
  {
   "cell_type": "markdown",
   "id": "0a5d7a5c",
   "metadata": {},
   "source": [
    "## Bokeh Apps with `bokeh serve`\n",
    "\n",
    "It's also possible to define Bokeh applications by creating a standard Python script. In this case, there is no need to make a function like `modify_doc`. Typically, the script should simply create all the Bokeh content, then add it to the doc with a line like\n",
    "```python\n",
    "curdoc().add_root(layout)\n",
    "```\n",
    "\n",
    "To try out the example below, copy the code into a file ``hello.py`` and then execute:\n",
    "```bash\n",
    "bokeh serve --show hello.py \n",
    "```\n",
    "\n",
    "<center><div style=\"font-size: 14pt;color: firebrick;\"> NOTE: The exercise below require work outside the notebook <div></center>"
   ]
  },
  {
   "cell_type": "markdown",
   "id": "03d5567c",
   "metadata": {},
   "source": [
    "```python\n",
    "# hello.py \n",
    "\n",
    "from bokeh.io import curdoc\n",
    "from bokeh.layouts import column\n",
    "from bokeh.models.widgets import TextInput, Button, Paragraph\n",
    "\n",
    "# create some widgets\n",
    "button = Button(label=\"Say HI\")\n",
    "input = TextInput(value=\"Bokeh\")\n",
    "output = Paragraph()\n",
    "\n",
    "# add a callback to a widget\n",
    "def update():\n",
    "    output.text = \"Hello, \" + input.value\n",
    "button.on_click(update)\n",
    "\n",
    "# create a layout for everything\n",
    "layout = column(button, input, output)\n",
    "\n",
    "# add the layout to curdoc\n",
    "curdoc().add_root(layout)\n",
    "```"
   ]
  },
  {
   "cell_type": "markdown",
   "id": "f425c7f8",
   "metadata": {},
   "source": [
    "Copy this code to a script `hello.py` and run it with the Bokeh server."
   ]
  },
  {
   "cell_type": "markdown",
   "id": "7f6661ab",
   "metadata": {},
   "source": [
    "## Linking Plots and Widgets\n",
    "\n",
    "Lets take a look at a more involved example that links several widgets to a plot. "
   ]
  },
  {
   "cell_type": "code",
   "execution_count": null,
   "id": "57a24921",
   "metadata": {},
   "outputs": [],
   "source": [
    "from numpy.random import random\n",
    "\n",
    "from bokeh.layouts import column, row\n",
    "from bokeh.plotting import figure\n",
    "from bokeh.models import ColumnDataSource, Select, TextInput\n",
    "\n",
    "def get_data(N):\n",
    "    return dict(x=random(size=N), y=random(size=N), r=random(size=N) * 0.03)\n",
    "\n",
    "COLORS = [\"black\", \"firebrick\", \"navy\", \"olive\", \"goldenrod\"]\n",
    "\n",
    "def modify_doc(doc):\n",
    "    source = ColumnDataSource(data=get_data(200))\n",
    "\n",
    "    p = figure(tools=\"\", toolbar_location=None)\n",
    "    r = p.circle(x='x', y='y', radius='r', source=source,\n",
    "                 color=\"navy\", alpha=0.6, line_color=\"white\")\n",
    "\n",
    "    \n",
    "    select = Select(title=\"Color\", value=\"navy\", options=COLORS)\n",
    "    input = TextInput(title=\"Number of points\", value=\"200\")\n",
    "\n",
    "    def update_color(attrname, old, new):\n",
    "        r.glyph.fill_color = select.value\n",
    "    select.on_change('value', update_color)\n",
    "\n",
    "    def update_points(attrname, old, new):\n",
    "        N = int(input.value)\n",
    "        source.data = get_data(N)\n",
    "    input.on_change('value', update_points)\n",
    "\n",
    "    layout = column(row(select, input, width=400), row(p))\n",
    "\n",
    "    doc.add_root(layout)\n",
    "\n",
    "show(modify_doc)"
   ]
  },
  {
   "cell_type": "code",
   "execution_count": null,
   "id": "45dca46f",
   "metadata": {},
   "outputs": [],
   "source": [
    "# EXERCISE: add more widgets to change more aspects of this plot\n"
   ]
  },
  {
   "cell_type": "markdown",
   "id": "fc64e9fb",
   "metadata": {},
   "source": [
    "# Streaming Data\n",
    "\n",
    "It is possible to efficiently stream new data to column data sources by using the ``stream`` method. This method accepts two argmuments:\n",
    "* ``new_data`` &mdash; a dictionary with the same structure as the column data source\n",
    "* ``rollover`` &mdash; a maximum column length on the client (earlier data is dropped) *[optional]*\n",
    "\n",
    "If no ``rollover`` is specified, data is never dropped on the client and columns grow without bound.\n",
    "\n",
    "It is often useful to use periodic callbacks in conjuction with streaming data The ``add_periodic_callback`` method of ``curdoc()`` accepts a callback function, and a time interval (in ms) to repeatedly execute the callback. \n"
   ]
  },
  {
   "cell_type": "code",
   "execution_count": null,
   "id": "fb668d43",
   "metadata": {},
   "outputs": [],
   "source": [
    "from math import cos, sin\n",
    "\n",
    "from bokeh.models import ColumnDataSource\n",
    "\n",
    "def modify_doc(doc):\n",
    "    p = figure(match_aspect=True)\n",
    "    p.circle(x=0, y=0, radius=1, fill_color=None, line_width=2)\n",
    "    \n",
    "    # this is just to help the auto-datarange\n",
    "    p.rect(0, 0, 2, 2, alpha=0)\n",
    "\n",
    "    # this is the data source we will stream to\n",
    "    source = ColumnDataSource(data=dict(x=[1], y=[0]))\n",
    "    p.circle(x='x', y='y', size=12, fill_color='white', source=source)\n",
    "\n",
    "    def update():\n",
    "        x, y = source.data['x'][-1], source.data['y'][-1]\n",
    "\n",
    "        # construct the new values for all columns, and pass to stream\n",
    "        new_data = dict(x=[x*cos(0.1) - y*sin(0.1)], y=[x*sin(0.1) + y*cos(0.1)])\n",
    "        source.stream(new_data, rollover=8)\n",
    "\n",
    "    doc.add_periodic_callback(update, 150)\n",
    "    doc.add_root(p)\n",
    "    \n",
    "show(modify_doc)"
   ]
  },
  {
   "cell_type": "code",
   "execution_count": null,
   "id": "ab4ee5c0",
   "metadata": {},
   "outputs": [],
   "source": [
    "### EXERCISE: starting with the above example, create your own streaming plot\n"
   ]
  },
  {
   "cell_type": "markdown",
   "id": "cbbf2b13",
   "metadata": {},
   "source": [
    "Bokeh column data sources also support a `patch` method that can be used to efficiently update subsets of data."
   ]
  },
  {
   "cell_type": "markdown",
   "id": "8ed899f5",
   "metadata": {},
   "source": [
    "## Directory Format Apps and Templates\n",
    "\n",
    "Bokeh apps can also be defined with a directory format. This format affords the use of extra modules, data files, templates, theme files, and other features. The directory should contain a `main.py` which is the \"entry point\" for the app, but may contain extra parts:\n",
    "```\n",
    "myapp\n",
    "   |\n",
    "   +---main.py\n",
    "   +---server_lifecycle.py\n",
    "   +---static\n",
    "   +---theme.yaml\n",
    "   +---templates\n",
    "        +---index.html\n",
    "```\n",
    "The [Directory Format](https://bokeh.pydata.org/en/latest/docs/user_guide/server.html#directory-format) section of the User's Guide has more information. \n",
    "\n",
    "See a complete sophisticated example at: https://github.com/bokeh/bokeh/tree/master/examples/app/dash\n",
    "\n",
    "<img src=\"https://static.bokeh.org/dash.png\">"
   ]
  },
  {
   "cell_type": "markdown",
   "id": "110692d5",
   "metadata": {},
   "source": [
    "## Tips and Tricks\n",
    "\n",
    "   \n",
    "* Real Python callbacks *require* a Bokeh server application. They cannot work with `output_file`, `components` or other functions that generate standalone output. Standalone content can only use `CustomJS` callbacks. \n",
    "\n",
    "\n",
    "* Try to update data sources \"all at once\" whenever possible, i.e. prefer this:\n",
    "    ```python\n",
    "    source.data = new_data_dict  # GOOD\n",
    "    ```\n",
    "    rather then updating individual columns sequentially:\n",
    "    ```python\n",
    "    # LESS GOOD\n",
    "    source.data['foo'] = new_foo_column\n",
    "    source.data['bar'] = new_bar_column \n",
    "    ```\n",
    "    If the new columns are exactly the same length as the old ones, then updating sequentially will trigger extra updates and may result in bad visual effects. \n",
    "    If the new columns are a different length than the old ones, then updating \"all at once\" is **mandatory**.\n",
    "   \n",
    "\n",
    "* Each time a session is started, the Bokeh server runs the script (or `modify_doc`) function, and the code that is run ***must return completely new Bokeh objects every time***. It is not possible to share Bokeh objects between sessions. As a concrete example, this is what NOT to do:\n",
    "    ```python\n",
    "    source = ColumnDataSource(data)  # VERY BAD - global outside modify_doc\n",
    "    \n",
    "    def modify_doc(doc):\n",
    "        p = figure()\n",
    "        p.circle('x', 'y', source=source)\n",
    "        doc.add_root(p)\n",
    "    \n",
    "    ```\n",
    "    The analogous situation would occur with a script if the script imports a global Bokeh object from a separate module (due to the way Python caches imports)."
   ]
  },
  {
   "cell_type": "markdown",
   "id": "b591c4ab",
   "metadata": {},
   "source": [
    "# Next Section"
   ]
  },
  {
   "cell_type": "markdown",
   "id": "cb62139b",
   "metadata": {},
   "source": [
    "This is the last section of the main tutorial. To explore some extra topics, see the appendices:\n",
    "\n",
    "[A1 - Models and Primitives](A1%20-%20Models%20and%20Primitives.ipynb)<br />\n",
    "[A2 - Visualizing Big Data with Datashader](A2%20-%20Visualizing%20Big%20Data%20with%20Datashader.ipynb)<br />\n",
    "[A3 - High-Level Charting with Holoviews](A3%20-%20High-Level%20Charting%20with%20Holoviews.ipynb)<br />\n",
    "[A4 - Additional Resources](A4%20-%20Additional%20Resources.ipynb)\n",
    "\n",
    "To go back to the overview, click [here](00%20-%20Introduction%20and%20Setup.ipynb)."
   ]
  },
  {
   "cell_type": "code",
   "execution_count": null,
   "id": "3f4d4122",
   "metadata": {},
   "outputs": [],
   "source": []
  }
 ],
 "metadata": {},
 "nbformat": 4,
 "nbformat_minor": 5
}
