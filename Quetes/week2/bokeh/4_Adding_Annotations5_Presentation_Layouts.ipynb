{
 "cells": [
  {
   "cell_type": "markdown",
   "id": "225a2569",
   "metadata": {},
   "source": [
    "<table style=\"float:left; border:none\">\n",
    "   <tr style=\"border:none\">\n",
    "       <td style=\"border:none\">\n",
    "           <a href=\"https://bokeh.org/\">     \n",
    "           <img \n",
    "               src=\"assets/bokeh-transparent.png\" \n",
    "               style=\"width:50px\"\n",
    "           >\n",
    "           </a>    \n",
    "       </td>\n",
    "       <td style=\"border:none\">\n",
    "           <h1>Bokeh Tutorial</h1>\n",
    "       </td>\n",
    "   </tr>\n",
    "</table>\n",
    "\n",
    "<div style=\"float:right;\"><h2>04. Adding Annotations</h2></div>"
   ]
  },
  {
   "cell_type": "code",
   "execution_count": null,
   "id": "6e41e120",
   "metadata": {},
   "outputs": [],
   "source": [
    "from bokeh.io import output_notebook, show\n",
    "from bokeh.plotting import figure"
   ]
  },
  {
   "cell_type": "code",
   "execution_count": null,
   "id": "6ff03448",
   "metadata": {},
   "outputs": [],
   "source": [
    "output_notebook()"
   ]
  },
  {
   "cell_type": "markdown",
   "id": "43ab11f9",
   "metadata": {},
   "source": [
    "# Overview\n",
    "\n",
    "Sometimes we want to add visual cues (boundary lines, shaded regions, labels and arrows, etc.) to our plots to call out some feature or other. Bokeh has several annotation types available for uses like this. Typically to add annotations we create the \"low level\" annotation object directly, and add it to our plot using `add_layout`. Let's take a look at some specific examples."
   ]
  },
  {
   "cell_type": "markdown",
   "id": "18097b11",
   "metadata": {},
   "source": [
    "## Spans\n",
    "\n",
    "`Spans` are \"infinite\" vertical or horizonal lines. When creating them, you specify the `dimension` that should be spanned (i.e., `width` or `height`), any visual line properties for the appearance, and the location along the dimension where the line should be drawn. Let's look at an example that adds two horizontal spans to a simple plot:"
   ]
  },
  {
   "cell_type": "code",
   "execution_count": null,
   "id": "2ff4b320",
   "metadata": {},
   "outputs": [],
   "source": [
    "import numpy as np\n",
    "from bokeh.models import Span\n",
    "\n",
    "x = np.linspace(0, 20, 200)\n",
    "y = np.sin(x)\n",
    "\n",
    "p = figure(y_range=(-2, 2))\n",
    "p.line(x, y)\n",
    "\n",
    "upper = Span(location=1, dimension='width', line_color='olive', line_width=4)\n",
    "p.add_layout(upper)\n",
    "\n",
    "lower = Span(location=-1, dimension='width', line_color='firebrick', line_width=4)\n",
    "p.add_layout(lower)\n",
    "\n",
    "show(p)"
   ]
  },
  {
   "cell_type": "code",
   "execution_count": null,
   "id": "0804939d",
   "metadata": {},
   "outputs": [],
   "source": [
    "# Exercise: experiment with Span\n"
   ]
  },
  {
   "cell_type": "markdown",
   "id": "15e0de92",
   "metadata": {},
   "source": [
    "## Box Annotations\n",
    "\n",
    "Sometimes you might want to call out some region of the plot by drawing a shaded box. This can be done with the `BoxAnnotation`, which is configured with the coordinate properties:\n",
    "* `top`\n",
    "* `left`\n",
    "* `bottom`\n",
    "* `right`\n",
    "\n",
    "as well as any visual line or fill properties to control the appearance. \n",
    "\n",
    "\"Infinite\" boxes can be made by leaving any of the coordinates unspecified. E.g., if `top` is not given, the box will always extend to the top of the plot area, regardless of any panning or zooming that happens.\n",
    "\n",
    "Let's take a look at an example that adds a few shaded boxes to a plot:"
   ]
  },
  {
   "cell_type": "code",
   "execution_count": null,
   "id": "44d23b71",
   "metadata": {},
   "outputs": [],
   "source": [
    "import numpy as np\n",
    "from bokeh.models import BoxAnnotation\n",
    "\n",
    "x = np.linspace(0, 20, 200)\n",
    "y = np.sin(x)\n",
    "\n",
    "p = figure(y_range=(-2, 2))\n",
    "p.line(x, y)\n",
    "\n",
    "# region that always fills the top of the plot\n",
    "upper = BoxAnnotation(bottom=1, fill_alpha=0.1, fill_color='olive')\n",
    "p.add_layout(upper)\n",
    "\n",
    "# region that always fills the bottom of the plot\n",
    "lower = BoxAnnotation(top=-1, fill_alpha=0.1, fill_color='firebrick')\n",
    "p.add_layout(lower)\n",
    "\n",
    "# a finite region\n",
    "center = BoxAnnotation(top=0.6, bottom=-0.3, left=7, right=12, fill_alpha=0.1, fill_color='navy')\n",
    "p.add_layout(center)\n",
    "\n",
    "show(p)"
   ]
  },
  {
   "cell_type": "code",
   "execution_count": null,
   "id": "daf65826",
   "metadata": {},
   "outputs": [],
   "source": [
    "# Exercise: experiment with BoxAnnotation\n"
   ]
  },
  {
   "cell_type": "markdown",
   "id": "4f7e7719",
   "metadata": {},
   "source": [
    "## Label\n",
    "\n",
    "The `Label` annotation allows you to easily attach single text labels to plots. The position and text to display are configured as `x`, `y`, and `text`:\n",
    "\n",
    "```python\n",
    "Label(x=10, y=5, text=\"Some Label\")\n",
    "```\n",
    "\n",
    "By default the units are in \"data space\" but `x_units` and `y_units` maybe set to `\"screen\"` to position the label relative to the canvas. Labels can also accept `x_offset` and `y_offset` to offset the final position from `x` and `y` by a given screen space distance. \n",
    "\n",
    "`Label` objects also have standard text, line (`border_line`) and fill (`background_fill`) properties. The line and fill properties apply to a bounding box around the text:\n",
    "\n",
    "```python\n",
    "Label(x=10, y=5, text=\"Some Label\", text_font_size=\"12pt\", \n",
    "      border_line_color=\"red\", background_fill_color=\"blue\")\n",
    "```"
   ]
  },
  {
   "cell_type": "code",
   "execution_count": null,
   "id": "b041804a",
   "metadata": {},
   "outputs": [],
   "source": [
    "from bokeh.models.annotations import Label\n",
    "from bokeh.plotting import figure\n",
    "\n",
    "p = figure(x_range=(0,10), y_range=(0,10))\n",
    "p.circle([2, 5, 8], [4, 7, 6], color=\"olive\", size=10)\n",
    "\n",
    "label = Label(x=5, y=7, x_offset=12, text=\"Second Point\", text_baseline=\"middle\")\n",
    "p.add_layout(label)\n",
    "\n",
    "show(p)"
   ]
  },
  {
   "cell_type": "code",
   "execution_count": null,
   "id": "42e3e01e",
   "metadata": {},
   "outputs": [],
   "source": [
    "# EXERCISE: experiment with Label\n"
   ]
  },
  {
   "cell_type": "markdown",
   "id": "951157fa",
   "metadata": {},
   "source": [
    "## LabelSet\n",
    "\n",
    "The `LabelSet` annotation allows you to create many labels at once, for instance if you want to label an entire set of scatter markers. They are similar to `Label`, but they can also \n",
    "accept a `ColumnDataSource` as the `source` property, and then `x` and `y` may refer to columns in the data source, e.g. `x=\"col2\"` (but may also still be fixed values, e.g. `x=10`)."
   ]
  },
  {
   "cell_type": "code",
   "execution_count": null,
   "id": "82b0aa58",
   "metadata": {},
   "outputs": [],
   "source": [
    "from bokeh.plotting import figure\n",
    "from bokeh.models import ColumnDataSource, LabelSet\n",
    "\n",
    "\n",
    "source = ColumnDataSource(data=dict(\n",
    "    temp=[166, 171, 172, 168, 174, 162],\n",
    "    pressure=[165, 189, 220, 141, 260, 174],\n",
    "    names=['A', 'B', 'C', 'D', 'E', 'F']))\n",
    "\n",
    "p = figure(x_range=(160, 175))\n",
    "p.scatter(x='temp', y='pressure', size=8, source=source)\n",
    "p.xaxis.axis_label = 'Temperature (C)'\n",
    "p.yaxis.axis_label = 'Pressure (lbs)'\n",
    "\n",
    "labels = LabelSet(x='temp', y='pressure', text='names', level='glyph',\n",
    "                  x_offset=5, y_offset=5, source=source)\n",
    "\n",
    "\n",
    "p.add_layout(labels)\n",
    "\n",
    "show(p)"
   ]
  },
  {
   "cell_type": "code",
   "execution_count": null,
   "id": "784c48c9",
   "metadata": {},
   "outputs": [],
   "source": [
    "# EXERCISE: experiment with LabelSet\n"
   ]
  },
  {
   "cell_type": "markdown",
   "id": "0a215818",
   "metadata": {},
   "source": [
    "## Arrows\n",
    "\n",
    "The `Arrow` annotation allows you to \"point\" at different things on your plot, and can be especially useful in conjuction with labels. \n",
    "\n",
    "For example, to create an arrow that points from `(0,0)` to `(1,1)`:\n",
    "\n",
    "```python\n",
    "p.add_layout(Arrow(x_start=0, y_start=0, x_end=1, y_end=0))\n",
    "```\n",
    "\n",
    "This arrow will have the default [`OpenHead`](https://bokeh.pydata.org/en/latest/docs/reference/models/arrow_heads.html#bokeh.models.arrow_heads.OpenHead) arrow head at the end of the arrow. Other kinds of arrow heads include [`NormalHead`](https://bokeh.pydata.org/en/latest/docs/reference/models/arrow_heads.html#bokeh.models.arrow_heads.NormalHead) and [`VeeHead`](https://bokeh.pydata.org/en/latest/docs/reference/models/arrow_heads.html#bokeh.models.arrow_heads.VeeHead). The arrow head type can be controlled by setting the `start` and `end` properties of `Arrow` objects:\n",
    "\n",
    "```python\n",
    "p.add_layout(Arrow(start=OpenHead(), end=VeeHead(), \n",
    "             x_start=0, y_start=0, x_end=1, y_end=0))\n",
    "```\n",
    "\n",
    "This will create a double-ended arrow with an \"open\" head at the start, and a \"vee\" head at the end. Arrowheads have the standard set of line and fill properties to control their appearance. As an example\n",
    "\n",
    "```python\n",
    "OpenHead(line_color=\"firebrick\", line_width=4)\n",
    "```\n",
    "\n",
    "The code and plot below shows several of these configurations together."
   ]
  },
  {
   "cell_type": "code",
   "execution_count": null,
   "id": "6d1552f6",
   "metadata": {},
   "outputs": [],
   "source": [
    "from bokeh.models.annotations import Arrow, OpenHead, NormalHead, VeeHead\n",
    "\n",
    "p = figure(width=600, height=600)\n",
    "\n",
    "p.circle(x=[0, 1, 0.5], y=[0, 0, 0.7], radius=0.1,\n",
    "         color=[\"navy\", \"yellow\", \"red\"], fill_alpha=0.1)\n",
    "\n",
    "p.add_layout(Arrow(end=OpenHead(line_color=\"firebrick\", line_width=4),\n",
    "                   x_start=0, y_start=0, x_end=1, y_end=0))\n",
    "\n",
    "p.add_layout(Arrow(end=NormalHead(fill_color=\"orange\"),\n",
    "                   x_start=1, y_start=0, x_end=0.5, y_end=0.7))\n",
    "\n",
    "p.add_layout(Arrow(end=VeeHead(size=35), line_color=\"red\",\n",
    "                   x_start=0.5, y_start=0.7, x_end=0, y_end=0))\n",
    "\n",
    "show(p)"
   ]
  },
  {
   "cell_type": "code",
   "execution_count": null,
   "id": "01c99b6a",
   "metadata": {},
   "outputs": [],
   "source": [
    "# EXERCISE: experiment with arrows and arrow heads\n"
   ]
  },
  {
   "cell_type": "markdown",
   "id": "c1b4886e",
   "metadata": {},
   "source": [
    "## Legends\n",
    "\n",
    "When plots have multiple glyphs, it is desirable to include a legend to help users interpret what they see. Bokeh can generate legends easily based on the glyphs that are added. "
   ]
  },
  {
   "cell_type": "markdown",
   "id": "7963f893",
   "metadata": {},
   "source": [
    "### Simple Legends\n",
    "\n",
    "In the simplest case, you can simply pass a string as the `legend_label` argument to a glyph function:\n",
    "```python\n",
    "p.circle(x, y, legend_label=\"sin(x)\")\n",
    "``` \n",
    "In this case Bokeh will automatically create a legend that shows a representation of that glyph, labeled by the test you provided. A full example is below."
   ]
  },
  {
   "cell_type": "code",
   "execution_count": null,
   "id": "b4a47c61",
   "metadata": {},
   "outputs": [],
   "source": [
    "import numpy as np\n",
    "\n",
    "x = np.linspace(0, 4*np.pi, 100)\n",
    "y = np.sin(x)\n",
    "\n",
    "p = figure(height=400)\n",
    "\n",
    "p.circle(x, y, legend_label=\"sin(x)\")\n",
    "p.line(x, 2*y, legend_label=\"2*sin(x)\", line_dash=[4, 4], line_color=\"orange\", line_width=2)\n",
    "\n",
    "show(p)"
   ]
  },
  {
   "cell_type": "markdown",
   "id": "cb0f0161",
   "metadata": {},
   "source": [
    "### Compound legends\n",
    "\n",
    "In the example above, we provided a different legend label to each glyph method. Sometimes, two (or more) different glyphs are used with a single data source. In this case, you can make compound legends by specifying the same legend argument to multiple glyph methods when creating a plot, for example, if you plot a `sin` curve with both a line and a marker, you may give them the same label to cause them to show up together in the legend:\n",
    "\n",
    "```python\n",
    "p.circle(x, y, legend_label=\"sin(x)\")\n",
    "p.line(x, y, legend_label=\"sin(x)\", line_dash=[4, 4], line_color=\"orange\", line_width=2)\n",
    "```\n"
   ]
  },
  {
   "cell_type": "code",
   "execution_count": null,
   "id": "a820e600",
   "metadata": {},
   "outputs": [],
   "source": [
    "# EXERCISE:  \n",
    "# (1) Making a compound legend \n",
    "# (2) Position the legend using p.legend.location.  Possible values are listed at:\n",
    "#     https://bokeh.pydata.org/en/latest/docs/reference/core/enums.html#bokeh.core.enums.Anchor\n",
    "\n"
   ]
  },
  {
   "cell_type": "markdown",
   "id": "228cf577",
   "metadata": {},
   "source": [
    "## Color bars\n",
    "\n",
    "Color bars are especially useful if we vary the color of a glyph according to some color mapping. Bokeh color bars are configured with a color mapper and added to plots with the `add_layout` method:\n",
    "```python\n",
    "color_mapper = LinearColorMapper(palette=\"Viridis256\", low=data_low, high=data_high)\n",
    "color_bar = ColorBar(color_mapper=color_mapper, location=(0,0))\n",
    "p.add_layout(color_bar, 'right')\n",
    "```\n",
    "The example below shows a complete example that also uses the color mapper to transform the glyph color."
   ]
  },
  {
   "cell_type": "code",
   "execution_count": null,
   "id": "4ef01575",
   "metadata": {},
   "outputs": [],
   "source": [
    "from bokeh.sampledata.autompg import autompg\n",
    "from bokeh.models import LinearColorMapper, ColorBar\n",
    "from bokeh.transform import transform\n",
    "\n",
    "source = ColumnDataSource(autompg)\n",
    "color_mapper = LinearColorMapper(palette=\"Viridis256\", low=autompg.weight.min(), high=autompg.weight.max())\n",
    "\n",
    "p = figure(x_axis_label='Horsepower', y_axis_label='MPG', tools='', toolbar_location=None)\n",
    "p.circle(x='hp', y='mpg', color=transform('weight', color_mapper), size=20, alpha=0.6, source=autompg)\n",
    "\n",
    "color_bar = ColorBar(color_mapper=color_mapper, label_standoff=12, location=(0,0), title='Weight')\n",
    "p.add_layout(color_bar, 'right')\n",
    "\n",
    "show(p)"
   ]
  },
  {
   "cell_type": "code",
   "execution_count": null,
   "id": "f7aaebe1",
   "metadata": {},
   "outputs": [],
   "source": [
    "# Exercise: Experiment with Colorbar\n"
   ]
  },
  {
   "cell_type": "markdown",
   "id": "076c6a30",
   "metadata": {},
   "source": [
    "# Next Section"
   ]
  },
  {
   "cell_type": "markdown",
   "id": "e2fdd4f7",
   "metadata": {},
   "source": [
    "Click on this link to go to the next notebook: [05 - Presentation and Layouts](05%20-%20Presentation%20Layouts.ipynb).\n",
    "\n",
    "To go back to the overview, click [here](00%20-%20Introduction%20and%20Setup.ipynb)."
   ]
  },
  {
   "cell_type": "code",
   "execution_count": null,
   "id": "d5fc8bc9",
   "metadata": {},
   "outputs": [],
   "source": []
  },
  {
   "cell_type": "markdown",
   "id": "578218ee",
   "metadata": {},
   "source": [
    "<table style=\"float:left; border:none\">\n",
    "   <tr style=\"border:none\">\n",
    "       <td style=\"border:none\">\n",
    "           <a href=\"https://bokeh.org/\">     \n",
    "           <img \n",
    "               src=\"assets/bokeh-transparent.png\" \n",
    "               style=\"width:50px\"\n",
    "           >\n",
    "           </a>    \n",
    "       </td>\n",
    "       <td style=\"border:none\">\n",
    "           <h1>Bokeh Tutorial</h1>\n",
    "       </td>\n",
    "   </tr>\n",
    "</table>\n",
    "\n",
    "<div style=\"float:right;\"><h2>05. Presentation and Layout</h2></div>"
   ]
  },
  {
   "cell_type": "code",
   "execution_count": null,
   "id": "e9cc70bd",
   "metadata": {},
   "outputs": [],
   "source": [
    "from bokeh.io import output_notebook, show\n",
    "from bokeh.plotting import figure\n",
    "\n",
    "output_notebook()"
   ]
  },
  {
   "cell_type": "markdown",
   "id": "7ffc938b",
   "metadata": {},
   "source": [
    "In the previous chapters we started to learn how to create single plots using differnet kinds of data. But we often want to plot more than one thing. Bokeh plots can be individually embedded in HTML documents, but it's often easier to\n",
    "combine multiple plots in one of Bokeh's built-in layouts. We will learn how to do that in this chapter\n",
    "\n",
    "The cell below defines a few data variables we will use in examples."
   ]
  },
  {
   "cell_type": "code",
   "execution_count": null,
   "id": "d7e039c4",
   "metadata": {},
   "outputs": [],
   "source": [
    "x = list(range(11))\n",
    "y0, y1, y2 = x, [10-i for i in x], [abs(i-5) for i in x]"
   ]
  },
  {
   "cell_type": "markdown",
   "id": "97242ab1",
   "metadata": {},
   "source": [
    "# Rows and Columns\n",
    "The `bokeh.layouts` modules provides the ``row`` and ``column`` functions to arrange plot objects in vertical or horizontal layouts. Below is an example of three plots arranged in a row."
   ]
  },
  {
   "cell_type": "code",
   "execution_count": null,
   "id": "536507c8",
   "metadata": {},
   "outputs": [],
   "source": [
    "from bokeh.layouts import row\n",
    "\n",
    "# create a new plot\n",
    "s1 = figure(width=250, height=250)\n",
    "s1.circle(x, y0, size=10, color=\"navy\", alpha=0.5)\n",
    "\n",
    "# create another one\n",
    "s2 = figure(width=250, height=250)\n",
    "s2.triangle(x, y1, size=10, color=\"firebrick\", alpha=0.5)\n",
    "\n",
    "# create and another\n",
    "s3 = figure(width=250, height=250)\n",
    "s3.square(x, y2, size=10, color=\"olive\", alpha=0.5)\n",
    "\n",
    "# show the results in a row\n",
    "show(row(s1, s2, s3))"
   ]
  },
  {
   "cell_type": "code",
   "execution_count": null,
   "id": "5d3eabe4",
   "metadata": {},
   "outputs": [],
   "source": [
    "# EXERCISE: use column to arrange a few plots vertically (don't forget to import column)\n"
   ]
  },
  {
   "cell_type": "markdown",
   "id": "057267c2",
   "metadata": {},
   "source": [
    "# Grid plots\n",
    "\n",
    "Bokeh also provides a `gridplot` layout in `bokeh.layouts` for arranging plots in a grid, as show in the example below."
   ]
  },
  {
   "cell_type": "code",
   "execution_count": null,
   "id": "0ff7f4b7",
   "metadata": {},
   "outputs": [],
   "source": [
    "from bokeh.layouts import gridplot\n",
    "\n",
    "# create a new plot\n",
    "s1 = figure(width=250, height=250)\n",
    "s1.circle(x, y0, size=10, color=\"navy\", alpha=0.5)\n",
    "\n",
    "# create another one\n",
    "s2 = figure(width=250, height=250)\n",
    "s2.triangle(x, y1, size=10, color=\"firebrick\", alpha=0.5)\n",
    "\n",
    "# create and another\n",
    "s3 = figure(width=250, height=250)\n",
    "s3.square(x, y2, size=10, color=\"olive\", alpha=0.5)\n",
    "\n",
    "# put all the plots in a gridplot\n",
    "p = gridplot([[s1, s2], [s3, None]], toolbar_location=None)\n",
    "\n",
    "# show the results\n",
    "show(p)"
   ]
  },
  {
   "cell_type": "code",
   "execution_count": null,
   "id": "d43e69f5",
   "metadata": {},
   "outputs": [],
   "source": [
    "# EXERCISE: create a gridplot of your own\n"
   ]
  },
  {
   "cell_type": "markdown",
   "id": "dd502016",
   "metadata": {},
   "source": [
    "# Next Section"
   ]
  },
  {
   "cell_type": "markdown",
   "id": "6d0c7202",
   "metadata": {},
   "source": [
    "Click on this link to go to the next notebook: [06 - Linking and Interactions](06%20-%20Linking%20and%20Interactions.ipynb).\n",
    "\n",
    "To go back to the overview, click [here](00%20-%20Introduction%20and%20Setup.ipynb)."
   ]
  },
  {
   "cell_type": "code",
   "execution_count": null,
   "id": "baa4c407",
   "metadata": {},
   "outputs": [],
   "source": []
  }
 ],
 "metadata": {},
 "nbformat": 4,
 "nbformat_minor": 5
}
