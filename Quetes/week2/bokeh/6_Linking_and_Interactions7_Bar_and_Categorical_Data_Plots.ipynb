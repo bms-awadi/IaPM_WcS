{
 "cells": [
  {
   "cell_type": "markdown",
   "id": "0eb4dc1c",
   "metadata": {
    "id": "dQIf7pfcowg-"
   },
   "source": [
    "<table style=\"float:left; border:none\">\n",
    "   <tr style=\"border:none\">\n",
    "       <td style=\"border:none\">\n",
    "           <a href=\"https://bokeh.org/\">     \n",
    "           <img\n",
    "               src=\"assets/bokeh-transparent.png\"\n",
    "               style=\"width:50px\"\n",
    "           >\n",
    "           </a>    \n",
    "       </td>\n",
    "       <td style=\"border:none\">\n",
    "           <h1>Bokeh Tutorial</h1>\n",
    "       </td>\n",
    "   </tr>\n",
    "</table>\n",
    "\n",
    "<div style=\"float:right;\"><h2>06. Linking and Interactions</h2></div>"
   ]
  },
  {
   "cell_type": "code",
   "execution_count": 1,
   "id": "8e930634",
   "metadata": {
    "id": "G-45lzA2owhG"
   },
   "outputs": [
    {
     "data": {
      "text/html": [
       "    <style>\n",
       "        .bk-notebook-logo {\n",
       "            display: block;\n",
       "            width: 20px;\n",
       "            height: 20px;\n",
       "            background-image: url(data:image/png;base64,iVBORw0KGgoAAAANSUhEUgAAABQAAAAUCAYAAACNiR0NAAAABHNCSVQICAgIfAhkiAAAAAlwSFlzAAALEgAACxIB0t1+/AAAABx0RVh0U29mdHdhcmUAQWRvYmUgRmlyZXdvcmtzIENTNui8sowAAAOkSURBVDiNjZRtaJVlGMd/1/08zzln5zjP1LWcU9N0NkN8m2CYjpgQYQXqSs0I84OLIC0hkEKoPtiH3gmKoiJDU7QpLgoLjLIQCpEsNJ1vqUOdO7ppbuec5+V+rj4ctwzd8IIbbi6u+8f1539dt3A78eXC7QizUF7gyV1fD1Yqg4JWz84yffhm0qkFqBogB9rM8tZdtwVsPUhWhGcFJngGeWrPzHm5oaMmkfEg1usvLFyc8jLRqDOMru7AyC8saQr7GG7f5fvDeH7Ej8CM66nIF+8yngt6HWaKh7k49Soy9nXurCi1o3qUbS3zWfrYeQDTB/Qj6kX6Ybhw4B+bOYoLKCC9H3Nu/leUTZ1JdRWkkn2ldcCamzrcf47KKXdAJllSlxAOkRgyHsGC/zRday5Qld9DyoM4/q/rUoy/CXh3jzOu3bHUVZeU+DEn8FInkPBFlu3+nW3Nw0mk6vCDiWg8CeJaxEwuHS3+z5RgY+YBR6V1Z1nxSOfoaPa4LASWxxdNp+VWTk7+4vzaou8v8PN+xo+KY2xsw6une2frhw05CTYOmQvsEhjhWjn0bmXPjpE1+kplmmkP3suftwTubK9Vq22qKmrBhpY4jvd5afdRA3wGjFAgcnTK2s4hY0/GPNIb0nErGMCRxWOOX64Z8RAC4oCXdklmEvcL8o0BfkNK4lUg9HTl+oPlQxdNo3Mg4Nv175e/1LDGzZen30MEjRUtmXSfiTVu1kK8W4txyV6BMKlbgk3lMwYCiusNy9fVfvvwMxv8Ynl6vxoByANLTWplvuj/nF9m2+PDtt1eiHPBr1oIfhCChQMBw6Aw0UulqTKZdfVvfG7VcfIqLG9bcldL/+pdWTLxLUy8Qq38heUIjh4XlzZxzQm19lLFlr8vdQ97rjZVOLf8nclzckbcD4wxXMidpX30sFd37Fv/GtwwhzhxGVAprjbg0gCAEeIgwCZyTV2Z1REEW8O4py0wsjeloKoMr6iCY6dP92H6Vw/oTyICIthibxjm/DfN9lVz8IqtqKYLUXfoKVMVQVVJOElGjrnnUt9T9wbgp8AyYKaGlqingHZU/uG2NTZSVqwHQTWkx9hxjkpWDaCg6Ckj5qebgBVbT3V3NNXMSiWSDdGV3hrtzla7J+duwPOToIg42ChPQOQjspnSlp1V+Gjdged7+8UN5CRAV7a5EdFNwCjEaBR27b3W890TE7g24NAP/mMDXRWrGoFPQI9ls/MWO2dWFAar/xcOIImbbpA3zgAAAABJRU5ErkJggg==);\n",
       "        }\n",
       "    </style>\n",
       "    <div>\n",
       "        <a href=\"https://bokeh.org\" target=\"_blank\" class=\"bk-notebook-logo\"></a>\n",
       "        <span id=\"b4427783-6c6e-455c-b939-b877e656311c\">Loading BokehJS ...</span>\n",
       "    </div>\n"
      ]
     },
     "metadata": {},
     "output_type": "display_data"
    },
    {
     "data": {
      "application/javascript": "'use strict';\n(function(root) {\n  function now() {\n    return new Date();\n  }\n\n  const force = true;\n\n  if (typeof root._bokeh_onload_callbacks === \"undefined\" || force === true) {\n    root._bokeh_onload_callbacks = [];\n    root._bokeh_is_loading = undefined;\n  }\n\nconst JS_MIME_TYPE = 'application/javascript';\n  const HTML_MIME_TYPE = 'text/html';\n  const EXEC_MIME_TYPE = 'application/vnd.bokehjs_exec.v0+json';\n  const CLASS_NAME = 'output_bokeh rendered_html';\n\n  /**\n   * Render data to the DOM node\n   */\n  function render(props, node) {\n    const script = document.createElement(\"script\");\n    node.appendChild(script);\n  }\n\n  /**\n   * Handle when an output is cleared or removed\n   */\n  function handleClearOutput(event, handle) {\n    function drop(id) {\n      const view = Bokeh.index.get_by_id(id)\n      if (view != null) {\n        view.model.document.clear()\n        Bokeh.index.delete(view)\n      }\n    }\n\n    const cell = handle.cell;\n\n    const id = cell.output_area._bokeh_element_id;\n    const server_id = cell.output_area._bokeh_server_id;\n\n    // Clean up Bokeh references\n    if (id != null) {\n      drop(id)\n    }\n\n    if (server_id !== undefined) {\n      // Clean up Bokeh references\n      const cmd_clean = \"from bokeh.io.state import curstate; print(curstate().uuid_to_server['\" + server_id + \"'].get_sessions()[0].document.roots[0]._id)\";\n      cell.notebook.kernel.execute(cmd_clean, {\n        iopub: {\n          output: function(msg) {\n            const id = msg.content.text.trim()\n            drop(id)\n          }\n        }\n      });\n      // Destroy server and session\n      const cmd_destroy = \"import bokeh.io.notebook as ion; ion.destroy_server('\" + server_id + \"')\";\n      cell.notebook.kernel.execute(cmd_destroy);\n    }\n  }\n\n  /**\n   * Handle when a new output is added\n   */\n  function handleAddOutput(event, handle) {\n    const output_area = handle.output_area;\n    const output = handle.output;\n\n    // limit handleAddOutput to display_data with EXEC_MIME_TYPE content only\n    if ((output.output_type != \"display_data\") || (!Object.prototype.hasOwnProperty.call(output.data, EXEC_MIME_TYPE))) {\n      return\n    }\n\n    const toinsert = output_area.element.find(\".\" + CLASS_NAME.split(' ')[0]);\n\n    if (output.metadata[EXEC_MIME_TYPE][\"id\"] !== undefined) {\n      toinsert[toinsert.length - 1].firstChild.textContent = output.data[JS_MIME_TYPE];\n      // store reference to embed id on output_area\n      output_area._bokeh_element_id = output.metadata[EXEC_MIME_TYPE][\"id\"];\n    }\n    if (output.metadata[EXEC_MIME_TYPE][\"server_id\"] !== undefined) {\n      const bk_div = document.createElement(\"div\");\n      bk_div.innerHTML = output.data[HTML_MIME_TYPE];\n      const script_attrs = bk_div.children[0].attributes;\n      for (let i = 0; i < script_attrs.length; i++) {\n        toinsert[toinsert.length - 1].firstChild.setAttribute(script_attrs[i].name, script_attrs[i].value);\n        toinsert[toinsert.length - 1].firstChild.textContent = bk_div.children[0].textContent\n      }\n      // store reference to server id on output_area\n      output_area._bokeh_server_id = output.metadata[EXEC_MIME_TYPE][\"server_id\"];\n    }\n  }\n\n  function register_renderer(events, OutputArea) {\n\n    function append_mime(data, metadata, element) {\n      // create a DOM node to render to\n      const toinsert = this.create_output_subarea(\n        metadata,\n        CLASS_NAME,\n        EXEC_MIME_TYPE\n      );\n      this.keyboard_manager.register_events(toinsert);\n      // Render to node\n      const props = {data: data, metadata: metadata[EXEC_MIME_TYPE]};\n      render(props, toinsert[toinsert.length - 1]);\n      element.append(toinsert);\n      return toinsert\n    }\n\n    /* Handle when an output is cleared or removed */\n    events.on('clear_output.CodeCell', handleClearOutput);\n    events.on('delete.Cell', handleClearOutput);\n\n    /* Handle when a new output is added */\n    events.on('output_added.OutputArea', handleAddOutput);\n\n    /**\n     * Register the mime type and append_mime function with output_area\n     */\n    OutputArea.prototype.register_mime_type(EXEC_MIME_TYPE, append_mime, {\n      /* Is output safe? */\n      safe: true,\n      /* Index of renderer in `output_area.display_order` */\n      index: 0\n    });\n  }\n\n  // register the mime type if in Jupyter Notebook environment and previously unregistered\n  if (root.Jupyter !== undefined) {\n    const events = require('base/js/events');\n    const OutputArea = require('notebook/js/outputarea').OutputArea;\n\n    if (OutputArea.prototype.mime_types().indexOf(EXEC_MIME_TYPE) == -1) {\n      register_renderer(events, OutputArea);\n    }\n  }\n  if (typeof (root._bokeh_timeout) === \"undefined\" || force === true) {\n    root._bokeh_timeout = Date.now() + 5000;\n    root._bokeh_failed_load = false;\n  }\n\n  const NB_LOAD_WARNING = {'data': {'text/html':\n     \"<div style='background-color: #fdd'>\\n\"+\n     \"<p>\\n\"+\n     \"BokehJS does not appear to have successfully loaded. If loading BokehJS from CDN, this \\n\"+\n     \"may be due to a slow or bad network connection. Possible fixes:\\n\"+\n     \"</p>\\n\"+\n     \"<ul>\\n\"+\n     \"<li>re-rerun `output_notebook()` to attempt to load from CDN again, or</li>\\n\"+\n     \"<li>use INLINE resources instead, as so:</li>\\n\"+\n     \"</ul>\\n\"+\n     \"<code>\\n\"+\n     \"from bokeh.resources import INLINE\\n\"+\n     \"output_notebook(resources=INLINE)\\n\"+\n     \"</code>\\n\"+\n     \"</div>\"}};\n\n  function display_loaded(error = null) {\n    const el = document.getElementById(\"b4427783-6c6e-455c-b939-b877e656311c\");\n    if (el != null) {\n      const html = (() => {\n        if (typeof root.Bokeh === \"undefined\") {\n          if (error == null) {\n            return \"BokehJS is loading ...\";\n          } else {\n            return \"BokehJS failed to load.\";\n          }\n        } else {\n          const prefix = `BokehJS ${root.Bokeh.version}`;\n          if (error == null) {\n            return `${prefix} successfully loaded.`;\n          } else {\n            return `${prefix} <b>encountered errors</b> while loading and may not function as expected.`;\n          }\n        }\n      })();\n      el.innerHTML = html;\n\n      if (error != null) {\n        const wrapper = document.createElement(\"div\");\n        wrapper.style.overflow = \"auto\";\n        wrapper.style.height = \"5em\";\n        wrapper.style.resize = \"vertical\";\n        const content = document.createElement(\"div\");\n        content.style.fontFamily = \"monospace\";\n        content.style.whiteSpace = \"pre-wrap\";\n        content.style.backgroundColor = \"rgb(255, 221, 221)\";\n        content.textContent = error.stack ?? error.toString();\n        wrapper.append(content);\n        el.append(wrapper);\n      }\n    } else if (Date.now() < root._bokeh_timeout) {\n      setTimeout(() => display_loaded(error), 100);\n    }\n  }\n\n  function run_callbacks() {\n    try {\n      root._bokeh_onload_callbacks.forEach(function(callback) {\n        if (callback != null)\n          callback();\n      });\n    } finally {\n      delete root._bokeh_onload_callbacks\n    }\n    console.debug(\"Bokeh: all callbacks have finished\");\n  }\n\n  function load_libs(css_urls, js_urls, callback) {\n    if (css_urls == null) css_urls = [];\n    if (js_urls == null) js_urls = [];\n\n    root._bokeh_onload_callbacks.push(callback);\n    if (root._bokeh_is_loading > 0) {\n      console.debug(\"Bokeh: BokehJS is being loaded, scheduling callback at\", now());\n      return null;\n    }\n    if (js_urls == null || js_urls.length === 0) {\n      run_callbacks();\n      return null;\n    }\n    console.debug(\"Bokeh: BokehJS not loaded, scheduling load and callback at\", now());\n    root._bokeh_is_loading = css_urls.length + js_urls.length;\n\n    function on_load() {\n      root._bokeh_is_loading--;\n      if (root._bokeh_is_loading === 0) {\n        console.debug(\"Bokeh: all BokehJS libraries/stylesheets loaded\");\n        run_callbacks()\n      }\n    }\n\n    function on_error(url) {\n      console.error(\"failed to load \" + url);\n    }\n\n    for (let i = 0; i < css_urls.length; i++) {\n      const url = css_urls[i];\n      const element = document.createElement(\"link\");\n      element.onload = on_load;\n      element.onerror = on_error.bind(null, url);\n      element.rel = \"stylesheet\";\n      element.type = \"text/css\";\n      element.href = url;\n      console.debug(\"Bokeh: injecting link tag for BokehJS stylesheet: \", url);\n      document.body.appendChild(element);\n    }\n\n    for (let i = 0; i < js_urls.length; i++) {\n      const url = js_urls[i];\n      const element = document.createElement('script');\n      element.onload = on_load;\n      element.onerror = on_error.bind(null, url);\n      element.async = false;\n      element.src = url;\n      console.debug(\"Bokeh: injecting script tag for BokehJS library: \", url);\n      document.head.appendChild(element);\n    }\n  };\n\n  function inject_raw_css(css) {\n    const element = document.createElement(\"style\");\n    element.appendChild(document.createTextNode(css));\n    document.body.appendChild(element);\n  }\n\n  const js_urls = [\"https://cdn.bokeh.org/bokeh/release/bokeh-3.6.1.min.js\", \"https://cdn.bokeh.org/bokeh/release/bokeh-gl-3.6.1.min.js\", \"https://cdn.bokeh.org/bokeh/release/bokeh-widgets-3.6.1.min.js\", \"https://cdn.bokeh.org/bokeh/release/bokeh-tables-3.6.1.min.js\", \"https://cdn.bokeh.org/bokeh/release/bokeh-mathjax-3.6.1.min.js\"];\n  const css_urls = [];\n\n  const inline_js = [    function(Bokeh) {\n      Bokeh.set_log_level(\"info\");\n    },\nfunction(Bokeh) {\n    }\n  ];\n\n  function run_inline_js() {\n    if (root.Bokeh !== undefined || force === true) {\n      try {\n            for (let i = 0; i < inline_js.length; i++) {\n      inline_js[i].call(root, root.Bokeh);\n    }\n\n      } catch (error) {display_loaded(error);throw error;\n      }if (force === true) {\n        display_loaded();\n      }} else if (Date.now() < root._bokeh_timeout) {\n      setTimeout(run_inline_js, 100);\n    } else if (!root._bokeh_failed_load) {\n      console.log(\"Bokeh: BokehJS failed to load within specified timeout.\");\n      root._bokeh_failed_load = true;\n    } else if (force !== true) {\n      const cell = $(document.getElementById(\"b4427783-6c6e-455c-b939-b877e656311c\")).parents('.cell').data().cell;\n      cell.output_area.append_execute_result(NB_LOAD_WARNING)\n    }\n  }\n\n  if (root._bokeh_is_loading === 0) {\n    console.debug(\"Bokeh: BokehJS loaded, going straight to plotting\");\n    run_inline_js();\n  } else {\n    load_libs(css_urls, js_urls, function() {\n      console.debug(\"Bokeh: BokehJS plotting callback run at\", now());\n      run_inline_js();\n    });\n  }\n}(window));",
      "application/vnd.bokehjs_load.v0+json": ""
     },
     "metadata": {},
     "output_type": "display_data"
    }
   ],
   "source": [
    "from bokeh.io import output_notebook, show\n",
    "from bokeh.plotting import figure\n",
    "output_notebook()"
   ]
  },
  {
   "cell_type": "markdown",
   "id": "12d4f0e1",
   "metadata": {
    "id": "Rh4D-oMaowhI"
   },
   "source": [
    "Now that we know from the previous chapter how multiple plots can be placed together in a layout, we can start to look at how different plots can be linked together, or how plots can be linked to widgets."
   ]
  },
  {
   "cell_type": "markdown",
   "id": "33b3ecee",
   "metadata": {
    "id": "fMErwCs0owhL"
   },
   "source": [
    "# Linked Interactions\n",
    "\n",
    "It is possible to link various interactions between different Bokeh plots. For instance, the ranges of two (or more) plots can be linked, so that when one of the plots is panned (or zoomed, or otherwise has its range changed) the other plots will update in unison. It is also possible to link selections between two plots, so that when items are selected on one plot, the corresponding items on the second plot also become selected."
   ]
  },
  {
   "cell_type": "markdown",
   "id": "c0b480bd",
   "metadata": {
    "id": "NQy4yGLVowhM"
   },
   "source": [
    "## Linked panning\n",
    "\n",
    "Linked panning (when multiple plots have ranges that stay in sync) is simple to spell with Bokeh. You simply share the appropriate range objects between two (or more) plots. The example below shows how to accomplish this by linking the ranges of three plots in various ways:"
   ]
  },
  {
   "cell_type": "code",
   "execution_count": 2,
   "id": "897981dd",
   "metadata": {
    "id": "p7ybw7UEowhN"
   },
   "outputs": [
    {
     "name": "stderr",
     "output_type": "stream",
     "text": [
      "BokehDeprecationWarning: 'circle() method with size value' was deprecated in Bokeh 3.4.0 and will be removed, use 'scatter(size=...) instead' instead.\n",
      "BokehDeprecationWarning: 'triangle() method' was deprecated in Bokeh 3.4.0 and will be removed, use \"scatter(marker='triangle', ...) instead\" instead.\n",
      "BokehDeprecationWarning: 'square() method' was deprecated in Bokeh 3.4.0 and will be removed, use \"scatter(marker='square', ...) instead\" instead.\n"
     ]
    },
    {
     "data": {
      "text/html": [
       "\n",
       "  <div id=\"db4b4b06-d014-4587-8472-ee4e96626593\" data-root-id=\"p1100\" style=\"display: contents;\"></div>\n"
      ]
     },
     "metadata": {},
     "output_type": "display_data"
    },
    {
     "data": {
      "application/javascript": "(function(root) {\n  function embed_document(root) {\n  const docs_json = {\"b225b70c-378d-4922-8a11-e7a6fe3ccd1e\":{\"version\":\"3.6.1\",\"title\":\"Bokeh Application\",\"roots\":[{\"type\":\"object\",\"name\":\"GridPlot\",\"id\":\"p1100\",\"attributes\":{\"rows\":null,\"cols\":null,\"toolbar\":{\"type\":\"object\",\"name\":\"Toolbar\",\"id\":\"p1099\",\"attributes\":{\"tools\":[{\"type\":\"object\",\"name\":\"ToolProxy\",\"id\":\"p1097\",\"attributes\":{\"tools\":[{\"type\":\"object\",\"name\":\"PanTool\",\"id\":\"p1022\"},{\"type\":\"object\",\"name\":\"PanTool\",\"id\":\"p1054\"},{\"type\":\"object\",\"name\":\"PanTool\",\"id\":\"p1086\"}]}},{\"type\":\"object\",\"name\":\"ToolProxy\",\"id\":\"p1098\",\"attributes\":{\"tools\":[{\"type\":\"object\",\"name\":\"WheelZoomTool\",\"id\":\"p1023\",\"attributes\":{\"renderers\":\"auto\"}},{\"type\":\"object\",\"name\":\"WheelZoomTool\",\"id\":\"p1055\",\"attributes\":{\"renderers\":\"auto\"}},{\"type\":\"object\",\"name\":\"WheelZoomTool\",\"id\":\"p1087\",\"attributes\":{\"renderers\":\"auto\"}}]}}]}},\"children\":[[{\"type\":\"object\",\"name\":\"Figure\",\"id\":\"p1001\",\"attributes\":{\"width\":250,\"height\":250,\"x_range\":{\"type\":\"object\",\"name\":\"DataRange1d\",\"id\":\"p1002\"},\"y_range\":{\"type\":\"object\",\"name\":\"DataRange1d\",\"id\":\"p1003\"},\"x_scale\":{\"type\":\"object\",\"name\":\"LinearScale\",\"id\":\"p1010\"},\"y_scale\":{\"type\":\"object\",\"name\":\"LinearScale\",\"id\":\"p1011\"},\"title\":{\"type\":\"object\",\"name\":\"Title\",\"id\":\"p1008\"},\"renderers\":[{\"type\":\"object\",\"name\":\"GlyphRenderer\",\"id\":\"p1030\",\"attributes\":{\"data_source\":{\"type\":\"object\",\"name\":\"ColumnDataSource\",\"id\":\"p1024\",\"attributes\":{\"selected\":{\"type\":\"object\",\"name\":\"Selection\",\"id\":\"p1025\",\"attributes\":{\"indices\":[],\"line_indices\":[]}},\"selection_policy\":{\"type\":\"object\",\"name\":\"UnionRenderers\",\"id\":\"p1026\"},\"data\":{\"type\":\"map\",\"entries\":[[\"x\",[0,1,2,3,4,5,6,7,8,9,10]],[\"y\",[0,1,2,3,4,5,6,7,8,9,10]]]}}},\"view\":{\"type\":\"object\",\"name\":\"CDSView\",\"id\":\"p1031\",\"attributes\":{\"filter\":{\"type\":\"object\",\"name\":\"AllIndices\",\"id\":\"p1032\"}}},\"glyph\":{\"type\":\"object\",\"name\":\"Scatter\",\"id\":\"p1027\",\"attributes\":{\"x\":{\"type\":\"field\",\"field\":\"x\"},\"y\":{\"type\":\"field\",\"field\":\"y\"},\"size\":{\"type\":\"value\",\"value\":10},\"line_color\":{\"type\":\"value\",\"value\":\"navy\"},\"fill_color\":{\"type\":\"value\",\"value\":\"navy\"},\"hatch_color\":{\"type\":\"value\",\"value\":\"navy\"}}},\"nonselection_glyph\":{\"type\":\"object\",\"name\":\"Scatter\",\"id\":\"p1028\",\"attributes\":{\"x\":{\"type\":\"field\",\"field\":\"x\"},\"y\":{\"type\":\"field\",\"field\":\"y\"},\"size\":{\"type\":\"value\",\"value\":10},\"line_color\":{\"type\":\"value\",\"value\":\"navy\"},\"line_alpha\":{\"type\":\"value\",\"value\":0.1},\"fill_color\":{\"type\":\"value\",\"value\":\"navy\"},\"fill_alpha\":{\"type\":\"value\",\"value\":0.1},\"hatch_color\":{\"type\":\"value\",\"value\":\"navy\"},\"hatch_alpha\":{\"type\":\"value\",\"value\":0.1}}},\"muted_glyph\":{\"type\":\"object\",\"name\":\"Scatter\",\"id\":\"p1029\",\"attributes\":{\"x\":{\"type\":\"field\",\"field\":\"x\"},\"y\":{\"type\":\"field\",\"field\":\"y\"},\"size\":{\"type\":\"value\",\"value\":10},\"line_color\":{\"type\":\"value\",\"value\":\"navy\"},\"line_alpha\":{\"type\":\"value\",\"value\":0.2},\"fill_color\":{\"type\":\"value\",\"value\":\"navy\"},\"fill_alpha\":{\"type\":\"value\",\"value\":0.2},\"hatch_color\":{\"type\":\"value\",\"value\":\"navy\"},\"hatch_alpha\":{\"type\":\"value\",\"value\":0.2}}}}}],\"toolbar\":{\"type\":\"object\",\"name\":\"Toolbar\",\"id\":\"p1009\",\"attributes\":{\"tools\":[{\"id\":\"p1022\"},{\"id\":\"p1023\"}]}},\"toolbar_location\":null,\"left\":[{\"type\":\"object\",\"name\":\"LinearAxis\",\"id\":\"p1017\",\"attributes\":{\"ticker\":{\"type\":\"object\",\"name\":\"BasicTicker\",\"id\":\"p1018\",\"attributes\":{\"mantissas\":[1,2,5]}},\"formatter\":{\"type\":\"object\",\"name\":\"BasicTickFormatter\",\"id\":\"p1019\"},\"major_label_policy\":{\"type\":\"object\",\"name\":\"AllLabels\",\"id\":\"p1020\"}}}],\"below\":[{\"type\":\"object\",\"name\":\"LinearAxis\",\"id\":\"p1012\",\"attributes\":{\"ticker\":{\"type\":\"object\",\"name\":\"BasicTicker\",\"id\":\"p1013\",\"attributes\":{\"mantissas\":[1,2,5]}},\"formatter\":{\"type\":\"object\",\"name\":\"BasicTickFormatter\",\"id\":\"p1014\"},\"major_label_policy\":{\"type\":\"object\",\"name\":\"AllLabels\",\"id\":\"p1015\"}}}],\"center\":[{\"type\":\"object\",\"name\":\"Grid\",\"id\":\"p1016\",\"attributes\":{\"axis\":{\"id\":\"p1012\"}}},{\"type\":\"object\",\"name\":\"Grid\",\"id\":\"p1021\",\"attributes\":{\"dimension\":1,\"axis\":{\"id\":\"p1017\"}}}]}},0,0],[{\"type\":\"object\",\"name\":\"Figure\",\"id\":\"p1033\",\"attributes\":{\"width\":250,\"height\":250,\"x_range\":{\"id\":\"p1002\"},\"y_range\":{\"id\":\"p1003\"},\"x_scale\":{\"type\":\"object\",\"name\":\"LinearScale\",\"id\":\"p1042\"},\"y_scale\":{\"type\":\"object\",\"name\":\"LinearScale\",\"id\":\"p1043\"},\"title\":{\"type\":\"object\",\"name\":\"Title\",\"id\":\"p1040\"},\"renderers\":[{\"type\":\"object\",\"name\":\"GlyphRenderer\",\"id\":\"p1062\",\"attributes\":{\"data_source\":{\"type\":\"object\",\"name\":\"ColumnDataSource\",\"id\":\"p1056\",\"attributes\":{\"selected\":{\"type\":\"object\",\"name\":\"Selection\",\"id\":\"p1057\",\"attributes\":{\"indices\":[],\"line_indices\":[]}},\"selection_policy\":{\"type\":\"object\",\"name\":\"UnionRenderers\",\"id\":\"p1058\"},\"data\":{\"type\":\"map\",\"entries\":[[\"x\",[0,1,2,3,4,5,6,7,8,9,10]],[\"y\",[10,9,8,7,6,5,4,3,2,1,0]]]}}},\"view\":{\"type\":\"object\",\"name\":\"CDSView\",\"id\":\"p1063\",\"attributes\":{\"filter\":{\"type\":\"object\",\"name\":\"AllIndices\",\"id\":\"p1064\"}}},\"glyph\":{\"type\":\"object\",\"name\":\"Scatter\",\"id\":\"p1059\",\"attributes\":{\"x\":{\"type\":\"field\",\"field\":\"x\"},\"y\":{\"type\":\"field\",\"field\":\"y\"},\"size\":{\"type\":\"value\",\"value\":10},\"line_color\":{\"type\":\"value\",\"value\":\"firebrick\"},\"fill_color\":{\"type\":\"value\",\"value\":\"firebrick\"},\"hatch_color\":{\"type\":\"value\",\"value\":\"firebrick\"},\"marker\":{\"type\":\"value\",\"value\":\"triangle\"}}},\"nonselection_glyph\":{\"type\":\"object\",\"name\":\"Scatter\",\"id\":\"p1060\",\"attributes\":{\"x\":{\"type\":\"field\",\"field\":\"x\"},\"y\":{\"type\":\"field\",\"field\":\"y\"},\"size\":{\"type\":\"value\",\"value\":10},\"line_color\":{\"type\":\"value\",\"value\":\"firebrick\"},\"line_alpha\":{\"type\":\"value\",\"value\":0.1},\"fill_color\":{\"type\":\"value\",\"value\":\"firebrick\"},\"fill_alpha\":{\"type\":\"value\",\"value\":0.1},\"hatch_color\":{\"type\":\"value\",\"value\":\"firebrick\"},\"hatch_alpha\":{\"type\":\"value\",\"value\":0.1},\"marker\":{\"type\":\"value\",\"value\":\"triangle\"}}},\"muted_glyph\":{\"type\":\"object\",\"name\":\"Scatter\",\"id\":\"p1061\",\"attributes\":{\"x\":{\"type\":\"field\",\"field\":\"x\"},\"y\":{\"type\":\"field\",\"field\":\"y\"},\"size\":{\"type\":\"value\",\"value\":10},\"line_color\":{\"type\":\"value\",\"value\":\"firebrick\"},\"line_alpha\":{\"type\":\"value\",\"value\":0.2},\"fill_color\":{\"type\":\"value\",\"value\":\"firebrick\"},\"fill_alpha\":{\"type\":\"value\",\"value\":0.2},\"hatch_color\":{\"type\":\"value\",\"value\":\"firebrick\"},\"hatch_alpha\":{\"type\":\"value\",\"value\":0.2},\"marker\":{\"type\":\"value\",\"value\":\"triangle\"}}}}}],\"toolbar\":{\"type\":\"object\",\"name\":\"Toolbar\",\"id\":\"p1041\",\"attributes\":{\"tools\":[{\"id\":\"p1054\"},{\"id\":\"p1055\"}]}},\"toolbar_location\":null,\"left\":[{\"type\":\"object\",\"name\":\"LinearAxis\",\"id\":\"p1049\",\"attributes\":{\"ticker\":{\"type\":\"object\",\"name\":\"BasicTicker\",\"id\":\"p1050\",\"attributes\":{\"mantissas\":[1,2,5]}},\"formatter\":{\"type\":\"object\",\"name\":\"BasicTickFormatter\",\"id\":\"p1051\"},\"major_label_policy\":{\"type\":\"object\",\"name\":\"AllLabels\",\"id\":\"p1052\"}}}],\"below\":[{\"type\":\"object\",\"name\":\"LinearAxis\",\"id\":\"p1044\",\"attributes\":{\"ticker\":{\"type\":\"object\",\"name\":\"BasicTicker\",\"id\":\"p1045\",\"attributes\":{\"mantissas\":[1,2,5]}},\"formatter\":{\"type\":\"object\",\"name\":\"BasicTickFormatter\",\"id\":\"p1046\"},\"major_label_policy\":{\"type\":\"object\",\"name\":\"AllLabels\",\"id\":\"p1047\"}}}],\"center\":[{\"type\":\"object\",\"name\":\"Grid\",\"id\":\"p1048\",\"attributes\":{\"axis\":{\"id\":\"p1044\"}}},{\"type\":\"object\",\"name\":\"Grid\",\"id\":\"p1053\",\"attributes\":{\"dimension\":1,\"axis\":{\"id\":\"p1049\"}}}]}},0,1],[{\"type\":\"object\",\"name\":\"Figure\",\"id\":\"p1065\",\"attributes\":{\"width\":250,\"height\":250,\"x_range\":{\"id\":\"p1002\"},\"y_range\":{\"type\":\"object\",\"name\":\"DataRange1d\",\"id\":\"p1067\"},\"x_scale\":{\"type\":\"object\",\"name\":\"LinearScale\",\"id\":\"p1074\"},\"y_scale\":{\"type\":\"object\",\"name\":\"LinearScale\",\"id\":\"p1075\"},\"title\":{\"type\":\"object\",\"name\":\"Title\",\"id\":\"p1072\"},\"renderers\":[{\"type\":\"object\",\"name\":\"GlyphRenderer\",\"id\":\"p1094\",\"attributes\":{\"data_source\":{\"type\":\"object\",\"name\":\"ColumnDataSource\",\"id\":\"p1088\",\"attributes\":{\"selected\":{\"type\":\"object\",\"name\":\"Selection\",\"id\":\"p1089\",\"attributes\":{\"indices\":[],\"line_indices\":[]}},\"selection_policy\":{\"type\":\"object\",\"name\":\"UnionRenderers\",\"id\":\"p1090\"},\"data\":{\"type\":\"map\",\"entries\":[[\"x\",[0,1,2,3,4,5,6,7,8,9,10]],[\"y\",[5,4,3,2,1,0,1,2,3,4,5]]]}}},\"view\":{\"type\":\"object\",\"name\":\"CDSView\",\"id\":\"p1095\",\"attributes\":{\"filter\":{\"type\":\"object\",\"name\":\"AllIndices\",\"id\":\"p1096\"}}},\"glyph\":{\"type\":\"object\",\"name\":\"Scatter\",\"id\":\"p1091\",\"attributes\":{\"x\":{\"type\":\"field\",\"field\":\"x\"},\"y\":{\"type\":\"field\",\"field\":\"y\"},\"size\":{\"type\":\"value\",\"value\":10},\"line_color\":{\"type\":\"value\",\"value\":\"olive\"},\"fill_color\":{\"type\":\"value\",\"value\":\"olive\"},\"hatch_color\":{\"type\":\"value\",\"value\":\"olive\"},\"marker\":{\"type\":\"value\",\"value\":\"square\"}}},\"nonselection_glyph\":{\"type\":\"object\",\"name\":\"Scatter\",\"id\":\"p1092\",\"attributes\":{\"x\":{\"type\":\"field\",\"field\":\"x\"},\"y\":{\"type\":\"field\",\"field\":\"y\"},\"size\":{\"type\":\"value\",\"value\":10},\"line_color\":{\"type\":\"value\",\"value\":\"olive\"},\"line_alpha\":{\"type\":\"value\",\"value\":0.1},\"fill_color\":{\"type\":\"value\",\"value\":\"olive\"},\"fill_alpha\":{\"type\":\"value\",\"value\":0.1},\"hatch_color\":{\"type\":\"value\",\"value\":\"olive\"},\"hatch_alpha\":{\"type\":\"value\",\"value\":0.1},\"marker\":{\"type\":\"value\",\"value\":\"square\"}}},\"muted_glyph\":{\"type\":\"object\",\"name\":\"Scatter\",\"id\":\"p1093\",\"attributes\":{\"x\":{\"type\":\"field\",\"field\":\"x\"},\"y\":{\"type\":\"field\",\"field\":\"y\"},\"size\":{\"type\":\"value\",\"value\":10},\"line_color\":{\"type\":\"value\",\"value\":\"olive\"},\"line_alpha\":{\"type\":\"value\",\"value\":0.2},\"fill_color\":{\"type\":\"value\",\"value\":\"olive\"},\"fill_alpha\":{\"type\":\"value\",\"value\":0.2},\"hatch_color\":{\"type\":\"value\",\"value\":\"olive\"},\"hatch_alpha\":{\"type\":\"value\",\"value\":0.2},\"marker\":{\"type\":\"value\",\"value\":\"square\"}}}}}],\"toolbar\":{\"type\":\"object\",\"name\":\"Toolbar\",\"id\":\"p1073\",\"attributes\":{\"tools\":[{\"id\":\"p1086\"},{\"id\":\"p1087\"}]}},\"toolbar_location\":null,\"left\":[{\"type\":\"object\",\"name\":\"LinearAxis\",\"id\":\"p1081\",\"attributes\":{\"ticker\":{\"type\":\"object\",\"name\":\"BasicTicker\",\"id\":\"p1082\",\"attributes\":{\"mantissas\":[1,2,5]}},\"formatter\":{\"type\":\"object\",\"name\":\"BasicTickFormatter\",\"id\":\"p1083\"},\"major_label_policy\":{\"type\":\"object\",\"name\":\"AllLabels\",\"id\":\"p1084\"}}}],\"below\":[{\"type\":\"object\",\"name\":\"LinearAxis\",\"id\":\"p1076\",\"attributes\":{\"ticker\":{\"type\":\"object\",\"name\":\"BasicTicker\",\"id\":\"p1077\",\"attributes\":{\"mantissas\":[1,2,5]}},\"formatter\":{\"type\":\"object\",\"name\":\"BasicTickFormatter\",\"id\":\"p1078\"},\"major_label_policy\":{\"type\":\"object\",\"name\":\"AllLabels\",\"id\":\"p1079\"}}}],\"center\":[{\"type\":\"object\",\"name\":\"Grid\",\"id\":\"p1080\",\"attributes\":{\"axis\":{\"id\":\"p1076\"}}},{\"type\":\"object\",\"name\":\"Grid\",\"id\":\"p1085\",\"attributes\":{\"dimension\":1,\"axis\":{\"id\":\"p1081\"}}}]}},0,2]]}}]}};\n  const render_items = [{\"docid\":\"b225b70c-378d-4922-8a11-e7a6fe3ccd1e\",\"roots\":{\"p1100\":\"db4b4b06-d014-4587-8472-ee4e96626593\"},\"root_ids\":[\"p1100\"]}];\n  void root.Bokeh.embed.embed_items_notebook(docs_json, render_items);\n  }\n  if (root.Bokeh !== undefined) {\n    embed_document(root);\n  } else {\n    let attempts = 0;\n    const timer = setInterval(function(root) {\n      if (root.Bokeh !== undefined) {\n        clearInterval(timer);\n        embed_document(root);\n      } else {\n        attempts++;\n        if (attempts > 100) {\n          clearInterval(timer);\n          console.log(\"Bokeh: ERROR: Unable to run BokehJS code because BokehJS library is missing\");\n        }\n      }\n    }, 10, root)\n  }\n})(window);",
      "application/vnd.bokehjs_exec.v0+json": ""
     },
     "metadata": {
      "application/vnd.bokehjs_exec.v0+json": {
       "id": "p1100"
      }
     },
     "output_type": "display_data"
    }
   ],
   "source": [
    "from bokeh.layouts import gridplot\n",
    "\n",
    "x = list(range(11))\n",
    "y0, y1, y2 = x, [10-i for i in x], [abs(i-5) for i in x]\n",
    "\n",
    "plot_options = dict(width=250, height=250, tools='pan,wheel_zoom')\n",
    "\n",
    "# create a new plot\n",
    "s1 = figure(**plot_options)\n",
    "s1.circle(x, y0, size=10, color=\"navy\")\n",
    "\n",
    "# create a new plot and share both ranges\n",
    "s2 = figure(x_range=s1.x_range, y_range=s1.y_range, **plot_options)\n",
    "s2.triangle(x, y1, size=10, color=\"firebrick\")\n",
    "\n",
    "# create a new plot and share only one range\n",
    "s3 = figure(x_range=s1.x_range, **plot_options)\n",
    "s3.square(x, y2, size=10, color=\"olive\")\n",
    "\n",
    "p = gridplot([[s1, s2, s3]])\n",
    "\n",
    "# show the results\n",
    "show(p)"
   ]
  },
  {
   "cell_type": "code",
   "execution_count": 3,
   "id": "25ffd276",
   "metadata": {
    "id": "l8kMfW1nowhO"
   },
   "outputs": [
    {
     "name": "stderr",
     "output_type": "stream",
     "text": [
      "BokehDeprecationWarning: 'circle() method with size value' was deprecated in Bokeh 3.4.0 and will be removed, use 'scatter(size=...) instead' instead.\n",
      "BokehDeprecationWarning: 'triangle() method' was deprecated in Bokeh 3.4.0 and will be removed, use \"scatter(marker='triangle', ...) instead\" instead.\n"
     ]
    },
    {
     "data": {
      "text/html": [
       "\n",
       "  <div id=\"be4c4a0d-c21f-4500-b052-05e2aeaacb74\" data-root-id=\"p1169\" style=\"display: contents;\"></div>\n"
      ]
     },
     "metadata": {},
     "output_type": "display_data"
    },
    {
     "data": {
      "application/javascript": "(function(root) {\n  function embed_document(root) {\n  const docs_json = {\"c14dfc25-d245-47ce-8681-7aac98e1b57b\":{\"version\":\"3.6.1\",\"title\":\"Bokeh Application\",\"roots\":[{\"type\":\"object\",\"name\":\"GridPlot\",\"id\":\"p1169\",\"attributes\":{\"rows\":null,\"cols\":null,\"toolbar\":{\"type\":\"object\",\"name\":\"Toolbar\",\"id\":\"p1168\",\"attributes\":{\"tools\":[{\"type\":\"object\",\"name\":\"ToolProxy\",\"id\":\"p1166\",\"attributes\":{\"tools\":[{\"type\":\"object\",\"name\":\"PanTool\",\"id\":\"p1123\"},{\"type\":\"object\",\"name\":\"PanTool\",\"id\":\"p1155\"}]}},{\"type\":\"object\",\"name\":\"ToolProxy\",\"id\":\"p1167\",\"attributes\":{\"tools\":[{\"type\":\"object\",\"name\":\"WheelZoomTool\",\"id\":\"p1124\",\"attributes\":{\"renderers\":\"auto\"}},{\"type\":\"object\",\"name\":\"WheelZoomTool\",\"id\":\"p1156\",\"attributes\":{\"renderers\":\"auto\"}}]}}]}},\"children\":[[{\"type\":\"object\",\"name\":\"Figure\",\"id\":\"p1102\",\"attributes\":{\"width\":250,\"height\":250,\"x_range\":{\"type\":\"object\",\"name\":\"DataRange1d\",\"id\":\"p1103\"},\"y_range\":{\"type\":\"object\",\"name\":\"DataRange1d\",\"id\":\"p1104\"},\"x_scale\":{\"type\":\"object\",\"name\":\"LinearScale\",\"id\":\"p1111\"},\"y_scale\":{\"type\":\"object\",\"name\":\"LinearScale\",\"id\":\"p1112\"},\"title\":{\"type\":\"object\",\"name\":\"Title\",\"id\":\"p1109\"},\"renderers\":[{\"type\":\"object\",\"name\":\"GlyphRenderer\",\"id\":\"p1131\",\"attributes\":{\"data_source\":{\"type\":\"object\",\"name\":\"ColumnDataSource\",\"id\":\"p1125\",\"attributes\":{\"selected\":{\"type\":\"object\",\"name\":\"Selection\",\"id\":\"p1126\",\"attributes\":{\"indices\":[],\"line_indices\":[]}},\"selection_policy\":{\"type\":\"object\",\"name\":\"UnionRenderers\",\"id\":\"p1127\"},\"data\":{\"type\":\"map\",\"entries\":[[\"x\",[0,1,2,3,4,5,6,7,8,9,10]],[\"y\",[0,1,2,3,4,5,6,7,8,9,10]]]}}},\"view\":{\"type\":\"object\",\"name\":\"CDSView\",\"id\":\"p1132\",\"attributes\":{\"filter\":{\"type\":\"object\",\"name\":\"AllIndices\",\"id\":\"p1133\"}}},\"glyph\":{\"type\":\"object\",\"name\":\"Scatter\",\"id\":\"p1128\",\"attributes\":{\"x\":{\"type\":\"field\",\"field\":\"x\"},\"y\":{\"type\":\"field\",\"field\":\"y\"},\"size\":{\"type\":\"value\",\"value\":10},\"line_color\":{\"type\":\"value\",\"value\":\"navy\"},\"fill_color\":{\"type\":\"value\",\"value\":\"navy\"},\"hatch_color\":{\"type\":\"value\",\"value\":\"navy\"}}},\"nonselection_glyph\":{\"type\":\"object\",\"name\":\"Scatter\",\"id\":\"p1129\",\"attributes\":{\"x\":{\"type\":\"field\",\"field\":\"x\"},\"y\":{\"type\":\"field\",\"field\":\"y\"},\"size\":{\"type\":\"value\",\"value\":10},\"line_color\":{\"type\":\"value\",\"value\":\"navy\"},\"line_alpha\":{\"type\":\"value\",\"value\":0.1},\"fill_color\":{\"type\":\"value\",\"value\":\"navy\"},\"fill_alpha\":{\"type\":\"value\",\"value\":0.1},\"hatch_color\":{\"type\":\"value\",\"value\":\"navy\"},\"hatch_alpha\":{\"type\":\"value\",\"value\":0.1}}},\"muted_glyph\":{\"type\":\"object\",\"name\":\"Scatter\",\"id\":\"p1130\",\"attributes\":{\"x\":{\"type\":\"field\",\"field\":\"x\"},\"y\":{\"type\":\"field\",\"field\":\"y\"},\"size\":{\"type\":\"value\",\"value\":10},\"line_color\":{\"type\":\"value\",\"value\":\"navy\"},\"line_alpha\":{\"type\":\"value\",\"value\":0.2},\"fill_color\":{\"type\":\"value\",\"value\":\"navy\"},\"fill_alpha\":{\"type\":\"value\",\"value\":0.2},\"hatch_color\":{\"type\":\"value\",\"value\":\"navy\"},\"hatch_alpha\":{\"type\":\"value\",\"value\":0.2}}}}}],\"toolbar\":{\"type\":\"object\",\"name\":\"Toolbar\",\"id\":\"p1110\",\"attributes\":{\"tools\":[{\"id\":\"p1123\"},{\"id\":\"p1124\"}]}},\"toolbar_location\":null,\"left\":[{\"type\":\"object\",\"name\":\"LinearAxis\",\"id\":\"p1118\",\"attributes\":{\"ticker\":{\"type\":\"object\",\"name\":\"BasicTicker\",\"id\":\"p1119\",\"attributes\":{\"mantissas\":[1,2,5]}},\"formatter\":{\"type\":\"object\",\"name\":\"BasicTickFormatter\",\"id\":\"p1120\"},\"major_label_policy\":{\"type\":\"object\",\"name\":\"AllLabels\",\"id\":\"p1121\"}}}],\"below\":[{\"type\":\"object\",\"name\":\"LinearAxis\",\"id\":\"p1113\",\"attributes\":{\"ticker\":{\"type\":\"object\",\"name\":\"BasicTicker\",\"id\":\"p1114\",\"attributes\":{\"mantissas\":[1,2,5]}},\"formatter\":{\"type\":\"object\",\"name\":\"BasicTickFormatter\",\"id\":\"p1115\"},\"major_label_policy\":{\"type\":\"object\",\"name\":\"AllLabels\",\"id\":\"p1116\"}}}],\"center\":[{\"type\":\"object\",\"name\":\"Grid\",\"id\":\"p1117\",\"attributes\":{\"axis\":{\"id\":\"p1113\"}}},{\"type\":\"object\",\"name\":\"Grid\",\"id\":\"p1122\",\"attributes\":{\"dimension\":1,\"axis\":{\"id\":\"p1118\"}}}]}},0,0],[{\"type\":\"object\",\"name\":\"Figure\",\"id\":\"p1134\",\"attributes\":{\"width\":250,\"height\":250,\"x_range\":{\"id\":\"p1103\"},\"y_range\":{\"id\":\"p1104\"},\"x_scale\":{\"type\":\"object\",\"name\":\"LinearScale\",\"id\":\"p1143\"},\"y_scale\":{\"type\":\"object\",\"name\":\"LinearScale\",\"id\":\"p1144\"},\"title\":{\"type\":\"object\",\"name\":\"Title\",\"id\":\"p1141\"},\"renderers\":[{\"type\":\"object\",\"name\":\"GlyphRenderer\",\"id\":\"p1163\",\"attributes\":{\"data_source\":{\"type\":\"object\",\"name\":\"ColumnDataSource\",\"id\":\"p1157\",\"attributes\":{\"selected\":{\"type\":\"object\",\"name\":\"Selection\",\"id\":\"p1158\",\"attributes\":{\"indices\":[],\"line_indices\":[]}},\"selection_policy\":{\"type\":\"object\",\"name\":\"UnionRenderers\",\"id\":\"p1159\"},\"data\":{\"type\":\"map\",\"entries\":[[\"x\",[0,1,2,3,4,5,6,7,8,9,10]],[\"y\",[10,9,8,7,6,5,4,3,2,1,0]]]}}},\"view\":{\"type\":\"object\",\"name\":\"CDSView\",\"id\":\"p1164\",\"attributes\":{\"filter\":{\"type\":\"object\",\"name\":\"AllIndices\",\"id\":\"p1165\"}}},\"glyph\":{\"type\":\"object\",\"name\":\"Scatter\",\"id\":\"p1160\",\"attributes\":{\"x\":{\"type\":\"field\",\"field\":\"x\"},\"y\":{\"type\":\"field\",\"field\":\"y\"},\"size\":{\"type\":\"value\",\"value\":10},\"line_color\":{\"type\":\"value\",\"value\":\"firebrick\"},\"fill_color\":{\"type\":\"value\",\"value\":\"firebrick\"},\"hatch_color\":{\"type\":\"value\",\"value\":\"firebrick\"},\"marker\":{\"type\":\"value\",\"value\":\"triangle\"}}},\"nonselection_glyph\":{\"type\":\"object\",\"name\":\"Scatter\",\"id\":\"p1161\",\"attributes\":{\"x\":{\"type\":\"field\",\"field\":\"x\"},\"y\":{\"type\":\"field\",\"field\":\"y\"},\"size\":{\"type\":\"value\",\"value\":10},\"line_color\":{\"type\":\"value\",\"value\":\"firebrick\"},\"line_alpha\":{\"type\":\"value\",\"value\":0.1},\"fill_color\":{\"type\":\"value\",\"value\":\"firebrick\"},\"fill_alpha\":{\"type\":\"value\",\"value\":0.1},\"hatch_color\":{\"type\":\"value\",\"value\":\"firebrick\"},\"hatch_alpha\":{\"type\":\"value\",\"value\":0.1},\"marker\":{\"type\":\"value\",\"value\":\"triangle\"}}},\"muted_glyph\":{\"type\":\"object\",\"name\":\"Scatter\",\"id\":\"p1162\",\"attributes\":{\"x\":{\"type\":\"field\",\"field\":\"x\"},\"y\":{\"type\":\"field\",\"field\":\"y\"},\"size\":{\"type\":\"value\",\"value\":10},\"line_color\":{\"type\":\"value\",\"value\":\"firebrick\"},\"line_alpha\":{\"type\":\"value\",\"value\":0.2},\"fill_color\":{\"type\":\"value\",\"value\":\"firebrick\"},\"fill_alpha\":{\"type\":\"value\",\"value\":0.2},\"hatch_color\":{\"type\":\"value\",\"value\":\"firebrick\"},\"hatch_alpha\":{\"type\":\"value\",\"value\":0.2},\"marker\":{\"type\":\"value\",\"value\":\"triangle\"}}}}}],\"toolbar\":{\"type\":\"object\",\"name\":\"Toolbar\",\"id\":\"p1142\",\"attributes\":{\"tools\":[{\"id\":\"p1155\"},{\"id\":\"p1156\"}]}},\"toolbar_location\":null,\"left\":[{\"type\":\"object\",\"name\":\"LinearAxis\",\"id\":\"p1150\",\"attributes\":{\"ticker\":{\"type\":\"object\",\"name\":\"BasicTicker\",\"id\":\"p1151\",\"attributes\":{\"mantissas\":[1,2,5]}},\"formatter\":{\"type\":\"object\",\"name\":\"BasicTickFormatter\",\"id\":\"p1152\"},\"major_label_policy\":{\"type\":\"object\",\"name\":\"AllLabels\",\"id\":\"p1153\"}}}],\"below\":[{\"type\":\"object\",\"name\":\"LinearAxis\",\"id\":\"p1145\",\"attributes\":{\"ticker\":{\"type\":\"object\",\"name\":\"BasicTicker\",\"id\":\"p1146\",\"attributes\":{\"mantissas\":[1,2,5]}},\"formatter\":{\"type\":\"object\",\"name\":\"BasicTickFormatter\",\"id\":\"p1147\"},\"major_label_policy\":{\"type\":\"object\",\"name\":\"AllLabels\",\"id\":\"p1148\"}}}],\"center\":[{\"type\":\"object\",\"name\":\"Grid\",\"id\":\"p1149\",\"attributes\":{\"axis\":{\"id\":\"p1145\"}}},{\"type\":\"object\",\"name\":\"Grid\",\"id\":\"p1154\",\"attributes\":{\"dimension\":1,\"axis\":{\"id\":\"p1150\"}}}]}},0,1]]}}]}};\n  const render_items = [{\"docid\":\"c14dfc25-d245-47ce-8681-7aac98e1b57b\",\"roots\":{\"p1169\":\"be4c4a0d-c21f-4500-b052-05e2aeaacb74\"},\"root_ids\":[\"p1169\"]}];\n  void root.Bokeh.embed.embed_items_notebook(docs_json, render_items);\n  }\n  if (root.Bokeh !== undefined) {\n    embed_document(root);\n  } else {\n    let attempts = 0;\n    const timer = setInterval(function(root) {\n      if (root.Bokeh !== undefined) {\n        clearInterval(timer);\n        embed_document(root);\n      } else {\n        attempts++;\n        if (attempts > 100) {\n          clearInterval(timer);\n          console.log(\"Bokeh: ERROR: Unable to run BokehJS code because BokehJS library is missing\");\n        }\n      }\n    }, 10, root)\n  }\n})(window);",
      "application/vnd.bokehjs_exec.v0+json": ""
     },
     "metadata": {
      "application/vnd.bokehjs_exec.v0+json": {
       "id": "p1169"
      }
     },
     "output_type": "display_data"
    }
   ],
   "source": [
    "# EXERCISE: create two plots in a gridplot, and link their ranges\n",
    "plot1 = figure(**plot_options)\n",
    "plot1.circle(x, y0, size=10, color=\"navy\")\n",
    "\n",
    "plot2 = figure(x_range=plot1.x_range, y_range=plot1.y_range, **plot_options)\n",
    "plot2.triangle(x, y1, size=10, color=\"firebrick\")\n",
    "\n",
    "grid = gridplot([[plot1, plot2]])\n",
    "show(grid)"
   ]
  },
  {
   "cell_type": "markdown",
   "id": "440d2168",
   "metadata": {
    "id": "0BKwjdoEowhP"
   },
   "source": [
    "## Linked brushing\n",
    "\n",
    "Linking selections is accomplished in a similar way, by sharing data sources between plots. Note that normally with ``bokeh.plotting`` and ``bokeh.charts`` creating a default data source for simple plots is handled automatically. However to share a data source, we must create them by hand and pass them explicitly. This is illustrated in the example below:"
   ]
  },
  {
   "cell_type": "code",
   "execution_count": 4,
   "id": "4a35b0d3",
   "metadata": {
    "id": "ZYgSz-eoowhQ"
   },
   "outputs": [
    {
     "data": {
      "text/html": [
       "\n",
       "  <div id=\"bab61d5f-464d-4a70-818c-6fc6a8b45f04\" data-root-id=\"p1260\" style=\"display: contents;\"></div>\n"
      ]
     },
     "metadata": {},
     "output_type": "display_data"
    },
    {
     "data": {
      "application/javascript": "(function(root) {\n  function embed_document(root) {\n  const docs_json = {\"81ef46b1-5c4e-48aa-8a10-aee3005a867c\":{\"version\":\"3.6.1\",\"title\":\"Bokeh Application\",\"roots\":[{\"type\":\"object\",\"name\":\"GridPlot\",\"id\":\"p1260\",\"attributes\":{\"rows\":null,\"cols\":null,\"toolbar\":{\"type\":\"object\",\"name\":\"Toolbar\",\"id\":\"p1259\",\"attributes\":{\"tools\":[{\"type\":\"object\",\"name\":\"ToolProxy\",\"id\":\"p1256\",\"attributes\":{\"tools\":[{\"type\":\"object\",\"name\":\"BoxSelectTool\",\"id\":\"p1195\",\"attributes\":{\"renderers\":\"auto\",\"overlay\":{\"type\":\"object\",\"name\":\"BoxAnnotation\",\"id\":\"p1196\",\"attributes\":{\"syncable\":false,\"line_color\":\"black\",\"line_alpha\":1.0,\"line_width\":2,\"line_dash\":[4,4],\"fill_color\":\"lightgrey\",\"fill_alpha\":0.5,\"level\":\"overlay\",\"visible\":false,\"left\":{\"type\":\"number\",\"value\":\"nan\"},\"right\":{\"type\":\"number\",\"value\":\"nan\"},\"top\":{\"type\":\"number\",\"value\":\"nan\"},\"bottom\":{\"type\":\"number\",\"value\":\"nan\"},\"editable\":true,\"handles\":{\"type\":\"object\",\"name\":\"BoxInteractionHandles\",\"id\":\"p1202\",\"attributes\":{\"all\":{\"type\":\"object\",\"name\":\"AreaVisuals\",\"id\":\"p1201\",\"attributes\":{\"fill_color\":\"white\",\"hover_fill_color\":\"lightgray\"}}}}}}}},{\"type\":\"object\",\"name\":\"BoxSelectTool\",\"id\":\"p1236\",\"attributes\":{\"renderers\":\"auto\",\"overlay\":{\"type\":\"object\",\"name\":\"BoxAnnotation\",\"id\":\"p1237\",\"attributes\":{\"syncable\":false,\"line_color\":\"black\",\"line_alpha\":1.0,\"line_width\":2,\"line_dash\":[4,4],\"fill_color\":\"lightgrey\",\"fill_alpha\":0.5,\"level\":\"overlay\",\"visible\":false,\"left\":{\"type\":\"number\",\"value\":\"nan\"},\"right\":{\"type\":\"number\",\"value\":\"nan\"},\"top\":{\"type\":\"number\",\"value\":\"nan\"},\"bottom\":{\"type\":\"number\",\"value\":\"nan\"},\"editable\":true,\"handles\":{\"type\":\"object\",\"name\":\"BoxInteractionHandles\",\"id\":\"p1243\",\"attributes\":{\"all\":{\"type\":\"object\",\"name\":\"AreaVisuals\",\"id\":\"p1242\",\"attributes\":{\"fill_color\":\"white\",\"hover_fill_color\":\"lightgray\"}}}}}}}}]}},{\"type\":\"object\",\"name\":\"ToolProxy\",\"id\":\"p1257\",\"attributes\":{\"tools\":[{\"type\":\"object\",\"name\":\"LassoSelectTool\",\"id\":\"p1203\",\"attributes\":{\"renderers\":\"auto\",\"overlay\":{\"type\":\"object\",\"name\":\"PolyAnnotation\",\"id\":\"p1204\",\"attributes\":{\"syncable\":false,\"level\":\"overlay\",\"visible\":false,\"xs\":[],\"ys\":[],\"editable\":true,\"line_color\":\"black\",\"line_alpha\":1.0,\"line_width\":2,\"line_dash\":[4,4],\"fill_color\":\"lightgrey\",\"fill_alpha\":0.5}}}},{\"type\":\"object\",\"name\":\"LassoSelectTool\",\"id\":\"p1244\",\"attributes\":{\"renderers\":\"auto\",\"overlay\":{\"type\":\"object\",\"name\":\"PolyAnnotation\",\"id\":\"p1245\",\"attributes\":{\"syncable\":false,\"level\":\"overlay\",\"visible\":false,\"xs\":[],\"ys\":[],\"editable\":true,\"line_color\":\"black\",\"line_alpha\":1.0,\"line_width\":2,\"line_dash\":[4,4],\"fill_color\":\"lightgrey\",\"fill_alpha\":0.5}}}}]}},{\"type\":\"object\",\"name\":\"ToolProxy\",\"id\":\"p1258\",\"attributes\":{\"tools\":[{\"type\":\"object\",\"name\":\"HelpTool\",\"id\":\"p1205\"},{\"type\":\"object\",\"name\":\"HelpTool\",\"id\":\"p1246\"}]}}]}},\"children\":[[{\"type\":\"object\",\"name\":\"Figure\",\"id\":\"p1174\",\"attributes\":{\"width\":300,\"height\":300,\"x_range\":{\"type\":\"object\",\"name\":\"DataRange1d\",\"id\":\"p1175\"},\"y_range\":{\"type\":\"object\",\"name\":\"DataRange1d\",\"id\":\"p1176\"},\"x_scale\":{\"type\":\"object\",\"name\":\"LinearScale\",\"id\":\"p1183\"},\"y_scale\":{\"type\":\"object\",\"name\":\"LinearScale\",\"id\":\"p1184\"},\"title\":{\"type\":\"object\",\"name\":\"Title\",\"id\":\"p1181\"},\"renderers\":[{\"type\":\"object\",\"name\":\"GlyphRenderer\",\"id\":\"p1212\",\"attributes\":{\"data_source\":{\"type\":\"object\",\"name\":\"ColumnDataSource\",\"id\":\"p1171\",\"attributes\":{\"selected\":{\"type\":\"object\",\"name\":\"Selection\",\"id\":\"p1172\",\"attributes\":{\"indices\":[],\"line_indices\":[]}},\"selection_policy\":{\"type\":\"object\",\"name\":\"UnionRenderers\",\"id\":\"p1173\"},\"data\":{\"type\":\"map\",\"entries\":[[\"x\",[-20,-19,-18,-17,-16,-15,-14,-13,-12,-11,-10,-9,-8,-7,-6,-5,-4,-3,-2,-1,0,1,2,3,4,5,6,7,8,9,10,11,12,13,14,15,16,17,18,19,20]],[\"y0\",[20,19,18,17,16,15,14,13,12,11,10,9,8,7,6,5,4,3,2,1,0,1,2,3,4,5,6,7,8,9,10,11,12,13,14,15,16,17,18,19,20]],[\"y1\",[400,361,324,289,256,225,196,169,144,121,100,81,64,49,36,25,16,9,4,1,0,1,4,9,16,25,36,49,64,81,100,121,144,169,196,225,256,289,324,361,400]]]}}},\"view\":{\"type\":\"object\",\"name\":\"CDSView\",\"id\":\"p1213\",\"attributes\":{\"filter\":{\"type\":\"object\",\"name\":\"AllIndices\",\"id\":\"p1214\"}}},\"glyph\":{\"type\":\"object\",\"name\":\"Circle\",\"id\":\"p1209\",\"attributes\":{\"x\":{\"type\":\"field\",\"field\":\"x\"},\"y\":{\"type\":\"field\",\"field\":\"y0\"},\"line_color\":{\"type\":\"value\",\"value\":\"#1f77b4\"},\"fill_color\":{\"type\":\"value\",\"value\":\"#1f77b4\"}}},\"nonselection_glyph\":{\"type\":\"object\",\"name\":\"Circle\",\"id\":\"p1210\",\"attributes\":{\"x\":{\"type\":\"field\",\"field\":\"x\"},\"y\":{\"type\":\"field\",\"field\":\"y0\"},\"line_color\":{\"type\":\"value\",\"value\":\"#1f77b4\"},\"line_alpha\":{\"type\":\"value\",\"value\":0.1},\"fill_color\":{\"type\":\"value\",\"value\":\"#1f77b4\"},\"fill_alpha\":{\"type\":\"value\",\"value\":0.1},\"hatch_alpha\":{\"type\":\"value\",\"value\":0.1}}},\"muted_glyph\":{\"type\":\"object\",\"name\":\"Circle\",\"id\":\"p1211\",\"attributes\":{\"x\":{\"type\":\"field\",\"field\":\"x\"},\"y\":{\"type\":\"field\",\"field\":\"y0\"},\"line_color\":{\"type\":\"value\",\"value\":\"#1f77b4\"},\"line_alpha\":{\"type\":\"value\",\"value\":0.2},\"fill_color\":{\"type\":\"value\",\"value\":\"#1f77b4\"},\"fill_alpha\":{\"type\":\"value\",\"value\":0.2},\"hatch_alpha\":{\"type\":\"value\",\"value\":0.2}}}}}],\"toolbar\":{\"type\":\"object\",\"name\":\"Toolbar\",\"id\":\"p1182\",\"attributes\":{\"tools\":[{\"id\":\"p1195\"},{\"id\":\"p1203\"},{\"id\":\"p1205\"}]}},\"toolbar_location\":null,\"left\":[{\"type\":\"object\",\"name\":\"LinearAxis\",\"id\":\"p1190\",\"attributes\":{\"ticker\":{\"type\":\"object\",\"name\":\"BasicTicker\",\"id\":\"p1191\",\"attributes\":{\"mantissas\":[1,2,5]}},\"formatter\":{\"type\":\"object\",\"name\":\"BasicTickFormatter\",\"id\":\"p1192\"},\"major_label_policy\":{\"type\":\"object\",\"name\":\"AllLabels\",\"id\":\"p1193\"}}}],\"below\":[{\"type\":\"object\",\"name\":\"LinearAxis\",\"id\":\"p1185\",\"attributes\":{\"ticker\":{\"type\":\"object\",\"name\":\"BasicTicker\",\"id\":\"p1186\",\"attributes\":{\"mantissas\":[1,2,5]}},\"formatter\":{\"type\":\"object\",\"name\":\"BasicTickFormatter\",\"id\":\"p1187\"},\"major_label_policy\":{\"type\":\"object\",\"name\":\"AllLabels\",\"id\":\"p1188\"}}}],\"center\":[{\"type\":\"object\",\"name\":\"Grid\",\"id\":\"p1189\",\"attributes\":{\"axis\":{\"id\":\"p1185\"}}},{\"type\":\"object\",\"name\":\"Grid\",\"id\":\"p1194\",\"attributes\":{\"dimension\":1,\"axis\":{\"id\":\"p1190\"}}}]}},0,0],[{\"type\":\"object\",\"name\":\"Figure\",\"id\":\"p1215\",\"attributes\":{\"width\":300,\"height\":300,\"x_range\":{\"type\":\"object\",\"name\":\"DataRange1d\",\"id\":\"p1216\"},\"y_range\":{\"type\":\"object\",\"name\":\"DataRange1d\",\"id\":\"p1217\"},\"x_scale\":{\"type\":\"object\",\"name\":\"LinearScale\",\"id\":\"p1224\"},\"y_scale\":{\"type\":\"object\",\"name\":\"LinearScale\",\"id\":\"p1225\"},\"title\":{\"type\":\"object\",\"name\":\"Title\",\"id\":\"p1222\"},\"renderers\":[{\"type\":\"object\",\"name\":\"GlyphRenderer\",\"id\":\"p1253\",\"attributes\":{\"data_source\":{\"id\":\"p1171\"},\"view\":{\"type\":\"object\",\"name\":\"CDSView\",\"id\":\"p1254\",\"attributes\":{\"filter\":{\"type\":\"object\",\"name\":\"AllIndices\",\"id\":\"p1255\"}}},\"glyph\":{\"type\":\"object\",\"name\":\"Circle\",\"id\":\"p1250\",\"attributes\":{\"x\":{\"type\":\"field\",\"field\":\"x\"},\"y\":{\"type\":\"field\",\"field\":\"y1\"},\"line_color\":{\"type\":\"value\",\"value\":\"#1f77b4\"},\"fill_color\":{\"type\":\"value\",\"value\":\"#1f77b4\"}}},\"nonselection_glyph\":{\"type\":\"object\",\"name\":\"Circle\",\"id\":\"p1251\",\"attributes\":{\"x\":{\"type\":\"field\",\"field\":\"x\"},\"y\":{\"type\":\"field\",\"field\":\"y1\"},\"line_color\":{\"type\":\"value\",\"value\":\"#1f77b4\"},\"line_alpha\":{\"type\":\"value\",\"value\":0.1},\"fill_color\":{\"type\":\"value\",\"value\":\"#1f77b4\"},\"fill_alpha\":{\"type\":\"value\",\"value\":0.1},\"hatch_alpha\":{\"type\":\"value\",\"value\":0.1}}},\"muted_glyph\":{\"type\":\"object\",\"name\":\"Circle\",\"id\":\"p1252\",\"attributes\":{\"x\":{\"type\":\"field\",\"field\":\"x\"},\"y\":{\"type\":\"field\",\"field\":\"y1\"},\"line_color\":{\"type\":\"value\",\"value\":\"#1f77b4\"},\"line_alpha\":{\"type\":\"value\",\"value\":0.2},\"fill_color\":{\"type\":\"value\",\"value\":\"#1f77b4\"},\"fill_alpha\":{\"type\":\"value\",\"value\":0.2},\"hatch_alpha\":{\"type\":\"value\",\"value\":0.2}}}}}],\"toolbar\":{\"type\":\"object\",\"name\":\"Toolbar\",\"id\":\"p1223\",\"attributes\":{\"tools\":[{\"id\":\"p1236\"},{\"id\":\"p1244\"},{\"id\":\"p1246\"}]}},\"toolbar_location\":null,\"left\":[{\"type\":\"object\",\"name\":\"LinearAxis\",\"id\":\"p1231\",\"attributes\":{\"ticker\":{\"type\":\"object\",\"name\":\"BasicTicker\",\"id\":\"p1232\",\"attributes\":{\"mantissas\":[1,2,5]}},\"formatter\":{\"type\":\"object\",\"name\":\"BasicTickFormatter\",\"id\":\"p1233\"},\"major_label_policy\":{\"type\":\"object\",\"name\":\"AllLabels\",\"id\":\"p1234\"}}}],\"below\":[{\"type\":\"object\",\"name\":\"LinearAxis\",\"id\":\"p1226\",\"attributes\":{\"ticker\":{\"type\":\"object\",\"name\":\"BasicTicker\",\"id\":\"p1227\",\"attributes\":{\"mantissas\":[1,2,5]}},\"formatter\":{\"type\":\"object\",\"name\":\"BasicTickFormatter\",\"id\":\"p1228\"},\"major_label_policy\":{\"type\":\"object\",\"name\":\"AllLabels\",\"id\":\"p1229\"}}}],\"center\":[{\"type\":\"object\",\"name\":\"Grid\",\"id\":\"p1230\",\"attributes\":{\"axis\":{\"id\":\"p1226\"}}},{\"type\":\"object\",\"name\":\"Grid\",\"id\":\"p1235\",\"attributes\":{\"dimension\":1,\"axis\":{\"id\":\"p1231\"}}}]}},0,1]]}}]}};\n  const render_items = [{\"docid\":\"81ef46b1-5c4e-48aa-8a10-aee3005a867c\",\"roots\":{\"p1260\":\"bab61d5f-464d-4a70-818c-6fc6a8b45f04\"},\"root_ids\":[\"p1260\"]}];\n  void root.Bokeh.embed.embed_items_notebook(docs_json, render_items);\n  }\n  if (root.Bokeh !== undefined) {\n    embed_document(root);\n  } else {\n    let attempts = 0;\n    const timer = setInterval(function(root) {\n      if (root.Bokeh !== undefined) {\n        clearInterval(timer);\n        embed_document(root);\n      } else {\n        attempts++;\n        if (attempts > 100) {\n          clearInterval(timer);\n          console.log(\"Bokeh: ERROR: Unable to run BokehJS code because BokehJS library is missing\");\n        }\n      }\n    }, 10, root)\n  }\n})(window);",
      "application/vnd.bokehjs_exec.v0+json": ""
     },
     "metadata": {
      "application/vnd.bokehjs_exec.v0+json": {
       "id": "p1260"
      }
     },
     "output_type": "display_data"
    }
   ],
   "source": [
    "from bokeh.models import ColumnDataSource\n",
    "\n",
    "x = list(range(-20, 21))\n",
    "y0, y1 = [abs(xx) for xx in x], [xx**2 for xx in x]\n",
    "\n",
    "# create a column data source for the plots to share\n",
    "source = ColumnDataSource(data=dict(x=x, y0=y0, y1=y1))\n",
    "\n",
    "TOOLS = \"box_select,lasso_select,help\"\n",
    "\n",
    "# create a new plot and add a renderer\n",
    "left = figure(tools=TOOLS, width=300, height=300)\n",
    "left.circle('x', 'y0', source=source)\n",
    "\n",
    "# create another new plot and add a renderer\n",
    "right = figure(tools=TOOLS, width=300, height=300)\n",
    "right.circle('x', 'y1', source=source)\n",
    "\n",
    "p = gridplot([[left, right]])\n",
    "\n",
    "show(p)"
   ]
  },
  {
   "cell_type": "code",
   "execution_count": 5,
   "id": "a5ca9369",
   "metadata": {
    "id": "ClRKKMhsowhR"
   },
   "outputs": [
    {
     "data": {
      "text/html": [
       "\n",
       "  <div id=\"eb61ca0e-d207-4427-9153-60b9d38ecd08\" data-root-id=\"p1348\" style=\"display: contents;\"></div>\n"
      ]
     },
     "metadata": {},
     "output_type": "display_data"
    },
    {
     "data": {
      "application/javascript": "(function(root) {\n  function embed_document(root) {\n  const docs_json = {\"4aa09ade-f697-4af4-b034-6515aa1a84d9\":{\"version\":\"3.6.1\",\"title\":\"Bokeh Application\",\"roots\":[{\"type\":\"object\",\"name\":\"GridPlot\",\"id\":\"p1348\",\"attributes\":{\"rows\":null,\"cols\":null,\"toolbar\":{\"type\":\"object\",\"name\":\"Toolbar\",\"id\":\"p1347\",\"attributes\":{\"tools\":[{\"type\":\"object\",\"name\":\"ToolProxy\",\"id\":\"p1344\",\"attributes\":{\"tools\":[{\"type\":\"object\",\"name\":\"BoxSelectTool\",\"id\":\"p1283\",\"attributes\":{\"renderers\":\"auto\",\"overlay\":{\"type\":\"object\",\"name\":\"BoxAnnotation\",\"id\":\"p1284\",\"attributes\":{\"syncable\":false,\"line_color\":\"black\",\"line_alpha\":1.0,\"line_width\":2,\"line_dash\":[4,4],\"fill_color\":\"lightgrey\",\"fill_alpha\":0.5,\"level\":\"overlay\",\"visible\":false,\"left\":{\"type\":\"number\",\"value\":\"nan\"},\"right\":{\"type\":\"number\",\"value\":\"nan\"},\"top\":{\"type\":\"number\",\"value\":\"nan\"},\"bottom\":{\"type\":\"number\",\"value\":\"nan\"},\"editable\":true,\"handles\":{\"type\":\"object\",\"name\":\"BoxInteractionHandles\",\"id\":\"p1290\",\"attributes\":{\"all\":{\"type\":\"object\",\"name\":\"AreaVisuals\",\"id\":\"p1289\",\"attributes\":{\"fill_color\":\"white\",\"hover_fill_color\":\"lightgray\"}}}}}}}},{\"type\":\"object\",\"name\":\"BoxSelectTool\",\"id\":\"p1324\",\"attributes\":{\"renderers\":\"auto\",\"overlay\":{\"type\":\"object\",\"name\":\"BoxAnnotation\",\"id\":\"p1325\",\"attributes\":{\"syncable\":false,\"line_color\":\"black\",\"line_alpha\":1.0,\"line_width\":2,\"line_dash\":[4,4],\"fill_color\":\"lightgrey\",\"fill_alpha\":0.5,\"level\":\"overlay\",\"visible\":false,\"left\":{\"type\":\"number\",\"value\":\"nan\"},\"right\":{\"type\":\"number\",\"value\":\"nan\"},\"top\":{\"type\":\"number\",\"value\":\"nan\"},\"bottom\":{\"type\":\"number\",\"value\":\"nan\"},\"editable\":true,\"handles\":{\"type\":\"object\",\"name\":\"BoxInteractionHandles\",\"id\":\"p1331\",\"attributes\":{\"all\":{\"type\":\"object\",\"name\":\"AreaVisuals\",\"id\":\"p1330\",\"attributes\":{\"fill_color\":\"white\",\"hover_fill_color\":\"lightgray\"}}}}}}}}]}},{\"type\":\"object\",\"name\":\"ToolProxy\",\"id\":\"p1345\",\"attributes\":{\"tools\":[{\"type\":\"object\",\"name\":\"LassoSelectTool\",\"id\":\"p1291\",\"attributes\":{\"renderers\":\"auto\",\"overlay\":{\"type\":\"object\",\"name\":\"PolyAnnotation\",\"id\":\"p1292\",\"attributes\":{\"syncable\":false,\"level\":\"overlay\",\"visible\":false,\"xs\":[],\"ys\":[],\"editable\":true,\"line_color\":\"black\",\"line_alpha\":1.0,\"line_width\":2,\"line_dash\":[4,4],\"fill_color\":\"lightgrey\",\"fill_alpha\":0.5}}}},{\"type\":\"object\",\"name\":\"LassoSelectTool\",\"id\":\"p1332\",\"attributes\":{\"renderers\":\"auto\",\"overlay\":{\"type\":\"object\",\"name\":\"PolyAnnotation\",\"id\":\"p1333\",\"attributes\":{\"syncable\":false,\"level\":\"overlay\",\"visible\":false,\"xs\":[],\"ys\":[],\"editable\":true,\"line_color\":\"black\",\"line_alpha\":1.0,\"line_width\":2,\"line_dash\":[4,4],\"fill_color\":\"lightgrey\",\"fill_alpha\":0.5}}}}]}},{\"type\":\"object\",\"name\":\"ToolProxy\",\"id\":\"p1346\",\"attributes\":{\"tools\":[{\"type\":\"object\",\"name\":\"HelpTool\",\"id\":\"p1293\"},{\"type\":\"object\",\"name\":\"HelpTool\",\"id\":\"p1334\"}]}}]}},\"children\":[[{\"type\":\"object\",\"name\":\"Figure\",\"id\":\"p1262\",\"attributes\":{\"width\":300,\"height\":300,\"x_range\":{\"type\":\"object\",\"name\":\"DataRange1d\",\"id\":\"p1263\"},\"y_range\":{\"type\":\"object\",\"name\":\"DataRange1d\",\"id\":\"p1264\"},\"x_scale\":{\"type\":\"object\",\"name\":\"LinearScale\",\"id\":\"p1271\"},\"y_scale\":{\"type\":\"object\",\"name\":\"LinearScale\",\"id\":\"p1272\"},\"title\":{\"type\":\"object\",\"name\":\"Title\",\"id\":\"p1269\"},\"renderers\":[{\"type\":\"object\",\"name\":\"GlyphRenderer\",\"id\":\"p1300\",\"attributes\":{\"data_source\":{\"type\":\"object\",\"name\":\"ColumnDataSource\",\"id\":\"p1171\",\"attributes\":{\"selected\":{\"type\":\"object\",\"name\":\"Selection\",\"id\":\"p1172\",\"attributes\":{\"indices\":[],\"line_indices\":[]}},\"selection_policy\":{\"type\":\"object\",\"name\":\"UnionRenderers\",\"id\":\"p1173\"},\"data\":{\"type\":\"map\",\"entries\":[[\"x\",[-20,-19,-18,-17,-16,-15,-14,-13,-12,-11,-10,-9,-8,-7,-6,-5,-4,-3,-2,-1,0,1,2,3,4,5,6,7,8,9,10,11,12,13,14,15,16,17,18,19,20]],[\"y0\",[20,19,18,17,16,15,14,13,12,11,10,9,8,7,6,5,4,3,2,1,0,1,2,3,4,5,6,7,8,9,10,11,12,13,14,15,16,17,18,19,20]],[\"y1\",[400,361,324,289,256,225,196,169,144,121,100,81,64,49,36,25,16,9,4,1,0,1,4,9,16,25,36,49,64,81,100,121,144,169,196,225,256,289,324,361,400]]]}}},\"view\":{\"type\":\"object\",\"name\":\"CDSView\",\"id\":\"p1301\",\"attributes\":{\"filter\":{\"type\":\"object\",\"name\":\"AllIndices\",\"id\":\"p1302\"}}},\"glyph\":{\"type\":\"object\",\"name\":\"Circle\",\"id\":\"p1297\",\"attributes\":{\"x\":{\"type\":\"field\",\"field\":\"x\"},\"y\":{\"type\":\"field\",\"field\":\"y0\"},\"line_color\":{\"type\":\"value\",\"value\":\"#1f77b4\"},\"fill_color\":{\"type\":\"value\",\"value\":\"#1f77b4\"}}},\"nonselection_glyph\":{\"type\":\"object\",\"name\":\"Circle\",\"id\":\"p1298\",\"attributes\":{\"x\":{\"type\":\"field\",\"field\":\"x\"},\"y\":{\"type\":\"field\",\"field\":\"y0\"},\"line_color\":{\"type\":\"value\",\"value\":\"#1f77b4\"},\"line_alpha\":{\"type\":\"value\",\"value\":0.1},\"fill_color\":{\"type\":\"value\",\"value\":\"#1f77b4\"},\"fill_alpha\":{\"type\":\"value\",\"value\":0.1},\"hatch_alpha\":{\"type\":\"value\",\"value\":0.1}}},\"muted_glyph\":{\"type\":\"object\",\"name\":\"Circle\",\"id\":\"p1299\",\"attributes\":{\"x\":{\"type\":\"field\",\"field\":\"x\"},\"y\":{\"type\":\"field\",\"field\":\"y0\"},\"line_color\":{\"type\":\"value\",\"value\":\"#1f77b4\"},\"line_alpha\":{\"type\":\"value\",\"value\":0.2},\"fill_color\":{\"type\":\"value\",\"value\":\"#1f77b4\"},\"fill_alpha\":{\"type\":\"value\",\"value\":0.2},\"hatch_alpha\":{\"type\":\"value\",\"value\":0.2}}}}}],\"toolbar\":{\"type\":\"object\",\"name\":\"Toolbar\",\"id\":\"p1270\",\"attributes\":{\"tools\":[{\"id\":\"p1283\"},{\"id\":\"p1291\"},{\"id\":\"p1293\"}]}},\"toolbar_location\":null,\"left\":[{\"type\":\"object\",\"name\":\"LinearAxis\",\"id\":\"p1278\",\"attributes\":{\"ticker\":{\"type\":\"object\",\"name\":\"BasicTicker\",\"id\":\"p1279\",\"attributes\":{\"mantissas\":[1,2,5]}},\"formatter\":{\"type\":\"object\",\"name\":\"BasicTickFormatter\",\"id\":\"p1280\"},\"major_label_policy\":{\"type\":\"object\",\"name\":\"AllLabels\",\"id\":\"p1281\"}}}],\"below\":[{\"type\":\"object\",\"name\":\"LinearAxis\",\"id\":\"p1273\",\"attributes\":{\"ticker\":{\"type\":\"object\",\"name\":\"BasicTicker\",\"id\":\"p1274\",\"attributes\":{\"mantissas\":[1,2,5]}},\"formatter\":{\"type\":\"object\",\"name\":\"BasicTickFormatter\",\"id\":\"p1275\"},\"major_label_policy\":{\"type\":\"object\",\"name\":\"AllLabels\",\"id\":\"p1276\"}}}],\"center\":[{\"type\":\"object\",\"name\":\"Grid\",\"id\":\"p1277\",\"attributes\":{\"axis\":{\"id\":\"p1273\"}}},{\"type\":\"object\",\"name\":\"Grid\",\"id\":\"p1282\",\"attributes\":{\"dimension\":1,\"axis\":{\"id\":\"p1278\"}}}]}},0,0],[{\"type\":\"object\",\"name\":\"Figure\",\"id\":\"p1303\",\"attributes\":{\"width\":300,\"height\":300,\"x_range\":{\"type\":\"object\",\"name\":\"DataRange1d\",\"id\":\"p1304\"},\"y_range\":{\"type\":\"object\",\"name\":\"DataRange1d\",\"id\":\"p1305\"},\"x_scale\":{\"type\":\"object\",\"name\":\"LinearScale\",\"id\":\"p1312\"},\"y_scale\":{\"type\":\"object\",\"name\":\"LinearScale\",\"id\":\"p1313\"},\"title\":{\"type\":\"object\",\"name\":\"Title\",\"id\":\"p1310\"},\"renderers\":[{\"type\":\"object\",\"name\":\"GlyphRenderer\",\"id\":\"p1341\",\"attributes\":{\"data_source\":{\"id\":\"p1171\"},\"view\":{\"type\":\"object\",\"name\":\"CDSView\",\"id\":\"p1342\",\"attributes\":{\"filter\":{\"type\":\"object\",\"name\":\"AllIndices\",\"id\":\"p1343\"}}},\"glyph\":{\"type\":\"object\",\"name\":\"Circle\",\"id\":\"p1338\",\"attributes\":{\"x\":{\"type\":\"field\",\"field\":\"x\"},\"y\":{\"type\":\"field\",\"field\":\"y1\"},\"line_color\":{\"type\":\"value\",\"value\":\"#1f77b4\"},\"fill_color\":{\"type\":\"value\",\"value\":\"#1f77b4\"}}},\"nonselection_glyph\":{\"type\":\"object\",\"name\":\"Circle\",\"id\":\"p1339\",\"attributes\":{\"x\":{\"type\":\"field\",\"field\":\"x\"},\"y\":{\"type\":\"field\",\"field\":\"y1\"},\"line_color\":{\"type\":\"value\",\"value\":\"#1f77b4\"},\"line_alpha\":{\"type\":\"value\",\"value\":0.1},\"fill_color\":{\"type\":\"value\",\"value\":\"#1f77b4\"},\"fill_alpha\":{\"type\":\"value\",\"value\":0.1},\"hatch_alpha\":{\"type\":\"value\",\"value\":0.1}}},\"muted_glyph\":{\"type\":\"object\",\"name\":\"Circle\",\"id\":\"p1340\",\"attributes\":{\"x\":{\"type\":\"field\",\"field\":\"x\"},\"y\":{\"type\":\"field\",\"field\":\"y1\"},\"line_color\":{\"type\":\"value\",\"value\":\"#1f77b4\"},\"line_alpha\":{\"type\":\"value\",\"value\":0.2},\"fill_color\":{\"type\":\"value\",\"value\":\"#1f77b4\"},\"fill_alpha\":{\"type\":\"value\",\"value\":0.2},\"hatch_alpha\":{\"type\":\"value\",\"value\":0.2}}}}}],\"toolbar\":{\"type\":\"object\",\"name\":\"Toolbar\",\"id\":\"p1311\",\"attributes\":{\"tools\":[{\"id\":\"p1324\"},{\"id\":\"p1332\"},{\"id\":\"p1334\"}]}},\"toolbar_location\":null,\"left\":[{\"type\":\"object\",\"name\":\"LinearAxis\",\"id\":\"p1319\",\"attributes\":{\"ticker\":{\"type\":\"object\",\"name\":\"BasicTicker\",\"id\":\"p1320\",\"attributes\":{\"mantissas\":[1,2,5]}},\"formatter\":{\"type\":\"object\",\"name\":\"BasicTickFormatter\",\"id\":\"p1321\"},\"major_label_policy\":{\"type\":\"object\",\"name\":\"AllLabels\",\"id\":\"p1322\"}}}],\"below\":[{\"type\":\"object\",\"name\":\"LinearAxis\",\"id\":\"p1314\",\"attributes\":{\"ticker\":{\"type\":\"object\",\"name\":\"BasicTicker\",\"id\":\"p1315\",\"attributes\":{\"mantissas\":[1,2,5]}},\"formatter\":{\"type\":\"object\",\"name\":\"BasicTickFormatter\",\"id\":\"p1316\"},\"major_label_policy\":{\"type\":\"object\",\"name\":\"AllLabels\",\"id\":\"p1317\"}}}],\"center\":[{\"type\":\"object\",\"name\":\"Grid\",\"id\":\"p1318\",\"attributes\":{\"axis\":{\"id\":\"p1314\"}}},{\"type\":\"object\",\"name\":\"Grid\",\"id\":\"p1323\",\"attributes\":{\"dimension\":1,\"axis\":{\"id\":\"p1319\"}}}]}},0,1]]}}]}};\n  const render_items = [{\"docid\":\"4aa09ade-f697-4af4-b034-6515aa1a84d9\",\"roots\":{\"p1348\":\"eb61ca0e-d207-4427-9153-60b9d38ecd08\"},\"root_ids\":[\"p1348\"]}];\n  void root.Bokeh.embed.embed_items_notebook(docs_json, render_items);\n  }\n  if (root.Bokeh !== undefined) {\n    embed_document(root);\n  } else {\n    let attempts = 0;\n    const timer = setInterval(function(root) {\n      if (root.Bokeh !== undefined) {\n        clearInterval(timer);\n        embed_document(root);\n      } else {\n        attempts++;\n        if (attempts > 100) {\n          clearInterval(timer);\n          console.log(\"Bokeh: ERROR: Unable to run BokehJS code because BokehJS library is missing\");\n        }\n      }\n    }, 10, root)\n  }\n})(window);",
      "application/vnd.bokehjs_exec.v0+json": ""
     },
     "metadata": {
      "application/vnd.bokehjs_exec.v0+json": {
       "id": "p1348"
      }
     },
     "output_type": "display_data"
    }
   ],
   "source": [
    "# EXERCISE: create two plots in a gridplot, and link their data sources\n",
    "\n",
    "left_plot = figure(tools=TOOLS, width=300, height=300)\n",
    "left_plot.circle('x', 'y0', source=source)\n",
    "\n",
    "right_plot = figure(tools=TOOLS, width=300, height=300)\n",
    "right_plot.circle('x', 'y1', source=source)\n",
    "\n",
    "linked_grid = gridplot([[left_plot, right_plot]])\n",
    "show(linked_grid)"
   ]
  },
  {
   "cell_type": "markdown",
   "id": "928d2405",
   "metadata": {
    "id": "g04GhuawowhS"
   },
   "source": [
    "# Hover Tools\n",
    "\n",
    "Bokeh has a Hover Tool that allows additional information to be displayed in a popup whenever the user hovers over a specific glyph. Basic hover tool configuration amounts to providing a list of ``(name, format)`` tuples. The full details can be found in the User's Guide [here](https://bokeh.pydata.org/en/latest/docs/user_guide/tools.html#hovertool).\n",
    "\n",
    "The example below shows some basic usage of the Hover tool with a circle glyph, using hover information defined in utils.py:"
   ]
  },
  {
   "cell_type": "code",
   "execution_count": 6,
   "id": "35e05293",
   "metadata": {
    "id": "aDCQjLw5owhS"
   },
   "outputs": [
    {
     "name": "stderr",
     "output_type": "stream",
     "text": [
      "BokehDeprecationWarning: 'circle() method with size value' was deprecated in Bokeh 3.4.0 and will be removed, use 'scatter(size=...) instead' instead.\n"
     ]
    },
    {
     "data": {
      "text/html": [
       "\n",
       "  <div id=\"c4c8ee58-b83e-453b-aa31-73d98f91fea0\" data-root-id=\"p1354\" style=\"display: contents;\"></div>\n"
      ]
     },
     "metadata": {},
     "output_type": "display_data"
    },
    {
     "data": {
      "application/javascript": "(function(root) {\n  function embed_document(root) {\n  const docs_json = {\"cd510974-09cc-463f-8fde-ebac25e52914\":{\"version\":\"3.6.1\",\"title\":\"Bokeh Application\",\"roots\":[{\"type\":\"object\",\"name\":\"Figure\",\"id\":\"p1354\",\"attributes\":{\"width\":300,\"height\":300,\"x_range\":{\"type\":\"object\",\"name\":\"DataRange1d\",\"id\":\"p1355\"},\"y_range\":{\"type\":\"object\",\"name\":\"DataRange1d\",\"id\":\"p1356\"},\"x_scale\":{\"type\":\"object\",\"name\":\"LinearScale\",\"id\":\"p1364\"},\"y_scale\":{\"type\":\"object\",\"name\":\"LinearScale\",\"id\":\"p1365\"},\"title\":{\"type\":\"object\",\"name\":\"Title\",\"id\":\"p1357\",\"attributes\":{\"text\":\"Mouse over the dots\"}},\"renderers\":[{\"type\":\"object\",\"name\":\"GlyphRenderer\",\"id\":\"p1382\",\"attributes\":{\"data_source\":{\"type\":\"object\",\"name\":\"ColumnDataSource\",\"id\":\"p1350\",\"attributes\":{\"selected\":{\"type\":\"object\",\"name\":\"Selection\",\"id\":\"p1351\",\"attributes\":{\"indices\":[],\"line_indices\":[]}},\"selection_policy\":{\"type\":\"object\",\"name\":\"UnionRenderers\",\"id\":\"p1352\"},\"data\":{\"type\":\"map\",\"entries\":[[\"x\",[1,2,3,4,5]],[\"y\",[2,5,8,2,7]],[\"desc\",[\"A\",\"b\",\"C\",\"d\",\"E\"]]]}}},\"view\":{\"type\":\"object\",\"name\":\"CDSView\",\"id\":\"p1383\",\"attributes\":{\"filter\":{\"type\":\"object\",\"name\":\"AllIndices\",\"id\":\"p1384\"}}},\"glyph\":{\"type\":\"object\",\"name\":\"Scatter\",\"id\":\"p1379\",\"attributes\":{\"x\":{\"type\":\"field\",\"field\":\"x\"},\"y\":{\"type\":\"field\",\"field\":\"y\"},\"size\":{\"type\":\"value\",\"value\":20},\"line_color\":{\"type\":\"value\",\"value\":\"#1f77b4\"},\"fill_color\":{\"type\":\"value\",\"value\":\"#1f77b4\"}}},\"nonselection_glyph\":{\"type\":\"object\",\"name\":\"Scatter\",\"id\":\"p1380\",\"attributes\":{\"x\":{\"type\":\"field\",\"field\":\"x\"},\"y\":{\"type\":\"field\",\"field\":\"y\"},\"size\":{\"type\":\"value\",\"value\":20},\"line_color\":{\"type\":\"value\",\"value\":\"#1f77b4\"},\"line_alpha\":{\"type\":\"value\",\"value\":0.1},\"fill_color\":{\"type\":\"value\",\"value\":\"#1f77b4\"},\"fill_alpha\":{\"type\":\"value\",\"value\":0.1},\"hatch_alpha\":{\"type\":\"value\",\"value\":0.1}}},\"muted_glyph\":{\"type\":\"object\",\"name\":\"Scatter\",\"id\":\"p1381\",\"attributes\":{\"x\":{\"type\":\"field\",\"field\":\"x\"},\"y\":{\"type\":\"field\",\"field\":\"y\"},\"size\":{\"type\":\"value\",\"value\":20},\"line_color\":{\"type\":\"value\",\"value\":\"#1f77b4\"},\"line_alpha\":{\"type\":\"value\",\"value\":0.2},\"fill_color\":{\"type\":\"value\",\"value\":\"#1f77b4\"},\"fill_alpha\":{\"type\":\"value\",\"value\":0.2},\"hatch_alpha\":{\"type\":\"value\",\"value\":0.2}}}}}],\"toolbar\":{\"type\":\"object\",\"name\":\"Toolbar\",\"id\":\"p1363\",\"attributes\":{\"tools\":[{\"type\":\"object\",\"name\":\"HoverTool\",\"id\":\"p1353\",\"attributes\":{\"renderers\":\"auto\",\"tooltips\":[[\"index\",\"$index\"],[\"(x,y)\",\"($x, $y)\"],[\"desc\",\"@desc\"]]}}]}},\"left\":[{\"type\":\"object\",\"name\":\"LinearAxis\",\"id\":\"p1371\",\"attributes\":{\"ticker\":{\"type\":\"object\",\"name\":\"BasicTicker\",\"id\":\"p1372\",\"attributes\":{\"mantissas\":[1,2,5]}},\"formatter\":{\"type\":\"object\",\"name\":\"BasicTickFormatter\",\"id\":\"p1373\"},\"major_label_policy\":{\"type\":\"object\",\"name\":\"AllLabels\",\"id\":\"p1374\"}}}],\"below\":[{\"type\":\"object\",\"name\":\"LinearAxis\",\"id\":\"p1366\",\"attributes\":{\"ticker\":{\"type\":\"object\",\"name\":\"BasicTicker\",\"id\":\"p1367\",\"attributes\":{\"mantissas\":[1,2,5]}},\"formatter\":{\"type\":\"object\",\"name\":\"BasicTickFormatter\",\"id\":\"p1368\"},\"major_label_policy\":{\"type\":\"object\",\"name\":\"AllLabels\",\"id\":\"p1369\"}}}],\"center\":[{\"type\":\"object\",\"name\":\"Grid\",\"id\":\"p1370\",\"attributes\":{\"axis\":{\"id\":\"p1366\"}}},{\"type\":\"object\",\"name\":\"Grid\",\"id\":\"p1375\",\"attributes\":{\"dimension\":1,\"axis\":{\"id\":\"p1371\"}}}]}}]}};\n  const render_items = [{\"docid\":\"cd510974-09cc-463f-8fde-ebac25e52914\",\"roots\":{\"p1354\":\"c4c8ee58-b83e-453b-aa31-73d98f91fea0\"},\"root_ids\":[\"p1354\"]}];\n  void root.Bokeh.embed.embed_items_notebook(docs_json, render_items);\n  }\n  if (root.Bokeh !== undefined) {\n    embed_document(root);\n  } else {\n    let attempts = 0;\n    const timer = setInterval(function(root) {\n      if (root.Bokeh !== undefined) {\n        clearInterval(timer);\n        embed_document(root);\n      } else {\n        attempts++;\n        if (attempts > 100) {\n          clearInterval(timer);\n          console.log(\"Bokeh: ERROR: Unable to run BokehJS code because BokehJS library is missing\");\n        }\n      }\n    }, 10, root)\n  }\n})(window);",
      "application/vnd.bokehjs_exec.v0+json": ""
     },
     "metadata": {
      "application/vnd.bokehjs_exec.v0+json": {
       "id": "p1354"
      }
     },
     "output_type": "display_data"
    }
   ],
   "source": [
    "from bokeh.models import HoverTool\n",
    "\n",
    "source = ColumnDataSource(\n",
    "        data=dict(\n",
    "            x=[1, 2, 3, 4, 5],\n",
    "            y=[2, 5, 8, 2, 7],\n",
    "            desc=['A', 'b', 'C', 'd', 'E'],\n",
    "        )\n",
    "    )\n",
    "\n",
    "hover = HoverTool(\n",
    "        tooltips=[\n",
    "            (\"index\", \"$index\"),\n",
    "            (\"(x,y)\", \"($x, $y)\"),\n",
    "            (\"desc\", \"@desc\"),\n",
    "        ]\n",
    "    )\n",
    "\n",
    "p = figure(width=300, height=300, tools=[hover], title=\"Mouse over the dots\")\n",
    "\n",
    "p.circle('x', 'y', size=20, source=source)\n",
    "\n",
    "show(p)"
   ]
  },
  {
   "cell_type": "markdown",
   "id": "aad260b0",
   "metadata": {
    "id": "HWiwXjm7owhT"
   },
   "source": [
    "# Widgets"
   ]
  },
  {
   "cell_type": "markdown",
   "id": "b629a2dd",
   "metadata": {
    "id": "uRyJEE05owhT"
   },
   "source": [
    "Bokeh supports direct integration with a small basic widget set. These can be used in conjunction with a Bokeh Server, or with ``CustomJS`` models to add more interactive capability to your documents. You can see a complete list, with example code in the [Widgets and DOM elements](https://docs.bokeh.org/en/latest/docs/user_guide/interaction/widgets.html) section of the User's Guide.\n",
    "\n",
    "\n",
    "\n",
    "*NOTE: In this Tutorial chapter, we will focus on using widgets with JavaScript callbacks. The Tutorial chapter on Bokeh server applications covers using Bokeh widgets with real Python callbacks*\n",
    "\n",
    "\n",
    "\n",
    "\n",
    "To use the widgets, include them in a layout like you would a plot object:"
   ]
  },
  {
   "cell_type": "code",
   "execution_count": 7,
   "id": "95449a22",
   "metadata": {
    "id": "jPyCU0H1owhU"
   },
   "outputs": [
    {
     "data": {
      "text/html": [
       "\n",
       "  <div id=\"ebb346b0-e9f9-400c-b8a5-58ed4fb847c5\" data-root-id=\"p1385\" style=\"display: contents;\"></div>\n"
      ]
     },
     "metadata": {},
     "output_type": "display_data"
    },
    {
     "data": {
      "application/javascript": "(function(root) {\n  function embed_document(root) {\n  const docs_json = {\"18da9842-f07a-48bc-832f-6bee7873d91b\":{\"version\":\"3.6.1\",\"title\":\"Bokeh Application\",\"roots\":[{\"type\":\"object\",\"name\":\"Slider\",\"id\":\"p1385\",\"attributes\":{\"title\":\"foo\",\"start\":0,\"end\":10,\"value\":1,\"step\":0.1}}]}};\n  const render_items = [{\"docid\":\"18da9842-f07a-48bc-832f-6bee7873d91b\",\"roots\":{\"p1385\":\"ebb346b0-e9f9-400c-b8a5-58ed4fb847c5\"},\"root_ids\":[\"p1385\"]}];\n  void root.Bokeh.embed.embed_items_notebook(docs_json, render_items);\n  }\n  if (root.Bokeh !== undefined) {\n    embed_document(root);\n  } else {\n    let attempts = 0;\n    const timer = setInterval(function(root) {\n      if (root.Bokeh !== undefined) {\n        clearInterval(timer);\n        embed_document(root);\n      } else {\n        attempts++;\n        if (attempts > 100) {\n          clearInterval(timer);\n          console.log(\"Bokeh: ERROR: Unable to run BokehJS code because BokehJS library is missing\");\n        }\n      }\n    }, 10, root)\n  }\n})(window);",
      "application/vnd.bokehjs_exec.v0+json": ""
     },
     "metadata": {
      "application/vnd.bokehjs_exec.v0+json": {
       "id": "p1385"
      }
     },
     "output_type": "display_data"
    }
   ],
   "source": [
    "from bokeh.models import Slider\n",
    "\n",
    "\n",
    "slider = Slider(start=0, end=10, value=1, step=.1, title=\"foo\")\n",
    "\n",
    "show(slider)"
   ]
  },
  {
   "cell_type": "code",
   "execution_count": 8,
   "id": "85842737",
   "metadata": {
    "id": "70gXlN1SowhU"
   },
   "outputs": [
    {
     "data": {
      "text/html": [
       "\n",
       "  <div id=\"cb9095c9-5969-453b-8ef6-583a8debe6a9\" data-root-id=\"p1386\" style=\"display: contents;\"></div>\n"
      ]
     },
     "metadata": {},
     "output_type": "display_data"
    },
    {
     "data": {
      "application/javascript": "(function(root) {\n  function embed_document(root) {\n  const docs_json = {\"8164ce3d-4fbc-4d24-afa1-57a85cecd918\":{\"version\":\"3.6.1\",\"title\":\"Bokeh Application\",\"roots\":[{\"type\":\"object\",\"name\":\"Select\",\"id\":\"p1386\",\"attributes\":{\"title\":\"Option:\",\"options\":[\"Option 1\",\"Option 2\",\"Option 3\"],\"value\":\"Option 1\"}}]}};\n  const render_items = [{\"docid\":\"8164ce3d-4fbc-4d24-afa1-57a85cecd918\",\"roots\":{\"p1386\":\"cb9095c9-5969-453b-8ef6-583a8debe6a9\"},\"root_ids\":[\"p1386\"]}];\n  void root.Bokeh.embed.embed_items_notebook(docs_json, render_items);\n  }\n  if (root.Bokeh !== undefined) {\n    embed_document(root);\n  } else {\n    let attempts = 0;\n    const timer = setInterval(function(root) {\n      if (root.Bokeh !== undefined) {\n        clearInterval(timer);\n        embed_document(root);\n      } else {\n        attempts++;\n        if (attempts > 100) {\n          clearInterval(timer);\n          console.log(\"Bokeh: ERROR: Unable to run BokehJS code because BokehJS library is missing\");\n        }\n      }\n    }, 10, root)\n  }\n})(window);",
      "application/vnd.bokehjs_exec.v0+json": ""
     },
     "metadata": {
      "application/vnd.bokehjs_exec.v0+json": {
       "id": "p1386"
      }
     },
     "output_type": "display_data"
    }
   ],
   "source": [
    "# EXERCISE: create and show a Select widget\n",
    "from bokeh.models import Select\n",
    "\n",
    "select = Select(title=\"Option:\", value=\"Option 1\", options=[\"Option 1\", \"Option 2\", \"Option 3\"])\n",
    "show(select)"
   ]
  },
  {
   "cell_type": "markdown",
   "id": "cdb092ec",
   "metadata": {
    "id": "aoOXlBYMowhU"
   },
   "source": [
    "# CustomJS Callbacks\n",
    "\n",
    "In order for a widget to be useful, it needs to be able to perform some action. Using the Bokeh server, it is possible to have widgets trigger real Python code. That possibility will be explored in the Bokeh server chapter of the tutorial. Here, we look at how widgets can be configured with `CustomJS` callbacks that execute snippets of JavaScript code."
   ]
  },
  {
   "cell_type": "code",
   "execution_count": 9,
   "id": "551eeaad",
   "metadata": {
    "id": "q7-r1gZWowhV"
   },
   "outputs": [
    {
     "name": "stderr",
     "output_type": "stream",
     "text": [
      "BokehDeprecationWarning: 'circle() method with size value' was deprecated in Bokeh 3.4.0 and will be removed, use 'scatter(size=...) instead' instead.\n"
     ]
    },
    {
     "data": {
      "text/html": [
       "\n",
       "  <div id=\"bf2d57a3-f551-4fac-ad61-e70929cb1722\" data-root-id=\"p1389\" style=\"display: contents;\"></div>\n"
      ]
     },
     "metadata": {},
     "output_type": "display_data"
    },
    {
     "data": {
      "application/javascript": "(function(root) {\n  function embed_document(root) {\n  const docs_json = {\"0bc73c1e-3094-4595-b938-b7c69b5f413c\":{\"version\":\"3.6.1\",\"title\":\"Bokeh Application\",\"roots\":[{\"type\":\"object\",\"name\":\"Figure\",\"id\":\"p1389\",\"attributes\":{\"height\":300,\"x_range\":{\"type\":\"object\",\"name\":\"DataRange1d\",\"id\":\"p1390\"},\"y_range\":{\"type\":\"object\",\"name\":\"DataRange1d\",\"id\":\"p1391\"},\"x_scale\":{\"type\":\"object\",\"name\":\"LinearScale\",\"id\":\"p1398\"},\"y_scale\":{\"type\":\"object\",\"name\":\"LinearScale\",\"id\":\"p1399\"},\"title\":{\"type\":\"object\",\"name\":\"Title\",\"id\":\"p1396\"},\"renderers\":[{\"type\":\"object\",\"name\":\"GlyphRenderer\",\"id\":\"p1416\",\"attributes\":{\"data_source\":{\"type\":\"object\",\"name\":\"ColumnDataSource\",\"id\":\"p1410\",\"attributes\":{\"selected\":{\"type\":\"object\",\"name\":\"Selection\",\"id\":\"p1411\",\"attributes\":{\"indices\":[],\"line_indices\":[]}},\"selection_policy\":{\"type\":\"object\",\"name\":\"UnionRenderers\",\"id\":\"p1412\"},\"data\":{\"type\":\"map\",\"entries\":[[\"x\",[1,2,3,4,5]],[\"y\",[2,5,8,2,7]]]}}},\"view\":{\"type\":\"object\",\"name\":\"CDSView\",\"id\":\"p1417\",\"attributes\":{\"filter\":{\"type\":\"object\",\"name\":\"AllIndices\",\"id\":\"p1418\"}}},\"glyph\":{\"type\":\"object\",\"name\":\"Scatter\",\"id\":\"p1413\",\"attributes\":{\"x\":{\"type\":\"field\",\"field\":\"x\"},\"y\":{\"type\":\"field\",\"field\":\"y\"},\"size\":{\"type\":\"value\",\"value\":20},\"line_color\":{\"type\":\"value\",\"value\":\"#1f77b4\"},\"fill_color\":{\"type\":\"value\",\"value\":\"#1f77b4\"}}},\"nonselection_glyph\":{\"type\":\"object\",\"name\":\"Scatter\",\"id\":\"p1414\",\"attributes\":{\"x\":{\"type\":\"field\",\"field\":\"x\"},\"y\":{\"type\":\"field\",\"field\":\"y\"},\"size\":{\"type\":\"value\",\"value\":20},\"line_color\":{\"type\":\"value\",\"value\":\"#1f77b4\"},\"line_alpha\":{\"type\":\"value\",\"value\":0.1},\"fill_color\":{\"type\":\"value\",\"value\":\"#1f77b4\"},\"fill_alpha\":{\"type\":\"value\",\"value\":0.1},\"hatch_alpha\":{\"type\":\"value\",\"value\":0.1}}},\"muted_glyph\":{\"type\":\"object\",\"name\":\"Scatter\",\"id\":\"p1415\",\"attributes\":{\"x\":{\"type\":\"field\",\"field\":\"x\"},\"y\":{\"type\":\"field\",\"field\":\"y\"},\"size\":{\"type\":\"value\",\"value\":20},\"line_color\":{\"type\":\"value\",\"value\":\"#1f77b4\"},\"line_alpha\":{\"type\":\"value\",\"value\":0.2},\"fill_color\":{\"type\":\"value\",\"value\":\"#1f77b4\"},\"fill_alpha\":{\"type\":\"value\",\"value\":0.2},\"hatch_alpha\":{\"type\":\"value\",\"value\":0.2}}}}}],\"toolbar\":{\"type\":\"object\",\"name\":\"Toolbar\",\"id\":\"p1397\",\"attributes\":{\"tools\":[{\"type\":\"object\",\"name\":\"TapTool\",\"id\":\"p1388\",\"attributes\":{\"renderers\":\"auto\",\"callback\":{\"type\":\"object\",\"name\":\"CustomJS\",\"id\":\"p1387\",\"attributes\":{\"code\":\"alert('you tapped a circle!')\"}}}}]}},\"left\":[{\"type\":\"object\",\"name\":\"LinearAxis\",\"id\":\"p1405\",\"attributes\":{\"ticker\":{\"type\":\"object\",\"name\":\"BasicTicker\",\"id\":\"p1406\",\"attributes\":{\"mantissas\":[1,2,5]}},\"formatter\":{\"type\":\"object\",\"name\":\"BasicTickFormatter\",\"id\":\"p1407\"},\"major_label_policy\":{\"type\":\"object\",\"name\":\"AllLabels\",\"id\":\"p1408\"}}}],\"below\":[{\"type\":\"object\",\"name\":\"LinearAxis\",\"id\":\"p1400\",\"attributes\":{\"ticker\":{\"type\":\"object\",\"name\":\"BasicTicker\",\"id\":\"p1401\",\"attributes\":{\"mantissas\":[1,2,5]}},\"formatter\":{\"type\":\"object\",\"name\":\"BasicTickFormatter\",\"id\":\"p1402\"},\"major_label_policy\":{\"type\":\"object\",\"name\":\"AllLabels\",\"id\":\"p1403\"}}}],\"center\":[{\"type\":\"object\",\"name\":\"Grid\",\"id\":\"p1404\",\"attributes\":{\"axis\":{\"id\":\"p1400\"}}},{\"type\":\"object\",\"name\":\"Grid\",\"id\":\"p1409\",\"attributes\":{\"dimension\":1,\"axis\":{\"id\":\"p1405\"}}}]}}]}};\n  const render_items = [{\"docid\":\"0bc73c1e-3094-4595-b938-b7c69b5f413c\",\"roots\":{\"p1389\":\"bf2d57a3-f551-4fac-ad61-e70929cb1722\"},\"root_ids\":[\"p1389\"]}];\n  void root.Bokeh.embed.embed_items_notebook(docs_json, render_items);\n  }\n  if (root.Bokeh !== undefined) {\n    embed_document(root);\n  } else {\n    let attempts = 0;\n    const timer = setInterval(function(root) {\n      if (root.Bokeh !== undefined) {\n        clearInterval(timer);\n        embed_document(root);\n      } else {\n        attempts++;\n        if (attempts > 100) {\n          clearInterval(timer);\n          console.log(\"Bokeh: ERROR: Unable to run BokehJS code because BokehJS library is missing\");\n        }\n      }\n    }, 10, root)\n  }\n})(window);",
      "application/vnd.bokehjs_exec.v0+json": ""
     },
     "metadata": {
      "application/vnd.bokehjs_exec.v0+json": {
       "id": "p1389"
      }
     },
     "output_type": "display_data"
    }
   ],
   "source": [
    "from bokeh.models import TapTool, CustomJS, ColumnDataSource\n",
    "\n",
    "callback = CustomJS(code=\"alert('you tapped a circle!')\")\n",
    "tap = TapTool(callback=callback)\n",
    "\n",
    "p = figure(width=600, height=300, tools=[tap])\n",
    "\n",
    "p.circle(x=[1, 2, 3, 4, 5], y=[2, 5, 8, 2, 7], size=20)\n",
    "\n",
    "show(p)"
   ]
  },
  {
   "cell_type": "markdown",
   "id": "ef3b88f9",
   "metadata": {
    "id": "-5CCzJ__owhV"
   },
   "source": [
    "## CustomJS for Property changes\n",
    "\n",
    "Bokeh objects that have values associated can have small JavaScript actions attached to them using the `js_on_change` method. These actions (also referred to as \"callbacks\") are executed whenever the widget's value is changed. In order to make it easier to refer to specific Bokeh models (e.g., a data source, or a glyph) from JavaScript, the ``CustomJS`` object also accepts a dictionary of \"args\" that map names to Python Bokeh models. The corresponding JavaScript models are made available automatically to the ``CustomJS`` code:\n",
    "\n",
    "```python\n",
    "CustomJS(args=dict(source=source, slider=slider), code=\"\"\"\n",
    "    // easily refer to BokehJS source and slider objects in this JS code\n",
    "    var data = source.data;\n",
    "    var f = slider.value;\n",
    "\"\"\")\n",
    "```"
   ]
  },
  {
   "cell_type": "markdown",
   "id": "77ba5eee",
   "metadata": {
    "id": "ZIwn1j0howhW"
   },
   "source": [
    "### Slider widget example\n",
    "\n",
    "The example below shows an action attached to a slider that updates a data source whenever the slider is moved.  "
   ]
  },
  {
   "cell_type": "code",
   "execution_count": 10,
   "id": "1fcde20d",
   "metadata": {
    "id": "UAA5lC7iowhW"
   },
   "outputs": [
    {
     "data": {
      "text/html": [
       "\n",
       "  <div id=\"a3fdc6d1-f401-42c8-80bc-b5342ffc49b1\" data-root-id=\"p1467\" style=\"display: contents;\"></div>\n"
      ]
     },
     "metadata": {},
     "output_type": "display_data"
    },
    {
     "data": {
      "application/javascript": "(function(root) {\n  function embed_document(root) {\n  const docs_json = {\"eadc18f8-57dc-4167-a7dc-bfec9e3a5158\":{\"version\":\"3.6.1\",\"title\":\"Bokeh Application\",\"roots\":[{\"type\":\"object\",\"name\":\"Column\",\"id\":\"p1467\",\"attributes\":{\"children\":[{\"type\":\"object\",\"name\":\"Slider\",\"id\":\"p1465\",\"attributes\":{\"js_property_callbacks\":{\"type\":\"map\",\"entries\":[[\"change:value\",[{\"type\":\"object\",\"name\":\"CustomJS\",\"id\":\"p1466\",\"attributes\":{\"args\":{\"type\":\"map\",\"entries\":[[\"source\",{\"type\":\"object\",\"name\":\"ColumnDataSource\",\"id\":\"p1419\",\"attributes\":{\"selected\":{\"type\":\"object\",\"name\":\"Selection\",\"id\":\"p1420\",\"attributes\":{\"indices\":[],\"line_indices\":[]}},\"selection_policy\":{\"type\":\"object\",\"name\":\"UnionRenderers\",\"id\":\"p1421\"},\"data\":{\"type\":\"map\",\"entries\":[[\"x\",[0.0,0.005,0.01,0.015,0.02,0.025,0.03,0.035,0.04,0.045,0.05,0.055,0.06,0.065,0.07,0.075,0.08,0.085,0.09,0.095,0.1,0.105,0.11,0.115,0.12,0.125,0.13,0.135,0.14,0.145,0.15,0.155,0.16,0.165,0.17,0.17500000000000002,0.18,0.185,0.19,0.195,0.2,0.20500000000000002,0.21,0.215,0.22,0.225,0.23,0.23500000000000001,0.24,0.245,0.25,0.255,0.26,0.265,0.27,0.275,0.28,0.28500000000000003,0.29,0.295,0.3,0.305,0.31,0.315,0.32,0.325,0.33,0.335,0.34,0.34500000000000003,0.35000000000000003,0.355,0.36,0.365,0.37,0.375,0.38,0.385,0.39,0.395,0.4,0.405,0.41000000000000003,0.41500000000000004,0.42,0.425,0.43,0.435,0.44,0.445,0.45,0.455,0.46,0.465,0.47000000000000003,0.47500000000000003,0.48,0.485,0.49,0.495,0.5,0.505,0.51,0.515,0.52,0.525,0.53,0.535,0.54,0.545,0.55,0.555,0.56,0.5650000000000001,0.5700000000000001,0.5750000000000001,0.58,0.585,0.59,0.595,0.6,0.605,0.61,0.615,0.62,0.625,0.63,0.635,0.64,0.645,0.65,0.655,0.66,0.665,0.67,0.675,0.68,0.685,0.6900000000000001,0.6950000000000001,0.7000000000000001,0.705,0.71,0.715,0.72,0.725,0.73,0.735,0.74,0.745,0.75,0.755,0.76,0.765,0.77,0.775,0.78,0.785,0.79,0.795,0.8,0.805,0.81,0.8150000000000001,0.8200000000000001,0.8250000000000001,0.8300000000000001,0.835,0.84,0.845,0.85,0.855,0.86,0.865,0.87,0.875,0.88,0.885,0.89,0.895,0.9,0.905,0.91,0.915,0.92,0.925,0.93,0.935,0.9400000000000001,0.9450000000000001,0.9500000000000001,0.9550000000000001,0.96,0.965,0.97,0.975,0.98,0.985,0.99,0.995,1.0]],[\"y\",[0.0,0.005,0.01,0.015,0.02,0.025,0.03,0.035,0.04,0.045,0.05,0.055,0.06,0.065,0.07,0.075,0.08,0.085,0.09,0.095,0.1,0.105,0.11,0.115,0.12,0.125,0.13,0.135,0.14,0.145,0.15,0.155,0.16,0.165,0.17,0.17500000000000002,0.18,0.185,0.19,0.195,0.2,0.20500000000000002,0.21,0.215,0.22,0.225,0.23,0.23500000000000001,0.24,0.245,0.25,0.255,0.26,0.265,0.27,0.275,0.28,0.28500000000000003,0.29,0.295,0.3,0.305,0.31,0.315,0.32,0.325,0.33,0.335,0.34,0.34500000000000003,0.35000000000000003,0.355,0.36,0.365,0.37,0.375,0.38,0.385,0.39,0.395,0.4,0.405,0.41000000000000003,0.41500000000000004,0.42,0.425,0.43,0.435,0.44,0.445,0.45,0.455,0.46,0.465,0.47000000000000003,0.47500000000000003,0.48,0.485,0.49,0.495,0.5,0.505,0.51,0.515,0.52,0.525,0.53,0.535,0.54,0.545,0.55,0.555,0.56,0.5650000000000001,0.5700000000000001,0.5750000000000001,0.58,0.585,0.59,0.595,0.6,0.605,0.61,0.615,0.62,0.625,0.63,0.635,0.64,0.645,0.65,0.655,0.66,0.665,0.67,0.675,0.68,0.685,0.6900000000000001,0.6950000000000001,0.7000000000000001,0.705,0.71,0.715,0.72,0.725,0.73,0.735,0.74,0.745,0.75,0.755,0.76,0.765,0.77,0.775,0.78,0.785,0.79,0.795,0.8,0.805,0.81,0.8150000000000001,0.8200000000000001,0.8250000000000001,0.8300000000000001,0.835,0.84,0.845,0.85,0.855,0.86,0.865,0.87,0.875,0.88,0.885,0.89,0.895,0.9,0.905,0.91,0.915,0.92,0.925,0.93,0.935,0.9400000000000001,0.9450000000000001,0.9500000000000001,0.9550000000000001,0.96,0.965,0.97,0.975,0.98,0.985,0.99,0.995,1.0]]]}}}],[\"slider\",{\"id\":\"p1465\"}]]},\"code\":\"\\n    const f = cb_obj.value\\n    const x = source.data.x\\n    const y = Array.from(x, (x) => Math.pow(x, f))\\n    source.data = { x, y }\\n\"}}]]]},\"title\":\"power\",\"start\":0.1,\"end\":6,\"value\":1,\"step\":0.1}},{\"type\":\"object\",\"name\":\"Figure\",\"id\":\"p1422\",\"attributes\":{\"width\":400,\"height\":400,\"x_range\":{\"type\":\"object\",\"name\":\"DataRange1d\",\"id\":\"p1423\"},\"y_range\":{\"type\":\"object\",\"name\":\"DataRange1d\",\"id\":\"p1424\"},\"x_scale\":{\"type\":\"object\",\"name\":\"LinearScale\",\"id\":\"p1431\"},\"y_scale\":{\"type\":\"object\",\"name\":\"LinearScale\",\"id\":\"p1432\"},\"title\":{\"type\":\"object\",\"name\":\"Title\",\"id\":\"p1429\"},\"renderers\":[{\"type\":\"object\",\"name\":\"GlyphRenderer\",\"id\":\"p1462\",\"attributes\":{\"data_source\":{\"id\":\"p1419\"},\"view\":{\"type\":\"object\",\"name\":\"CDSView\",\"id\":\"p1463\",\"attributes\":{\"filter\":{\"type\":\"object\",\"name\":\"AllIndices\",\"id\":\"p1464\"}}},\"glyph\":{\"type\":\"object\",\"name\":\"Line\",\"id\":\"p1459\",\"attributes\":{\"x\":{\"type\":\"field\",\"field\":\"x\"},\"y\":{\"type\":\"field\",\"field\":\"y\"},\"line_color\":\"#1f77b4\",\"line_alpha\":0.6,\"line_width\":3}},\"nonselection_glyph\":{\"type\":\"object\",\"name\":\"Line\",\"id\":\"p1460\",\"attributes\":{\"x\":{\"type\":\"field\",\"field\":\"x\"},\"y\":{\"type\":\"field\",\"field\":\"y\"},\"line_color\":\"#1f77b4\",\"line_alpha\":0.1,\"line_width\":3}},\"muted_glyph\":{\"type\":\"object\",\"name\":\"Line\",\"id\":\"p1461\",\"attributes\":{\"x\":{\"type\":\"field\",\"field\":\"x\"},\"y\":{\"type\":\"field\",\"field\":\"y\"},\"line_color\":\"#1f77b4\",\"line_alpha\":0.2,\"line_width\":3}}}}],\"toolbar\":{\"type\":\"object\",\"name\":\"Toolbar\",\"id\":\"p1430\",\"attributes\":{\"tools\":[{\"type\":\"object\",\"name\":\"PanTool\",\"id\":\"p1443\"},{\"type\":\"object\",\"name\":\"WheelZoomTool\",\"id\":\"p1444\",\"attributes\":{\"renderers\":\"auto\"}},{\"type\":\"object\",\"name\":\"BoxZoomTool\",\"id\":\"p1445\",\"attributes\":{\"overlay\":{\"type\":\"object\",\"name\":\"BoxAnnotation\",\"id\":\"p1446\",\"attributes\":{\"syncable\":false,\"line_color\":\"black\",\"line_alpha\":1.0,\"line_width\":2,\"line_dash\":[4,4],\"fill_color\":\"lightgrey\",\"fill_alpha\":0.5,\"level\":\"overlay\",\"visible\":false,\"left\":{\"type\":\"number\",\"value\":\"nan\"},\"right\":{\"type\":\"number\",\"value\":\"nan\"},\"top\":{\"type\":\"number\",\"value\":\"nan\"},\"bottom\":{\"type\":\"number\",\"value\":\"nan\"},\"left_units\":\"canvas\",\"right_units\":\"canvas\",\"top_units\":\"canvas\",\"bottom_units\":\"canvas\",\"handles\":{\"type\":\"object\",\"name\":\"BoxInteractionHandles\",\"id\":\"p1452\",\"attributes\":{\"all\":{\"type\":\"object\",\"name\":\"AreaVisuals\",\"id\":\"p1451\",\"attributes\":{\"fill_color\":\"white\",\"hover_fill_color\":\"lightgray\"}}}}}}}},{\"type\":\"object\",\"name\":\"SaveTool\",\"id\":\"p1453\"},{\"type\":\"object\",\"name\":\"ResetTool\",\"id\":\"p1454\"},{\"type\":\"object\",\"name\":\"HelpTool\",\"id\":\"p1455\"}]}},\"left\":[{\"type\":\"object\",\"name\":\"LinearAxis\",\"id\":\"p1438\",\"attributes\":{\"ticker\":{\"type\":\"object\",\"name\":\"BasicTicker\",\"id\":\"p1439\",\"attributes\":{\"mantissas\":[1,2,5]}},\"formatter\":{\"type\":\"object\",\"name\":\"BasicTickFormatter\",\"id\":\"p1440\"},\"major_label_policy\":{\"type\":\"object\",\"name\":\"AllLabels\",\"id\":\"p1441\"}}}],\"below\":[{\"type\":\"object\",\"name\":\"LinearAxis\",\"id\":\"p1433\",\"attributes\":{\"ticker\":{\"type\":\"object\",\"name\":\"BasicTicker\",\"id\":\"p1434\",\"attributes\":{\"mantissas\":[1,2,5]}},\"formatter\":{\"type\":\"object\",\"name\":\"BasicTickFormatter\",\"id\":\"p1435\"},\"major_label_policy\":{\"type\":\"object\",\"name\":\"AllLabels\",\"id\":\"p1436\"}}}],\"center\":[{\"type\":\"object\",\"name\":\"Grid\",\"id\":\"p1437\",\"attributes\":{\"axis\":{\"id\":\"p1433\"}}},{\"type\":\"object\",\"name\":\"Grid\",\"id\":\"p1442\",\"attributes\":{\"dimension\":1,\"axis\":{\"id\":\"p1438\"}}}]}}]}}]}};\n  const render_items = [{\"docid\":\"eadc18f8-57dc-4167-a7dc-bfec9e3a5158\",\"roots\":{\"p1467\":\"a3fdc6d1-f401-42c8-80bc-b5342ffc49b1\"},\"root_ids\":[\"p1467\"]}];\n  void root.Bokeh.embed.embed_items_notebook(docs_json, render_items);\n  }\n  if (root.Bokeh !== undefined) {\n    embed_document(root);\n  } else {\n    let attempts = 0;\n    const timer = setInterval(function(root) {\n      if (root.Bokeh !== undefined) {\n        clearInterval(timer);\n        embed_document(root);\n      } else {\n        attempts++;\n        if (attempts > 100) {\n          clearInterval(timer);\n          console.log(\"Bokeh: ERROR: Unable to run BokehJS code because BokehJS library is missing\");\n        }\n      }\n    }, 10, root)\n  }\n})(window);",
      "application/vnd.bokehjs_exec.v0+json": ""
     },
     "metadata": {
      "application/vnd.bokehjs_exec.v0+json": {
       "id": "p1467"
      }
     },
     "output_type": "display_data"
    }
   ],
   "source": [
    "from bokeh.layouts import column\n",
    "from bokeh.models import CustomJS, ColumnDataSource, Slider\n",
    "\n",
    "x = [x*0.005 for x in range(0, 201)]\n",
    "\n",
    "source = ColumnDataSource(data=dict(x=x, y=x))\n",
    "\n",
    "plot = figure(width=400, height=400)\n",
    "plot.line('x', 'y', source=source, line_width=3, line_alpha=0.6)\n",
    "\n",
    "slider = Slider(start=0.1, end=6, value=1, step=.1, title=\"power\")\n",
    "\n",
    "update_curve = CustomJS(args=dict(source=source, slider=slider), code=\"\"\"\n",
    "    const f = cb_obj.value\n",
    "    const x = source.data.x\n",
    "    const y = Array.from(x, (x) => Math.pow(x, f))\n",
    "    source.data = { x, y }\n",
    "\"\"\")\n",
    "slider.js_on_change('value', update_curve)\n",
    "\n",
    "\n",
    "show(column(slider, plot))"
   ]
  },
  {
   "cell_type": "code",
   "execution_count": 13,
   "id": "8125c7c8",
   "metadata": {
    "id": "E0OH_pKIowhW"
   },
   "outputs": [
    {
     "data": {
      "text/html": [
       "\n",
       "  <div id=\"a76c522c-22fc-4487-ad63-04d597a4bf80\" data-root-id=\"p1615\" style=\"display: contents;\"></div>\n"
      ]
     },
     "metadata": {},
     "output_type": "display_data"
    },
    {
     "data": {
      "application/javascript": "(function(root) {\n  function embed_document(root) {\n  const docs_json = {\"d475d94d-7b07-4b93-8029-1f34a1d49250\":{\"version\":\"3.6.1\",\"title\":\"Bokeh Application\",\"roots\":[{\"type\":\"object\",\"name\":\"Column\",\"id\":\"p1615\",\"attributes\":{\"children\":[{\"type\":\"object\",\"name\":\"Select\",\"id\":\"p1613\",\"attributes\":{\"js_property_callbacks\":{\"type\":\"map\",\"entries\":[[\"change:value\",[{\"type\":\"object\",\"name\":\"CustomJS\",\"id\":\"p1614\",\"attributes\":{\"args\":{\"type\":\"map\",\"entries\":[[\"source\",{\"type\":\"object\",\"name\":\"ColumnDataSource\",\"id\":\"p1567\",\"attributes\":{\"selected\":{\"type\":\"object\",\"name\":\"Selection\",\"id\":\"p1568\",\"attributes\":{\"indices\":[],\"line_indices\":[]}},\"selection_policy\":{\"type\":\"object\",\"name\":\"UnionRenderers\",\"id\":\"p1569\"},\"data\":{\"type\":\"map\",\"entries\":[[\"x\",[0.0,0.005,0.01,0.015,0.02,0.025,0.03,0.035,0.04,0.045,0.05,0.055,0.06,0.065,0.07,0.075,0.08,0.085,0.09,0.095,0.1,0.105,0.11,0.115,0.12,0.125,0.13,0.135,0.14,0.145,0.15,0.155,0.16,0.165,0.17,0.17500000000000002,0.18,0.185,0.19,0.195,0.2,0.20500000000000002,0.21,0.215,0.22,0.225,0.23,0.23500000000000001,0.24,0.245,0.25,0.255,0.26,0.265,0.27,0.275,0.28,0.28500000000000003,0.29,0.295,0.3,0.305,0.31,0.315,0.32,0.325,0.33,0.335,0.34,0.34500000000000003,0.35000000000000003,0.355,0.36,0.365,0.37,0.375,0.38,0.385,0.39,0.395,0.4,0.405,0.41000000000000003,0.41500000000000004,0.42,0.425,0.43,0.435,0.44,0.445,0.45,0.455,0.46,0.465,0.47000000000000003,0.47500000000000003,0.48,0.485,0.49,0.495,0.5,0.505,0.51,0.515,0.52,0.525,0.53,0.535,0.54,0.545,0.55,0.555,0.56,0.5650000000000001,0.5700000000000001,0.5750000000000001,0.58,0.585,0.59,0.595,0.6,0.605,0.61,0.615,0.62,0.625,0.63,0.635,0.64,0.645,0.65,0.655,0.66,0.665,0.67,0.675,0.68,0.685,0.6900000000000001,0.6950000000000001,0.7000000000000001,0.705,0.71,0.715,0.72,0.725,0.73,0.735,0.74,0.745,0.75,0.755,0.76,0.765,0.77,0.775,0.78,0.785,0.79,0.795,0.8,0.805,0.81,0.8150000000000001,0.8200000000000001,0.8250000000000001,0.8300000000000001,0.835,0.84,0.845,0.85,0.855,0.86,0.865,0.87,0.875,0.88,0.885,0.89,0.895,0.9,0.905,0.91,0.915,0.92,0.925,0.93,0.935,0.9400000000000001,0.9450000000000001,0.9500000000000001,0.9550000000000001,0.96,0.965,0.97,0.975,0.98,0.985,0.99,0.995,1.0]],[\"y\",[0.0,0.005,0.01,0.015,0.02,0.025,0.03,0.035,0.04,0.045,0.05,0.055,0.06,0.065,0.07,0.075,0.08,0.085,0.09,0.095,0.1,0.105,0.11,0.115,0.12,0.125,0.13,0.135,0.14,0.145,0.15,0.155,0.16,0.165,0.17,0.17500000000000002,0.18,0.185,0.19,0.195,0.2,0.20500000000000002,0.21,0.215,0.22,0.225,0.23,0.23500000000000001,0.24,0.245,0.25,0.255,0.26,0.265,0.27,0.275,0.28,0.28500000000000003,0.29,0.295,0.3,0.305,0.31,0.315,0.32,0.325,0.33,0.335,0.34,0.34500000000000003,0.35000000000000003,0.355,0.36,0.365,0.37,0.375,0.38,0.385,0.39,0.395,0.4,0.405,0.41000000000000003,0.41500000000000004,0.42,0.425,0.43,0.435,0.44,0.445,0.45,0.455,0.46,0.465,0.47000000000000003,0.47500000000000003,0.48,0.485,0.49,0.495,0.5,0.505,0.51,0.515,0.52,0.525,0.53,0.535,0.54,0.545,0.55,0.555,0.56,0.5650000000000001,0.5700000000000001,0.5750000000000001,0.58,0.585,0.59,0.595,0.6,0.605,0.61,0.615,0.62,0.625,0.63,0.635,0.64,0.645,0.65,0.655,0.66,0.665,0.67,0.675,0.68,0.685,0.6900000000000001,0.6950000000000001,0.7000000000000001,0.705,0.71,0.715,0.72,0.725,0.73,0.735,0.74,0.745,0.75,0.755,0.76,0.765,0.77,0.775,0.78,0.785,0.79,0.795,0.8,0.805,0.81,0.8150000000000001,0.8200000000000001,0.8250000000000001,0.8300000000000001,0.835,0.84,0.845,0.85,0.855,0.86,0.865,0.87,0.875,0.88,0.885,0.89,0.895,0.9,0.905,0.91,0.915,0.92,0.925,0.93,0.935,0.9400000000000001,0.9450000000000001,0.9500000000000001,0.9550000000000001,0.96,0.965,0.97,0.975,0.98,0.985,0.99,0.995,1.0]]]}}}],[\"select\",{\"id\":\"p1613\"}]]},\"code\":\"\\n    const data = source.data;\\n    const f = select.value;\\n    const x = data['x'];\\n    let y;\\n    if (f === \\\"linear\\\") {\\n        y = x;\\n    } else if (f === \\\"quadratic\\\") {\\n        y = x.map(v => Math.pow(v, 2));\\n    } else if (f === \\\"cubic\\\") {\\n        y = x.map(v => Math.pow(v, 3));\\n    }\\n    data['y'] = y;\\n    source.change.emit();\\n\"}}]]]},\"title\":\"Function:\",\"options\":[\"linear\",\"quadratic\",\"cubic\"],\"value\":\"linear\"}},{\"type\":\"object\",\"name\":\"Figure\",\"id\":\"p1570\",\"attributes\":{\"width\":400,\"height\":400,\"x_range\":{\"type\":\"object\",\"name\":\"DataRange1d\",\"id\":\"p1571\"},\"y_range\":{\"type\":\"object\",\"name\":\"DataRange1d\",\"id\":\"p1572\"},\"x_scale\":{\"type\":\"object\",\"name\":\"LinearScale\",\"id\":\"p1579\"},\"y_scale\":{\"type\":\"object\",\"name\":\"LinearScale\",\"id\":\"p1580\"},\"title\":{\"type\":\"object\",\"name\":\"Title\",\"id\":\"p1577\"},\"renderers\":[{\"type\":\"object\",\"name\":\"GlyphRenderer\",\"id\":\"p1610\",\"attributes\":{\"data_source\":{\"id\":\"p1567\"},\"view\":{\"type\":\"object\",\"name\":\"CDSView\",\"id\":\"p1611\",\"attributes\":{\"filter\":{\"type\":\"object\",\"name\":\"AllIndices\",\"id\":\"p1612\"}}},\"glyph\":{\"type\":\"object\",\"name\":\"Line\",\"id\":\"p1607\",\"attributes\":{\"x\":{\"type\":\"field\",\"field\":\"x\"},\"y\":{\"type\":\"field\",\"field\":\"y\"},\"line_color\":\"#1f77b4\",\"line_alpha\":0.6,\"line_width\":3}},\"nonselection_glyph\":{\"type\":\"object\",\"name\":\"Line\",\"id\":\"p1608\",\"attributes\":{\"x\":{\"type\":\"field\",\"field\":\"x\"},\"y\":{\"type\":\"field\",\"field\":\"y\"},\"line_color\":\"#1f77b4\",\"line_alpha\":0.1,\"line_width\":3}},\"muted_glyph\":{\"type\":\"object\",\"name\":\"Line\",\"id\":\"p1609\",\"attributes\":{\"x\":{\"type\":\"field\",\"field\":\"x\"},\"y\":{\"type\":\"field\",\"field\":\"y\"},\"line_color\":\"#1f77b4\",\"line_alpha\":0.2,\"line_width\":3}}}}],\"toolbar\":{\"type\":\"object\",\"name\":\"Toolbar\",\"id\":\"p1578\",\"attributes\":{\"tools\":[{\"type\":\"object\",\"name\":\"PanTool\",\"id\":\"p1591\"},{\"type\":\"object\",\"name\":\"WheelZoomTool\",\"id\":\"p1592\",\"attributes\":{\"renderers\":\"auto\"}},{\"type\":\"object\",\"name\":\"BoxZoomTool\",\"id\":\"p1593\",\"attributes\":{\"overlay\":{\"type\":\"object\",\"name\":\"BoxAnnotation\",\"id\":\"p1594\",\"attributes\":{\"syncable\":false,\"line_color\":\"black\",\"line_alpha\":1.0,\"line_width\":2,\"line_dash\":[4,4],\"fill_color\":\"lightgrey\",\"fill_alpha\":0.5,\"level\":\"overlay\",\"visible\":false,\"left\":{\"type\":\"number\",\"value\":\"nan\"},\"right\":{\"type\":\"number\",\"value\":\"nan\"},\"top\":{\"type\":\"number\",\"value\":\"nan\"},\"bottom\":{\"type\":\"number\",\"value\":\"nan\"},\"left_units\":\"canvas\",\"right_units\":\"canvas\",\"top_units\":\"canvas\",\"bottom_units\":\"canvas\",\"handles\":{\"type\":\"object\",\"name\":\"BoxInteractionHandles\",\"id\":\"p1600\",\"attributes\":{\"all\":{\"type\":\"object\",\"name\":\"AreaVisuals\",\"id\":\"p1599\",\"attributes\":{\"fill_color\":\"white\",\"hover_fill_color\":\"lightgray\"}}}}}}}},{\"type\":\"object\",\"name\":\"SaveTool\",\"id\":\"p1601\"},{\"type\":\"object\",\"name\":\"ResetTool\",\"id\":\"p1602\"},{\"type\":\"object\",\"name\":\"HelpTool\",\"id\":\"p1603\"}]}},\"left\":[{\"type\":\"object\",\"name\":\"LinearAxis\",\"id\":\"p1586\",\"attributes\":{\"ticker\":{\"type\":\"object\",\"name\":\"BasicTicker\",\"id\":\"p1587\",\"attributes\":{\"mantissas\":[1,2,5]}},\"formatter\":{\"type\":\"object\",\"name\":\"BasicTickFormatter\",\"id\":\"p1588\"},\"major_label_policy\":{\"type\":\"object\",\"name\":\"AllLabels\",\"id\":\"p1589\"}}}],\"below\":[{\"type\":\"object\",\"name\":\"LinearAxis\",\"id\":\"p1581\",\"attributes\":{\"ticker\":{\"type\":\"object\",\"name\":\"BasicTicker\",\"id\":\"p1582\",\"attributes\":{\"mantissas\":[1,2,5]}},\"formatter\":{\"type\":\"object\",\"name\":\"BasicTickFormatter\",\"id\":\"p1583\"},\"major_label_policy\":{\"type\":\"object\",\"name\":\"AllLabels\",\"id\":\"p1584\"}}}],\"center\":[{\"type\":\"object\",\"name\":\"Grid\",\"id\":\"p1585\",\"attributes\":{\"axis\":{\"id\":\"p1581\"}}},{\"type\":\"object\",\"name\":\"Grid\",\"id\":\"p1590\",\"attributes\":{\"dimension\":1,\"axis\":{\"id\":\"p1586\"}}}]}}]}}]}};\n  const render_items = [{\"docid\":\"d475d94d-7b07-4b93-8029-1f34a1d49250\",\"roots\":{\"p1615\":\"a76c522c-22fc-4487-ad63-04d597a4bf80\"},\"root_ids\":[\"p1615\"]}];\n  void root.Bokeh.embed.embed_items_notebook(docs_json, render_items);\n  }\n  if (root.Bokeh !== undefined) {\n    embed_document(root);\n  } else {\n    let attempts = 0;\n    const timer = setInterval(function(root) {\n      if (root.Bokeh !== undefined) {\n        clearInterval(timer);\n        embed_document(root);\n      } else {\n        attempts++;\n        if (attempts > 100) {\n          clearInterval(timer);\n          console.log(\"Bokeh: ERROR: Unable to run BokehJS code because BokehJS library is missing\");\n        }\n      }\n    }, 10, root)\n  }\n})(window);",
      "application/vnd.bokehjs_exec.v0+json": ""
     },
     "metadata": {
      "application/vnd.bokehjs_exec.v0+json": {
       "id": "p1615"
      }
     },
     "output_type": "display_data"
    }
   ],
   "source": [
    "# Exercise: Create a plot that updates based on a Select widget\n",
    "\n",
    "x = [x * 0.005 for x in range(0, 201)]\n",
    "source = ColumnDataSource(data=dict(x=x, y=x))\n",
    "\n",
    "plot = figure(width=400, height=400)\n",
    "plot.line('x', 'y', source=source, line_width=3, line_alpha=0.6)\n",
    "\n",
    "select = Select(title=\"Function:\", value=\"linear\", options=[\"linear\", \"quadratic\", \"cubic\"])\n",
    "\n",
    "update_curve = CustomJS(args=dict(source=source, select=select), code=\"\"\"\n",
    "    const data = source.data;\n",
    "    const f = select.value;\n",
    "    const x = data['x'];\n",
    "    let y;\n",
    "    if (f === \"linear\") {\n",
    "        y = x;\n",
    "    } else if (f === \"quadratic\") {\n",
    "        y = x.map(v => Math.pow(v, 2));\n",
    "    } else if (f === \"cubic\") {\n",
    "        y = x.map(v => Math.pow(v, 3));\n",
    "    }\n",
    "    data['y'] = y;\n",
    "    source.change.emit();\n",
    "\"\"\")\n",
    "select.js_on_change('value', update_curve)\n",
    "\n",
    "show(column(select, plot))"
   ]
  },
  {
   "cell_type": "markdown",
   "id": "a1f0c7de",
   "metadata": {
    "id": "L_SdnCbFowhX"
   },
   "source": [
    "### Data selection example\n",
    "\n",
    "It's also possible to make JavaScript actions that execute whenever a user selection (e.g., box, point, lasso) changes. This is done by attaching the same kind of CustomJS object to whatever data source the selection is made on.\n",
    "\n",
    "The example below is a bit more sophisticated, and demonstrates updating one glyph's data source in response to another glyph's selection:"
   ]
  },
  {
   "cell_type": "code",
   "execution_count": 12,
   "id": "6ac55fd6",
   "metadata": {
    "id": "KrHCcMMnowhY"
   },
   "outputs": [
    {
     "name": "stderr",
     "output_type": "stream",
     "text": [
      "BokehDeprecationWarning: 'circle() method with size value' was deprecated in Bokeh 3.4.0 and will be removed, use 'scatter(size=...) instead' instead.\n"
     ]
    },
    {
     "data": {
      "text/html": [
       "\n",
       "  <div id=\"f6730cd7-234e-406e-b444-e7f7fe6f4dd3\" data-root-id=\"p1520\" style=\"display: contents;\"></div>\n"
      ]
     },
     "metadata": {},
     "output_type": "display_data"
    },
    {
     "data": {
      "application/javascript": "(function(root) {\n  function embed_document(root) {\n  const docs_json = {\"76b1dd0f-8a10-4087-82d7-b15f86da142c\":{\"version\":\"3.6.1\",\"title\":\"Bokeh Application\",\"roots\":[{\"type\":\"object\",\"name\":\"Figure\",\"id\":\"p1520\",\"attributes\":{\"width\":400,\"height\":400,\"x_range\":{\"type\":\"object\",\"name\":\"DataRange1d\",\"id\":\"p1521\"},\"y_range\":{\"type\":\"object\",\"name\":\"DataRange1d\",\"id\":\"p1522\"},\"x_scale\":{\"type\":\"object\",\"name\":\"LinearScale\",\"id\":\"p1530\"},\"y_scale\":{\"type\":\"object\",\"name\":\"LinearScale\",\"id\":\"p1531\"},\"title\":{\"type\":\"object\",\"name\":\"Title\",\"id\":\"p1523\",\"attributes\":{\"text\":\"Select Here\"}},\"renderers\":[{\"type\":\"object\",\"name\":\"GlyphRenderer\",\"id\":\"p1551\",\"attributes\":{\"data_source\":{\"type\":\"object\",\"name\":\"ColumnDataSource\",\"id\":\"p1517\",\"attributes\":{\"selected\":{\"type\":\"object\",\"name\":\"Selection\",\"id\":\"p1518\",\"attributes\":{\"js_property_callbacks\":{\"type\":\"map\",\"entries\":[[\"change:indices\",[{\"type\":\"object\",\"name\":\"CustomJS\",\"id\":\"p1566\",\"attributes\":{\"args\":{\"type\":\"map\",\"entries\":[[\"s\",{\"id\":\"p1517\"}],[\"s2\",{\"type\":\"object\",\"name\":\"ColumnDataSource\",\"id\":\"p1554\",\"attributes\":{\"selected\":{\"type\":\"object\",\"name\":\"Selection\",\"id\":\"p1555\",\"attributes\":{\"indices\":[],\"line_indices\":[]}},\"selection_policy\":{\"type\":\"object\",\"name\":\"UnionRenderers\",\"id\":\"p1556\"},\"data\":{\"type\":\"map\",\"entries\":[[\"x\",[0,1]],[\"ym\",[0.5,0.5]]]}}}]]},\"code\":\"\\n    const inds = s.selected.indices\\n    if (inds.length > 0) {\\n        const ym = inds.reduce((a, b) => a + s.data.y[b], 0) / inds.length\\n        s2.data = { x: s2.data.x, ym: [ym, ym] }\\n    }\\n\"}}]]]},\"indices\":[],\"line_indices\":[]}},\"selection_policy\":{\"type\":\"object\",\"name\":\"UnionRenderers\",\"id\":\"p1519\"},\"data\":{\"type\":\"map\",\"entries\":[[\"x\",[0.6805531554908557,0.5682764493539268,0.31639723528279273,0.6426177910465639,0.9150588838470456,0.4305448055205948,0.6023104944705582,0.7149372311546036,0.6372513176938768,0.3613852819169203,0.011513510961658868,0.7163912266158298,0.3736787068809039,0.27098290854906637,0.5049692182200912,0.7568869163495135,0.635620450835086,0.22379164950302388,0.4516023211991329,0.7235136186319528,0.7895303231762162,0.4783311047584077,0.9186188313860284,0.18509868380756678,0.638958258392785,0.2356999086392556,0.595061061615106,0.1690303751304536,0.34961323893066687,0.2914880373132577,0.648306867916669,0.8053883645159139,0.5185990031084906,0.3255067491990531,0.8413368252496021,0.5325901497716531,0.40362919171946643,0.7633594430362731,0.8351781570433333,0.5344159186028116,0.21726860502765155,0.3364831467010274,0.4649784158919644,0.480017841503667,0.9072781420894316,0.19458796015687863,0.9448442727799584,0.5052393101937322,0.5777989676647084,0.611167080386747,0.2691655540408604,0.22949958962541905,0.5213736054554606,0.08942495334531309,0.5632023327708517,0.8431993403606673,0.44063323791086584,0.7503756719116768,0.9866010740587509,0.8102399322347603,0.26231302411422674,0.7801374774380716,0.9567320042993325,0.1960817262623783,0.7084663908810566,0.9067958555086676,0.16389192757507454,0.7733893786692506,0.8341780834348194,0.6290869044610278,0.41622604129684926,0.588279489324438,0.5238230712096432,0.10083203923990436,0.6960710109497009,0.8622035203424668,0.8274429963132364,0.8041956383892154,0.1539359935003215,0.050342921073216806,0.06472802946079792,0.9281191896949811,0.2098291183517329,0.8222682653768151,0.9260787151153335,0.6087459914262359,0.19420357076607586,0.6792767876943258,0.18129425109989972,0.9444488076038219,0.13678524330350705,0.06864237283597041,0.5215169588824321,0.6400939899817439,0.4141158673855536,0.1205476670175123,0.528415633146615,0.05731285709528977,0.7337939998114594,0.3795167932458291,0.18689424461710458,0.1795330218568557,0.8131855719844797,0.4108557910456305,0.8055551042295075,0.18322556496112974,0.6115795318542622,0.45909154779933004,0.9699496768619836,0.26690671387518783,0.9992173192495601,0.08431851693593606,0.40109005610734805,0.3713403844467381,0.2596472544236671,0.87922206090546,0.1302476287968486,0.05213878099732672,0.6386452260871048,0.13405626642034407,0.28941032017495727,0.9316469922997322,0.561068629993062,0.06193445185620605,0.8438583604977634,0.23747536596978225,0.6831475882229419,0.6996609936054247,0.17498235740085877,0.9978563123347207,0.573098331875246,0.050435232127304275,0.43124014727608395,0.9013423020280861,0.09198193380896535,0.7747494228902949,0.8607988563943733,0.07742521957690873,0.9130944245036358,0.1749038927344575,0.30468009717705447,0.8918345502225019,0.23745884472840795,0.776656796534032,0.7404334873151128,0.12400442368657738,0.1401932848802847,0.5966525288462846,0.5605389511297673,0.2273709502763216,0.663085972869816,0.8206126840660403,0.9932989595239641,0.4828932941034302,0.14740752048357975,0.42869802550260183,0.4240266426183599,0.7913486840233974,0.5173792372318382,0.8417102396306534,0.14256658650387344,0.7873313793918836,0.20040885622337778,0.0859450857803914,0.5479431837273295,0.9971808557515278,0.039201429895632356,0.4120361942980265,0.8738897760139176,0.01878926672987269,0.49799289542017544,0.6971105911498128,0.20338666918727877,0.58151812819329,0.7971920980827808,0.5318498210092676,0.015282416280333666,0.9305663857057253,0.7201484782722175,0.3692549812792769,0.9677187716079241,0.13094127614613693,0.11361595980469419,0.46156492845331065,0.8209548547639662,0.5333501418790098,0.9120273700851498,0.8228521580108277,0.34273542772175025,0.21476528729654998,0.2410699044957061,0.9631700227740544,0.09931557188656426,0.411482479180203,0.4349968367953708,0.9036566225784504,0.7975532492758296,0.924704005183317,0.43843256647448614,0.7990697135933411,0.49315792682396986,0.9252647120568174,0.10127880846189108,0.9487126919090318,0.30978414598075943,0.7641245068095901,0.47906912457331297,0.819505342586906,0.5939523166894434,0.5692457311417092,0.8113154690245049,0.310833539120444,0.6144311974554121,0.8868930316628736,0.40355523625400525,0.9462893077147795,0.08498152870964903,0.1060130710195647,0.6349126530571924,0.2653893495596037,0.9551161473191414,0.09570978365207028,0.632985464744118,0.07690925529797521,0.3196061976051753,0.11883398134108769,0.030401783742649013,0.05244218998811456,0.7270440594595381,0.19622497133153016,0.8755554911577014,0.5118682342634395,0.8825390467924765,0.7376148954486852,0.3877511824787624,0.7921413081402415,0.2723596230180948,0.9329042006569084,0.2473715015000899,0.6905816266709722,0.08606841698657275,0.8710169057798807,0.8378689795815317,0.062188281874369866,0.18360359991585484,0.3325113151428417,0.4293559988764205,0.5149054267104247,0.4966160504676739,0.12271702336738555,0.6709095189411038,0.4227277953401257,0.36768537164384285,0.9774585367430553,0.44409214242567674,0.32714317375743507,0.4703454257332773,0.2920758413630715,0.8223491089024006,0.8505095923028034,3.623014807985214e-05,0.6599933037964051,0.21010239951397613,0.3520690309992308,0.32557167447340896,0.7344310492152037,0.7118695802992246,0.9037920997227125,0.8649449214739218,0.9333562709285181,0.38193071987478266,0.9002197370337638,0.4014902466777195,0.26907626395429307,0.374691454921822,0.17496063878907497,0.8740073264891952,0.7964299683407214,0.5332420317303169,0.5392784680992757,0.3145913249073886,0.6918678569094627,0.8044022338118165,0.3310147646041729,0.4501891832732935,0.3727014157001489,0.7534781593819908,0.6423890863151428,0.778272202475553,0.23838876418526878,0.6917749610006833,0.4952690228410169,0.25426876315317914,0.7698372341409534,0.3142450058205135,0.5611606744247835,0.8747602686943972,0.1751418984269043,0.3349431301264916,0.009127875897936732,0.6880879581421379,0.15110977446968077,0.7778007909887638,0.13329130649715681,0.6413853633920024,0.5990859316056637,0.3460429604151547,0.8131756947681655,0.21511825687008945,0.25507095583187844,0.18546205164977314,0.016598110964134993,0.8911041708312836,0.24046813686367519,0.0944732017582397,0.6040917329597509,0.6504065607053692,0.19073654668260476,0.06156893394346419,0.5586557555421557,0.4492012396896963,0.6723945032448477,0.77890390177106,0.2572112191632363,0.45286883595086336,0.9107939733700199,0.8594845918746056,0.08788589497453314,0.059355089004855976,0.3318961099163339,0.8346969076562397,0.5648174058867688,0.2580657383008005,0.7421008684831492,0.628224862952342,0.3645372270375604,0.8832718979300053,0.3736938490374112,0.055703199419184446,0.6299860694039647,0.6940120689931684,0.30738820162494906,0.8146769339590803,0.6234360696816772,0.10073427029730042,0.12245226994664105,0.6238233003596143,0.3124291668897158,0.023339822187745773,0.8094106456872837,0.6786712894429618,0.8351826223376451,0.7022069081371752,0.7226561953289065,0.7605551138694094,0.22421036986721543,0.4090006200033298,0.9013783793532061,0.7132659056119826,0.3312035215724518,0.4434117084643727,0.37546697429120146,0.9800913753543502,0.9221957426834915,0.3082593213598056,0.0757200697257493,0.7588712646546187,0.2267639512736047,0.9527771851110428,0.056560571131207826,0.8878538319464591,0.6143308335606537,0.41028075544820497,0.12639668256869085,0.9036841945152183,0.8371748687960271,0.4497303836600043,0.027026185907380817,0.6796284696661501,0.6005411356743817,0.4824438748714519,0.05340514200225899,0.6956741863488438,0.03494825266020407,0.33116526620586495,0.23787664885864268,0.005309797934493599,0.7885179882900837,0.8474536283649502,0.8958400197278443,0.5696841790079535,0.2479157353746404,0.8738212888865592,0.9903454332314577,0.09501840561796038,0.4981730679744003,0.36120495066268976,0.6990330547246992,0.03774271401388851,0.1438430677107181,0.8865166743250422,0.2826620159732166,0.7628558611862432,0.35283902509277865,0.1721043437005365,0.6153042640047645,0.4254484485225345,0.06786667452154493,0.7028023118053487,0.5562191636584338,0.1313903067526203,0.6803314565318278,0.4509426112890257,0.9745247248569827,0.4869299197822474,0.4156298267673133,0.5086108157496546,0.1800558576320631,0.7163566402905115,0.23510291142944006,0.2274385684244986,0.2671535069127716,0.9042499119333836,0.18096719931191596,0.6532602637569064,0.6239072155667034,0.2515339201912804,0.9351696342646968,0.004430588779149036,0.35155574422742353,0.1703135612437765,0.5087825226879761,0.855618372548126,0.073076216291039,0.6773211298042592,0.6389540367184605,0.12821251479259133,0.4013737591790357,0.27003807430764815,0.19273796624982664,0.7271490371175527,0.8998217213306489,0.15091565491150105,0.7713085819421468,0.8960737045480593,0.7024729429925635,0.8447058323817968,0.8745981275053952,0.22599029988145114,0.8972645201650159,0.8307599907100766,0.2946245583557012,0.8833131576709581,0.1487541725253565,0.0291871374397209,0.9813269858829355,0.37564801136158865,0.9887348222536216,0.08636204619959686,0.10709123104489371,0.539367924156929,0.604352163797046,0.31223993752584145,0.9429189316580189,0.18607994685014928,0.24771958644569692,0.1429438831753045,0.0006133038264796165,0.1824188611813663,0.6756302579139024,0.12635859263830473,0.8402309608713338,0.9009037548419505,0.9338282341793199,0.537338833592637,0.7917460326304329,0.20522622458203255,0.8654607069248135,0.570347073962914,0.5708580827937154,0.6186345319241012,0.659313287219149,0.5967974805590669,0.31162117293758973,0.5926185630953378,0.46791490508351163,0.9097668477782374,0.3593860592339697,0.5947951781638472,0.335479784110165,0.5151734153158699,0.9284780537623949,0.9679232588642159,0.0397094929176699,0.5802730333594807,0.220855382447943,0.264662110347718,0.9274522158554487,0.5883272468201617,0.5329802308200035]],[\"y\",[0.14578506595730722,0.9837313554721926,0.13322939556530689,0.09823650062530676,0.8405400215627824,0.4525513396711016,0.22533732939622375,0.9983673305717742,0.3800084059321659,0.4013229877832638,0.9961313626628353,0.006067833833243941,0.563589322217001,0.35866080311333526,0.4535637765307672,0.551803359985844,0.5200824542959006,0.14438545638970535,0.5122320660562736,0.6146284737177914,0.17610363818372254,0.48166190697411515,0.9359124028597912,0.14610967106093697,0.056532631925949706,0.15087661437095345,0.966627640946329,0.13393386853830136,0.10531831569638817,0.5509946351306283,0.7927918933685005,0.28321689350809043,0.20922842895492821,0.29052396763957,0.5582397181876139,0.9107441315477203,0.13084047446751645,0.7872631902181616,0.7046669166329628,0.42332133015350215,0.024417457281144972,0.44105878236050355,0.8327778923868635,0.007880938862340758,0.3780036979529837,0.16775107771449937,0.23255162638069338,0.3699748531132767,0.19988003571723156,0.5407686195653088,0.48383437563064036,0.36332223220778026,0.2598743714779038,0.19425833112287993,0.3692420836731668,0.12483918245425651,0.21418545474849027,0.3494149935082328,0.432576672452635,0.4508521335423966,0.924579226556127,0.37698004137933994,0.06094106755075579,0.9285279334818288,0.3480164149866274,0.8679657287140576,0.30599086414083365,0.7122284038951817,0.7370019680640559,0.8071344691458314,0.8308784074507006,0.16509829662964104,0.023320326757923726,0.4693973554147608,0.8561335964122229,0.025988454510109782,0.8871851431395549,0.8624670060055042,0.556793550729465,0.80187698463411,0.9347188138881356,0.2278314479006106,0.21219056468330288,0.7721708614625857,0.4142362651704251,0.47537748443057926,0.3697030206445675,0.19565621942824007,0.9536854659218145,0.27013026791576744,0.7011804069740878,0.3962859405944599,0.4074123514188841,0.46785042143110356,0.5855059381576478,0.5763373032194647,0.3847639438187802,0.5498373804079703,0.05782047786556377,0.9498152431655636,0.3077836546410818,0.14035228306281133,0.8030797130660264,0.9814427308943731,0.6786519241578326,0.1362336310530965,0.18187217569854086,0.9763223663803849,0.6443758547320347,0.2904366687340909,0.6976722354430018,0.3249197327066792,0.4872203175798301,0.3432758139070964,0.6713386886167549,0.9009425161646001,0.07159718157959005,0.033504502933621394,0.5697186891501889,0.1285965363276136,0.4278315193548422,0.6634263870481909,0.8098845978549302,0.8435859539752987,0.8948206034160915,0.9338226218685051,0.672842684867146,0.916317658782613,0.1399580258861347,0.24355608688704544,0.5601520342553614,0.5482065999263043,0.5475835714860696,0.5150820762002266,0.30063119532866067,0.6795707113052005,0.4239854542765632,0.002975125463442807,0.8391335667793486,0.8608171923973451,0.17649145335766347,0.009481771602179445,0.2196226133528707,0.4718935521612112,0.7601658860666707,0.11678532826538901,0.13050969535177404,0.9297973237774714,0.35521817155813473,0.7231538643868846,0.7467661655862585,0.8372888027476731,0.6044059735958212,0.4894797618715736,0.2752198298557065,0.9080628611138897,0.2544418732225803,0.759879285805367,0.5115270057239245,0.5826620635512778,0.9093413992068868,0.0576751717257693,0.15684952042630296,0.5374803406452304,0.12483769734885886,0.7704720285200318,0.81500881055403,0.11074203104269709,0.8916480632010493,0.7228752945983473,0.6303130018628047,0.9788497742090656,0.6852615387943387,0.8229746564789612,0.13060876618889716,0.9595811074494806,0.05083051553145257,0.4836670516835341,0.48451053251950515,0.15683570255893808,0.9492008079111682,0.5163505848132228,0.4673499968554592,0.9130506030434448,0.8161344110147911,0.4650233190254611,0.09038176970704592,0.6177524680982561,0.5741841462923963,0.039456398977530616,0.3213754788472587,0.7873211900994161,0.44492611809400584,0.1639367181654352,0.5408458546507826,0.4029483682093571,0.13429619971423712,0.30689553455877183,0.06921177330372497,0.09562449386628391,0.9961037529544967,0.6069001785799863,0.48062458128048746,0.7735071652690967,0.022157781181069036,0.9011284258432031,0.7299507483223543,0.2562736793596858,0.22716198654414543,0.7981676097662755,0.6358379856642331,0.018294190450173775,0.6797523222786364,0.33567212050033557,0.2232940600636194,0.180729165408814,0.4946492929508368,0.3788645989964696,0.96547509924387,0.32724357300965823,0.004169453434505921,0.7262825493006739,0.4586437300999714,0.021807419674749973,0.2200821424376589,0.9412941303926852,0.2413853889918426,0.26743037758175436,0.5537969689567787,0.1408774826571514,0.7460616514127487,0.35273718846635405,0.18417528066718147,0.621078438218478,0.2937791288458924,0.1749917454604727,0.2009621097781401,0.5474621371234042,0.5402361177523101,0.31013001002607254,0.4193537109511274,0.7889439776653455,0.8913090073550943,0.09757741808813569,0.727002730519722,0.04228726839434138,0.08350852956344001,0.5253946049308664,0.01915733759185889,0.36044896536136317,0.3048876271263272,0.2910843825864885,0.9654290367750676,0.31163402284833697,0.627995696890454,0.3117648752960306,0.6062885859519669,0.7036996142830182,0.3938565527551332,0.27889569182033114,0.7282828178482517,0.8636163777665637,0.7469588690842665,0.9191529643656927,0.8947603628619527,0.16376843136760977,0.26369001531823255,0.49385407131347414,0.724994222166087,0.21209993207214517,0.9085968525752917,0.897544273214712,0.404064773022939,0.6481312411447786,0.9150263369104582,0.6123484766769519,0.796317740415795,0.6975929496043358,0.9430361057110423,0.5696074414126516,0.5701313888674655,0.9835309140236274,0.13977743848176616,0.9788772520461607,0.26339639043799057,0.3683839337715684,0.26822356328801134,0.2642532641469838,0.4732441962575471,0.5497389142326545,0.2738718701548176,0.23480227344072102,0.5617806736467611,0.7253051481658095,0.3780028327906563,0.029923265278486544,0.29399824136418706,0.38119704471272753,0.09573692104057352,0.10846675568074549,0.8596714907945765,0.09811905397564569,0.456160072609918,0.015158813915209568,0.7553736852430397,0.4987261199893652,0.2661812985103127,0.10714087383055793,0.19288733119832302,0.17805348690220557,0.04784809991965211,0.6429280585052664,0.35254931371328313,0.11898244251426005,0.1538320910817481,0.48956637268816905,0.39303108203557136,0.57263407864985,0.41831890586211107,0.0008759831584217448,0.5988756273555829,0.40676688816909723,0.14665993418443668,0.650972880947475,0.49696411253831774,0.9145658336965788,0.7039871198779211,0.03972162614229291,0.9821813876931774,0.18169915408961024,0.4465164347458144,0.19305534733128826,0.2235320626327112,0.0018455699309185558,0.4833810050457452,0.04759903651605113,0.8496194370213652,0.20616279786960268,0.43510726770029895,0.5205121766199997,0.9508954564683954,0.22364857505162805,0.05543869923871969,0.4094534703730561,0.3655715697868044,0.42425481889403693,0.19096322767652885,0.32319458730758155,0.5162721137284897,0.0074715095636356255,0.8953899669922967,0.24948097562215166,0.6717650115545873,0.7819440451208711,0.06550755368711225,0.761770366481434,0.8569879103918298,0.7165220294087195,0.11549487780057521,0.35470641266129976,0.4931169180788212,0.9209515232996032,0.5282655313512828,0.7482883649834704,0.08891826473720199,0.4063211146608111,0.42178788198979045,0.49787849759160774,0.5229776802112522,0.5567903610523925,0.8513049580076959,0.9228322308571617,0.5697446777091789,0.42591751540401657,0.5842074659734814,0.7823157642822607,0.15949029726000652,0.4123646233260919,0.5628763763006899,0.08278449179815606,0.16862520101349598,0.7248066537792512,0.04823473084437635,0.9038454125310906,0.19955560857972177,0.4090396022988928,0.9349175568968936,0.7079991331851687,0.7563937908522004,0.7614081538882492,0.26013998414446826,0.049195641764308684,0.3825531272391137,0.18573432375038512,0.29541769109264215,0.3116598616361903,0.9083595440722992,0.9666677739800589,0.1523067038343452,0.12027843295346996,0.23863115069998686,0.29084741088903265,0.05791706427529486,0.6061794866875451,0.31720851834386354,0.01451685863687846,0.1186815490578671,0.24755187357499686,0.9696593155925505,0.46156817726004484,0.794159903240481,0.3878322702253073,0.6832450934741076,0.8580358394630297,0.018163272679382447,0.16276001228608872,0.4213267936645615,0.9479312583321274,0.8712192449896604,0.4736278049606373,0.013078268138945415,0.6013519524088997,0.39371167436830945,0.7674975723294131,0.48060154313736403,0.9287569587143907,0.6645688546570242,0.47505152748547463,0.13437307546449673,0.940797273390724,0.5890709672421826,0.4485054714147999,0.5381450275657507,0.4608491083067532,0.6513094375285994,0.765794968291103,0.1025403944904979,0.9600682334331914,0.7500792292982353,0.48223272347895596,0.40510623227668374,0.26598696094957075,0.08002885753454447,0.10333556129547194,0.40380941699545425,0.365121728163896,0.678606127285024,0.6785549953068344,0.2372920807459722,0.22750051596164655,0.9308316866502663,0.2520018700189911,0.7189741065577964,0.637142176809388,0.7541823865653812,0.20838135796028212,0.9668114799412356,0.9273213558374283,0.29448268203280625,0.7992733893961861,0.999964612679643,0.7505229189706283,0.9905709670653298,0.12745573615839434,0.7492523531518204,0.8235704464516138,0.8304775277754569,0.17417900054108182,0.27404499047734776,0.3844502115945744,0.04577773733414203,0.5698384039732105,0.5255738351727738,0.1836602163297697,0.625032978014119,0.1327444636477717,0.9482870937972431,0.9924258250960453,0.9934737722866362,0.24175137181105044,0.3755378885634665,0.5888658456171378,0.1588127478186433,0.8245457309551312,0.4294382243596355,0.11355011380664337,0.5188960601580463,0.22460601222615884,0.6219011943065826,0.8542746180199925,0.9391255781607358,0.7432480086885219,0.6211653563615931,0.6556591587854887,0.37676277477266307,0.16797742356490186,0.6444270527065294,0.14478796271488314,0.3961415835561908,0.12995445767403313]],[\"color\",[\"navy\",\"navy\",\"navy\",\"navy\",\"navy\",\"navy\",\"navy\",\"navy\",\"navy\",\"navy\",\"navy\",\"navy\",\"navy\",\"navy\",\"navy\",\"navy\",\"navy\",\"navy\",\"navy\",\"navy\",\"navy\",\"navy\",\"navy\",\"navy\",\"navy\",\"navy\",\"navy\",\"navy\",\"navy\",\"navy\",\"navy\",\"navy\",\"navy\",\"navy\",\"navy\",\"navy\",\"navy\",\"navy\",\"navy\",\"navy\",\"navy\",\"navy\",\"navy\",\"navy\",\"navy\",\"navy\",\"navy\",\"navy\",\"navy\",\"navy\",\"navy\",\"navy\",\"navy\",\"navy\",\"navy\",\"navy\",\"navy\",\"navy\",\"navy\",\"navy\",\"navy\",\"navy\",\"navy\",\"navy\",\"navy\",\"navy\",\"navy\",\"navy\",\"navy\",\"navy\",\"navy\",\"navy\",\"navy\",\"navy\",\"navy\",\"navy\",\"navy\",\"navy\",\"navy\",\"navy\",\"navy\",\"navy\",\"navy\",\"navy\",\"navy\",\"navy\",\"navy\",\"navy\",\"navy\",\"navy\",\"navy\",\"navy\",\"navy\",\"navy\",\"navy\",\"navy\",\"navy\",\"navy\",\"navy\",\"navy\",\"navy\",\"navy\",\"navy\",\"navy\",\"navy\",\"navy\",\"navy\",\"navy\",\"navy\",\"navy\",\"navy\",\"navy\",\"navy\",\"navy\",\"navy\",\"navy\",\"navy\",\"navy\",\"navy\",\"navy\",\"navy\",\"navy\",\"navy\",\"navy\",\"navy\",\"navy\",\"navy\",\"navy\",\"navy\",\"navy\",\"navy\",\"navy\",\"navy\",\"navy\",\"navy\",\"navy\",\"navy\",\"navy\",\"navy\",\"navy\",\"navy\",\"navy\",\"navy\",\"navy\",\"navy\",\"navy\",\"navy\",\"navy\",\"navy\",\"navy\",\"navy\",\"navy\",\"navy\",\"navy\",\"navy\",\"navy\",\"navy\",\"navy\",\"navy\",\"navy\",\"navy\",\"navy\",\"navy\",\"navy\",\"navy\",\"navy\",\"navy\",\"navy\",\"navy\",\"navy\",\"navy\",\"navy\",\"navy\",\"navy\",\"navy\",\"navy\",\"navy\",\"navy\",\"navy\",\"navy\",\"navy\",\"navy\",\"navy\",\"navy\",\"navy\",\"navy\",\"navy\",\"navy\",\"navy\",\"navy\",\"navy\",\"navy\",\"navy\",\"navy\",\"navy\",\"navy\",\"navy\",\"navy\",\"navy\",\"navy\",\"navy\",\"navy\",\"navy\",\"navy\",\"navy\",\"navy\",\"navy\",\"navy\",\"navy\",\"navy\",\"navy\",\"navy\",\"navy\",\"navy\",\"navy\",\"navy\",\"navy\",\"navy\",\"navy\",\"navy\",\"navy\",\"navy\",\"navy\",\"navy\",\"navy\",\"navy\",\"navy\",\"navy\",\"navy\",\"navy\",\"navy\",\"navy\",\"navy\",\"navy\",\"navy\",\"navy\",\"navy\",\"navy\",\"navy\",\"navy\",\"navy\",\"navy\",\"navy\",\"navy\",\"navy\",\"navy\",\"navy\",\"navy\",\"navy\",\"navy\",\"navy\",\"navy\",\"navy\",\"navy\",\"navy\",\"navy\",\"navy\",\"navy\",\"navy\",\"navy\",\"navy\",\"navy\",\"navy\",\"navy\",\"navy\",\"navy\",\"navy\",\"navy\",\"navy\",\"navy\",\"navy\",\"navy\",\"navy\",\"navy\",\"navy\",\"navy\",\"navy\",\"navy\",\"navy\",\"navy\",\"navy\",\"navy\",\"navy\",\"navy\",\"navy\",\"navy\",\"navy\",\"navy\",\"navy\",\"navy\",\"navy\",\"navy\",\"navy\",\"navy\",\"navy\",\"navy\",\"navy\",\"navy\",\"navy\",\"navy\",\"navy\",\"navy\",\"navy\",\"navy\",\"navy\",\"navy\",\"navy\",\"navy\",\"navy\",\"navy\",\"navy\",\"navy\",\"navy\",\"navy\",\"navy\",\"navy\",\"navy\",\"navy\",\"navy\",\"navy\",\"navy\",\"navy\",\"navy\",\"navy\",\"navy\",\"navy\",\"navy\",\"navy\",\"navy\",\"navy\",\"navy\",\"navy\",\"navy\",\"navy\",\"navy\",\"navy\",\"navy\",\"navy\",\"navy\",\"navy\",\"navy\",\"navy\",\"navy\",\"navy\",\"navy\",\"navy\",\"navy\",\"navy\",\"navy\",\"navy\",\"navy\",\"navy\",\"navy\",\"navy\",\"navy\",\"navy\",\"navy\",\"navy\",\"navy\",\"navy\",\"navy\",\"navy\",\"navy\",\"navy\",\"navy\",\"navy\",\"navy\",\"navy\",\"navy\",\"navy\",\"navy\",\"navy\",\"navy\",\"navy\",\"navy\",\"navy\",\"navy\",\"navy\",\"navy\",\"navy\",\"navy\",\"navy\",\"navy\",\"navy\",\"navy\",\"navy\",\"navy\",\"navy\",\"navy\",\"navy\",\"navy\",\"navy\",\"navy\",\"navy\",\"navy\",\"navy\",\"navy\",\"navy\",\"navy\",\"navy\",\"navy\",\"navy\",\"navy\",\"navy\",\"navy\",\"navy\",\"navy\",\"navy\",\"navy\",\"navy\",\"navy\",\"navy\",\"navy\",\"navy\",\"navy\",\"navy\",\"navy\",\"navy\",\"navy\",\"navy\",\"navy\",\"navy\",\"navy\",\"navy\",\"navy\",\"navy\",\"navy\",\"navy\",\"navy\",\"navy\",\"navy\",\"navy\",\"navy\",\"navy\",\"navy\",\"navy\",\"navy\",\"navy\",\"navy\",\"navy\",\"navy\",\"navy\",\"navy\",\"navy\",\"navy\",\"navy\",\"navy\",\"navy\",\"navy\",\"navy\",\"navy\",\"navy\",\"navy\",\"navy\",\"navy\",\"navy\",\"navy\",\"navy\",\"navy\",\"navy\",\"navy\",\"navy\",\"navy\",\"navy\",\"navy\",\"navy\",\"navy\",\"navy\",\"navy\",\"navy\",\"navy\",\"navy\",\"navy\",\"navy\",\"navy\",\"navy\",\"navy\",\"navy\",\"navy\",\"navy\",\"navy\",\"navy\",\"navy\",\"navy\",\"navy\",\"navy\",\"navy\",\"navy\",\"navy\",\"navy\",\"navy\",\"navy\",\"navy\",\"navy\",\"navy\",\"navy\",\"navy\",\"navy\",\"navy\",\"navy\"]]]}}},\"view\":{\"type\":\"object\",\"name\":\"CDSView\",\"id\":\"p1552\",\"attributes\":{\"filter\":{\"type\":\"object\",\"name\":\"AllIndices\",\"id\":\"p1553\"}}},\"glyph\":{\"type\":\"object\",\"name\":\"Scatter\",\"id\":\"p1547\",\"attributes\":{\"x\":{\"type\":\"field\",\"field\":\"x\"},\"y\":{\"type\":\"field\",\"field\":\"y\"},\"size\":{\"type\":\"value\",\"value\":8},\"line_color\":{\"type\":\"field\",\"field\":\"color\"},\"line_alpha\":{\"type\":\"value\",\"value\":0.4},\"fill_color\":{\"type\":\"field\",\"field\":\"color\"},\"fill_alpha\":{\"type\":\"value\",\"value\":0.4},\"hatch_color\":{\"type\":\"field\",\"field\":\"color\"},\"hatch_alpha\":{\"type\":\"value\",\"value\":0.4}}},\"selection_glyph\":{\"type\":\"object\",\"name\":\"Scatter\",\"id\":\"p1549\",\"attributes\":{\"x\":{\"type\":\"field\",\"field\":\"x\"},\"y\":{\"type\":\"field\",\"field\":\"y\"},\"size\":{\"type\":\"value\",\"value\":8},\"line_color\":{\"type\":\"value\",\"value\":\"firebrick\"},\"line_alpha\":{\"type\":\"value\",\"value\":0.4},\"fill_color\":{\"type\":\"value\",\"value\":\"firebrick\"},\"fill_alpha\":{\"type\":\"value\",\"value\":0.4},\"hatch_color\":{\"type\":\"value\",\"value\":\"firebrick\"},\"hatch_alpha\":{\"type\":\"value\",\"value\":0.4}}},\"nonselection_glyph\":{\"type\":\"object\",\"name\":\"Scatter\",\"id\":\"p1548\",\"attributes\":{\"x\":{\"type\":\"field\",\"field\":\"x\"},\"y\":{\"type\":\"field\",\"field\":\"y\"},\"size\":{\"type\":\"value\",\"value\":8},\"line_color\":{\"type\":\"field\",\"field\":\"color\"},\"line_alpha\":{\"type\":\"value\",\"value\":0.1},\"fill_color\":{\"type\":\"field\",\"field\":\"color\"},\"fill_alpha\":{\"type\":\"value\",\"value\":0.1},\"hatch_color\":{\"type\":\"field\",\"field\":\"color\"},\"hatch_alpha\":{\"type\":\"value\",\"value\":0.1}}},\"muted_glyph\":{\"type\":\"object\",\"name\":\"Scatter\",\"id\":\"p1550\",\"attributes\":{\"x\":{\"type\":\"field\",\"field\":\"x\"},\"y\":{\"type\":\"field\",\"field\":\"y\"},\"size\":{\"type\":\"value\",\"value\":8},\"line_color\":{\"type\":\"field\",\"field\":\"color\"},\"line_alpha\":{\"type\":\"value\",\"value\":0.2},\"fill_color\":{\"type\":\"field\",\"field\":\"color\"},\"fill_alpha\":{\"type\":\"value\",\"value\":0.2},\"hatch_color\":{\"type\":\"field\",\"field\":\"color\"},\"hatch_alpha\":{\"type\":\"value\",\"value\":0.2}}}}},{\"type\":\"object\",\"name\":\"GlyphRenderer\",\"id\":\"p1563\",\"attributes\":{\"data_source\":{\"id\":\"p1554\"},\"view\":{\"type\":\"object\",\"name\":\"CDSView\",\"id\":\"p1564\",\"attributes\":{\"filter\":{\"type\":\"object\",\"name\":\"AllIndices\",\"id\":\"p1565\"}}},\"glyph\":{\"type\":\"object\",\"name\":\"Line\",\"id\":\"p1560\",\"attributes\":{\"x\":{\"type\":\"field\",\"field\":\"x\"},\"y\":{\"type\":\"field\",\"field\":\"ym\"},\"line_color\":\"orange\",\"line_alpha\":0.6,\"line_width\":5}},\"nonselection_glyph\":{\"type\":\"object\",\"name\":\"Line\",\"id\":\"p1561\",\"attributes\":{\"x\":{\"type\":\"field\",\"field\":\"x\"},\"y\":{\"type\":\"field\",\"field\":\"ym\"},\"line_color\":\"orange\",\"line_alpha\":0.1,\"line_width\":5}},\"muted_glyph\":{\"type\":\"object\",\"name\":\"Line\",\"id\":\"p1562\",\"attributes\":{\"x\":{\"type\":\"field\",\"field\":\"x\"},\"y\":{\"type\":\"field\",\"field\":\"ym\"},\"line_color\":\"orange\",\"line_alpha\":0.2,\"line_width\":5}}}}],\"toolbar\":{\"type\":\"object\",\"name\":\"Toolbar\",\"id\":\"p1529\",\"attributes\":{\"tools\":[{\"type\":\"object\",\"name\":\"LassoSelectTool\",\"id\":\"p1542\",\"attributes\":{\"renderers\":\"auto\",\"overlay\":{\"type\":\"object\",\"name\":\"PolyAnnotation\",\"id\":\"p1543\",\"attributes\":{\"syncable\":false,\"level\":\"overlay\",\"visible\":false,\"xs\":[],\"ys\":[],\"editable\":true,\"line_color\":\"black\",\"line_alpha\":1.0,\"line_width\":2,\"line_dash\":[4,4],\"fill_color\":\"lightgrey\",\"fill_alpha\":0.5}}}}]}},\"left\":[{\"type\":\"object\",\"name\":\"LinearAxis\",\"id\":\"p1537\",\"attributes\":{\"ticker\":{\"type\":\"object\",\"name\":\"BasicTicker\",\"id\":\"p1538\",\"attributes\":{\"mantissas\":[1,2,5]}},\"formatter\":{\"type\":\"object\",\"name\":\"BasicTickFormatter\",\"id\":\"p1539\"},\"major_label_policy\":{\"type\":\"object\",\"name\":\"AllLabels\",\"id\":\"p1540\"}}}],\"below\":[{\"type\":\"object\",\"name\":\"LinearAxis\",\"id\":\"p1532\",\"attributes\":{\"ticker\":{\"type\":\"object\",\"name\":\"BasicTicker\",\"id\":\"p1533\",\"attributes\":{\"mantissas\":[1,2,5]}},\"formatter\":{\"type\":\"object\",\"name\":\"BasicTickFormatter\",\"id\":\"p1534\"},\"major_label_policy\":{\"type\":\"object\",\"name\":\"AllLabels\",\"id\":\"p1535\"}}}],\"center\":[{\"type\":\"object\",\"name\":\"Grid\",\"id\":\"p1536\",\"attributes\":{\"axis\":{\"id\":\"p1532\"}}},{\"type\":\"object\",\"name\":\"Grid\",\"id\":\"p1541\",\"attributes\":{\"dimension\":1,\"axis\":{\"id\":\"p1537\"}}}]}}]}};\n  const render_items = [{\"docid\":\"76b1dd0f-8a10-4087-82d7-b15f86da142c\",\"roots\":{\"p1520\":\"f6730cd7-234e-406e-b444-e7f7fe6f4dd3\"},\"root_ids\":[\"p1520\"]}];\n  void root.Bokeh.embed.embed_items_notebook(docs_json, render_items);\n  }\n  if (root.Bokeh !== undefined) {\n    embed_document(root);\n  } else {\n    let attempts = 0;\n    const timer = setInterval(function(root) {\n      if (root.Bokeh !== undefined) {\n        clearInterval(timer);\n        embed_document(root);\n      } else {\n        attempts++;\n        if (attempts > 100) {\n          clearInterval(timer);\n          console.log(\"Bokeh: ERROR: Unable to run BokehJS code because BokehJS library is missing\");\n        }\n      }\n    }, 10, root)\n  }\n})(window);",
      "application/vnd.bokehjs_exec.v0+json": ""
     },
     "metadata": {
      "application/vnd.bokehjs_exec.v0+json": {
       "id": "p1520"
      }
     },
     "output_type": "display_data"
    }
   ],
   "source": [
    "from random import random\n",
    "\n",
    "from bokeh.models import ColumnDataSource, CustomJS\n",
    "from bokeh.plotting import figure, show\n",
    "\n",
    "x = [random() for x in range(500)]\n",
    "y = [random() for y in range(500)]\n",
    "color = [\"navy\"] * len(x)\n",
    "\n",
    "s = ColumnDataSource(data=dict(x=x, y=y, color=color))\n",
    "p = figure(width=400, height=400, tools=\"lasso_select\", title=\"Select Here\")\n",
    "p.circle('x', 'y', color='color', size=8, source=s, alpha=0.4,\n",
    "         selection_color=\"firebrick\")\n",
    "\n",
    "s2 = ColumnDataSource(data=dict(x=[0, 1], ym=[0.5, 0.5]))\n",
    "p.line(x='x', y='ym', color=\"orange\", line_width=5, alpha=0.6, source=s2)\n",
    "\n",
    "s.selected.js_on_change('indices', CustomJS(args=dict(s=s, s2=s2), code=\"\"\"\n",
    "    const inds = s.selected.indices\n",
    "    if (inds.length > 0) {\n",
    "        const ym = inds.reduce((a, b) => a + s.data.y[b], 0) / inds.length\n",
    "        s2.data = { x: s2.data.x, ym: [ym, ym] }\n",
    "    }\n",
    "\"\"\"))\n",
    "\n",
    "show(p)"
   ]
  },
  {
   "cell_type": "code",
   "execution_count": 35,
   "id": "b582c12e",
   "metadata": {
    "id": "4sBylT9aowhY"
   },
   "outputs": [
    {
     "name": "stderr",
     "output_type": "stream",
     "text": [
      "BokehDeprecationWarning: 'circle() method with size value' was deprecated in Bokeh 3.4.0 and will be removed, use 'scatter(size=...) instead' instead.\n"
     ]
    },
    {
     "data": {
      "text/html": [
       "\n",
       "  <div id=\"a520a183-2b18-46f3-92a0-fe6125c5fcc1\" data-root-id=\"p2685\" style=\"display: contents;\"></div>\n"
      ]
     },
     "metadata": {},
     "output_type": "display_data"
    },
    {
     "data": {
      "application/javascript": "(function(root) {\n  function embed_document(root) {\n  const docs_json = {\"f2d1bab1-d6d6-4e71-82bd-901bf61050f1\":{\"version\":\"3.6.1\",\"title\":\"Bokeh Application\",\"roots\":[{\"type\":\"object\",\"name\":\"Row\",\"id\":\"p2685\",\"attributes\":{\"children\":[{\"type\":\"object\",\"name\":\"Figure\",\"id\":\"p2603\",\"attributes\":{\"width\":400,\"height\":400,\"x_range\":{\"type\":\"object\",\"name\":\"DataRange1d\",\"id\":\"p2604\"},\"y_range\":{\"type\":\"object\",\"name\":\"DataRange1d\",\"id\":\"p2605\"},\"x_scale\":{\"type\":\"object\",\"name\":\"LinearScale\",\"id\":\"p2613\"},\"y_scale\":{\"type\":\"object\",\"name\":\"LinearScale\",\"id\":\"p2614\"},\"title\":{\"type\":\"object\",\"name\":\"Title\",\"id\":\"p2606\",\"attributes\":{\"text\":\"Select Here\"}},\"renderers\":[{\"type\":\"object\",\"name\":\"GlyphRenderer\",\"id\":\"p2634\",\"attributes\":{\"data_source\":{\"type\":\"object\",\"name\":\"ColumnDataSource\",\"id\":\"p1517\",\"attributes\":{\"selected\":{\"type\":\"object\",\"name\":\"Selection\",\"id\":\"p1518\",\"attributes\":{\"js_property_callbacks\":{\"type\":\"map\",\"entries\":[[\"change:indices\",[{\"type\":\"object\",\"name\":\"CustomJS\",\"id\":\"p1566\",\"attributes\":{\"args\":{\"type\":\"map\",\"entries\":[[\"s\",{\"id\":\"p1517\"}],[\"s2\",{\"type\":\"object\",\"name\":\"ColumnDataSource\",\"id\":\"p1554\",\"attributes\":{\"selected\":{\"type\":\"object\",\"name\":\"Selection\",\"id\":\"p1555\",\"attributes\":{\"indices\":[],\"line_indices\":[]}},\"selection_policy\":{\"type\":\"object\",\"name\":\"UnionRenderers\",\"id\":\"p1556\"},\"data\":{\"type\":\"map\",\"entries\":[[\"x\",[0,1]],[\"ym\",[0.5,0.5]]]}}}]]},\"code\":\"\\n    const inds = s.selected.indices\\n    if (inds.length > 0) {\\n        const ym = inds.reduce((a, b) => a + s.data.y[b], 0) / inds.length\\n        s2.data = { x: s2.data.x, ym: [ym, ym] }\\n    }\\n\"}},{\"type\":\"object\",\"name\":\"CustomJS\",\"id\":\"p2684\",\"attributes\":{\"args\":{\"type\":\"map\",\"entries\":[[\"s\",{\"id\":\"p1517\"}],[\"s2\",{\"type\":\"object\",\"name\":\"ColumnDataSource\",\"id\":\"p2637\",\"attributes\":{\"selected\":{\"type\":\"object\",\"name\":\"Selection\",\"id\":\"p2638\",\"attributes\":{\"indices\":[],\"line_indices\":[]}},\"selection_policy\":{\"type\":\"object\",\"name\":\"UnionRenderers\",\"id\":\"p2639\"},\"data\":{\"type\":\"map\",\"entries\":[[\"x\",[0,1]],[\"ym\",[0.5,0.5]]]}}}]]},\"code\":\"\\n    const inds = s.selected.indices;\\n    if (inds.length > 0) {\\n        const ym = inds.reduce((a, b) => a + s.data.y[b], 0) / inds.length;\\n        s2.data = { x: s2.data.x, ym: [ym, ym] };\\n    }\\n\"}}]]]},\"indices\":[],\"line_indices\":[]}},\"selection_policy\":{\"type\":\"object\",\"name\":\"UnionRenderers\",\"id\":\"p1519\"},\"data\":{\"type\":\"map\",\"entries\":[[\"x\",[0.6805531554908557,0.5682764493539268,0.31639723528279273,0.6426177910465639,0.9150588838470456,0.4305448055205948,0.6023104944705582,0.7149372311546036,0.6372513176938768,0.3613852819169203,0.011513510961658868,0.7163912266158298,0.3736787068809039,0.27098290854906637,0.5049692182200912,0.7568869163495135,0.635620450835086,0.22379164950302388,0.4516023211991329,0.7235136186319528,0.7895303231762162,0.4783311047584077,0.9186188313860284,0.18509868380756678,0.638958258392785,0.2356999086392556,0.595061061615106,0.1690303751304536,0.34961323893066687,0.2914880373132577,0.648306867916669,0.8053883645159139,0.5185990031084906,0.3255067491990531,0.8413368252496021,0.5325901497716531,0.40362919171946643,0.7633594430362731,0.8351781570433333,0.5344159186028116,0.21726860502765155,0.3364831467010274,0.4649784158919644,0.480017841503667,0.9072781420894316,0.19458796015687863,0.9448442727799584,0.5052393101937322,0.5777989676647084,0.611167080386747,0.2691655540408604,0.22949958962541905,0.5213736054554606,0.08942495334531309,0.5632023327708517,0.8431993403606673,0.44063323791086584,0.7503756719116768,0.9866010740587509,0.8102399322347603,0.26231302411422674,0.7801374774380716,0.9567320042993325,0.1960817262623783,0.7084663908810566,0.9067958555086676,0.16389192757507454,0.7733893786692506,0.8341780834348194,0.6290869044610278,0.41622604129684926,0.588279489324438,0.5238230712096432,0.10083203923990436,0.6960710109497009,0.8622035203424668,0.8274429963132364,0.8041956383892154,0.1539359935003215,0.050342921073216806,0.06472802946079792,0.9281191896949811,0.2098291183517329,0.8222682653768151,0.9260787151153335,0.6087459914262359,0.19420357076607586,0.6792767876943258,0.18129425109989972,0.9444488076038219,0.13678524330350705,0.06864237283597041,0.5215169588824321,0.6400939899817439,0.4141158673855536,0.1205476670175123,0.528415633146615,0.05731285709528977,0.7337939998114594,0.3795167932458291,0.18689424461710458,0.1795330218568557,0.8131855719844797,0.4108557910456305,0.8055551042295075,0.18322556496112974,0.6115795318542622,0.45909154779933004,0.9699496768619836,0.26690671387518783,0.9992173192495601,0.08431851693593606,0.40109005610734805,0.3713403844467381,0.2596472544236671,0.87922206090546,0.1302476287968486,0.05213878099732672,0.6386452260871048,0.13405626642034407,0.28941032017495727,0.9316469922997322,0.561068629993062,0.06193445185620605,0.8438583604977634,0.23747536596978225,0.6831475882229419,0.6996609936054247,0.17498235740085877,0.9978563123347207,0.573098331875246,0.050435232127304275,0.43124014727608395,0.9013423020280861,0.09198193380896535,0.7747494228902949,0.8607988563943733,0.07742521957690873,0.9130944245036358,0.1749038927344575,0.30468009717705447,0.8918345502225019,0.23745884472840795,0.776656796534032,0.7404334873151128,0.12400442368657738,0.1401932848802847,0.5966525288462846,0.5605389511297673,0.2273709502763216,0.663085972869816,0.8206126840660403,0.9932989595239641,0.4828932941034302,0.14740752048357975,0.42869802550260183,0.4240266426183599,0.7913486840233974,0.5173792372318382,0.8417102396306534,0.14256658650387344,0.7873313793918836,0.20040885622337778,0.0859450857803914,0.5479431837273295,0.9971808557515278,0.039201429895632356,0.4120361942980265,0.8738897760139176,0.01878926672987269,0.49799289542017544,0.6971105911498128,0.20338666918727877,0.58151812819329,0.7971920980827808,0.5318498210092676,0.015282416280333666,0.9305663857057253,0.7201484782722175,0.3692549812792769,0.9677187716079241,0.13094127614613693,0.11361595980469419,0.46156492845331065,0.8209548547639662,0.5333501418790098,0.9120273700851498,0.8228521580108277,0.34273542772175025,0.21476528729654998,0.2410699044957061,0.9631700227740544,0.09931557188656426,0.411482479180203,0.4349968367953708,0.9036566225784504,0.7975532492758296,0.924704005183317,0.43843256647448614,0.7990697135933411,0.49315792682396986,0.9252647120568174,0.10127880846189108,0.9487126919090318,0.30978414598075943,0.7641245068095901,0.47906912457331297,0.819505342586906,0.5939523166894434,0.5692457311417092,0.8113154690245049,0.310833539120444,0.6144311974554121,0.8868930316628736,0.40355523625400525,0.9462893077147795,0.08498152870964903,0.1060130710195647,0.6349126530571924,0.2653893495596037,0.9551161473191414,0.09570978365207028,0.632985464744118,0.07690925529797521,0.3196061976051753,0.11883398134108769,0.030401783742649013,0.05244218998811456,0.7270440594595381,0.19622497133153016,0.8755554911577014,0.5118682342634395,0.8825390467924765,0.7376148954486852,0.3877511824787624,0.7921413081402415,0.2723596230180948,0.9329042006569084,0.2473715015000899,0.6905816266709722,0.08606841698657275,0.8710169057798807,0.8378689795815317,0.062188281874369866,0.18360359991585484,0.3325113151428417,0.4293559988764205,0.5149054267104247,0.4966160504676739,0.12271702336738555,0.6709095189411038,0.4227277953401257,0.36768537164384285,0.9774585367430553,0.44409214242567674,0.32714317375743507,0.4703454257332773,0.2920758413630715,0.8223491089024006,0.8505095923028034,3.623014807985214e-05,0.6599933037964051,0.21010239951397613,0.3520690309992308,0.32557167447340896,0.7344310492152037,0.7118695802992246,0.9037920997227125,0.8649449214739218,0.9333562709285181,0.38193071987478266,0.9002197370337638,0.4014902466777195,0.26907626395429307,0.374691454921822,0.17496063878907497,0.8740073264891952,0.7964299683407214,0.5332420317303169,0.5392784680992757,0.3145913249073886,0.6918678569094627,0.8044022338118165,0.3310147646041729,0.4501891832732935,0.3727014157001489,0.7534781593819908,0.6423890863151428,0.778272202475553,0.23838876418526878,0.6917749610006833,0.4952690228410169,0.25426876315317914,0.7698372341409534,0.3142450058205135,0.5611606744247835,0.8747602686943972,0.1751418984269043,0.3349431301264916,0.009127875897936732,0.6880879581421379,0.15110977446968077,0.7778007909887638,0.13329130649715681,0.6413853633920024,0.5990859316056637,0.3460429604151547,0.8131756947681655,0.21511825687008945,0.25507095583187844,0.18546205164977314,0.016598110964134993,0.8911041708312836,0.24046813686367519,0.0944732017582397,0.6040917329597509,0.6504065607053692,0.19073654668260476,0.06156893394346419,0.5586557555421557,0.4492012396896963,0.6723945032448477,0.77890390177106,0.2572112191632363,0.45286883595086336,0.9107939733700199,0.8594845918746056,0.08788589497453314,0.059355089004855976,0.3318961099163339,0.8346969076562397,0.5648174058867688,0.2580657383008005,0.7421008684831492,0.628224862952342,0.3645372270375604,0.8832718979300053,0.3736938490374112,0.055703199419184446,0.6299860694039647,0.6940120689931684,0.30738820162494906,0.8146769339590803,0.6234360696816772,0.10073427029730042,0.12245226994664105,0.6238233003596143,0.3124291668897158,0.023339822187745773,0.8094106456872837,0.6786712894429618,0.8351826223376451,0.7022069081371752,0.7226561953289065,0.7605551138694094,0.22421036986721543,0.4090006200033298,0.9013783793532061,0.7132659056119826,0.3312035215724518,0.4434117084643727,0.37546697429120146,0.9800913753543502,0.9221957426834915,0.3082593213598056,0.0757200697257493,0.7588712646546187,0.2267639512736047,0.9527771851110428,0.056560571131207826,0.8878538319464591,0.6143308335606537,0.41028075544820497,0.12639668256869085,0.9036841945152183,0.8371748687960271,0.4497303836600043,0.027026185907380817,0.6796284696661501,0.6005411356743817,0.4824438748714519,0.05340514200225899,0.6956741863488438,0.03494825266020407,0.33116526620586495,0.23787664885864268,0.005309797934493599,0.7885179882900837,0.8474536283649502,0.8958400197278443,0.5696841790079535,0.2479157353746404,0.8738212888865592,0.9903454332314577,0.09501840561796038,0.4981730679744003,0.36120495066268976,0.6990330547246992,0.03774271401388851,0.1438430677107181,0.8865166743250422,0.2826620159732166,0.7628558611862432,0.35283902509277865,0.1721043437005365,0.6153042640047645,0.4254484485225345,0.06786667452154493,0.7028023118053487,0.5562191636584338,0.1313903067526203,0.6803314565318278,0.4509426112890257,0.9745247248569827,0.4869299197822474,0.4156298267673133,0.5086108157496546,0.1800558576320631,0.7163566402905115,0.23510291142944006,0.2274385684244986,0.2671535069127716,0.9042499119333836,0.18096719931191596,0.6532602637569064,0.6239072155667034,0.2515339201912804,0.9351696342646968,0.004430588779149036,0.35155574422742353,0.1703135612437765,0.5087825226879761,0.855618372548126,0.073076216291039,0.6773211298042592,0.6389540367184605,0.12821251479259133,0.4013737591790357,0.27003807430764815,0.19273796624982664,0.7271490371175527,0.8998217213306489,0.15091565491150105,0.7713085819421468,0.8960737045480593,0.7024729429925635,0.8447058323817968,0.8745981275053952,0.22599029988145114,0.8972645201650159,0.8307599907100766,0.2946245583557012,0.8833131576709581,0.1487541725253565,0.0291871374397209,0.9813269858829355,0.37564801136158865,0.9887348222536216,0.08636204619959686,0.10709123104489371,0.539367924156929,0.604352163797046,0.31223993752584145,0.9429189316580189,0.18607994685014928,0.24771958644569692,0.1429438831753045,0.0006133038264796165,0.1824188611813663,0.6756302579139024,0.12635859263830473,0.8402309608713338,0.9009037548419505,0.9338282341793199,0.537338833592637,0.7917460326304329,0.20522622458203255,0.8654607069248135,0.570347073962914,0.5708580827937154,0.6186345319241012,0.659313287219149,0.5967974805590669,0.31162117293758973,0.5926185630953378,0.46791490508351163,0.9097668477782374,0.3593860592339697,0.5947951781638472,0.335479784110165,0.5151734153158699,0.9284780537623949,0.9679232588642159,0.0397094929176699,0.5802730333594807,0.220855382447943,0.264662110347718,0.9274522158554487,0.5883272468201617,0.5329802308200035]],[\"y\",[0.14578506595730722,0.9837313554721926,0.13322939556530689,0.09823650062530676,0.8405400215627824,0.4525513396711016,0.22533732939622375,0.9983673305717742,0.3800084059321659,0.4013229877832638,0.9961313626628353,0.006067833833243941,0.563589322217001,0.35866080311333526,0.4535637765307672,0.551803359985844,0.5200824542959006,0.14438545638970535,0.5122320660562736,0.6146284737177914,0.17610363818372254,0.48166190697411515,0.9359124028597912,0.14610967106093697,0.056532631925949706,0.15087661437095345,0.966627640946329,0.13393386853830136,0.10531831569638817,0.5509946351306283,0.7927918933685005,0.28321689350809043,0.20922842895492821,0.29052396763957,0.5582397181876139,0.9107441315477203,0.13084047446751645,0.7872631902181616,0.7046669166329628,0.42332133015350215,0.024417457281144972,0.44105878236050355,0.8327778923868635,0.007880938862340758,0.3780036979529837,0.16775107771449937,0.23255162638069338,0.3699748531132767,0.19988003571723156,0.5407686195653088,0.48383437563064036,0.36332223220778026,0.2598743714779038,0.19425833112287993,0.3692420836731668,0.12483918245425651,0.21418545474849027,0.3494149935082328,0.432576672452635,0.4508521335423966,0.924579226556127,0.37698004137933994,0.06094106755075579,0.9285279334818288,0.3480164149866274,0.8679657287140576,0.30599086414083365,0.7122284038951817,0.7370019680640559,0.8071344691458314,0.8308784074507006,0.16509829662964104,0.023320326757923726,0.4693973554147608,0.8561335964122229,0.025988454510109782,0.8871851431395549,0.8624670060055042,0.556793550729465,0.80187698463411,0.9347188138881356,0.2278314479006106,0.21219056468330288,0.7721708614625857,0.4142362651704251,0.47537748443057926,0.3697030206445675,0.19565621942824007,0.9536854659218145,0.27013026791576744,0.7011804069740878,0.3962859405944599,0.4074123514188841,0.46785042143110356,0.5855059381576478,0.5763373032194647,0.3847639438187802,0.5498373804079703,0.05782047786556377,0.9498152431655636,0.3077836546410818,0.14035228306281133,0.8030797130660264,0.9814427308943731,0.6786519241578326,0.1362336310530965,0.18187217569854086,0.9763223663803849,0.6443758547320347,0.2904366687340909,0.6976722354430018,0.3249197327066792,0.4872203175798301,0.3432758139070964,0.6713386886167549,0.9009425161646001,0.07159718157959005,0.033504502933621394,0.5697186891501889,0.1285965363276136,0.4278315193548422,0.6634263870481909,0.8098845978549302,0.8435859539752987,0.8948206034160915,0.9338226218685051,0.672842684867146,0.916317658782613,0.1399580258861347,0.24355608688704544,0.5601520342553614,0.5482065999263043,0.5475835714860696,0.5150820762002266,0.30063119532866067,0.6795707113052005,0.4239854542765632,0.002975125463442807,0.8391335667793486,0.8608171923973451,0.17649145335766347,0.009481771602179445,0.2196226133528707,0.4718935521612112,0.7601658860666707,0.11678532826538901,0.13050969535177404,0.9297973237774714,0.35521817155813473,0.7231538643868846,0.7467661655862585,0.8372888027476731,0.6044059735958212,0.4894797618715736,0.2752198298557065,0.9080628611138897,0.2544418732225803,0.759879285805367,0.5115270057239245,0.5826620635512778,0.9093413992068868,0.0576751717257693,0.15684952042630296,0.5374803406452304,0.12483769734885886,0.7704720285200318,0.81500881055403,0.11074203104269709,0.8916480632010493,0.7228752945983473,0.6303130018628047,0.9788497742090656,0.6852615387943387,0.8229746564789612,0.13060876618889716,0.9595811074494806,0.05083051553145257,0.4836670516835341,0.48451053251950515,0.15683570255893808,0.9492008079111682,0.5163505848132228,0.4673499968554592,0.9130506030434448,0.8161344110147911,0.4650233190254611,0.09038176970704592,0.6177524680982561,0.5741841462923963,0.039456398977530616,0.3213754788472587,0.7873211900994161,0.44492611809400584,0.1639367181654352,0.5408458546507826,0.4029483682093571,0.13429619971423712,0.30689553455877183,0.06921177330372497,0.09562449386628391,0.9961037529544967,0.6069001785799863,0.48062458128048746,0.7735071652690967,0.022157781181069036,0.9011284258432031,0.7299507483223543,0.2562736793596858,0.22716198654414543,0.7981676097662755,0.6358379856642331,0.018294190450173775,0.6797523222786364,0.33567212050033557,0.2232940600636194,0.180729165408814,0.4946492929508368,0.3788645989964696,0.96547509924387,0.32724357300965823,0.004169453434505921,0.7262825493006739,0.4586437300999714,0.021807419674749973,0.2200821424376589,0.9412941303926852,0.2413853889918426,0.26743037758175436,0.5537969689567787,0.1408774826571514,0.7460616514127487,0.35273718846635405,0.18417528066718147,0.621078438218478,0.2937791288458924,0.1749917454604727,0.2009621097781401,0.5474621371234042,0.5402361177523101,0.31013001002607254,0.4193537109511274,0.7889439776653455,0.8913090073550943,0.09757741808813569,0.727002730519722,0.04228726839434138,0.08350852956344001,0.5253946049308664,0.01915733759185889,0.36044896536136317,0.3048876271263272,0.2910843825864885,0.9654290367750676,0.31163402284833697,0.627995696890454,0.3117648752960306,0.6062885859519669,0.7036996142830182,0.3938565527551332,0.27889569182033114,0.7282828178482517,0.8636163777665637,0.7469588690842665,0.9191529643656927,0.8947603628619527,0.16376843136760977,0.26369001531823255,0.49385407131347414,0.724994222166087,0.21209993207214517,0.9085968525752917,0.897544273214712,0.404064773022939,0.6481312411447786,0.9150263369104582,0.6123484766769519,0.796317740415795,0.6975929496043358,0.9430361057110423,0.5696074414126516,0.5701313888674655,0.9835309140236274,0.13977743848176616,0.9788772520461607,0.26339639043799057,0.3683839337715684,0.26822356328801134,0.2642532641469838,0.4732441962575471,0.5497389142326545,0.2738718701548176,0.23480227344072102,0.5617806736467611,0.7253051481658095,0.3780028327906563,0.029923265278486544,0.29399824136418706,0.38119704471272753,0.09573692104057352,0.10846675568074549,0.8596714907945765,0.09811905397564569,0.456160072609918,0.015158813915209568,0.7553736852430397,0.4987261199893652,0.2661812985103127,0.10714087383055793,0.19288733119832302,0.17805348690220557,0.04784809991965211,0.6429280585052664,0.35254931371328313,0.11898244251426005,0.1538320910817481,0.48956637268816905,0.39303108203557136,0.57263407864985,0.41831890586211107,0.0008759831584217448,0.5988756273555829,0.40676688816909723,0.14665993418443668,0.650972880947475,0.49696411253831774,0.9145658336965788,0.7039871198779211,0.03972162614229291,0.9821813876931774,0.18169915408961024,0.4465164347458144,0.19305534733128826,0.2235320626327112,0.0018455699309185558,0.4833810050457452,0.04759903651605113,0.8496194370213652,0.20616279786960268,0.43510726770029895,0.5205121766199997,0.9508954564683954,0.22364857505162805,0.05543869923871969,0.4094534703730561,0.3655715697868044,0.42425481889403693,0.19096322767652885,0.32319458730758155,0.5162721137284897,0.0074715095636356255,0.8953899669922967,0.24948097562215166,0.6717650115545873,0.7819440451208711,0.06550755368711225,0.761770366481434,0.8569879103918298,0.7165220294087195,0.11549487780057521,0.35470641266129976,0.4931169180788212,0.9209515232996032,0.5282655313512828,0.7482883649834704,0.08891826473720199,0.4063211146608111,0.42178788198979045,0.49787849759160774,0.5229776802112522,0.5567903610523925,0.8513049580076959,0.9228322308571617,0.5697446777091789,0.42591751540401657,0.5842074659734814,0.7823157642822607,0.15949029726000652,0.4123646233260919,0.5628763763006899,0.08278449179815606,0.16862520101349598,0.7248066537792512,0.04823473084437635,0.9038454125310906,0.19955560857972177,0.4090396022988928,0.9349175568968936,0.7079991331851687,0.7563937908522004,0.7614081538882492,0.26013998414446826,0.049195641764308684,0.3825531272391137,0.18573432375038512,0.29541769109264215,0.3116598616361903,0.9083595440722992,0.9666677739800589,0.1523067038343452,0.12027843295346996,0.23863115069998686,0.29084741088903265,0.05791706427529486,0.6061794866875451,0.31720851834386354,0.01451685863687846,0.1186815490578671,0.24755187357499686,0.9696593155925505,0.46156817726004484,0.794159903240481,0.3878322702253073,0.6832450934741076,0.8580358394630297,0.018163272679382447,0.16276001228608872,0.4213267936645615,0.9479312583321274,0.8712192449896604,0.4736278049606373,0.013078268138945415,0.6013519524088997,0.39371167436830945,0.7674975723294131,0.48060154313736403,0.9287569587143907,0.6645688546570242,0.47505152748547463,0.13437307546449673,0.940797273390724,0.5890709672421826,0.4485054714147999,0.5381450275657507,0.4608491083067532,0.6513094375285994,0.765794968291103,0.1025403944904979,0.9600682334331914,0.7500792292982353,0.48223272347895596,0.40510623227668374,0.26598696094957075,0.08002885753454447,0.10333556129547194,0.40380941699545425,0.365121728163896,0.678606127285024,0.6785549953068344,0.2372920807459722,0.22750051596164655,0.9308316866502663,0.2520018700189911,0.7189741065577964,0.637142176809388,0.7541823865653812,0.20838135796028212,0.9668114799412356,0.9273213558374283,0.29448268203280625,0.7992733893961861,0.999964612679643,0.7505229189706283,0.9905709670653298,0.12745573615839434,0.7492523531518204,0.8235704464516138,0.8304775277754569,0.17417900054108182,0.27404499047734776,0.3844502115945744,0.04577773733414203,0.5698384039732105,0.5255738351727738,0.1836602163297697,0.625032978014119,0.1327444636477717,0.9482870937972431,0.9924258250960453,0.9934737722866362,0.24175137181105044,0.3755378885634665,0.5888658456171378,0.1588127478186433,0.8245457309551312,0.4294382243596355,0.11355011380664337,0.5188960601580463,0.22460601222615884,0.6219011943065826,0.8542746180199925,0.9391255781607358,0.7432480086885219,0.6211653563615931,0.6556591587854887,0.37676277477266307,0.16797742356490186,0.6444270527065294,0.14478796271488314,0.3961415835561908,0.12995445767403313]],[\"color\",[\"navy\",\"navy\",\"navy\",\"navy\",\"navy\",\"navy\",\"navy\",\"navy\",\"navy\",\"navy\",\"navy\",\"navy\",\"navy\",\"navy\",\"navy\",\"navy\",\"navy\",\"navy\",\"navy\",\"navy\",\"navy\",\"navy\",\"navy\",\"navy\",\"navy\",\"navy\",\"navy\",\"navy\",\"navy\",\"navy\",\"navy\",\"navy\",\"navy\",\"navy\",\"navy\",\"navy\",\"navy\",\"navy\",\"navy\",\"navy\",\"navy\",\"navy\",\"navy\",\"navy\",\"navy\",\"navy\",\"navy\",\"navy\",\"navy\",\"navy\",\"navy\",\"navy\",\"navy\",\"navy\",\"navy\",\"navy\",\"navy\",\"navy\",\"navy\",\"navy\",\"navy\",\"navy\",\"navy\",\"navy\",\"navy\",\"navy\",\"navy\",\"navy\",\"navy\",\"navy\",\"navy\",\"navy\",\"navy\",\"navy\",\"navy\",\"navy\",\"navy\",\"navy\",\"navy\",\"navy\",\"navy\",\"navy\",\"navy\",\"navy\",\"navy\",\"navy\",\"navy\",\"navy\",\"navy\",\"navy\",\"navy\",\"navy\",\"navy\",\"navy\",\"navy\",\"navy\",\"navy\",\"navy\",\"navy\",\"navy\",\"navy\",\"navy\",\"navy\",\"navy\",\"navy\",\"navy\",\"navy\",\"navy\",\"navy\",\"navy\",\"navy\",\"navy\",\"navy\",\"navy\",\"navy\",\"navy\",\"navy\",\"navy\",\"navy\",\"navy\",\"navy\",\"navy\",\"navy\",\"navy\",\"navy\",\"navy\",\"navy\",\"navy\",\"navy\",\"navy\",\"navy\",\"navy\",\"navy\",\"navy\",\"navy\",\"navy\",\"navy\",\"navy\",\"navy\",\"navy\",\"navy\",\"navy\",\"navy\",\"navy\",\"navy\",\"navy\",\"navy\",\"navy\",\"navy\",\"navy\",\"navy\",\"navy\",\"navy\",\"navy\",\"navy\",\"navy\",\"navy\",\"navy\",\"navy\",\"navy\",\"navy\",\"navy\",\"navy\",\"navy\",\"navy\",\"navy\",\"navy\",\"navy\",\"navy\",\"navy\",\"navy\",\"navy\",\"navy\",\"navy\",\"navy\",\"navy\",\"navy\",\"navy\",\"navy\",\"navy\",\"navy\",\"navy\",\"navy\",\"navy\",\"navy\",\"navy\",\"navy\",\"navy\",\"navy\",\"navy\",\"navy\",\"navy\",\"navy\",\"navy\",\"navy\",\"navy\",\"navy\",\"navy\",\"navy\",\"navy\",\"navy\",\"navy\",\"navy\",\"navy\",\"navy\",\"navy\",\"navy\",\"navy\",\"navy\",\"navy\",\"navy\",\"navy\",\"navy\",\"navy\",\"navy\",\"navy\",\"navy\",\"navy\",\"navy\",\"navy\",\"navy\",\"navy\",\"navy\",\"navy\",\"navy\",\"navy\",\"navy\",\"navy\",\"navy\",\"navy\",\"navy\",\"navy\",\"navy\",\"navy\",\"navy\",\"navy\",\"navy\",\"navy\",\"navy\",\"navy\",\"navy\",\"navy\",\"navy\",\"navy\",\"navy\",\"navy\",\"navy\",\"navy\",\"navy\",\"navy\",\"navy\",\"navy\",\"navy\",\"navy\",\"navy\",\"navy\",\"navy\",\"navy\",\"navy\",\"navy\",\"navy\",\"navy\",\"navy\",\"navy\",\"navy\",\"navy\",\"navy\",\"navy\",\"navy\",\"navy\",\"navy\",\"navy\",\"navy\",\"navy\",\"navy\",\"navy\",\"navy\",\"navy\",\"navy\",\"navy\",\"navy\",\"navy\",\"navy\",\"navy\",\"navy\",\"navy\",\"navy\",\"navy\",\"navy\",\"navy\",\"navy\",\"navy\",\"navy\",\"navy\",\"navy\",\"navy\",\"navy\",\"navy\",\"navy\",\"navy\",\"navy\",\"navy\",\"navy\",\"navy\",\"navy\",\"navy\",\"navy\",\"navy\",\"navy\",\"navy\",\"navy\",\"navy\",\"navy\",\"navy\",\"navy\",\"navy\",\"navy\",\"navy\",\"navy\",\"navy\",\"navy\",\"navy\",\"navy\",\"navy\",\"navy\",\"navy\",\"navy\",\"navy\",\"navy\",\"navy\",\"navy\",\"navy\",\"navy\",\"navy\",\"navy\",\"navy\",\"navy\",\"navy\",\"navy\",\"navy\",\"navy\",\"navy\",\"navy\",\"navy\",\"navy\",\"navy\",\"navy\",\"navy\",\"navy\",\"navy\",\"navy\",\"navy\",\"navy\",\"navy\",\"navy\",\"navy\",\"navy\",\"navy\",\"navy\",\"navy\",\"navy\",\"navy\",\"navy\",\"navy\",\"navy\",\"navy\",\"navy\",\"navy\",\"navy\",\"navy\",\"navy\",\"navy\",\"navy\",\"navy\",\"navy\",\"navy\",\"navy\",\"navy\",\"navy\",\"navy\",\"navy\",\"navy\",\"navy\",\"navy\",\"navy\",\"navy\",\"navy\",\"navy\",\"navy\",\"navy\",\"navy\",\"navy\",\"navy\",\"navy\",\"navy\",\"navy\",\"navy\",\"navy\",\"navy\",\"navy\",\"navy\",\"navy\",\"navy\",\"navy\",\"navy\",\"navy\",\"navy\",\"navy\",\"navy\",\"navy\",\"navy\",\"navy\",\"navy\",\"navy\",\"navy\",\"navy\",\"navy\",\"navy\",\"navy\",\"navy\",\"navy\",\"navy\",\"navy\",\"navy\",\"navy\",\"navy\",\"navy\",\"navy\",\"navy\",\"navy\",\"navy\",\"navy\",\"navy\",\"navy\",\"navy\",\"navy\",\"navy\",\"navy\",\"navy\",\"navy\",\"navy\",\"navy\",\"navy\",\"navy\",\"navy\",\"navy\",\"navy\",\"navy\",\"navy\",\"navy\",\"navy\",\"navy\",\"navy\",\"navy\",\"navy\",\"navy\",\"navy\",\"navy\",\"navy\",\"navy\",\"navy\",\"navy\",\"navy\",\"navy\",\"navy\",\"navy\",\"navy\",\"navy\",\"navy\",\"navy\",\"navy\",\"navy\",\"navy\",\"navy\",\"navy\",\"navy\",\"navy\",\"navy\",\"navy\",\"navy\",\"navy\",\"navy\",\"navy\",\"navy\",\"navy\",\"navy\",\"navy\",\"navy\",\"navy\",\"navy\",\"navy\",\"navy\",\"navy\",\"navy\",\"navy\",\"navy\",\"navy\",\"navy\",\"navy\",\"navy\"]]]}}},\"view\":{\"type\":\"object\",\"name\":\"CDSView\",\"id\":\"p2635\",\"attributes\":{\"filter\":{\"type\":\"object\",\"name\":\"AllIndices\",\"id\":\"p2636\"}}},\"glyph\":{\"type\":\"object\",\"name\":\"Scatter\",\"id\":\"p2630\",\"attributes\":{\"x\":{\"type\":\"field\",\"field\":\"x\"},\"y\":{\"type\":\"field\",\"field\":\"y\"},\"size\":{\"type\":\"value\",\"value\":8},\"line_color\":{\"type\":\"field\",\"field\":\"color\"},\"line_alpha\":{\"type\":\"value\",\"value\":0.4},\"fill_color\":{\"type\":\"field\",\"field\":\"color\"},\"fill_alpha\":{\"type\":\"value\",\"value\":0.4},\"hatch_color\":{\"type\":\"field\",\"field\":\"color\"},\"hatch_alpha\":{\"type\":\"value\",\"value\":0.4}}},\"selection_glyph\":{\"type\":\"object\",\"name\":\"Scatter\",\"id\":\"p2632\",\"attributes\":{\"x\":{\"type\":\"field\",\"field\":\"x\"},\"y\":{\"type\":\"field\",\"field\":\"y\"},\"size\":{\"type\":\"value\",\"value\":8},\"line_color\":{\"type\":\"value\",\"value\":\"firebrick\"},\"line_alpha\":{\"type\":\"value\",\"value\":0.4},\"fill_color\":{\"type\":\"value\",\"value\":\"firebrick\"},\"fill_alpha\":{\"type\":\"value\",\"value\":0.4},\"hatch_color\":{\"type\":\"value\",\"value\":\"firebrick\"},\"hatch_alpha\":{\"type\":\"value\",\"value\":0.4}}},\"nonselection_glyph\":{\"type\":\"object\",\"name\":\"Scatter\",\"id\":\"p2631\",\"attributes\":{\"x\":{\"type\":\"field\",\"field\":\"x\"},\"y\":{\"type\":\"field\",\"field\":\"y\"},\"size\":{\"type\":\"value\",\"value\":8},\"line_color\":{\"type\":\"field\",\"field\":\"color\"},\"line_alpha\":{\"type\":\"value\",\"value\":0.1},\"fill_color\":{\"type\":\"field\",\"field\":\"color\"},\"fill_alpha\":{\"type\":\"value\",\"value\":0.1},\"hatch_color\":{\"type\":\"field\",\"field\":\"color\"},\"hatch_alpha\":{\"type\":\"value\",\"value\":0.1}}},\"muted_glyph\":{\"type\":\"object\",\"name\":\"Scatter\",\"id\":\"p2633\",\"attributes\":{\"x\":{\"type\":\"field\",\"field\":\"x\"},\"y\":{\"type\":\"field\",\"field\":\"y\"},\"size\":{\"type\":\"value\",\"value\":8},\"line_color\":{\"type\":\"field\",\"field\":\"color\"},\"line_alpha\":{\"type\":\"value\",\"value\":0.2},\"fill_color\":{\"type\":\"field\",\"field\":\"color\"},\"fill_alpha\":{\"type\":\"value\",\"value\":0.2},\"hatch_color\":{\"type\":\"field\",\"field\":\"color\"},\"hatch_alpha\":{\"type\":\"value\",\"value\":0.2}}}}}],\"toolbar\":{\"type\":\"object\",\"name\":\"Toolbar\",\"id\":\"p2612\",\"attributes\":{\"tools\":[{\"type\":\"object\",\"name\":\"LassoSelectTool\",\"id\":\"p2625\",\"attributes\":{\"renderers\":\"auto\",\"overlay\":{\"type\":\"object\",\"name\":\"PolyAnnotation\",\"id\":\"p2626\",\"attributes\":{\"syncable\":false,\"level\":\"overlay\",\"visible\":false,\"xs\":[],\"ys\":[],\"editable\":true,\"line_color\":\"black\",\"line_alpha\":1.0,\"line_width\":2,\"line_dash\":[4,4],\"fill_color\":\"lightgrey\",\"fill_alpha\":0.5}}}}]}},\"left\":[{\"type\":\"object\",\"name\":\"LinearAxis\",\"id\":\"p2620\",\"attributes\":{\"ticker\":{\"type\":\"object\",\"name\":\"BasicTicker\",\"id\":\"p2621\",\"attributes\":{\"mantissas\":[1,2,5]}},\"formatter\":{\"type\":\"object\",\"name\":\"BasicTickFormatter\",\"id\":\"p2622\"},\"major_label_policy\":{\"type\":\"object\",\"name\":\"AllLabels\",\"id\":\"p2623\"}}}],\"below\":[{\"type\":\"object\",\"name\":\"LinearAxis\",\"id\":\"p2615\",\"attributes\":{\"ticker\":{\"type\":\"object\",\"name\":\"BasicTicker\",\"id\":\"p2616\",\"attributes\":{\"mantissas\":[1,2,5]}},\"formatter\":{\"type\":\"object\",\"name\":\"BasicTickFormatter\",\"id\":\"p2617\"},\"major_label_policy\":{\"type\":\"object\",\"name\":\"AllLabels\",\"id\":\"p2618\"}}}],\"center\":[{\"type\":\"object\",\"name\":\"Grid\",\"id\":\"p2619\",\"attributes\":{\"axis\":{\"id\":\"p2615\"}}},{\"type\":\"object\",\"name\":\"Grid\",\"id\":\"p2624\",\"attributes\":{\"dimension\":1,\"axis\":{\"id\":\"p2620\"}}}]}},{\"type\":\"object\",\"name\":\"Figure\",\"id\":\"p2640\",\"attributes\":{\"width\":400,\"height\":400,\"x_range\":{\"type\":\"object\",\"name\":\"DataRange1d\",\"id\":\"p2641\"},\"y_range\":{\"type\":\"object\",\"name\":\"DataRange1d\",\"id\":\"p2642\"},\"x_scale\":{\"type\":\"object\",\"name\":\"LinearScale\",\"id\":\"p2650\"},\"y_scale\":{\"type\":\"object\",\"name\":\"LinearScale\",\"id\":\"p2651\"},\"title\":{\"type\":\"object\",\"name\":\"Title\",\"id\":\"p2643\",\"attributes\":{\"text\":\"Updated based on Selection\"}},\"renderers\":[{\"type\":\"object\",\"name\":\"GlyphRenderer\",\"id\":\"p2681\",\"attributes\":{\"data_source\":{\"id\":\"p2637\"},\"view\":{\"type\":\"object\",\"name\":\"CDSView\",\"id\":\"p2682\",\"attributes\":{\"filter\":{\"type\":\"object\",\"name\":\"AllIndices\",\"id\":\"p2683\"}}},\"glyph\":{\"type\":\"object\",\"name\":\"Line\",\"id\":\"p2678\",\"attributes\":{\"x\":{\"type\":\"field\",\"field\":\"x\"},\"y\":{\"type\":\"field\",\"field\":\"ym\"},\"line_color\":\"orange\",\"line_alpha\":0.6,\"line_width\":5}},\"nonselection_glyph\":{\"type\":\"object\",\"name\":\"Line\",\"id\":\"p2679\",\"attributes\":{\"x\":{\"type\":\"field\",\"field\":\"x\"},\"y\":{\"type\":\"field\",\"field\":\"ym\"},\"line_color\":\"orange\",\"line_alpha\":0.1,\"line_width\":5}},\"muted_glyph\":{\"type\":\"object\",\"name\":\"Line\",\"id\":\"p2680\",\"attributes\":{\"x\":{\"type\":\"field\",\"field\":\"x\"},\"y\":{\"type\":\"field\",\"field\":\"ym\"},\"line_color\":\"orange\",\"line_alpha\":0.2,\"line_width\":5}}}}],\"toolbar\":{\"type\":\"object\",\"name\":\"Toolbar\",\"id\":\"p2649\",\"attributes\":{\"tools\":[{\"type\":\"object\",\"name\":\"PanTool\",\"id\":\"p2662\"},{\"type\":\"object\",\"name\":\"WheelZoomTool\",\"id\":\"p2663\",\"attributes\":{\"renderers\":\"auto\"}},{\"type\":\"object\",\"name\":\"BoxZoomTool\",\"id\":\"p2664\",\"attributes\":{\"overlay\":{\"type\":\"object\",\"name\":\"BoxAnnotation\",\"id\":\"p2665\",\"attributes\":{\"syncable\":false,\"line_color\":\"black\",\"line_alpha\":1.0,\"line_width\":2,\"line_dash\":[4,4],\"fill_color\":\"lightgrey\",\"fill_alpha\":0.5,\"level\":\"overlay\",\"visible\":false,\"left\":{\"type\":\"number\",\"value\":\"nan\"},\"right\":{\"type\":\"number\",\"value\":\"nan\"},\"top\":{\"type\":\"number\",\"value\":\"nan\"},\"bottom\":{\"type\":\"number\",\"value\":\"nan\"},\"left_units\":\"canvas\",\"right_units\":\"canvas\",\"top_units\":\"canvas\",\"bottom_units\":\"canvas\",\"handles\":{\"type\":\"object\",\"name\":\"BoxInteractionHandles\",\"id\":\"p2671\",\"attributes\":{\"all\":{\"type\":\"object\",\"name\":\"AreaVisuals\",\"id\":\"p2670\",\"attributes\":{\"fill_color\":\"white\",\"hover_fill_color\":\"lightgray\"}}}}}}}},{\"type\":\"object\",\"name\":\"SaveTool\",\"id\":\"p2672\"},{\"type\":\"object\",\"name\":\"ResetTool\",\"id\":\"p2673\"},{\"type\":\"object\",\"name\":\"HelpTool\",\"id\":\"p2674\"}]}},\"left\":[{\"type\":\"object\",\"name\":\"LinearAxis\",\"id\":\"p2657\",\"attributes\":{\"ticker\":{\"type\":\"object\",\"name\":\"BasicTicker\",\"id\":\"p2658\",\"attributes\":{\"mantissas\":[1,2,5]}},\"formatter\":{\"type\":\"object\",\"name\":\"BasicTickFormatter\",\"id\":\"p2659\"},\"major_label_policy\":{\"type\":\"object\",\"name\":\"AllLabels\",\"id\":\"p2660\"}}}],\"below\":[{\"type\":\"object\",\"name\":\"LinearAxis\",\"id\":\"p2652\",\"attributes\":{\"ticker\":{\"type\":\"object\",\"name\":\"BasicTicker\",\"id\":\"p2653\",\"attributes\":{\"mantissas\":[1,2,5]}},\"formatter\":{\"type\":\"object\",\"name\":\"BasicTickFormatter\",\"id\":\"p2654\"},\"major_label_policy\":{\"type\":\"object\",\"name\":\"AllLabels\",\"id\":\"p2655\"}}}],\"center\":[{\"type\":\"object\",\"name\":\"Grid\",\"id\":\"p2656\",\"attributes\":{\"axis\":{\"id\":\"p2652\"}}},{\"type\":\"object\",\"name\":\"Grid\",\"id\":\"p2661\",\"attributes\":{\"dimension\":1,\"axis\":{\"id\":\"p2657\"}}}]}}]}}]}};\n  const render_items = [{\"docid\":\"f2d1bab1-d6d6-4e71-82bd-901bf61050f1\",\"roots\":{\"p2685\":\"a520a183-2b18-46f3-92a0-fe6125c5fcc1\"},\"root_ids\":[\"p2685\"]}];\n  void root.Bokeh.embed.embed_items_notebook(docs_json, render_items);\n  }\n  if (root.Bokeh !== undefined) {\n    embed_document(root);\n  } else {\n    let attempts = 0;\n    const timer = setInterval(function(root) {\n      if (root.Bokeh !== undefined) {\n        clearInterval(timer);\n        embed_document(root);\n      } else {\n        attempts++;\n        if (attempts > 100) {\n          clearInterval(timer);\n          console.log(\"Bokeh: ERROR: Unable to run BokehJS code because BokehJS library is missing\");\n        }\n      }\n    }, 10, root)\n  }\n})(window);",
      "application/vnd.bokehjs_exec.v0+json": ""
     },
     "metadata": {
      "application/vnd.bokehjs_exec.v0+json": {
       "id": "p2685"
      }
     },
     "output_type": "display_data"
    }
   ],
   "source": [
    "# Exercise: Experiment with selection callbacks\n",
    "from bokeh.layouts import row\n",
    "\n",
    "p1 = figure(width=400, height=400, tools=\"lasso_select\", title=\"Select Here\")\n",
    "p1.circle('x', 'y', color='color', size=8, source=s, alpha=0.4, selection_color=\"firebrick\")\n",
    "\n",
    "# Create another figure to display updated data\n",
    "s2 = ColumnDataSource(data=dict(x=[0, 1], ym=[0.5, 0.5]))\n",
    "p2 = figure(width=400, height=400, title=\"Updated based on Selection\")\n",
    "p2.line(x='x', y='ym', color=\"orange\", line_width=5, alpha=0.6, source=s2)\n",
    "\n",
    "# Attach a callback to update s2 based on selection in s\n",
    "s.selected.js_on_change('indices', CustomJS(args=dict(s=s, s2=s2), code=\"\"\"\n",
    "    const inds = s.selected.indices;\n",
    "    if (inds.length > 0) {\n",
    "        const ym = inds.reduce((a, b) => a + s.data.y[b], 0) / inds.length;\n",
    "        s2.data = { x: s2.data.x, ym: [ym, ym] };\n",
    "    }\n",
    "\"\"\"))\n",
    "\n",
    "show(row(p1, p2))"
   ]
  },
  {
   "cell_type": "markdown",
   "id": "3b3fb74b",
   "metadata": {
    "id": "YZ0v1_aHowhZ"
   },
   "source": [
    "## CustomJS for UI Events\n",
    "\n",
    "Bokeh also has a general events system\n",
    "\n",
    "All of the available UI events, and their properties, are listed in the Reference Guide section for [bokeh.events](https://bokeh.pydata.org/en/latest/docs/reference/events.html)"
   ]
  },
  {
   "cell_type": "code",
   "execution_count": 14,
   "id": "37a4d84a",
   "metadata": {
    "id": "XHPtfei9owhZ"
   },
   "outputs": [
    {
     "name": "stderr",
     "output_type": "stream",
     "text": [
      "BokehDeprecationWarning: 'scatter(radius=...)' was deprecated in Bokeh 3.4.0 and will be removed, use 'circle(radius=...) instead' instead.\n"
     ]
    },
    {
     "data": {
      "text/html": [
       "\n",
       "  <div id=\"dace4d74-9706-45a9-b158-c14c0b8449cb\" data-root-id=\"p1657\" style=\"display: contents;\"></div>\n"
      ]
     },
     "metadata": {},
     "output_type": "display_data"
    },
    {
     "data": {
      "application/javascript": "(function(root) {\n  function embed_document(root) {\n  const docs_json = {\"a5f313b5-24db-46c5-bba6-a516a53e004c\":{\"version\":\"3.6.1\",\"title\":\"Bokeh Application\",\"roots\":[{\"type\":\"object\",\"name\":\"Column\",\"id\":\"p1657\",\"attributes\":{\"children\":[{\"type\":\"object\",\"name\":\"Button\",\"id\":\"p1655\",\"attributes\":{\"js_event_callbacks\":{\"type\":\"map\",\"entries\":[[\"button_click\",[{\"type\":\"object\",\"name\":\"CustomJS\",\"id\":\"p1658\",\"attributes\":{\"args\":{\"type\":\"map\",\"entries\":[[\"div\",{\"type\":\"object\",\"name\":\"Div\",\"id\":\"p1654\",\"attributes\":{\"width\":400}}]]},\"code\":\"\\ndiv.text = \\\"Button!\\\";\\n\"}}]]]},\"width\":300}},{\"type\":\"object\",\"name\":\"Row\",\"id\":\"p1656\",\"attributes\":{\"children\":[{\"type\":\"object\",\"name\":\"Figure\",\"id\":\"p1616\",\"attributes\":{\"js_event_callbacks\":{\"type\":\"map\",\"entries\":[[\"selectiongeometry\",[{\"type\":\"object\",\"name\":\"CustomJS\",\"id\":\"p1659\",\"attributes\":{\"args\":{\"type\":\"map\",\"entries\":[[\"div\",{\"id\":\"p1654\"}]]},\"code\":\"\\ndiv.text = \\\"Selection! <p> <p>\\\" + JSON.stringify(cb_obj.geometry, undefined, 2);\\n\"}}]]]},\"x_range\":{\"type\":\"object\",\"name\":\"DataRange1d\",\"id\":\"p1617\"},\"y_range\":{\"type\":\"object\",\"name\":\"DataRange1d\",\"id\":\"p1618\"},\"x_scale\":{\"type\":\"object\",\"name\":\"LinearScale\",\"id\":\"p1625\"},\"y_scale\":{\"type\":\"object\",\"name\":\"LinearScale\",\"id\":\"p1626\"},\"title\":{\"type\":\"object\",\"name\":\"Title\",\"id\":\"p1623\"},\"renderers\":[{\"type\":\"object\",\"name\":\"GlyphRenderer\",\"id\":\"p1651\",\"attributes\":{\"data_source\":{\"type\":\"object\",\"name\":\"ColumnDataSource\",\"id\":\"p1645\",\"attributes\":{\"selected\":{\"type\":\"object\",\"name\":\"Selection\",\"id\":\"p1646\",\"attributes\":{\"indices\":[],\"line_indices\":[]}},\"selection_policy\":{\"type\":\"object\",\"name\":\"UnionRenderers\",\"id\":\"p1647\"},\"data\":{\"type\":\"map\",\"entries\":[[\"x\",{\"type\":\"ndarray\",\"array\":{\"type\":\"bytes\",\"data\":\"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\"},\"shape\":[2000],\"dtype\":\"float64\",\"order\":\"little\"}],[\"y\",{\"type\":\"ndarray\",\"array\":{\"type\":\"bytes\",\"data\":\"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\"},\"shape\":[2000],\"dtype\":\"float64\",\"order\":\"little\"}]]}}},\"view\":{\"type\":\"object\",\"name\":\"CDSView\",\"id\":\"p1652\",\"attributes\":{\"filter\":{\"type\":\"object\",\"name\":\"AllIndices\",\"id\":\"p1653\"}}},\"glyph\":{\"type\":\"object\",\"name\":\"Circle\",\"id\":\"p1648\",\"attributes\":{\"x\":{\"type\":\"field\",\"field\":\"x\"},\"y\":{\"type\":\"field\",\"field\":\"y\"},\"radius\":{\"type\":\"value\",\"value\":1},\"line_color\":{\"type\":\"value\",\"value\":null},\"fill_color\":{\"type\":\"value\",\"value\":\"#1f77b4\"},\"fill_alpha\":{\"type\":\"value\",\"value\":0.6}}},\"nonselection_glyph\":{\"type\":\"object\",\"name\":\"Circle\",\"id\":\"p1649\",\"attributes\":{\"x\":{\"type\":\"field\",\"field\":\"x\"},\"y\":{\"type\":\"field\",\"field\":\"y\"},\"radius\":{\"type\":\"value\",\"value\":1},\"line_color\":{\"type\":\"value\",\"value\":null},\"line_alpha\":{\"type\":\"value\",\"value\":0.1},\"fill_color\":{\"type\":\"value\",\"value\":\"#1f77b4\"},\"fill_alpha\":{\"type\":\"value\",\"value\":0.1},\"hatch_alpha\":{\"type\":\"value\",\"value\":0.1}}},\"muted_glyph\":{\"type\":\"object\",\"name\":\"Circle\",\"id\":\"p1650\",\"attributes\":{\"x\":{\"type\":\"field\",\"field\":\"x\"},\"y\":{\"type\":\"field\",\"field\":\"y\"},\"radius\":{\"type\":\"value\",\"value\":1},\"line_color\":{\"type\":\"value\",\"value\":null},\"line_alpha\":{\"type\":\"value\",\"value\":0.2},\"fill_color\":{\"type\":\"value\",\"value\":\"#1f77b4\"},\"fill_alpha\":{\"type\":\"value\",\"value\":0.2},\"hatch_alpha\":{\"type\":\"value\",\"value\":0.2}}}}}],\"toolbar\":{\"type\":\"object\",\"name\":\"Toolbar\",\"id\":\"p1624\",\"attributes\":{\"tools\":[{\"type\":\"object\",\"name\":\"BoxSelectTool\",\"id\":\"p1637\",\"attributes\":{\"renderers\":\"auto\",\"overlay\":{\"type\":\"object\",\"name\":\"BoxAnnotation\",\"id\":\"p1638\",\"attributes\":{\"syncable\":false,\"line_color\":\"black\",\"line_alpha\":1.0,\"line_width\":2,\"line_dash\":[4,4],\"fill_color\":\"lightgrey\",\"fill_alpha\":0.5,\"level\":\"overlay\",\"visible\":false,\"left\":{\"type\":\"number\",\"value\":\"nan\"},\"right\":{\"type\":\"number\",\"value\":\"nan\"},\"top\":{\"type\":\"number\",\"value\":\"nan\"},\"bottom\":{\"type\":\"number\",\"value\":\"nan\"},\"editable\":true,\"handles\":{\"type\":\"object\",\"name\":\"BoxInteractionHandles\",\"id\":\"p1644\",\"attributes\":{\"all\":{\"type\":\"object\",\"name\":\"AreaVisuals\",\"id\":\"p1643\",\"attributes\":{\"fill_color\":\"white\",\"hover_fill_color\":\"lightgray\"}}}}}}}}]}},\"left\":[{\"type\":\"object\",\"name\":\"LinearAxis\",\"id\":\"p1632\",\"attributes\":{\"ticker\":{\"type\":\"object\",\"name\":\"BasicTicker\",\"id\":\"p1633\",\"attributes\":{\"mantissas\":[1,2,5]}},\"formatter\":{\"type\":\"object\",\"name\":\"BasicTickFormatter\",\"id\":\"p1634\"},\"major_label_policy\":{\"type\":\"object\",\"name\":\"AllLabels\",\"id\":\"p1635\"}}}],\"below\":[{\"type\":\"object\",\"name\":\"LinearAxis\",\"id\":\"p1627\",\"attributes\":{\"ticker\":{\"type\":\"object\",\"name\":\"BasicTicker\",\"id\":\"p1628\",\"attributes\":{\"mantissas\":[1,2,5]}},\"formatter\":{\"type\":\"object\",\"name\":\"BasicTickFormatter\",\"id\":\"p1629\"},\"major_label_policy\":{\"type\":\"object\",\"name\":\"AllLabels\",\"id\":\"p1630\"}}}],\"center\":[{\"type\":\"object\",\"name\":\"Grid\",\"id\":\"p1631\",\"attributes\":{\"axis\":{\"id\":\"p1627\"}}},{\"type\":\"object\",\"name\":\"Grid\",\"id\":\"p1636\",\"attributes\":{\"dimension\":1,\"axis\":{\"id\":\"p1632\"}}}]}},{\"id\":\"p1654\"}]}}]}}]}};\n  const render_items = [{\"docid\":\"a5f313b5-24db-46c5-bba6-a516a53e004c\",\"roots\":{\"p1657\":\"dace4d74-9706-45a9-b158-c14c0b8449cb\"},\"root_ids\":[\"p1657\"]}];\n  void root.Bokeh.embed.embed_items_notebook(docs_json, render_items);\n  }\n  if (root.Bokeh !== undefined) {\n    embed_document(root);\n  } else {\n    let attempts = 0;\n    const timer = setInterval(function(root) {\n      if (root.Bokeh !== undefined) {\n        clearInterval(timer);\n        embed_document(root);\n      } else {\n        attempts++;\n        if (attempts > 100) {\n          clearInterval(timer);\n          console.log(\"Bokeh: ERROR: Unable to run BokehJS code because BokehJS library is missing\");\n        }\n      }\n    }, 10, root)\n  }\n})(window);",
      "application/vnd.bokehjs_exec.v0+json": ""
     },
     "metadata": {
      "application/vnd.bokehjs_exec.v0+json": {
       "id": "p1657"
      }
     },
     "output_type": "display_data"
    }
   ],
   "source": [
    "from bokeh.plotting import figure\n",
    "from bokeh import events\n",
    "from bokeh.models import CustomJS, Div, Button\n",
    "from bokeh.layouts import column, row\n",
    "\n",
    "import numpy as np\n",
    "x = np.random.random(size=2000) * 100\n",
    "y = np.random.random(size=2000) * 100\n",
    "\n",
    "p = figure(tools=\"box_select\")\n",
    "p.scatter(x, y, radius=1, fill_alpha=0.6, line_color=None)\n",
    "\n",
    "div = Div(width=400)\n",
    "button = Button(label=\"Button\", width=300)\n",
    "layout = column(button, row(p, div))\n",
    "\n",
    "# Events with no attributes\n",
    "button.js_on_event(events.ButtonClick,  CustomJS(args=dict(div=div), code=\"\"\"\n",
    "div.text = \"Button!\";\n",
    "\"\"\"))\n",
    "\n",
    "p.js_on_event(events.SelectionGeometry, CustomJS(args=dict(div=div), code=\"\"\"\n",
    "div.text = \"Selection! <p> <p>\" + JSON.stringify(cb_obj.geometry, undefined, 2);\n",
    "\"\"\"))\n",
    "\n",
    "show(layout)"
   ]
  },
  {
   "cell_type": "code",
   "execution_count": 34,
   "id": "d91ba308",
   "metadata": {
    "id": "G-G0IpcTowhZ"
   },
   "outputs": [
    {
     "name": "stderr",
     "output_type": "stream",
     "text": [
      "BokehDeprecationWarning: 'scatter(radius=...)' was deprecated in Bokeh 3.4.0 and will be removed, use 'circle(radius=...) instead' instead.\n"
     ]
    },
    {
     "data": {
      "text/html": [
       "\n",
       "  <div id=\"c61a8afc-2624-40de-92a4-3ea6bbe68ba4\" data-root-id=\"p2598\" style=\"display: contents;\"></div>\n"
      ]
     },
     "metadata": {},
     "output_type": "display_data"
    },
    {
     "data": {
      "application/javascript": "(function(root) {\n  function embed_document(root) {\n  const docs_json = {\"61687298-c142-42be-874a-28f43ba29e27\":{\"version\":\"3.6.1\",\"title\":\"Bokeh Application\",\"roots\":[{\"type\":\"object\",\"name\":\"Column\",\"id\":\"p2598\",\"attributes\":{\"children\":[{\"type\":\"object\",\"name\":\"Button\",\"id\":\"p2596\",\"attributes\":{\"js_event_callbacks\":{\"type\":\"map\",\"entries\":[[\"button_click\",[{\"type\":\"object\",\"name\":\"CustomJS\",\"id\":\"p2599\",\"attributes\":{\"args\":{\"type\":\"map\",\"entries\":[[\"div\",{\"type\":\"object\",\"name\":\"Div\",\"id\":\"p2595\",\"attributes\":{\"width\":400}}]]},\"code\":\"\\ndiv.text = \\\"Button!\\\";\\n\"}}]]]},\"width\":300}},{\"type\":\"object\",\"name\":\"Row\",\"id\":\"p2597\",\"attributes\":{\"children\":[{\"type\":\"object\",\"name\":\"Figure\",\"id\":\"p2557\",\"attributes\":{\"js_event_callbacks\":{\"type\":\"map\",\"entries\":[[\"selectiongeometry\",[{\"type\":\"object\",\"name\":\"CustomJS\",\"id\":\"p2600\",\"attributes\":{\"args\":{\"type\":\"map\",\"entries\":[[\"div\",{\"id\":\"p2595\"}]]},\"code\":\"\\ndiv.text = \\\"Selection! <p> <p>\\\" + JSON.stringify(cb_obj.geometry, undefined, 2);\\n\"}}]]]},\"x_range\":{\"type\":\"object\",\"name\":\"DataRange1d\",\"id\":\"p2558\"},\"y_range\":{\"type\":\"object\",\"name\":\"DataRange1d\",\"id\":\"p2559\"},\"x_scale\":{\"type\":\"object\",\"name\":\"LinearScale\",\"id\":\"p2566\"},\"y_scale\":{\"type\":\"object\",\"name\":\"LinearScale\",\"id\":\"p2567\"},\"title\":{\"type\":\"object\",\"name\":\"Title\",\"id\":\"p2564\"},\"renderers\":[{\"type\":\"object\",\"name\":\"GlyphRenderer\",\"id\":\"p2592\",\"attributes\":{\"data_source\":{\"type\":\"object\",\"name\":\"ColumnDataSource\",\"id\":\"p2586\",\"attributes\":{\"selected\":{\"type\":\"object\",\"name\":\"Selection\",\"id\":\"p2587\",\"attributes\":{\"indices\":[],\"line_indices\":[]}},\"selection_policy\":{\"type\":\"object\",\"name\":\"UnionRenderers\",\"id\":\"p2588\"},\"data\":{\"type\":\"map\",\"entries\":[[\"x\",{\"type\":\"ndarray\",\"array\":{\"type\":\"bytes\",\"data\":\"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\"},\"shape\":[2000],\"dtype\":\"float64\",\"order\":\"little\"}],[\"y\",{\"type\":\"ndarray\",\"array\":{\"type\":\"bytes\",\"data\":\"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\"},\"shape\":[2000],\"dtype\":\"float64\",\"order\":\"little\"}]]}}},\"view\":{\"type\":\"object\",\"name\":\"CDSView\",\"id\":\"p2593\",\"attributes\":{\"filter\":{\"type\":\"object\",\"name\":\"AllIndices\",\"id\":\"p2594\"}}},\"glyph\":{\"type\":\"object\",\"name\":\"Circle\",\"id\":\"p2589\",\"attributes\":{\"x\":{\"type\":\"field\",\"field\":\"x\"},\"y\":{\"type\":\"field\",\"field\":\"y\"},\"radius\":{\"type\":\"value\",\"value\":1},\"line_color\":{\"type\":\"value\",\"value\":null},\"fill_color\":{\"type\":\"value\",\"value\":\"#1f77b4\"},\"fill_alpha\":{\"type\":\"value\",\"value\":0.6}}},\"nonselection_glyph\":{\"type\":\"object\",\"name\":\"Circle\",\"id\":\"p2590\",\"attributes\":{\"x\":{\"type\":\"field\",\"field\":\"x\"},\"y\":{\"type\":\"field\",\"field\":\"y\"},\"radius\":{\"type\":\"value\",\"value\":1},\"line_color\":{\"type\":\"value\",\"value\":null},\"line_alpha\":{\"type\":\"value\",\"value\":0.1},\"fill_color\":{\"type\":\"value\",\"value\":\"#1f77b4\"},\"fill_alpha\":{\"type\":\"value\",\"value\":0.1},\"hatch_alpha\":{\"type\":\"value\",\"value\":0.1}}},\"muted_glyph\":{\"type\":\"object\",\"name\":\"Circle\",\"id\":\"p2591\",\"attributes\":{\"x\":{\"type\":\"field\",\"field\":\"x\"},\"y\":{\"type\":\"field\",\"field\":\"y\"},\"radius\":{\"type\":\"value\",\"value\":1},\"line_color\":{\"type\":\"value\",\"value\":null},\"line_alpha\":{\"type\":\"value\",\"value\":0.2},\"fill_color\":{\"type\":\"value\",\"value\":\"#1f77b4\"},\"fill_alpha\":{\"type\":\"value\",\"value\":0.2},\"hatch_alpha\":{\"type\":\"value\",\"value\":0.2}}}}}],\"toolbar\":{\"type\":\"object\",\"name\":\"Toolbar\",\"id\":\"p2565\",\"attributes\":{\"tools\":[{\"type\":\"object\",\"name\":\"BoxSelectTool\",\"id\":\"p2578\",\"attributes\":{\"renderers\":\"auto\",\"overlay\":{\"type\":\"object\",\"name\":\"BoxAnnotation\",\"id\":\"p2579\",\"attributes\":{\"syncable\":false,\"line_color\":\"black\",\"line_alpha\":1.0,\"line_width\":2,\"line_dash\":[4,4],\"fill_color\":\"lightgrey\",\"fill_alpha\":0.5,\"level\":\"overlay\",\"visible\":false,\"left\":{\"type\":\"number\",\"value\":\"nan\"},\"right\":{\"type\":\"number\",\"value\":\"nan\"},\"top\":{\"type\":\"number\",\"value\":\"nan\"},\"bottom\":{\"type\":\"number\",\"value\":\"nan\"},\"editable\":true,\"handles\":{\"type\":\"object\",\"name\":\"BoxInteractionHandles\",\"id\":\"p2585\",\"attributes\":{\"all\":{\"type\":\"object\",\"name\":\"AreaVisuals\",\"id\":\"p2584\",\"attributes\":{\"fill_color\":\"white\",\"hover_fill_color\":\"lightgray\"}}}}}}}}]}},\"left\":[{\"type\":\"object\",\"name\":\"LinearAxis\",\"id\":\"p2573\",\"attributes\":{\"ticker\":{\"type\":\"object\",\"name\":\"BasicTicker\",\"id\":\"p2574\",\"attributes\":{\"mantissas\":[1,2,5]}},\"formatter\":{\"type\":\"object\",\"name\":\"BasicTickFormatter\",\"id\":\"p2575\"},\"major_label_policy\":{\"type\":\"object\",\"name\":\"AllLabels\",\"id\":\"p2576\"}}}],\"below\":[{\"type\":\"object\",\"name\":\"LinearAxis\",\"id\":\"p2568\",\"attributes\":{\"ticker\":{\"type\":\"object\",\"name\":\"BasicTicker\",\"id\":\"p2569\",\"attributes\":{\"mantissas\":[1,2,5]}},\"formatter\":{\"type\":\"object\",\"name\":\"BasicTickFormatter\",\"id\":\"p2570\"},\"major_label_policy\":{\"type\":\"object\",\"name\":\"AllLabels\",\"id\":\"p2571\"}}}],\"center\":[{\"type\":\"object\",\"name\":\"Grid\",\"id\":\"p2572\",\"attributes\":{\"axis\":{\"id\":\"p2568\"}}},{\"type\":\"object\",\"name\":\"Grid\",\"id\":\"p2577\",\"attributes\":{\"dimension\":1,\"axis\":{\"id\":\"p2573\"}}}]}},{\"id\":\"p2595\"}]}}]}}]}};\n  const render_items = [{\"docid\":\"61687298-c142-42be-874a-28f43ba29e27\",\"roots\":{\"p2598\":\"c61a8afc-2624-40de-92a4-3ea6bbe68ba4\"},\"root_ids\":[\"p2598\"]}];\n  void root.Bokeh.embed.embed_items_notebook(docs_json, render_items);\n  }\n  if (root.Bokeh !== undefined) {\n    embed_document(root);\n  } else {\n    let attempts = 0;\n    const timer = setInterval(function(root) {\n      if (root.Bokeh !== undefined) {\n        clearInterval(timer);\n        embed_document(root);\n      } else {\n        attempts++;\n        if (attempts > 100) {\n          clearInterval(timer);\n          console.log(\"Bokeh: ERROR: Unable to run BokehJS code because BokehJS library is missing\");\n        }\n      }\n    }, 10, root)\n  }\n})(window);",
      "application/vnd.bokehjs_exec.v0+json": ""
     },
     "metadata": {
      "application/vnd.bokehjs_exec.v0+json": {
       "id": "p2598"
      }
     },
     "output_type": "display_data"
    }
   ],
   "source": [
    "# Exercise: Create a plot that responds to different events from bokeh.events\n",
    "\n",
    "from bokeh.plotting import figure\n",
    "from bokeh import events\n",
    "from bokeh.models import CustomJS, Div, Button\n",
    "from bokeh.layouts import column, row\n",
    "\n",
    "import numpy as np\n",
    "x = np.random.random(size=2000) * 100\n",
    "y = np.random.random(size=2000) * 100\n",
    "\n",
    "p = figure(tools=\"box_select\")\n",
    "p.scatter(x, y, radius=1, fill_alpha=0.6, line_color=None)\n",
    "\n",
    "div = Div(width=400)\n",
    "button = Button(label=\"Button\", width=300)\n",
    "layout = column(button, row(p, div))\n",
    "\n",
    "# Events with no attributes\n",
    "button.js_on_event(events.ButtonClick,  CustomJS(args=dict(div=div), code=\"\"\"\n",
    "div.text = \"Button!\";\n",
    "\"\"\"))\n",
    "\n",
    "p.js_on_event(events.SelectionGeometry, CustomJS(args=dict(div=div), code=\"\"\"\n",
    "div.text = \"Selection! <p> <p>\" + JSON.stringify(cb_obj.geometry, undefined, 2);\n",
    "\"\"\"))\n",
    "\n",
    "show(layout)"
   ]
  },
  {
   "cell_type": "markdown",
   "id": "53abbb08",
   "metadata": {
    "id": "BMaVNRj-owha"
   },
   "source": [
    "## Additional Information\n",
    "\n",
    "There are many kinds of interactions and events that can be connected to `CustomJS` callbacks.\n",
    "\n",
    "\n",
    "* Widgets - Button, Toggle, Dropdown, TextInput, AutocompleteInput, Select, Multiselect, Slider, (DateRangeSlider), DatePicker,\n",
    "* Tools - TapTool, BoxSelectTool, HoverTool,\n",
    "* Selection - ColumnDataSource, AjaxDataSource, BlazeDataSource, ServerDataSource\n",
    "* Ranges - Range1d, DataRange1d, FactorRange\n",
    "\n",
    "\n",
    "For more complete examples the User Guide section on [JavaScript Interactions](https://bokeh.pydata.org/en/latest/docs/user_guide/interaction.html)"
   ]
  },
  {
   "cell_type": "markdown",
   "id": "380a74cb",
   "metadata": {
    "id": "nTk9CcOhowha"
   },
   "source": [
    "# Next Section"
   ]
  },
  {
   "cell_type": "markdown",
   "id": "d29481be",
   "metadata": {
    "id": "JqxOzK17owha"
   },
   "source": [
    "Click on this link to go to the next notebook: [07 - Bar and Categorical Data Plots](07%20-%20Bar%20and%20Categorical%20Data%20Plots.ipynb).\n",
    "\n",
    "To go back to the overview, click [here](00%20-%20Introduction%20and%20Setup.ipynb)."
   ]
  },
  {
   "cell_type": "code",
   "execution_count": null,
   "id": "eb9ec773",
   "metadata": {
    "id": "Ut4Ye-uWowhb"
   },
   "outputs": [],
   "source": []
  },
  {
   "cell_type": "markdown",
   "id": "7eda86c0",
   "metadata": {},
   "source": [
    "<table style=\"float:left; border:none\">\n",
    "   <tr style=\"border:none\">\n",
    "       <td style=\"border:none\">\n",
    "           <a href=\"https://bokeh.org/\">     \n",
    "           <img \n",
    "               src=\"assets/bokeh-transparent.png\" \n",
    "               style=\"width:50px\"\n",
    "           >\n",
    "           </a>    \n",
    "       </td>\n",
    "       <td style=\"border:none\">\n",
    "           <h1>Bokeh Tutorial</h1>\n",
    "       </td>\n",
    "   </tr>\n",
    "</table>\n",
    "\n",
    "<div style=\"float:right;\"><h2>07. Bar and Categorical Data Plots</h2></div>"
   ]
  },
  {
   "cell_type": "code",
   "execution_count": 15,
   "id": "a9800102",
   "metadata": {},
   "outputs": [
    {
     "data": {
      "text/html": [
       "    <style>\n",
       "        .bk-notebook-logo {\n",
       "            display: block;\n",
       "            width: 20px;\n",
       "            height: 20px;\n",
       "            background-image: url(data:image/png;base64,iVBORw0KGgoAAAANSUhEUgAAABQAAAAUCAYAAACNiR0NAAAABHNCSVQICAgIfAhkiAAAAAlwSFlzAAALEgAACxIB0t1+/AAAABx0RVh0U29mdHdhcmUAQWRvYmUgRmlyZXdvcmtzIENTNui8sowAAAOkSURBVDiNjZRtaJVlGMd/1/08zzln5zjP1LWcU9N0NkN8m2CYjpgQYQXqSs0I84OLIC0hkEKoPtiH3gmKoiJDU7QpLgoLjLIQCpEsNJ1vqUOdO7ppbuec5+V+rj4ctwzd8IIbbi6u+8f1539dt3A78eXC7QizUF7gyV1fD1Yqg4JWz84yffhm0qkFqBogB9rM8tZdtwVsPUhWhGcFJngGeWrPzHm5oaMmkfEg1usvLFyc8jLRqDOMru7AyC8saQr7GG7f5fvDeH7Ej8CM66nIF+8yngt6HWaKh7k49Soy9nXurCi1o3qUbS3zWfrYeQDTB/Qj6kX6Ybhw4B+bOYoLKCC9H3Nu/leUTZ1JdRWkkn2ldcCamzrcf47KKXdAJllSlxAOkRgyHsGC/zRday5Qld9DyoM4/q/rUoy/CXh3jzOu3bHUVZeU+DEn8FInkPBFlu3+nW3Nw0mk6vCDiWg8CeJaxEwuHS3+z5RgY+YBR6V1Z1nxSOfoaPa4LASWxxdNp+VWTk7+4vzaou8v8PN+xo+KY2xsw6une2frhw05CTYOmQvsEhjhWjn0bmXPjpE1+kplmmkP3suftwTubK9Vq22qKmrBhpY4jvd5afdRA3wGjFAgcnTK2s4hY0/GPNIb0nErGMCRxWOOX64Z8RAC4oCXdklmEvcL8o0BfkNK4lUg9HTl+oPlQxdNo3Mg4Nv175e/1LDGzZen30MEjRUtmXSfiTVu1kK8W4txyV6BMKlbgk3lMwYCiusNy9fVfvvwMxv8Ynl6vxoByANLTWplvuj/nF9m2+PDtt1eiHPBr1oIfhCChQMBw6Aw0UulqTKZdfVvfG7VcfIqLG9bcldL/+pdWTLxLUy8Qq38heUIjh4XlzZxzQm19lLFlr8vdQ97rjZVOLf8nclzckbcD4wxXMidpX30sFd37Fv/GtwwhzhxGVAprjbg0gCAEeIgwCZyTV2Z1REEW8O4py0wsjeloKoMr6iCY6dP92H6Vw/oTyICIthibxjm/DfN9lVz8IqtqKYLUXfoKVMVQVVJOElGjrnnUt9T9wbgp8AyYKaGlqingHZU/uG2NTZSVqwHQTWkx9hxjkpWDaCg6Ckj5qebgBVbT3V3NNXMSiWSDdGV3hrtzla7J+duwPOToIg42ChPQOQjspnSlp1V+Gjdged7+8UN5CRAV7a5EdFNwCjEaBR27b3W890TE7g24NAP/mMDXRWrGoFPQI9ls/MWO2dWFAar/xcOIImbbpA3zgAAAABJRU5ErkJggg==);\n",
       "        }\n",
       "    </style>\n",
       "    <div>\n",
       "        <a href=\"https://bokeh.org\" target=\"_blank\" class=\"bk-notebook-logo\"></a>\n",
       "        <span id=\"bdfca2fb-07d2-4208-96b7-a8f4ce2b146c\">Loading BokehJS ...</span>\n",
       "    </div>\n"
      ]
     },
     "metadata": {},
     "output_type": "display_data"
    },
    {
     "data": {
      "application/javascript": "'use strict';\n(function(root) {\n  function now() {\n    return new Date();\n  }\n\n  const force = true;\n\n  if (typeof root._bokeh_onload_callbacks === \"undefined\" || force === true) {\n    root._bokeh_onload_callbacks = [];\n    root._bokeh_is_loading = undefined;\n  }\n\nconst JS_MIME_TYPE = 'application/javascript';\n  const HTML_MIME_TYPE = 'text/html';\n  const EXEC_MIME_TYPE = 'application/vnd.bokehjs_exec.v0+json';\n  const CLASS_NAME = 'output_bokeh rendered_html';\n\n  /**\n   * Render data to the DOM node\n   */\n  function render(props, node) {\n    const script = document.createElement(\"script\");\n    node.appendChild(script);\n  }\n\n  /**\n   * Handle when an output is cleared or removed\n   */\n  function handleClearOutput(event, handle) {\n    function drop(id) {\n      const view = Bokeh.index.get_by_id(id)\n      if (view != null) {\n        view.model.document.clear()\n        Bokeh.index.delete(view)\n      }\n    }\n\n    const cell = handle.cell;\n\n    const id = cell.output_area._bokeh_element_id;\n    const server_id = cell.output_area._bokeh_server_id;\n\n    // Clean up Bokeh references\n    if (id != null) {\n      drop(id)\n    }\n\n    if (server_id !== undefined) {\n      // Clean up Bokeh references\n      const cmd_clean = \"from bokeh.io.state import curstate; print(curstate().uuid_to_server['\" + server_id + \"'].get_sessions()[0].document.roots[0]._id)\";\n      cell.notebook.kernel.execute(cmd_clean, {\n        iopub: {\n          output: function(msg) {\n            const id = msg.content.text.trim()\n            drop(id)\n          }\n        }\n      });\n      // Destroy server and session\n      const cmd_destroy = \"import bokeh.io.notebook as ion; ion.destroy_server('\" + server_id + \"')\";\n      cell.notebook.kernel.execute(cmd_destroy);\n    }\n  }\n\n  /**\n   * Handle when a new output is added\n   */\n  function handleAddOutput(event, handle) {\n    const output_area = handle.output_area;\n    const output = handle.output;\n\n    // limit handleAddOutput to display_data with EXEC_MIME_TYPE content only\n    if ((output.output_type != \"display_data\") || (!Object.prototype.hasOwnProperty.call(output.data, EXEC_MIME_TYPE))) {\n      return\n    }\n\n    const toinsert = output_area.element.find(\".\" + CLASS_NAME.split(' ')[0]);\n\n    if (output.metadata[EXEC_MIME_TYPE][\"id\"] !== undefined) {\n      toinsert[toinsert.length - 1].firstChild.textContent = output.data[JS_MIME_TYPE];\n      // store reference to embed id on output_area\n      output_area._bokeh_element_id = output.metadata[EXEC_MIME_TYPE][\"id\"];\n    }\n    if (output.metadata[EXEC_MIME_TYPE][\"server_id\"] !== undefined) {\n      const bk_div = document.createElement(\"div\");\n      bk_div.innerHTML = output.data[HTML_MIME_TYPE];\n      const script_attrs = bk_div.children[0].attributes;\n      for (let i = 0; i < script_attrs.length; i++) {\n        toinsert[toinsert.length - 1].firstChild.setAttribute(script_attrs[i].name, script_attrs[i].value);\n        toinsert[toinsert.length - 1].firstChild.textContent = bk_div.children[0].textContent\n      }\n      // store reference to server id on output_area\n      output_area._bokeh_server_id = output.metadata[EXEC_MIME_TYPE][\"server_id\"];\n    }\n  }\n\n  function register_renderer(events, OutputArea) {\n\n    function append_mime(data, metadata, element) {\n      // create a DOM node to render to\n      const toinsert = this.create_output_subarea(\n        metadata,\n        CLASS_NAME,\n        EXEC_MIME_TYPE\n      );\n      this.keyboard_manager.register_events(toinsert);\n      // Render to node\n      const props = {data: data, metadata: metadata[EXEC_MIME_TYPE]};\n      render(props, toinsert[toinsert.length - 1]);\n      element.append(toinsert);\n      return toinsert\n    }\n\n    /* Handle when an output is cleared or removed */\n    events.on('clear_output.CodeCell', handleClearOutput);\n    events.on('delete.Cell', handleClearOutput);\n\n    /* Handle when a new output is added */\n    events.on('output_added.OutputArea', handleAddOutput);\n\n    /**\n     * Register the mime type and append_mime function with output_area\n     */\n    OutputArea.prototype.register_mime_type(EXEC_MIME_TYPE, append_mime, {\n      /* Is output safe? */\n      safe: true,\n      /* Index of renderer in `output_area.display_order` */\n      index: 0\n    });\n  }\n\n  // register the mime type if in Jupyter Notebook environment and previously unregistered\n  if (root.Jupyter !== undefined) {\n    const events = require('base/js/events');\n    const OutputArea = require('notebook/js/outputarea').OutputArea;\n\n    if (OutputArea.prototype.mime_types().indexOf(EXEC_MIME_TYPE) == -1) {\n      register_renderer(events, OutputArea);\n    }\n  }\n  if (typeof (root._bokeh_timeout) === \"undefined\" || force === true) {\n    root._bokeh_timeout = Date.now() + 5000;\n    root._bokeh_failed_load = false;\n  }\n\n  const NB_LOAD_WARNING = {'data': {'text/html':\n     \"<div style='background-color: #fdd'>\\n\"+\n     \"<p>\\n\"+\n     \"BokehJS does not appear to have successfully loaded. If loading BokehJS from CDN, this \\n\"+\n     \"may be due to a slow or bad network connection. Possible fixes:\\n\"+\n     \"</p>\\n\"+\n     \"<ul>\\n\"+\n     \"<li>re-rerun `output_notebook()` to attempt to load from CDN again, or</li>\\n\"+\n     \"<li>use INLINE resources instead, as so:</li>\\n\"+\n     \"</ul>\\n\"+\n     \"<code>\\n\"+\n     \"from bokeh.resources import INLINE\\n\"+\n     \"output_notebook(resources=INLINE)\\n\"+\n     \"</code>\\n\"+\n     \"</div>\"}};\n\n  function display_loaded(error = null) {\n    const el = document.getElementById(\"bdfca2fb-07d2-4208-96b7-a8f4ce2b146c\");\n    if (el != null) {\n      const html = (() => {\n        if (typeof root.Bokeh === \"undefined\") {\n          if (error == null) {\n            return \"BokehJS is loading ...\";\n          } else {\n            return \"BokehJS failed to load.\";\n          }\n        } else {\n          const prefix = `BokehJS ${root.Bokeh.version}`;\n          if (error == null) {\n            return `${prefix} successfully loaded.`;\n          } else {\n            return `${prefix} <b>encountered errors</b> while loading and may not function as expected.`;\n          }\n        }\n      })();\n      el.innerHTML = html;\n\n      if (error != null) {\n        const wrapper = document.createElement(\"div\");\n        wrapper.style.overflow = \"auto\";\n        wrapper.style.height = \"5em\";\n        wrapper.style.resize = \"vertical\";\n        const content = document.createElement(\"div\");\n        content.style.fontFamily = \"monospace\";\n        content.style.whiteSpace = \"pre-wrap\";\n        content.style.backgroundColor = \"rgb(255, 221, 221)\";\n        content.textContent = error.stack ?? error.toString();\n        wrapper.append(content);\n        el.append(wrapper);\n      }\n    } else if (Date.now() < root._bokeh_timeout) {\n      setTimeout(() => display_loaded(error), 100);\n    }\n  }\n\n  function run_callbacks() {\n    try {\n      root._bokeh_onload_callbacks.forEach(function(callback) {\n        if (callback != null)\n          callback();\n      });\n    } finally {\n      delete root._bokeh_onload_callbacks\n    }\n    console.debug(\"Bokeh: all callbacks have finished\");\n  }\n\n  function load_libs(css_urls, js_urls, callback) {\n    if (css_urls == null) css_urls = [];\n    if (js_urls == null) js_urls = [];\n\n    root._bokeh_onload_callbacks.push(callback);\n    if (root._bokeh_is_loading > 0) {\n      console.debug(\"Bokeh: BokehJS is being loaded, scheduling callback at\", now());\n      return null;\n    }\n    if (js_urls == null || js_urls.length === 0) {\n      run_callbacks();\n      return null;\n    }\n    console.debug(\"Bokeh: BokehJS not loaded, scheduling load and callback at\", now());\n    root._bokeh_is_loading = css_urls.length + js_urls.length;\n\n    function on_load() {\n      root._bokeh_is_loading--;\n      if (root._bokeh_is_loading === 0) {\n        console.debug(\"Bokeh: all BokehJS libraries/stylesheets loaded\");\n        run_callbacks()\n      }\n    }\n\n    function on_error(url) {\n      console.error(\"failed to load \" + url);\n    }\n\n    for (let i = 0; i < css_urls.length; i++) {\n      const url = css_urls[i];\n      const element = document.createElement(\"link\");\n      element.onload = on_load;\n      element.onerror = on_error.bind(null, url);\n      element.rel = \"stylesheet\";\n      element.type = \"text/css\";\n      element.href = url;\n      console.debug(\"Bokeh: injecting link tag for BokehJS stylesheet: \", url);\n      document.body.appendChild(element);\n    }\n\n    for (let i = 0; i < js_urls.length; i++) {\n      const url = js_urls[i];\n      const element = document.createElement('script');\n      element.onload = on_load;\n      element.onerror = on_error.bind(null, url);\n      element.async = false;\n      element.src = url;\n      console.debug(\"Bokeh: injecting script tag for BokehJS library: \", url);\n      document.head.appendChild(element);\n    }\n  };\n\n  function inject_raw_css(css) {\n    const element = document.createElement(\"style\");\n    element.appendChild(document.createTextNode(css));\n    document.body.appendChild(element);\n  }\n\n  const js_urls = [\"https://cdn.bokeh.org/bokeh/release/bokeh-3.6.1.min.js\", \"https://cdn.bokeh.org/bokeh/release/bokeh-gl-3.6.1.min.js\", \"https://cdn.bokeh.org/bokeh/release/bokeh-widgets-3.6.1.min.js\", \"https://cdn.bokeh.org/bokeh/release/bokeh-tables-3.6.1.min.js\", \"https://cdn.bokeh.org/bokeh/release/bokeh-mathjax-3.6.1.min.js\"];\n  const css_urls = [];\n\n  const inline_js = [    function(Bokeh) {\n      Bokeh.set_log_level(\"info\");\n    },\nfunction(Bokeh) {\n    }\n  ];\n\n  function run_inline_js() {\n    if (root.Bokeh !== undefined || force === true) {\n      try {\n            for (let i = 0; i < inline_js.length; i++) {\n      inline_js[i].call(root, root.Bokeh);\n    }\n\n      } catch (error) {display_loaded(error);throw error;\n      }if (force === true) {\n        display_loaded();\n      }} else if (Date.now() < root._bokeh_timeout) {\n      setTimeout(run_inline_js, 100);\n    } else if (!root._bokeh_failed_load) {\n      console.log(\"Bokeh: BokehJS failed to load within specified timeout.\");\n      root._bokeh_failed_load = true;\n    } else if (force !== true) {\n      const cell = $(document.getElementById(\"bdfca2fb-07d2-4208-96b7-a8f4ce2b146c\")).parents('.cell').data().cell;\n      cell.output_area.append_execute_result(NB_LOAD_WARNING)\n    }\n  }\n\n  if (root._bokeh_is_loading === 0) {\n    console.debug(\"Bokeh: BokehJS loaded, going straight to plotting\");\n    run_inline_js();\n  } else {\n    load_libs(css_urls, js_urls, function() {\n      console.debug(\"Bokeh: BokehJS plotting callback run at\", now());\n      run_inline_js();\n    });\n  }\n}(window));",
      "application/vnd.bokehjs_load.v0+json": ""
     },
     "metadata": {},
     "output_type": "display_data"
    }
   ],
   "source": [
    "from bokeh.io import show, output_notebook\n",
    "from bokeh.plotting import figure\n",
    "\n",
    "output_notebook()"
   ]
  },
  {
   "cell_type": "markdown",
   "id": "fd50359e",
   "metadata": {},
   "source": [
    "## Basic Bar Charts\n",
    "\n",
    "Bar charts are a common and important type of plot. Bokeh makes it simple to create all sorts of stacked or nested bar charts, and to deal with categorical data in general."
   ]
  },
  {
   "cell_type": "markdown",
   "id": "62366c0f",
   "metadata": {},
   "source": [
    "The example below shows a simple bar chart created using the `vbar` method for drawing vertical bars. (There is a corresponding `hbar` for horizontal bars.) We also set a few plot properties to make the chart look nicer, see chapter [Styling and Theming](02 - Styling and Theming.ipynb) for information about visual properties."
   ]
  },
  {
   "cell_type": "code",
   "execution_count": 16,
   "id": "f9eaaa35",
   "metadata": {},
   "outputs": [
    {
     "data": {
      "text/html": [
       "\n",
       "  <div id=\"e609c54c-902a-465e-b6a1-dc578ae3f75a\" data-root-id=\"p1662\" style=\"display: contents;\"></div>\n"
      ]
     },
     "metadata": {},
     "output_type": "display_data"
    },
    {
     "data": {
      "application/javascript": "(function(root) {\n  function embed_document(root) {\n  const docs_json = {\"de954000-77b9-4bfd-9c4e-b516edc66b34\":{\"version\":\"3.6.1\",\"title\":\"Bokeh Application\",\"roots\":[{\"type\":\"object\",\"name\":\"Figure\",\"id\":\"p1662\",\"attributes\":{\"height\":250,\"x_range\":{\"type\":\"object\",\"name\":\"FactorRange\",\"id\":\"p1672\",\"attributes\":{\"factors\":[\"Apples\",\"Pears\",\"Nectarines\",\"Plums\",\"Grapes\",\"Strawberries\"]}},\"y_range\":{\"type\":\"object\",\"name\":\"DataRange1d\",\"id\":\"p1664\",\"attributes\":{\"start\":0}},\"x_scale\":{\"type\":\"object\",\"name\":\"CategoricalScale\",\"id\":\"p1673\"},\"y_scale\":{\"type\":\"object\",\"name\":\"LinearScale\",\"id\":\"p1674\"},\"title\":{\"type\":\"object\",\"name\":\"Title\",\"id\":\"p1665\",\"attributes\":{\"text\":\"Fruit Counts\"}},\"renderers\":[{\"type\":\"object\",\"name\":\"GlyphRenderer\",\"id\":\"p1704\",\"attributes\":{\"data_source\":{\"type\":\"object\",\"name\":\"ColumnDataSource\",\"id\":\"p1698\",\"attributes\":{\"selected\":{\"type\":\"object\",\"name\":\"Selection\",\"id\":\"p1699\",\"attributes\":{\"indices\":[],\"line_indices\":[]}},\"selection_policy\":{\"type\":\"object\",\"name\":\"UnionRenderers\",\"id\":\"p1700\"},\"data\":{\"type\":\"map\",\"entries\":[[\"x\",[\"Apples\",\"Pears\",\"Nectarines\",\"Plums\",\"Grapes\",\"Strawberries\"]],[\"top\",[5,3,4,2,4,6]]]}}},\"view\":{\"type\":\"object\",\"name\":\"CDSView\",\"id\":\"p1705\",\"attributes\":{\"filter\":{\"type\":\"object\",\"name\":\"AllIndices\",\"id\":\"p1706\"}}},\"glyph\":{\"type\":\"object\",\"name\":\"VBar\",\"id\":\"p1701\",\"attributes\":{\"x\":{\"type\":\"field\",\"field\":\"x\"},\"width\":{\"type\":\"value\",\"value\":0.9},\"top\":{\"type\":\"field\",\"field\":\"top\"},\"line_color\":{\"type\":\"value\",\"value\":\"#1f77b4\"},\"fill_color\":{\"type\":\"value\",\"value\":\"#1f77b4\"}}},\"nonselection_glyph\":{\"type\":\"object\",\"name\":\"VBar\",\"id\":\"p1702\",\"attributes\":{\"x\":{\"type\":\"field\",\"field\":\"x\"},\"width\":{\"type\":\"value\",\"value\":0.9},\"top\":{\"type\":\"field\",\"field\":\"top\"},\"line_color\":{\"type\":\"value\",\"value\":\"#1f77b4\"},\"line_alpha\":{\"type\":\"value\",\"value\":0.1},\"fill_color\":{\"type\":\"value\",\"value\":\"#1f77b4\"},\"fill_alpha\":{\"type\":\"value\",\"value\":0.1},\"hatch_alpha\":{\"type\":\"value\",\"value\":0.1}}},\"muted_glyph\":{\"type\":\"object\",\"name\":\"VBar\",\"id\":\"p1703\",\"attributes\":{\"x\":{\"type\":\"field\",\"field\":\"x\"},\"width\":{\"type\":\"value\",\"value\":0.9},\"top\":{\"type\":\"field\",\"field\":\"top\"},\"line_color\":{\"type\":\"value\",\"value\":\"#1f77b4\"},\"line_alpha\":{\"type\":\"value\",\"value\":0.2},\"fill_color\":{\"type\":\"value\",\"value\":\"#1f77b4\"},\"fill_alpha\":{\"type\":\"value\",\"value\":0.2},\"hatch_alpha\":{\"type\":\"value\",\"value\":0.2}}}}}],\"toolbar\":{\"type\":\"object\",\"name\":\"Toolbar\",\"id\":\"p1671\",\"attributes\":{\"tools\":[{\"type\":\"object\",\"name\":\"PanTool\",\"id\":\"p1685\"},{\"type\":\"object\",\"name\":\"WheelZoomTool\",\"id\":\"p1686\",\"attributes\":{\"renderers\":\"auto\"}},{\"type\":\"object\",\"name\":\"BoxZoomTool\",\"id\":\"p1687\",\"attributes\":{\"overlay\":{\"type\":\"object\",\"name\":\"BoxAnnotation\",\"id\":\"p1688\",\"attributes\":{\"syncable\":false,\"line_color\":\"black\",\"line_alpha\":1.0,\"line_width\":2,\"line_dash\":[4,4],\"fill_color\":\"lightgrey\",\"fill_alpha\":0.5,\"level\":\"overlay\",\"visible\":false,\"left\":{\"type\":\"number\",\"value\":\"nan\"},\"right\":{\"type\":\"number\",\"value\":\"nan\"},\"top\":{\"type\":\"number\",\"value\":\"nan\"},\"bottom\":{\"type\":\"number\",\"value\":\"nan\"},\"left_units\":\"canvas\",\"right_units\":\"canvas\",\"top_units\":\"canvas\",\"bottom_units\":\"canvas\",\"handles\":{\"type\":\"object\",\"name\":\"BoxInteractionHandles\",\"id\":\"p1694\",\"attributes\":{\"all\":{\"type\":\"object\",\"name\":\"AreaVisuals\",\"id\":\"p1693\",\"attributes\":{\"fill_color\":\"white\",\"hover_fill_color\":\"lightgray\"}}}}}}}},{\"type\":\"object\",\"name\":\"SaveTool\",\"id\":\"p1695\"},{\"type\":\"object\",\"name\":\"ResetTool\",\"id\":\"p1696\"},{\"type\":\"object\",\"name\":\"HelpTool\",\"id\":\"p1697\"}]}},\"left\":[{\"type\":\"object\",\"name\":\"LinearAxis\",\"id\":\"p1680\",\"attributes\":{\"ticker\":{\"type\":\"object\",\"name\":\"BasicTicker\",\"id\":\"p1681\",\"attributes\":{\"mantissas\":[1,2,5]}},\"formatter\":{\"type\":\"object\",\"name\":\"BasicTickFormatter\",\"id\":\"p1682\"},\"major_label_policy\":{\"type\":\"object\",\"name\":\"AllLabels\",\"id\":\"p1683\"}}}],\"below\":[{\"type\":\"object\",\"name\":\"CategoricalAxis\",\"id\":\"p1675\",\"attributes\":{\"ticker\":{\"type\":\"object\",\"name\":\"CategoricalTicker\",\"id\":\"p1676\"},\"formatter\":{\"type\":\"object\",\"name\":\"CategoricalTickFormatter\",\"id\":\"p1677\"},\"major_label_policy\":{\"type\":\"object\",\"name\":\"AllLabels\",\"id\":\"p1678\"}}}],\"center\":[{\"type\":\"object\",\"name\":\"Grid\",\"id\":\"p1679\",\"attributes\":{\"axis\":{\"id\":\"p1675\"},\"grid_line_color\":null}},{\"type\":\"object\",\"name\":\"Grid\",\"id\":\"p1684\",\"attributes\":{\"dimension\":1,\"axis\":{\"id\":\"p1680\"}}}]}}]}};\n  const render_items = [{\"docid\":\"de954000-77b9-4bfd-9c4e-b516edc66b34\",\"roots\":{\"p1662\":\"e609c54c-902a-465e-b6a1-dc578ae3f75a\"},\"root_ids\":[\"p1662\"]}];\n  void root.Bokeh.embed.embed_items_notebook(docs_json, render_items);\n  }\n  if (root.Bokeh !== undefined) {\n    embed_document(root);\n  } else {\n    let attempts = 0;\n    const timer = setInterval(function(root) {\n      if (root.Bokeh !== undefined) {\n        clearInterval(timer);\n        embed_document(root);\n      } else {\n        attempts++;\n        if (attempts > 100) {\n          clearInterval(timer);\n          console.log(\"Bokeh: ERROR: Unable to run BokehJS code because BokehJS library is missing\");\n        }\n      }\n    }, 10, root)\n  }\n})(window);",
      "application/vnd.bokehjs_exec.v0+json": ""
     },
     "metadata": {
      "application/vnd.bokehjs_exec.v0+json": {
       "id": "p1662"
      }
     },
     "output_type": "display_data"
    }
   ],
   "source": [
    "# Here is a list of categorical values (or factors)\n",
    "fruits = ['Apples', 'Pears', 'Nectarines', 'Plums', 'Grapes', 'Strawberries']\n",
    "\n",
    "# Set the x_range to the list of categories above\n",
    "p = figure(x_range=fruits, height=250, title=\"Fruit Counts\")\n",
    "\n",
    "# Categorical values can also be used as coordinates\n",
    "p.vbar(x=fruits, top=[5, 3, 4, 2, 4, 6], width=0.9)\n",
    "\n",
    "# Set some properties to make the plot look better\n",
    "p.xgrid.grid_line_color = None\n",
    "p.y_range.start = 0\n",
    "\n",
    "show(p)"
   ]
  },
  {
   "cell_type": "markdown",
   "id": "094d77d1",
   "metadata": {},
   "source": [
    "When we want to create a plot with a categorical range, we pass the ordered list of categorical values to `figure`, e.g. `x_range=['a', 'b', 'c']`. In the plot above, we passed the list of fruits as `x_range`, and we can see those refelected as the x-axis.\n",
    "\n",
    "The `vbar` glyph method takes an `x` location for the center of the bar, a `top` and `bottom` (which defaults to 0), and a `width`. When we are using a categorical range as we are here, each category implicitly has width of 1, so setting `width=0.9` as we have done here makes the bars shrink away from each other. (Another option would be to add some padding to the range.)"
   ]
  },
  {
   "cell_type": "code",
   "execution_count": 17,
   "id": "ed421906",
   "metadata": {},
   "outputs": [
    {
     "data": {
      "text/html": [
       "\n",
       "  <div id=\"be4d5b33-61c0-4028-b699-ffb4095ae66c\" data-root-id=\"p1707\" style=\"display: contents;\"></div>\n"
      ]
     },
     "metadata": {},
     "output_type": "display_data"
    },
    {
     "data": {
      "application/javascript": "(function(root) {\n  function embed_document(root) {\n  const docs_json = {\"a33e33e8-f660-4c82-a0a3-790e3c46835a\":{\"version\":\"3.6.1\",\"title\":\"Bokeh Application\",\"roots\":[{\"type\":\"object\",\"name\":\"Figure\",\"id\":\"p1707\",\"attributes\":{\"height\":250,\"x_range\":{\"type\":\"object\",\"name\":\"FactorRange\",\"id\":\"p1717\",\"attributes\":{\"factors\":[\"Apples\",\"Pears\",\"Nectarines\",\"Plums\",\"Grapes\",\"Strawberries\"]}},\"y_range\":{\"type\":\"object\",\"name\":\"DataRange1d\",\"id\":\"p1709\",\"attributes\":{\"start\":0}},\"x_scale\":{\"type\":\"object\",\"name\":\"CategoricalScale\",\"id\":\"p1718\"},\"y_scale\":{\"type\":\"object\",\"name\":\"LinearScale\",\"id\":\"p1719\"},\"title\":{\"type\":\"object\",\"name\":\"Title\",\"id\":\"p1710\",\"attributes\":{\"text\":\"Fruit Counts\"}},\"renderers\":[{\"type\":\"object\",\"name\":\"GlyphRenderer\",\"id\":\"p1749\",\"attributes\":{\"data_source\":{\"type\":\"object\",\"name\":\"ColumnDataSource\",\"id\":\"p1743\",\"attributes\":{\"selected\":{\"type\":\"object\",\"name\":\"Selection\",\"id\":\"p1744\",\"attributes\":{\"indices\":[],\"line_indices\":[]}},\"selection_policy\":{\"type\":\"object\",\"name\":\"UnionRenderers\",\"id\":\"p1745\"},\"data\":{\"type\":\"map\",\"entries\":[[\"x\",[\"Apples\",\"Pears\",\"Nectarines\",\"Plums\",\"Grapes\",\"Strawberries\"]],[\"top\",[5,3,4,2,4,6]]]}}},\"view\":{\"type\":\"object\",\"name\":\"CDSView\",\"id\":\"p1750\",\"attributes\":{\"filter\":{\"type\":\"object\",\"name\":\"AllIndices\",\"id\":\"p1751\"}}},\"glyph\":{\"type\":\"object\",\"name\":\"VBar\",\"id\":\"p1746\",\"attributes\":{\"x\":{\"type\":\"field\",\"field\":\"x\"},\"width\":{\"type\":\"value\",\"value\":0.9},\"top\":{\"type\":\"field\",\"field\":\"top\"},\"line_color\":{\"type\":\"value\",\"value\":\"#1f77b4\"},\"fill_color\":{\"type\":\"value\",\"value\":\"#1f77b4\"}}},\"nonselection_glyph\":{\"type\":\"object\",\"name\":\"VBar\",\"id\":\"p1747\",\"attributes\":{\"x\":{\"type\":\"field\",\"field\":\"x\"},\"width\":{\"type\":\"value\",\"value\":0.9},\"top\":{\"type\":\"field\",\"field\":\"top\"},\"line_color\":{\"type\":\"value\",\"value\":\"#1f77b4\"},\"line_alpha\":{\"type\":\"value\",\"value\":0.1},\"fill_color\":{\"type\":\"value\",\"value\":\"#1f77b4\"},\"fill_alpha\":{\"type\":\"value\",\"value\":0.1},\"hatch_alpha\":{\"type\":\"value\",\"value\":0.1}}},\"muted_glyph\":{\"type\":\"object\",\"name\":\"VBar\",\"id\":\"p1748\",\"attributes\":{\"x\":{\"type\":\"field\",\"field\":\"x\"},\"width\":{\"type\":\"value\",\"value\":0.9},\"top\":{\"type\":\"field\",\"field\":\"top\"},\"line_color\":{\"type\":\"value\",\"value\":\"#1f77b4\"},\"line_alpha\":{\"type\":\"value\",\"value\":0.2},\"fill_color\":{\"type\":\"value\",\"value\":\"#1f77b4\"},\"fill_alpha\":{\"type\":\"value\",\"value\":0.2},\"hatch_alpha\":{\"type\":\"value\",\"value\":0.2}}}}}],\"toolbar\":{\"type\":\"object\",\"name\":\"Toolbar\",\"id\":\"p1716\",\"attributes\":{\"tools\":[{\"type\":\"object\",\"name\":\"PanTool\",\"id\":\"p1730\"},{\"type\":\"object\",\"name\":\"WheelZoomTool\",\"id\":\"p1731\",\"attributes\":{\"renderers\":\"auto\"}},{\"type\":\"object\",\"name\":\"BoxZoomTool\",\"id\":\"p1732\",\"attributes\":{\"overlay\":{\"type\":\"object\",\"name\":\"BoxAnnotation\",\"id\":\"p1733\",\"attributes\":{\"syncable\":false,\"line_color\":\"black\",\"line_alpha\":1.0,\"line_width\":2,\"line_dash\":[4,4],\"fill_color\":\"lightgrey\",\"fill_alpha\":0.5,\"level\":\"overlay\",\"visible\":false,\"left\":{\"type\":\"number\",\"value\":\"nan\"},\"right\":{\"type\":\"number\",\"value\":\"nan\"},\"top\":{\"type\":\"number\",\"value\":\"nan\"},\"bottom\":{\"type\":\"number\",\"value\":\"nan\"},\"left_units\":\"canvas\",\"right_units\":\"canvas\",\"top_units\":\"canvas\",\"bottom_units\":\"canvas\",\"handles\":{\"type\":\"object\",\"name\":\"BoxInteractionHandles\",\"id\":\"p1739\",\"attributes\":{\"all\":{\"type\":\"object\",\"name\":\"AreaVisuals\",\"id\":\"p1738\",\"attributes\":{\"fill_color\":\"white\",\"hover_fill_color\":\"lightgray\"}}}}}}}},{\"type\":\"object\",\"name\":\"SaveTool\",\"id\":\"p1740\"},{\"type\":\"object\",\"name\":\"ResetTool\",\"id\":\"p1741\"},{\"type\":\"object\",\"name\":\"HelpTool\",\"id\":\"p1742\"}]}},\"left\":[{\"type\":\"object\",\"name\":\"LinearAxis\",\"id\":\"p1725\",\"attributes\":{\"ticker\":{\"type\":\"object\",\"name\":\"BasicTicker\",\"id\":\"p1726\",\"attributes\":{\"mantissas\":[1,2,5]}},\"formatter\":{\"type\":\"object\",\"name\":\"BasicTickFormatter\",\"id\":\"p1727\"},\"major_label_policy\":{\"type\":\"object\",\"name\":\"AllLabels\",\"id\":\"p1728\"}}}],\"below\":[{\"type\":\"object\",\"name\":\"CategoricalAxis\",\"id\":\"p1720\",\"attributes\":{\"ticker\":{\"type\":\"object\",\"name\":\"CategoricalTicker\",\"id\":\"p1721\"},\"formatter\":{\"type\":\"object\",\"name\":\"CategoricalTickFormatter\",\"id\":\"p1722\"},\"major_label_policy\":{\"type\":\"object\",\"name\":\"AllLabels\",\"id\":\"p1723\"}}}],\"center\":[{\"type\":\"object\",\"name\":\"Grid\",\"id\":\"p1724\",\"attributes\":{\"axis\":{\"id\":\"p1720\"},\"grid_line_color\":null}},{\"type\":\"object\",\"name\":\"Grid\",\"id\":\"p1729\",\"attributes\":{\"dimension\":1,\"axis\":{\"id\":\"p1725\"}}}]}}]}};\n  const render_items = [{\"docid\":\"a33e33e8-f660-4c82-a0a3-790e3c46835a\",\"roots\":{\"p1707\":\"be4d5b33-61c0-4028-b699-ffb4095ae66c\"},\"root_ids\":[\"p1707\"]}];\n  void root.Bokeh.embed.embed_items_notebook(docs_json, render_items);\n  }\n  if (root.Bokeh !== undefined) {\n    embed_document(root);\n  } else {\n    let attempts = 0;\n    const timer = setInterval(function(root) {\n      if (root.Bokeh !== undefined) {\n        clearInterval(timer);\n        embed_document(root);\n      } else {\n        attempts++;\n        if (attempts > 100) {\n          clearInterval(timer);\n          console.log(\"Bokeh: ERROR: Unable to run BokehJS code because BokehJS library is missing\");\n        }\n      }\n    }, 10, root)\n  }\n})(window);",
      "application/vnd.bokehjs_exec.v0+json": ""
     },
     "metadata": {
      "application/vnd.bokehjs_exec.v0+json": {
       "id": "p1707"
      }
     },
     "output_type": "display_data"
    }
   ],
   "source": [
    "# Exercise: Create your own simple bar chart\n",
    "fruits = ['Apples', 'Pears', 'Nectarines', 'Plums', 'Grapes', 'Strawberries']\n",
    "counts = [5, 3, 4, 2, 4, 6]\n",
    "\n",
    "p = figure(x_range=fruits, height=250, title=\"Fruit Counts\")\n",
    "p.vbar(x=fruits, top=counts, width=0.9)\n",
    "\n",
    "p.xgrid.grid_line_color = None\n",
    "p.y_range.start = 0\n",
    "\n",
    "show(p)"
   ]
  },
  {
   "cell_type": "markdown",
   "id": "7aaaad40",
   "metadata": {},
   "source": [
    "Since `vbar` is a glyph method, we can use it with a `ColumnDataSource` just as we would with any other glyph. In the example below, we put the data (including color data) in a `ColumnDataSource` and use that to drive our plot. We also add a legend, see chapter [Adding Annotations.ipynb](03 - Adding Annotations.ipynb) for more information about legends and other annotations."
   ]
  },
  {
   "cell_type": "code",
   "execution_count": 18,
   "id": "5e5697bf",
   "metadata": {},
   "outputs": [
    {
     "data": {
      "text/html": [
       "\n",
       "  <div id=\"e8caff4f-1f88-40c2-839a-d4d50f26361b\" data-root-id=\"p1755\" style=\"display: contents;\"></div>\n"
      ]
     },
     "metadata": {},
     "output_type": "display_data"
    },
    {
     "data": {
      "application/javascript": "(function(root) {\n  function embed_document(root) {\n  const docs_json = {\"b062bb3b-4aea-424a-b51a-7eda399120ba\":{\"version\":\"3.6.1\",\"title\":\"Bokeh Application\",\"roots\":[{\"type\":\"object\",\"name\":\"Figure\",\"id\":\"p1755\",\"attributes\":{\"height\":250,\"x_range\":{\"type\":\"object\",\"name\":\"FactorRange\",\"id\":\"p1765\",\"attributes\":{\"factors\":[\"Apples\",\"Pears\",\"Nectarines\",\"Plums\",\"Grapes\",\"Strawberries\"]}},\"y_range\":{\"type\":\"object\",\"name\":\"Range1d\",\"id\":\"p1766\",\"attributes\":{\"end\":9}},\"x_scale\":{\"type\":\"object\",\"name\":\"CategoricalScale\",\"id\":\"p1767\"},\"y_scale\":{\"type\":\"object\",\"name\":\"LinearScale\",\"id\":\"p1768\"},\"title\":{\"type\":\"object\",\"name\":\"Title\",\"id\":\"p1758\",\"attributes\":{\"text\":\"Fruit Counts\"}},\"renderers\":[{\"type\":\"object\",\"name\":\"GlyphRenderer\",\"id\":\"p1798\",\"attributes\":{\"data_source\":{\"type\":\"object\",\"name\":\"ColumnDataSource\",\"id\":\"p1752\",\"attributes\":{\"selected\":{\"type\":\"object\",\"name\":\"Selection\",\"id\":\"p1753\",\"attributes\":{\"indices\":[],\"line_indices\":[]}},\"selection_policy\":{\"type\":\"object\",\"name\":\"UnionRenderers\",\"id\":\"p1754\"},\"data\":{\"type\":\"map\",\"entries\":[[\"fruits\",[\"Apples\",\"Pears\",\"Nectarines\",\"Plums\",\"Grapes\",\"Strawberries\"]],[\"counts\",[5,3,4,2,4,6]],[\"color\",[\"#3288bd\",\"#99d594\",\"#e6f598\",\"#fee08b\",\"#fc8d59\",\"#d53e4f\"]]]}}},\"view\":{\"type\":\"object\",\"name\":\"CDSView\",\"id\":\"p1799\",\"attributes\":{\"filter\":{\"type\":\"object\",\"name\":\"AllIndices\",\"id\":\"p1800\"}}},\"glyph\":{\"type\":\"object\",\"name\":\"VBar\",\"id\":\"p1795\",\"attributes\":{\"x\":{\"type\":\"field\",\"field\":\"fruits\"},\"width\":{\"type\":\"value\",\"value\":0.9},\"top\":{\"type\":\"field\",\"field\":\"counts\"},\"line_color\":{\"type\":\"field\",\"field\":\"color\"},\"fill_color\":{\"type\":\"field\",\"field\":\"color\"},\"hatch_color\":{\"type\":\"field\",\"field\":\"color\"}}},\"nonselection_glyph\":{\"type\":\"object\",\"name\":\"VBar\",\"id\":\"p1796\",\"attributes\":{\"x\":{\"type\":\"field\",\"field\":\"fruits\"},\"width\":{\"type\":\"value\",\"value\":0.9},\"top\":{\"type\":\"field\",\"field\":\"counts\"},\"line_color\":{\"type\":\"field\",\"field\":\"color\"},\"line_alpha\":{\"type\":\"value\",\"value\":0.1},\"fill_color\":{\"type\":\"field\",\"field\":\"color\"},\"fill_alpha\":{\"type\":\"value\",\"value\":0.1},\"hatch_color\":{\"type\":\"field\",\"field\":\"color\"},\"hatch_alpha\":{\"type\":\"value\",\"value\":0.1}}},\"muted_glyph\":{\"type\":\"object\",\"name\":\"VBar\",\"id\":\"p1797\",\"attributes\":{\"x\":{\"type\":\"field\",\"field\":\"fruits\"},\"width\":{\"type\":\"value\",\"value\":0.9},\"top\":{\"type\":\"field\",\"field\":\"counts\"},\"line_color\":{\"type\":\"field\",\"field\":\"color\"},\"line_alpha\":{\"type\":\"value\",\"value\":0.2},\"fill_color\":{\"type\":\"field\",\"field\":\"color\"},\"fill_alpha\":{\"type\":\"value\",\"value\":0.2},\"hatch_color\":{\"type\":\"field\",\"field\":\"color\"},\"hatch_alpha\":{\"type\":\"value\",\"value\":0.2}}}}}],\"toolbar\":{\"type\":\"object\",\"name\":\"Toolbar\",\"id\":\"p1764\",\"attributes\":{\"tools\":[{\"type\":\"object\",\"name\":\"PanTool\",\"id\":\"p1779\"},{\"type\":\"object\",\"name\":\"WheelZoomTool\",\"id\":\"p1780\",\"attributes\":{\"renderers\":\"auto\"}},{\"type\":\"object\",\"name\":\"BoxZoomTool\",\"id\":\"p1781\",\"attributes\":{\"overlay\":{\"type\":\"object\",\"name\":\"BoxAnnotation\",\"id\":\"p1782\",\"attributes\":{\"syncable\":false,\"line_color\":\"black\",\"line_alpha\":1.0,\"line_width\":2,\"line_dash\":[4,4],\"fill_color\":\"lightgrey\",\"fill_alpha\":0.5,\"level\":\"overlay\",\"visible\":false,\"left\":{\"type\":\"number\",\"value\":\"nan\"},\"right\":{\"type\":\"number\",\"value\":\"nan\"},\"top\":{\"type\":\"number\",\"value\":\"nan\"},\"bottom\":{\"type\":\"number\",\"value\":\"nan\"},\"left_units\":\"canvas\",\"right_units\":\"canvas\",\"top_units\":\"canvas\",\"bottom_units\":\"canvas\",\"handles\":{\"type\":\"object\",\"name\":\"BoxInteractionHandles\",\"id\":\"p1788\",\"attributes\":{\"all\":{\"type\":\"object\",\"name\":\"AreaVisuals\",\"id\":\"p1787\",\"attributes\":{\"fill_color\":\"white\",\"hover_fill_color\":\"lightgray\"}}}}}}}},{\"type\":\"object\",\"name\":\"SaveTool\",\"id\":\"p1789\"},{\"type\":\"object\",\"name\":\"ResetTool\",\"id\":\"p1790\"},{\"type\":\"object\",\"name\":\"HelpTool\",\"id\":\"p1791\"}]}},\"left\":[{\"type\":\"object\",\"name\":\"LinearAxis\",\"id\":\"p1774\",\"attributes\":{\"ticker\":{\"type\":\"object\",\"name\":\"BasicTicker\",\"id\":\"p1775\",\"attributes\":{\"mantissas\":[1,2,5]}},\"formatter\":{\"type\":\"object\",\"name\":\"BasicTickFormatter\",\"id\":\"p1776\"},\"major_label_policy\":{\"type\":\"object\",\"name\":\"AllLabels\",\"id\":\"p1777\"}}}],\"below\":[{\"type\":\"object\",\"name\":\"CategoricalAxis\",\"id\":\"p1769\",\"attributes\":{\"ticker\":{\"type\":\"object\",\"name\":\"CategoricalTicker\",\"id\":\"p1770\"},\"formatter\":{\"type\":\"object\",\"name\":\"CategoricalTickFormatter\",\"id\":\"p1771\"},\"major_label_policy\":{\"type\":\"object\",\"name\":\"AllLabels\",\"id\":\"p1772\"}}}],\"center\":[{\"type\":\"object\",\"name\":\"Grid\",\"id\":\"p1773\",\"attributes\":{\"axis\":{\"id\":\"p1769\"},\"grid_line_color\":null}},{\"type\":\"object\",\"name\":\"Grid\",\"id\":\"p1778\",\"attributes\":{\"dimension\":1,\"axis\":{\"id\":\"p1774\"}}},{\"type\":\"object\",\"name\":\"Legend\",\"id\":\"p1801\",\"attributes\":{\"location\":\"top_center\",\"orientation\":\"horizontal\",\"items\":[{\"type\":\"object\",\"name\":\"LegendItem\",\"id\":\"p1802\",\"attributes\":{\"label\":{\"type\":\"field\",\"field\":\"fruits\"},\"renderers\":[{\"id\":\"p1798\"}]}}]}}]}}]}};\n  const render_items = [{\"docid\":\"b062bb3b-4aea-424a-b51a-7eda399120ba\",\"roots\":{\"p1755\":\"e8caff4f-1f88-40c2-839a-d4d50f26361b\"},\"root_ids\":[\"p1755\"]}];\n  void root.Bokeh.embed.embed_items_notebook(docs_json, render_items);\n  }\n  if (root.Bokeh !== undefined) {\n    embed_document(root);\n  } else {\n    let attempts = 0;\n    const timer = setInterval(function(root) {\n      if (root.Bokeh !== undefined) {\n        clearInterval(timer);\n        embed_document(root);\n      } else {\n        attempts++;\n        if (attempts > 100) {\n          clearInterval(timer);\n          console.log(\"Bokeh: ERROR: Unable to run BokehJS code because BokehJS library is missing\");\n        }\n      }\n    }, 10, root)\n  }\n})(window);",
      "application/vnd.bokehjs_exec.v0+json": ""
     },
     "metadata": {
      "application/vnd.bokehjs_exec.v0+json": {
       "id": "p1755"
      }
     },
     "output_type": "display_data"
    }
   ],
   "source": [
    "from bokeh.models import ColumnDataSource\n",
    "from bokeh.palettes import Spectral6\n",
    "\n",
    "fruits = ['Apples', 'Pears', 'Nectarines', 'Plums', 'Grapes', 'Strawberries']\n",
    "counts = [5, 3, 4, 2, 4, 6]\n",
    "\n",
    "source = ColumnDataSource(data=dict(fruits=fruits, counts=counts, color=Spectral6))\n",
    "\n",
    "p = figure(x_range=fruits, height=250, y_range=(0, 9), title=\"Fruit Counts\")\n",
    "p.vbar(x='fruits', top='counts', width=0.9, color='color', legend_field=\"fruits\", source=source)\n",
    "\n",
    "p.xgrid.grid_line_color = None\n",
    "p.legend.orientation = \"horizontal\"\n",
    "p.legend.location = \"top_center\"\n",
    "\n",
    "show(p)"
   ]
  },
  {
   "cell_type": "code",
   "execution_count": 19,
   "id": "3e466f4f",
   "metadata": {},
   "outputs": [
    {
     "data": {
      "text/html": [
       "\n",
       "  <div id=\"c4629bd7-0095-461c-a038-1a508d10319c\" data-root-id=\"p1806\" style=\"display: contents;\"></div>\n"
      ]
     },
     "metadata": {},
     "output_type": "display_data"
    },
    {
     "data": {
      "application/javascript": "(function(root) {\n  function embed_document(root) {\n  const docs_json = {\"af569498-b5b0-4f72-927a-e2c08882f969\":{\"version\":\"3.6.1\",\"title\":\"Bokeh Application\",\"roots\":[{\"type\":\"object\",\"name\":\"Figure\",\"id\":\"p1806\",\"attributes\":{\"height\":250,\"x_range\":{\"type\":\"object\",\"name\":\"FactorRange\",\"id\":\"p1816\",\"attributes\":{\"factors\":[\"Apples\",\"Pears\",\"Nectarines\",\"Plums\",\"Grapes\",\"Strawberries\"]}},\"y_range\":{\"type\":\"object\",\"name\":\"Range1d\",\"id\":\"p1817\",\"attributes\":{\"end\":9}},\"x_scale\":{\"type\":\"object\",\"name\":\"CategoricalScale\",\"id\":\"p1818\"},\"y_scale\":{\"type\":\"object\",\"name\":\"LinearScale\",\"id\":\"p1819\"},\"title\":{\"type\":\"object\",\"name\":\"Title\",\"id\":\"p1809\",\"attributes\":{\"text\":\"Fruit Counts\"}},\"renderers\":[{\"type\":\"object\",\"name\":\"GlyphRenderer\",\"id\":\"p1849\",\"attributes\":{\"data_source\":{\"type\":\"object\",\"name\":\"ColumnDataSource\",\"id\":\"p1803\",\"attributes\":{\"selected\":{\"type\":\"object\",\"name\":\"Selection\",\"id\":\"p1804\",\"attributes\":{\"indices\":[],\"line_indices\":[]}},\"selection_policy\":{\"type\":\"object\",\"name\":\"UnionRenderers\",\"id\":\"p1805\"},\"data\":{\"type\":\"map\",\"entries\":[[\"fruits\",[\"Apples\",\"Pears\",\"Nectarines\",\"Plums\",\"Grapes\",\"Strawberries\"]],[\"counts\",[5,3,4,2,4,6]],[\"color\",[\"#3288bd\",\"#99d594\",\"#e6f598\",\"#fee08b\",\"#fc8d59\",\"#d53e4f\"]]]}}},\"view\":{\"type\":\"object\",\"name\":\"CDSView\",\"id\":\"p1850\",\"attributes\":{\"filter\":{\"type\":\"object\",\"name\":\"AllIndices\",\"id\":\"p1851\"}}},\"glyph\":{\"type\":\"object\",\"name\":\"VBar\",\"id\":\"p1846\",\"attributes\":{\"x\":{\"type\":\"field\",\"field\":\"fruits\"},\"width\":{\"type\":\"value\",\"value\":0.9},\"top\":{\"type\":\"field\",\"field\":\"counts\"},\"line_color\":{\"type\":\"field\",\"field\":\"color\"},\"fill_color\":{\"type\":\"field\",\"field\":\"color\"},\"hatch_color\":{\"type\":\"field\",\"field\":\"color\"}}},\"nonselection_glyph\":{\"type\":\"object\",\"name\":\"VBar\",\"id\":\"p1847\",\"attributes\":{\"x\":{\"type\":\"field\",\"field\":\"fruits\"},\"width\":{\"type\":\"value\",\"value\":0.9},\"top\":{\"type\":\"field\",\"field\":\"counts\"},\"line_color\":{\"type\":\"field\",\"field\":\"color\"},\"line_alpha\":{\"type\":\"value\",\"value\":0.1},\"fill_color\":{\"type\":\"field\",\"field\":\"color\"},\"fill_alpha\":{\"type\":\"value\",\"value\":0.1},\"hatch_color\":{\"type\":\"field\",\"field\":\"color\"},\"hatch_alpha\":{\"type\":\"value\",\"value\":0.1}}},\"muted_glyph\":{\"type\":\"object\",\"name\":\"VBar\",\"id\":\"p1848\",\"attributes\":{\"x\":{\"type\":\"field\",\"field\":\"fruits\"},\"width\":{\"type\":\"value\",\"value\":0.9},\"top\":{\"type\":\"field\",\"field\":\"counts\"},\"line_color\":{\"type\":\"field\",\"field\":\"color\"},\"line_alpha\":{\"type\":\"value\",\"value\":0.2},\"fill_color\":{\"type\":\"field\",\"field\":\"color\"},\"fill_alpha\":{\"type\":\"value\",\"value\":0.2},\"hatch_color\":{\"type\":\"field\",\"field\":\"color\"},\"hatch_alpha\":{\"type\":\"value\",\"value\":0.2}}}}}],\"toolbar\":{\"type\":\"object\",\"name\":\"Toolbar\",\"id\":\"p1815\",\"attributes\":{\"tools\":[{\"type\":\"object\",\"name\":\"PanTool\",\"id\":\"p1830\"},{\"type\":\"object\",\"name\":\"WheelZoomTool\",\"id\":\"p1831\",\"attributes\":{\"renderers\":\"auto\"}},{\"type\":\"object\",\"name\":\"BoxZoomTool\",\"id\":\"p1832\",\"attributes\":{\"overlay\":{\"type\":\"object\",\"name\":\"BoxAnnotation\",\"id\":\"p1833\",\"attributes\":{\"syncable\":false,\"line_color\":\"black\",\"line_alpha\":1.0,\"line_width\":2,\"line_dash\":[4,4],\"fill_color\":\"lightgrey\",\"fill_alpha\":0.5,\"level\":\"overlay\",\"visible\":false,\"left\":{\"type\":\"number\",\"value\":\"nan\"},\"right\":{\"type\":\"number\",\"value\":\"nan\"},\"top\":{\"type\":\"number\",\"value\":\"nan\"},\"bottom\":{\"type\":\"number\",\"value\":\"nan\"},\"left_units\":\"canvas\",\"right_units\":\"canvas\",\"top_units\":\"canvas\",\"bottom_units\":\"canvas\",\"handles\":{\"type\":\"object\",\"name\":\"BoxInteractionHandles\",\"id\":\"p1839\",\"attributes\":{\"all\":{\"type\":\"object\",\"name\":\"AreaVisuals\",\"id\":\"p1838\",\"attributes\":{\"fill_color\":\"white\",\"hover_fill_color\":\"lightgray\"}}}}}}}},{\"type\":\"object\",\"name\":\"SaveTool\",\"id\":\"p1840\"},{\"type\":\"object\",\"name\":\"ResetTool\",\"id\":\"p1841\"},{\"type\":\"object\",\"name\":\"HelpTool\",\"id\":\"p1842\"}]}},\"left\":[{\"type\":\"object\",\"name\":\"LinearAxis\",\"id\":\"p1825\",\"attributes\":{\"ticker\":{\"type\":\"object\",\"name\":\"BasicTicker\",\"id\":\"p1826\",\"attributes\":{\"mantissas\":[1,2,5]}},\"formatter\":{\"type\":\"object\",\"name\":\"BasicTickFormatter\",\"id\":\"p1827\"},\"major_label_policy\":{\"type\":\"object\",\"name\":\"AllLabels\",\"id\":\"p1828\"}}}],\"below\":[{\"type\":\"object\",\"name\":\"CategoricalAxis\",\"id\":\"p1820\",\"attributes\":{\"ticker\":{\"type\":\"object\",\"name\":\"CategoricalTicker\",\"id\":\"p1821\"},\"formatter\":{\"type\":\"object\",\"name\":\"CategoricalTickFormatter\",\"id\":\"p1822\"},\"major_label_policy\":{\"type\":\"object\",\"name\":\"AllLabels\",\"id\":\"p1823\"}}}],\"center\":[{\"type\":\"object\",\"name\":\"Grid\",\"id\":\"p1824\",\"attributes\":{\"axis\":{\"id\":\"p1820\"},\"grid_line_color\":null}},{\"type\":\"object\",\"name\":\"Grid\",\"id\":\"p1829\",\"attributes\":{\"dimension\":1,\"axis\":{\"id\":\"p1825\"}}},{\"type\":\"object\",\"name\":\"Legend\",\"id\":\"p1852\",\"attributes\":{\"location\":\"top_center\",\"orientation\":\"horizontal\",\"items\":[{\"type\":\"object\",\"name\":\"LegendItem\",\"id\":\"p1853\",\"attributes\":{\"label\":{\"type\":\"field\",\"field\":\"fruits\"},\"renderers\":[{\"id\":\"p1849\"}]}}]}}]}}]}};\n  const render_items = [{\"docid\":\"af569498-b5b0-4f72-927a-e2c08882f969\",\"roots\":{\"p1806\":\"c4629bd7-0095-461c-a038-1a508d10319c\"},\"root_ids\":[\"p1806\"]}];\n  void root.Bokeh.embed.embed_items_notebook(docs_json, render_items);\n  }\n  if (root.Bokeh !== undefined) {\n    embed_document(root);\n  } else {\n    let attempts = 0;\n    const timer = setInterval(function(root) {\n      if (root.Bokeh !== undefined) {\n        clearInterval(timer);\n        embed_document(root);\n      } else {\n        attempts++;\n        if (attempts > 100) {\n          clearInterval(timer);\n          console.log(\"Bokeh: ERROR: Unable to run BokehJS code because BokehJS library is missing\");\n        }\n      }\n    }, 10, root)\n  }\n})(window);",
      "application/vnd.bokehjs_exec.v0+json": ""
     },
     "metadata": {
      "application/vnd.bokehjs_exec.v0+json": {
       "id": "p1806"
      }
     },
     "output_type": "display_data"
    }
   ],
   "source": [
    "# Exercise: Create your own simple bar chart driven by a ColumnDataSource\n",
    "source = ColumnDataSource(data=dict(fruits=fruits, counts=counts, color=Spectral6))\n",
    "\n",
    "p = figure(x_range=fruits, height=250, y_range=(0, 9), title=\"Fruit Counts\")\n",
    "p.vbar(x='fruits', top='counts', width=0.9, color='color', legend_field=\"fruits\", source=source)\n",
    "\n",
    "p.xgrid.grid_line_color = None\n",
    "p.legend.orientation = \"horizontal\"\n",
    "p.legend.location = \"top_center\"\n",
    "\n",
    "show(p)"
   ]
  },
  {
   "cell_type": "markdown",
   "id": "e0568a30",
   "metadata": {},
   "source": [
    "## Stacked Bars\n",
    "\n",
    "It's often desirable to stack bars together. Bokeh makes this straightforward using the `vbar_stack` and `hbar_stack` methods. When passing data to one of these methods, the data source should have a series for each \"row\" in the stack. You will provide an ordered list of column names to stack together from the data source. \n",
    "\n",
    "In the example below, we see simulated data for fruit exports (positive values) and imports (negative values) stacked using two calls to `hbar_stack`. The values in the columns for each year are ordered according to the `fruits`, i.e. this is not a \"tidy\" data format."
   ]
  },
  {
   "cell_type": "code",
   "execution_count": 20,
   "id": "504bb3f6",
   "metadata": {},
   "outputs": [
    {
     "data": {
      "text/html": [
       "\n",
       "  <div id=\"ef25d39a-e0d9-4d47-b8d1-a2d3f31f81c0\" data-root-id=\"p1854\" style=\"display: contents;\"></div>\n"
      ]
     },
     "metadata": {},
     "output_type": "display_data"
    },
    {
     "data": {
      "application/javascript": "(function(root) {\n  function embed_document(root) {\n  const docs_json = {\"aacc6ab0-25b9-4ad5-bb30-9f0807bf41eb\":{\"version\":\"3.6.1\",\"title\":\"Bokeh Application\",\"roots\":[{\"type\":\"object\",\"name\":\"Figure\",\"id\":\"p1854\",\"attributes\":{\"height\":250,\"x_range\":{\"type\":\"object\",\"name\":\"Range1d\",\"id\":\"p1864\",\"attributes\":{\"start\":-16,\"end\":16}},\"y_range\":{\"type\":\"object\",\"name\":\"FactorRange\",\"id\":\"p1865\",\"attributes\":{\"factors\":[\"Apples\",\"Pears\",\"Nectarines\",\"Plums\",\"Grapes\",\"Strawberries\"],\"range_padding\":0.1}},\"x_scale\":{\"type\":\"object\",\"name\":\"LinearScale\",\"id\":\"p1866\"},\"y_scale\":{\"type\":\"object\",\"name\":\"CategoricalScale\",\"id\":\"p1867\"},\"title\":{\"type\":\"object\",\"name\":\"Title\",\"id\":\"p1857\",\"attributes\":{\"text\":\"Fruit import/export, by year\"}},\"renderers\":[{\"type\":\"object\",\"name\":\"GlyphRenderer\",\"id\":\"p1906\",\"attributes\":{\"name\":\"2015\",\"data_source\":{\"type\":\"object\",\"name\":\"ColumnDataSource\",\"id\":\"p1891\",\"attributes\":{\"selected\":{\"type\":\"object\",\"name\":\"Selection\",\"id\":\"p1892\",\"attributes\":{\"indices\":[],\"line_indices\":[]}},\"selection_policy\":{\"type\":\"object\",\"name\":\"UnionRenderers\",\"id\":\"p1893\"},\"data\":{\"type\":\"map\",\"entries\":[[\"fruits\",[\"Apples\",\"Pears\",\"Nectarines\",\"Plums\",\"Grapes\",\"Strawberries\"]],[\"2015\",[2,1,4,3,2,4]],[\"2016\",[5,3,4,2,4,6]],[\"2017\",[3,2,4,4,5,3]]]}}},\"view\":{\"type\":\"object\",\"name\":\"CDSView\",\"id\":\"p1907\",\"attributes\":{\"filter\":{\"type\":\"object\",\"name\":\"AllIndices\",\"id\":\"p1908\"}}},\"glyph\":{\"type\":\"object\",\"name\":\"HBar\",\"id\":\"p1903\",\"attributes\":{\"y\":{\"type\":\"field\",\"field\":\"fruits\"},\"height\":{\"type\":\"value\",\"value\":0.9},\"left\":{\"type\":\"expr\",\"expr\":{\"type\":\"object\",\"name\":\"Stack\",\"id\":\"p1894\",\"attributes\":{\"fields\":[]}}},\"right\":{\"type\":\"expr\",\"expr\":{\"type\":\"object\",\"name\":\"Stack\",\"id\":\"p1895\",\"attributes\":{\"fields\":[\"2015\"]}}},\"line_color\":{\"type\":\"value\",\"value\":\"#43a2ca\"},\"fill_color\":{\"type\":\"value\",\"value\":\"#43a2ca\"},\"hatch_color\":{\"type\":\"value\",\"value\":\"#43a2ca\"}}},\"nonselection_glyph\":{\"type\":\"object\",\"name\":\"HBar\",\"id\":\"p1904\",\"attributes\":{\"y\":{\"type\":\"field\",\"field\":\"fruits\"},\"height\":{\"type\":\"value\",\"value\":0.9},\"left\":{\"type\":\"expr\",\"expr\":{\"id\":\"p1894\"}},\"right\":{\"type\":\"expr\",\"expr\":{\"id\":\"p1895\"}},\"line_color\":{\"type\":\"value\",\"value\":\"#43a2ca\"},\"line_alpha\":{\"type\":\"value\",\"value\":0.1},\"fill_color\":{\"type\":\"value\",\"value\":\"#43a2ca\"},\"fill_alpha\":{\"type\":\"value\",\"value\":0.1},\"hatch_color\":{\"type\":\"value\",\"value\":\"#43a2ca\"},\"hatch_alpha\":{\"type\":\"value\",\"value\":0.1}}},\"muted_glyph\":{\"type\":\"object\",\"name\":\"HBar\",\"id\":\"p1905\",\"attributes\":{\"y\":{\"type\":\"field\",\"field\":\"fruits\"},\"height\":{\"type\":\"value\",\"value\":0.9},\"left\":{\"type\":\"expr\",\"expr\":{\"id\":\"p1894\"}},\"right\":{\"type\":\"expr\",\"expr\":{\"id\":\"p1895\"}},\"line_color\":{\"type\":\"value\",\"value\":\"#43a2ca\"},\"line_alpha\":{\"type\":\"value\",\"value\":0.2},\"fill_color\":{\"type\":\"value\",\"value\":\"#43a2ca\"},\"fill_alpha\":{\"type\":\"value\",\"value\":0.2},\"hatch_color\":{\"type\":\"value\",\"value\":\"#43a2ca\"},\"hatch_alpha\":{\"type\":\"value\",\"value\":0.2}}}}},{\"type\":\"object\",\"name\":\"GlyphRenderer\",\"id\":\"p1917\",\"attributes\":{\"name\":\"2016\",\"data_source\":{\"id\":\"p1891\"},\"view\":{\"type\":\"object\",\"name\":\"CDSView\",\"id\":\"p1918\",\"attributes\":{\"filter\":{\"type\":\"object\",\"name\":\"AllIndices\",\"id\":\"p1919\"}}},\"glyph\":{\"type\":\"object\",\"name\":\"HBar\",\"id\":\"p1914\",\"attributes\":{\"y\":{\"type\":\"field\",\"field\":\"fruits\"},\"height\":{\"type\":\"value\",\"value\":0.9},\"left\":{\"type\":\"expr\",\"expr\":{\"type\":\"object\",\"name\":\"Stack\",\"id\":\"p1896\",\"attributes\":{\"fields\":[\"2015\"]}}},\"right\":{\"type\":\"expr\",\"expr\":{\"type\":\"object\",\"name\":\"Stack\",\"id\":\"p1897\",\"attributes\":{\"fields\":[\"2015\",\"2016\"]}}},\"line_color\":{\"type\":\"value\",\"value\":\"#a8ddb5\"},\"fill_color\":{\"type\":\"value\",\"value\":\"#a8ddb5\"},\"hatch_color\":{\"type\":\"value\",\"value\":\"#a8ddb5\"}}},\"nonselection_glyph\":{\"type\":\"object\",\"name\":\"HBar\",\"id\":\"p1915\",\"attributes\":{\"y\":{\"type\":\"field\",\"field\":\"fruits\"},\"height\":{\"type\":\"value\",\"value\":0.9},\"left\":{\"type\":\"expr\",\"expr\":{\"id\":\"p1896\"}},\"right\":{\"type\":\"expr\",\"expr\":{\"id\":\"p1897\"}},\"line_color\":{\"type\":\"value\",\"value\":\"#a8ddb5\"},\"line_alpha\":{\"type\":\"value\",\"value\":0.1},\"fill_color\":{\"type\":\"value\",\"value\":\"#a8ddb5\"},\"fill_alpha\":{\"type\":\"value\",\"value\":0.1},\"hatch_color\":{\"type\":\"value\",\"value\":\"#a8ddb5\"},\"hatch_alpha\":{\"type\":\"value\",\"value\":0.1}}},\"muted_glyph\":{\"type\":\"object\",\"name\":\"HBar\",\"id\":\"p1916\",\"attributes\":{\"y\":{\"type\":\"field\",\"field\":\"fruits\"},\"height\":{\"type\":\"value\",\"value\":0.9},\"left\":{\"type\":\"expr\",\"expr\":{\"id\":\"p1896\"}},\"right\":{\"type\":\"expr\",\"expr\":{\"id\":\"p1897\"}},\"line_color\":{\"type\":\"value\",\"value\":\"#a8ddb5\"},\"line_alpha\":{\"type\":\"value\",\"value\":0.2},\"fill_color\":{\"type\":\"value\",\"value\":\"#a8ddb5\"},\"fill_alpha\":{\"type\":\"value\",\"value\":0.2},\"hatch_color\":{\"type\":\"value\",\"value\":\"#a8ddb5\"},\"hatch_alpha\":{\"type\":\"value\",\"value\":0.2}}}}},{\"type\":\"object\",\"name\":\"GlyphRenderer\",\"id\":\"p1927\",\"attributes\":{\"name\":\"2017\",\"data_source\":{\"id\":\"p1891\"},\"view\":{\"type\":\"object\",\"name\":\"CDSView\",\"id\":\"p1928\",\"attributes\":{\"filter\":{\"type\":\"object\",\"name\":\"AllIndices\",\"id\":\"p1929\"}}},\"glyph\":{\"type\":\"object\",\"name\":\"HBar\",\"id\":\"p1924\",\"attributes\":{\"y\":{\"type\":\"field\",\"field\":\"fruits\"},\"height\":{\"type\":\"value\",\"value\":0.9},\"left\":{\"type\":\"expr\",\"expr\":{\"type\":\"object\",\"name\":\"Stack\",\"id\":\"p1898\",\"attributes\":{\"fields\":[\"2015\",\"2016\"]}}},\"right\":{\"type\":\"expr\",\"expr\":{\"type\":\"object\",\"name\":\"Stack\",\"id\":\"p1899\",\"attributes\":{\"fields\":[\"2015\",\"2016\",\"2017\"]}}},\"line_color\":{\"type\":\"value\",\"value\":\"#e0f3db\"},\"fill_color\":{\"type\":\"value\",\"value\":\"#e0f3db\"},\"hatch_color\":{\"type\":\"value\",\"value\":\"#e0f3db\"}}},\"nonselection_glyph\":{\"type\":\"object\",\"name\":\"HBar\",\"id\":\"p1925\",\"attributes\":{\"y\":{\"type\":\"field\",\"field\":\"fruits\"},\"height\":{\"type\":\"value\",\"value\":0.9},\"left\":{\"type\":\"expr\",\"expr\":{\"id\":\"p1898\"}},\"right\":{\"type\":\"expr\",\"expr\":{\"id\":\"p1899\"}},\"line_color\":{\"type\":\"value\",\"value\":\"#e0f3db\"},\"line_alpha\":{\"type\":\"value\",\"value\":0.1},\"fill_color\":{\"type\":\"value\",\"value\":\"#e0f3db\"},\"fill_alpha\":{\"type\":\"value\",\"value\":0.1},\"hatch_color\":{\"type\":\"value\",\"value\":\"#e0f3db\"},\"hatch_alpha\":{\"type\":\"value\",\"value\":0.1}}},\"muted_glyph\":{\"type\":\"object\",\"name\":\"HBar\",\"id\":\"p1926\",\"attributes\":{\"y\":{\"type\":\"field\",\"field\":\"fruits\"},\"height\":{\"type\":\"value\",\"value\":0.9},\"left\":{\"type\":\"expr\",\"expr\":{\"id\":\"p1898\"}},\"right\":{\"type\":\"expr\",\"expr\":{\"id\":\"p1899\"}},\"line_color\":{\"type\":\"value\",\"value\":\"#e0f3db\"},\"line_alpha\":{\"type\":\"value\",\"value\":0.2},\"fill_color\":{\"type\":\"value\",\"value\":\"#e0f3db\"},\"fill_alpha\":{\"type\":\"value\",\"value\":0.2},\"hatch_color\":{\"type\":\"value\",\"value\":\"#e0f3db\"},\"hatch_alpha\":{\"type\":\"value\",\"value\":0.2}}}}},{\"type\":\"object\",\"name\":\"GlyphRenderer\",\"id\":\"p1946\",\"attributes\":{\"name\":\"2015\",\"data_source\":{\"type\":\"object\",\"name\":\"ColumnDataSource\",\"id\":\"p1931\",\"attributes\":{\"selected\":{\"type\":\"object\",\"name\":\"Selection\",\"id\":\"p1932\",\"attributes\":{\"indices\":[],\"line_indices\":[]}},\"selection_policy\":{\"type\":\"object\",\"name\":\"UnionRenderers\",\"id\":\"p1933\"},\"data\":{\"type\":\"map\",\"entries\":[[\"fruits\",[\"Apples\",\"Pears\",\"Nectarines\",\"Plums\",\"Grapes\",\"Strawberries\"]],[\"2015\",[-1,0,-1,-3,-2,-1]],[\"2016\",[-2,-1,-3,-1,-2,-2]],[\"2017\",[-1,-2,-1,0,-2,-2]]]}}},\"view\":{\"type\":\"object\",\"name\":\"CDSView\",\"id\":\"p1947\",\"attributes\":{\"filter\":{\"type\":\"object\",\"name\":\"AllIndices\",\"id\":\"p1948\"}}},\"glyph\":{\"type\":\"object\",\"name\":\"HBar\",\"id\":\"p1943\",\"attributes\":{\"y\":{\"type\":\"field\",\"field\":\"fruits\"},\"height\":{\"type\":\"value\",\"value\":0.9},\"left\":{\"type\":\"expr\",\"expr\":{\"type\":\"object\",\"name\":\"Stack\",\"id\":\"p1934\",\"attributes\":{\"fields\":[]}}},\"right\":{\"type\":\"expr\",\"expr\":{\"type\":\"object\",\"name\":\"Stack\",\"id\":\"p1935\",\"attributes\":{\"fields\":[\"2015\"]}}},\"line_color\":{\"type\":\"value\",\"value\":\"#e34a33\"},\"fill_color\":{\"type\":\"value\",\"value\":\"#e34a33\"},\"hatch_color\":{\"type\":\"value\",\"value\":\"#e34a33\"}}},\"nonselection_glyph\":{\"type\":\"object\",\"name\":\"HBar\",\"id\":\"p1944\",\"attributes\":{\"y\":{\"type\":\"field\",\"field\":\"fruits\"},\"height\":{\"type\":\"value\",\"value\":0.9},\"left\":{\"type\":\"expr\",\"expr\":{\"id\":\"p1934\"}},\"right\":{\"type\":\"expr\",\"expr\":{\"id\":\"p1935\"}},\"line_color\":{\"type\":\"value\",\"value\":\"#e34a33\"},\"line_alpha\":{\"type\":\"value\",\"value\":0.1},\"fill_color\":{\"type\":\"value\",\"value\":\"#e34a33\"},\"fill_alpha\":{\"type\":\"value\",\"value\":0.1},\"hatch_color\":{\"type\":\"value\",\"value\":\"#e34a33\"},\"hatch_alpha\":{\"type\":\"value\",\"value\":0.1}}},\"muted_glyph\":{\"type\":\"object\",\"name\":\"HBar\",\"id\":\"p1945\",\"attributes\":{\"y\":{\"type\":\"field\",\"field\":\"fruits\"},\"height\":{\"type\":\"value\",\"value\":0.9},\"left\":{\"type\":\"expr\",\"expr\":{\"id\":\"p1934\"}},\"right\":{\"type\":\"expr\",\"expr\":{\"id\":\"p1935\"}},\"line_color\":{\"type\":\"value\",\"value\":\"#e34a33\"},\"line_alpha\":{\"type\":\"value\",\"value\":0.2},\"fill_color\":{\"type\":\"value\",\"value\":\"#e34a33\"},\"fill_alpha\":{\"type\":\"value\",\"value\":0.2},\"hatch_color\":{\"type\":\"value\",\"value\":\"#e34a33\"},\"hatch_alpha\":{\"type\":\"value\",\"value\":0.2}}}}},{\"type\":\"object\",\"name\":\"GlyphRenderer\",\"id\":\"p1956\",\"attributes\":{\"name\":\"2016\",\"data_source\":{\"id\":\"p1931\"},\"view\":{\"type\":\"object\",\"name\":\"CDSView\",\"id\":\"p1957\",\"attributes\":{\"filter\":{\"type\":\"object\",\"name\":\"AllIndices\",\"id\":\"p1958\"}}},\"glyph\":{\"type\":\"object\",\"name\":\"HBar\",\"id\":\"p1953\",\"attributes\":{\"y\":{\"type\":\"field\",\"field\":\"fruits\"},\"height\":{\"type\":\"value\",\"value\":0.9},\"left\":{\"type\":\"expr\",\"expr\":{\"type\":\"object\",\"name\":\"Stack\",\"id\":\"p1936\",\"attributes\":{\"fields\":[\"2015\"]}}},\"right\":{\"type\":\"expr\",\"expr\":{\"type\":\"object\",\"name\":\"Stack\",\"id\":\"p1937\",\"attributes\":{\"fields\":[\"2015\",\"2016\"]}}},\"line_color\":{\"type\":\"value\",\"value\":\"#fdbb84\"},\"fill_color\":{\"type\":\"value\",\"value\":\"#fdbb84\"},\"hatch_color\":{\"type\":\"value\",\"value\":\"#fdbb84\"}}},\"nonselection_glyph\":{\"type\":\"object\",\"name\":\"HBar\",\"id\":\"p1954\",\"attributes\":{\"y\":{\"type\":\"field\",\"field\":\"fruits\"},\"height\":{\"type\":\"value\",\"value\":0.9},\"left\":{\"type\":\"expr\",\"expr\":{\"id\":\"p1936\"}},\"right\":{\"type\":\"expr\",\"expr\":{\"id\":\"p1937\"}},\"line_color\":{\"type\":\"value\",\"value\":\"#fdbb84\"},\"line_alpha\":{\"type\":\"value\",\"value\":0.1},\"fill_color\":{\"type\":\"value\",\"value\":\"#fdbb84\"},\"fill_alpha\":{\"type\":\"value\",\"value\":0.1},\"hatch_color\":{\"type\":\"value\",\"value\":\"#fdbb84\"},\"hatch_alpha\":{\"type\":\"value\",\"value\":0.1}}},\"muted_glyph\":{\"type\":\"object\",\"name\":\"HBar\",\"id\":\"p1955\",\"attributes\":{\"y\":{\"type\":\"field\",\"field\":\"fruits\"},\"height\":{\"type\":\"value\",\"value\":0.9},\"left\":{\"type\":\"expr\",\"expr\":{\"id\":\"p1936\"}},\"right\":{\"type\":\"expr\",\"expr\":{\"id\":\"p1937\"}},\"line_color\":{\"type\":\"value\",\"value\":\"#fdbb84\"},\"line_alpha\":{\"type\":\"value\",\"value\":0.2},\"fill_color\":{\"type\":\"value\",\"value\":\"#fdbb84\"},\"fill_alpha\":{\"type\":\"value\",\"value\":0.2},\"hatch_color\":{\"type\":\"value\",\"value\":\"#fdbb84\"},\"hatch_alpha\":{\"type\":\"value\",\"value\":0.2}}}}},{\"type\":\"object\",\"name\":\"GlyphRenderer\",\"id\":\"p1966\",\"attributes\":{\"name\":\"2017\",\"data_source\":{\"id\":\"p1931\"},\"view\":{\"type\":\"object\",\"name\":\"CDSView\",\"id\":\"p1967\",\"attributes\":{\"filter\":{\"type\":\"object\",\"name\":\"AllIndices\",\"id\":\"p1968\"}}},\"glyph\":{\"type\":\"object\",\"name\":\"HBar\",\"id\":\"p1963\",\"attributes\":{\"y\":{\"type\":\"field\",\"field\":\"fruits\"},\"height\":{\"type\":\"value\",\"value\":0.9},\"left\":{\"type\":\"expr\",\"expr\":{\"type\":\"object\",\"name\":\"Stack\",\"id\":\"p1938\",\"attributes\":{\"fields\":[\"2015\",\"2016\"]}}},\"right\":{\"type\":\"expr\",\"expr\":{\"type\":\"object\",\"name\":\"Stack\",\"id\":\"p1939\",\"attributes\":{\"fields\":[\"2015\",\"2016\",\"2017\"]}}},\"line_color\":{\"type\":\"value\",\"value\":\"#fee8c8\"},\"fill_color\":{\"type\":\"value\",\"value\":\"#fee8c8\"},\"hatch_color\":{\"type\":\"value\",\"value\":\"#fee8c8\"}}},\"nonselection_glyph\":{\"type\":\"object\",\"name\":\"HBar\",\"id\":\"p1964\",\"attributes\":{\"y\":{\"type\":\"field\",\"field\":\"fruits\"},\"height\":{\"type\":\"value\",\"value\":0.9},\"left\":{\"type\":\"expr\",\"expr\":{\"id\":\"p1938\"}},\"right\":{\"type\":\"expr\",\"expr\":{\"id\":\"p1939\"}},\"line_color\":{\"type\":\"value\",\"value\":\"#fee8c8\"},\"line_alpha\":{\"type\":\"value\",\"value\":0.1},\"fill_color\":{\"type\":\"value\",\"value\":\"#fee8c8\"},\"fill_alpha\":{\"type\":\"value\",\"value\":0.1},\"hatch_color\":{\"type\":\"value\",\"value\":\"#fee8c8\"},\"hatch_alpha\":{\"type\":\"value\",\"value\":0.1}}},\"muted_glyph\":{\"type\":\"object\",\"name\":\"HBar\",\"id\":\"p1965\",\"attributes\":{\"y\":{\"type\":\"field\",\"field\":\"fruits\"},\"height\":{\"type\":\"value\",\"value\":0.9},\"left\":{\"type\":\"expr\",\"expr\":{\"id\":\"p1938\"}},\"right\":{\"type\":\"expr\",\"expr\":{\"id\":\"p1939\"}},\"line_color\":{\"type\":\"value\",\"value\":\"#fee8c8\"},\"line_alpha\":{\"type\":\"value\",\"value\":0.2},\"fill_color\":{\"type\":\"value\",\"value\":\"#fee8c8\"},\"fill_alpha\":{\"type\":\"value\",\"value\":0.2},\"hatch_color\":{\"type\":\"value\",\"value\":\"#fee8c8\"},\"hatch_alpha\":{\"type\":\"value\",\"value\":0.2}}}}}],\"toolbar\":{\"type\":\"object\",\"name\":\"Toolbar\",\"id\":\"p1863\",\"attributes\":{\"tools\":[{\"type\":\"object\",\"name\":\"PanTool\",\"id\":\"p1878\"},{\"type\":\"object\",\"name\":\"WheelZoomTool\",\"id\":\"p1879\",\"attributes\":{\"renderers\":\"auto\"}},{\"type\":\"object\",\"name\":\"BoxZoomTool\",\"id\":\"p1880\",\"attributes\":{\"overlay\":{\"type\":\"object\",\"name\":\"BoxAnnotation\",\"id\":\"p1881\",\"attributes\":{\"syncable\":false,\"line_color\":\"black\",\"line_alpha\":1.0,\"line_width\":2,\"line_dash\":[4,4],\"fill_color\":\"lightgrey\",\"fill_alpha\":0.5,\"level\":\"overlay\",\"visible\":false,\"left\":{\"type\":\"number\",\"value\":\"nan\"},\"right\":{\"type\":\"number\",\"value\":\"nan\"},\"top\":{\"type\":\"number\",\"value\":\"nan\"},\"bottom\":{\"type\":\"number\",\"value\":\"nan\"},\"left_units\":\"canvas\",\"right_units\":\"canvas\",\"top_units\":\"canvas\",\"bottom_units\":\"canvas\",\"handles\":{\"type\":\"object\",\"name\":\"BoxInteractionHandles\",\"id\":\"p1887\",\"attributes\":{\"all\":{\"type\":\"object\",\"name\":\"AreaVisuals\",\"id\":\"p1886\",\"attributes\":{\"fill_color\":\"white\",\"hover_fill_color\":\"lightgray\"}}}}}}}},{\"type\":\"object\",\"name\":\"SaveTool\",\"id\":\"p1888\"},{\"type\":\"object\",\"name\":\"ResetTool\",\"id\":\"p1889\"},{\"type\":\"object\",\"name\":\"HelpTool\",\"id\":\"p1890\"}]}},\"left\":[{\"type\":\"object\",\"name\":\"CategoricalAxis\",\"id\":\"p1873\",\"attributes\":{\"ticker\":{\"type\":\"object\",\"name\":\"CategoricalTicker\",\"id\":\"p1874\"},\"formatter\":{\"type\":\"object\",\"name\":\"CategoricalTickFormatter\",\"id\":\"p1875\"},\"major_label_policy\":{\"type\":\"object\",\"name\":\"AllLabels\",\"id\":\"p1876\"}}}],\"below\":[{\"type\":\"object\",\"name\":\"LinearAxis\",\"id\":\"p1868\",\"attributes\":{\"ticker\":{\"type\":\"object\",\"name\":\"BasicTicker\",\"id\":\"p1869\",\"attributes\":{\"mantissas\":[1,2,5]}},\"formatter\":{\"type\":\"object\",\"name\":\"BasicTickFormatter\",\"id\":\"p1870\"},\"major_label_policy\":{\"type\":\"object\",\"name\":\"AllLabels\",\"id\":\"p1871\"}}}],\"center\":[{\"type\":\"object\",\"name\":\"Grid\",\"id\":\"p1872\",\"attributes\":{\"axis\":{\"id\":\"p1868\"}}},{\"type\":\"object\",\"name\":\"Grid\",\"id\":\"p1877\",\"attributes\":{\"dimension\":1,\"axis\":{\"id\":\"p1873\"},\"grid_line_color\":null}},{\"type\":\"object\",\"name\":\"Legend\",\"id\":\"p1909\",\"attributes\":{\"location\":\"center_left\",\"items\":[{\"type\":\"object\",\"name\":\"LegendItem\",\"id\":\"p1910\",\"attributes\":{\"label\":{\"type\":\"value\",\"value\":\"2015 exports\"},\"renderers\":[{\"id\":\"p1906\"}]}},{\"type\":\"object\",\"name\":\"LegendItem\",\"id\":\"p1920\",\"attributes\":{\"label\":{\"type\":\"value\",\"value\":\"2016 exports\"},\"renderers\":[{\"id\":\"p1917\"}]}},{\"type\":\"object\",\"name\":\"LegendItem\",\"id\":\"p1930\",\"attributes\":{\"label\":{\"type\":\"value\",\"value\":\"2017 exports\"},\"renderers\":[{\"id\":\"p1927\"}]}},{\"type\":\"object\",\"name\":\"LegendItem\",\"id\":\"p1949\",\"attributes\":{\"label\":{\"type\":\"value\",\"value\":\"2015 imports\"},\"renderers\":[{\"id\":\"p1946\"}]}},{\"type\":\"object\",\"name\":\"LegendItem\",\"id\":\"p1959\",\"attributes\":{\"label\":{\"type\":\"value\",\"value\":\"2016 imports\"},\"renderers\":[{\"id\":\"p1956\"}]}},{\"type\":\"object\",\"name\":\"LegendItem\",\"id\":\"p1969\",\"attributes\":{\"label\":{\"type\":\"value\",\"value\":\"2017 imports\"},\"renderers\":[{\"id\":\"p1966\"}]}}]}}]}}]}};\n  const render_items = [{\"docid\":\"aacc6ab0-25b9-4ad5-bb30-9f0807bf41eb\",\"roots\":{\"p1854\":\"ef25d39a-e0d9-4d47-b8d1-a2d3f31f81c0\"},\"root_ids\":[\"p1854\"]}];\n  void root.Bokeh.embed.embed_items_notebook(docs_json, render_items);\n  }\n  if (root.Bokeh !== undefined) {\n    embed_document(root);\n  } else {\n    let attempts = 0;\n    const timer = setInterval(function(root) {\n      if (root.Bokeh !== undefined) {\n        clearInterval(timer);\n        embed_document(root);\n      } else {\n        attempts++;\n        if (attempts > 100) {\n          clearInterval(timer);\n          console.log(\"Bokeh: ERROR: Unable to run BokehJS code because BokehJS library is missing\");\n        }\n      }\n    }, 10, root)\n  }\n})(window);",
      "application/vnd.bokehjs_exec.v0+json": ""
     },
     "metadata": {
      "application/vnd.bokehjs_exec.v0+json": {
       "id": "p1854"
      }
     },
     "output_type": "display_data"
    }
   ],
   "source": [
    "from bokeh.palettes import GnBu3, OrRd3\n",
    "\n",
    "years = ['2015', '2016', '2017']\n",
    "\n",
    "exports = {'fruits' : fruits,\n",
    "           '2015'   : [2, 1, 4, 3, 2, 4],\n",
    "           '2016'   : [5, 3, 4, 2, 4, 6],\n",
    "           '2017'   : [3, 2, 4, 4, 5, 3]}\n",
    "imports = {'fruits' : fruits,\n",
    "           '2015'   : [-1, 0, -1, -3, -2, -1],\n",
    "           '2016'   : [-2, -1, -3, -1, -2, -2],\n",
    "           '2017'   : [-1, -2, -1, 0, -2, -2]}\n",
    "\n",
    "p = figure(y_range=fruits, height=250, x_range=(-16, 16), title=\"Fruit import/export, by year\")\n",
    "\n",
    "p.hbar_stack(years, y='fruits', height=0.9, color=GnBu3, source=ColumnDataSource(exports),\n",
    "             legend_label=[\"%s exports\" % x for x in years])\n",
    "\n",
    "p.hbar_stack(years, y='fruits', height=0.9, color=OrRd3, source=ColumnDataSource(imports),\n",
    "             legend_label=[\"%s imports\" % x for x in years])\n",
    "\n",
    "p.y_range.range_padding = 0.1\n",
    "p.ygrid.grid_line_color = None\n",
    "p.legend.location = \"center_left\"\n",
    "\n",
    "show(p)"
   ]
  },
  {
   "cell_type": "markdown",
   "id": "b5d98225",
   "metadata": {},
   "source": [
    "Notice we also added some padding *around* the categorical range (e.g. at both ends of the axis) by specifying\n",
    "\n",
    "```\n",
    "p.y_range.range_padding = 0.1\n",
    "```"
   ]
  },
  {
   "cell_type": "code",
   "execution_count": 21,
   "id": "7ca48bf0",
   "metadata": {},
   "outputs": [
    {
     "data": {
      "text/html": [
       "\n",
       "  <div id=\"db409e8e-bc90-4f68-8765-075d26620c4a\" data-root-id=\"p1970\" style=\"display: contents;\"></div>\n"
      ]
     },
     "metadata": {},
     "output_type": "display_data"
    },
    {
     "data": {
      "application/javascript": "(function(root) {\n  function embed_document(root) {\n  const docs_json = {\"b5675ffa-8738-43f5-996d-1b5ea6db80bc\":{\"version\":\"3.6.1\",\"title\":\"Bokeh Application\",\"roots\":[{\"type\":\"object\",\"name\":\"Figure\",\"id\":\"p1970\",\"attributes\":{\"height\":250,\"x_range\":{\"type\":\"object\",\"name\":\"Range1d\",\"id\":\"p1980\",\"attributes\":{\"end\":16}},\"y_range\":{\"type\":\"object\",\"name\":\"FactorRange\",\"id\":\"p1981\",\"attributes\":{\"factors\":[\"Apples\",\"Pears\",\"Nectarines\",\"Plums\",\"Grapes\",\"Strawberries\"],\"range_padding\":0.1}},\"x_scale\":{\"type\":\"object\",\"name\":\"LinearScale\",\"id\":\"p1982\"},\"y_scale\":{\"type\":\"object\",\"name\":\"CategoricalScale\",\"id\":\"p1983\"},\"title\":{\"type\":\"object\",\"name\":\"Title\",\"id\":\"p1973\",\"attributes\":{\"text\":\"Fruit export by year\"}},\"renderers\":[{\"type\":\"object\",\"name\":\"GlyphRenderer\",\"id\":\"p2022\",\"attributes\":{\"name\":\"2015\",\"data_source\":{\"type\":\"object\",\"name\":\"ColumnDataSource\",\"id\":\"p2007\",\"attributes\":{\"selected\":{\"type\":\"object\",\"name\":\"Selection\",\"id\":\"p2008\",\"attributes\":{\"indices\":[],\"line_indices\":[]}},\"selection_policy\":{\"type\":\"object\",\"name\":\"UnionRenderers\",\"id\":\"p2009\"},\"data\":{\"type\":\"map\",\"entries\":[[\"fruits\",[\"Apples\",\"Pears\",\"Nectarines\",\"Plums\",\"Grapes\",\"Strawberries\"]],[\"2015\",[2,1,4,3,2,4]],[\"2016\",[5,3,4,2,4,6]],[\"2017\",[3,2,4,4,5,3]]]}}},\"view\":{\"type\":\"object\",\"name\":\"CDSView\",\"id\":\"p2023\",\"attributes\":{\"filter\":{\"type\":\"object\",\"name\":\"AllIndices\",\"id\":\"p2024\"}}},\"glyph\":{\"type\":\"object\",\"name\":\"HBar\",\"id\":\"p2019\",\"attributes\":{\"y\":{\"type\":\"field\",\"field\":\"fruits\"},\"height\":{\"type\":\"value\",\"value\":0.9},\"left\":{\"type\":\"expr\",\"expr\":{\"type\":\"object\",\"name\":\"Stack\",\"id\":\"p2010\",\"attributes\":{\"fields\":[]}}},\"right\":{\"type\":\"expr\",\"expr\":{\"type\":\"object\",\"name\":\"Stack\",\"id\":\"p2011\",\"attributes\":{\"fields\":[\"2015\"]}}},\"line_color\":{\"type\":\"value\",\"value\":\"#43a2ca\"},\"fill_color\":{\"type\":\"value\",\"value\":\"#43a2ca\"},\"hatch_color\":{\"type\":\"value\",\"value\":\"#43a2ca\"}}},\"nonselection_glyph\":{\"type\":\"object\",\"name\":\"HBar\",\"id\":\"p2020\",\"attributes\":{\"y\":{\"type\":\"field\",\"field\":\"fruits\"},\"height\":{\"type\":\"value\",\"value\":0.9},\"left\":{\"type\":\"expr\",\"expr\":{\"id\":\"p2010\"}},\"right\":{\"type\":\"expr\",\"expr\":{\"id\":\"p2011\"}},\"line_color\":{\"type\":\"value\",\"value\":\"#43a2ca\"},\"line_alpha\":{\"type\":\"value\",\"value\":0.1},\"fill_color\":{\"type\":\"value\",\"value\":\"#43a2ca\"},\"fill_alpha\":{\"type\":\"value\",\"value\":0.1},\"hatch_color\":{\"type\":\"value\",\"value\":\"#43a2ca\"},\"hatch_alpha\":{\"type\":\"value\",\"value\":0.1}}},\"muted_glyph\":{\"type\":\"object\",\"name\":\"HBar\",\"id\":\"p2021\",\"attributes\":{\"y\":{\"type\":\"field\",\"field\":\"fruits\"},\"height\":{\"type\":\"value\",\"value\":0.9},\"left\":{\"type\":\"expr\",\"expr\":{\"id\":\"p2010\"}},\"right\":{\"type\":\"expr\",\"expr\":{\"id\":\"p2011\"}},\"line_color\":{\"type\":\"value\",\"value\":\"#43a2ca\"},\"line_alpha\":{\"type\":\"value\",\"value\":0.2},\"fill_color\":{\"type\":\"value\",\"value\":\"#43a2ca\"},\"fill_alpha\":{\"type\":\"value\",\"value\":0.2},\"hatch_color\":{\"type\":\"value\",\"value\":\"#43a2ca\"},\"hatch_alpha\":{\"type\":\"value\",\"value\":0.2}}}}},{\"type\":\"object\",\"name\":\"GlyphRenderer\",\"id\":\"p2033\",\"attributes\":{\"name\":\"2016\",\"data_source\":{\"id\":\"p2007\"},\"view\":{\"type\":\"object\",\"name\":\"CDSView\",\"id\":\"p2034\",\"attributes\":{\"filter\":{\"type\":\"object\",\"name\":\"AllIndices\",\"id\":\"p2035\"}}},\"glyph\":{\"type\":\"object\",\"name\":\"HBar\",\"id\":\"p2030\",\"attributes\":{\"y\":{\"type\":\"field\",\"field\":\"fruits\"},\"height\":{\"type\":\"value\",\"value\":0.9},\"left\":{\"type\":\"expr\",\"expr\":{\"type\":\"object\",\"name\":\"Stack\",\"id\":\"p2012\",\"attributes\":{\"fields\":[\"2015\"]}}},\"right\":{\"type\":\"expr\",\"expr\":{\"type\":\"object\",\"name\":\"Stack\",\"id\":\"p2013\",\"attributes\":{\"fields\":[\"2015\",\"2016\"]}}},\"line_color\":{\"type\":\"value\",\"value\":\"#a8ddb5\"},\"fill_color\":{\"type\":\"value\",\"value\":\"#a8ddb5\"},\"hatch_color\":{\"type\":\"value\",\"value\":\"#a8ddb5\"}}},\"nonselection_glyph\":{\"type\":\"object\",\"name\":\"HBar\",\"id\":\"p2031\",\"attributes\":{\"y\":{\"type\":\"field\",\"field\":\"fruits\"},\"height\":{\"type\":\"value\",\"value\":0.9},\"left\":{\"type\":\"expr\",\"expr\":{\"id\":\"p2012\"}},\"right\":{\"type\":\"expr\",\"expr\":{\"id\":\"p2013\"}},\"line_color\":{\"type\":\"value\",\"value\":\"#a8ddb5\"},\"line_alpha\":{\"type\":\"value\",\"value\":0.1},\"fill_color\":{\"type\":\"value\",\"value\":\"#a8ddb5\"},\"fill_alpha\":{\"type\":\"value\",\"value\":0.1},\"hatch_color\":{\"type\":\"value\",\"value\":\"#a8ddb5\"},\"hatch_alpha\":{\"type\":\"value\",\"value\":0.1}}},\"muted_glyph\":{\"type\":\"object\",\"name\":\"HBar\",\"id\":\"p2032\",\"attributes\":{\"y\":{\"type\":\"field\",\"field\":\"fruits\"},\"height\":{\"type\":\"value\",\"value\":0.9},\"left\":{\"type\":\"expr\",\"expr\":{\"id\":\"p2012\"}},\"right\":{\"type\":\"expr\",\"expr\":{\"id\":\"p2013\"}},\"line_color\":{\"type\":\"value\",\"value\":\"#a8ddb5\"},\"line_alpha\":{\"type\":\"value\",\"value\":0.2},\"fill_color\":{\"type\":\"value\",\"value\":\"#a8ddb5\"},\"fill_alpha\":{\"type\":\"value\",\"value\":0.2},\"hatch_color\":{\"type\":\"value\",\"value\":\"#a8ddb5\"},\"hatch_alpha\":{\"type\":\"value\",\"value\":0.2}}}}},{\"type\":\"object\",\"name\":\"GlyphRenderer\",\"id\":\"p2043\",\"attributes\":{\"name\":\"2017\",\"data_source\":{\"id\":\"p2007\"},\"view\":{\"type\":\"object\",\"name\":\"CDSView\",\"id\":\"p2044\",\"attributes\":{\"filter\":{\"type\":\"object\",\"name\":\"AllIndices\",\"id\":\"p2045\"}}},\"glyph\":{\"type\":\"object\",\"name\":\"HBar\",\"id\":\"p2040\",\"attributes\":{\"y\":{\"type\":\"field\",\"field\":\"fruits\"},\"height\":{\"type\":\"value\",\"value\":0.9},\"left\":{\"type\":\"expr\",\"expr\":{\"type\":\"object\",\"name\":\"Stack\",\"id\":\"p2014\",\"attributes\":{\"fields\":[\"2015\",\"2016\"]}}},\"right\":{\"type\":\"expr\",\"expr\":{\"type\":\"object\",\"name\":\"Stack\",\"id\":\"p2015\",\"attributes\":{\"fields\":[\"2015\",\"2016\",\"2017\"]}}},\"line_color\":{\"type\":\"value\",\"value\":\"#e0f3db\"},\"fill_color\":{\"type\":\"value\",\"value\":\"#e0f3db\"},\"hatch_color\":{\"type\":\"value\",\"value\":\"#e0f3db\"}}},\"nonselection_glyph\":{\"type\":\"object\",\"name\":\"HBar\",\"id\":\"p2041\",\"attributes\":{\"y\":{\"type\":\"field\",\"field\":\"fruits\"},\"height\":{\"type\":\"value\",\"value\":0.9},\"left\":{\"type\":\"expr\",\"expr\":{\"id\":\"p2014\"}},\"right\":{\"type\":\"expr\",\"expr\":{\"id\":\"p2015\"}},\"line_color\":{\"type\":\"value\",\"value\":\"#e0f3db\"},\"line_alpha\":{\"type\":\"value\",\"value\":0.1},\"fill_color\":{\"type\":\"value\",\"value\":\"#e0f3db\"},\"fill_alpha\":{\"type\":\"value\",\"value\":0.1},\"hatch_color\":{\"type\":\"value\",\"value\":\"#e0f3db\"},\"hatch_alpha\":{\"type\":\"value\",\"value\":0.1}}},\"muted_glyph\":{\"type\":\"object\",\"name\":\"HBar\",\"id\":\"p2042\",\"attributes\":{\"y\":{\"type\":\"field\",\"field\":\"fruits\"},\"height\":{\"type\":\"value\",\"value\":0.9},\"left\":{\"type\":\"expr\",\"expr\":{\"id\":\"p2014\"}},\"right\":{\"type\":\"expr\",\"expr\":{\"id\":\"p2015\"}},\"line_color\":{\"type\":\"value\",\"value\":\"#e0f3db\"},\"line_alpha\":{\"type\":\"value\",\"value\":0.2},\"fill_color\":{\"type\":\"value\",\"value\":\"#e0f3db\"},\"fill_alpha\":{\"type\":\"value\",\"value\":0.2},\"hatch_color\":{\"type\":\"value\",\"value\":\"#e0f3db\"},\"hatch_alpha\":{\"type\":\"value\",\"value\":0.2}}}}}],\"toolbar\":{\"type\":\"object\",\"name\":\"Toolbar\",\"id\":\"p1979\",\"attributes\":{\"tools\":[{\"type\":\"object\",\"name\":\"PanTool\",\"id\":\"p1994\"},{\"type\":\"object\",\"name\":\"WheelZoomTool\",\"id\":\"p1995\",\"attributes\":{\"renderers\":\"auto\"}},{\"type\":\"object\",\"name\":\"BoxZoomTool\",\"id\":\"p1996\",\"attributes\":{\"overlay\":{\"type\":\"object\",\"name\":\"BoxAnnotation\",\"id\":\"p1997\",\"attributes\":{\"syncable\":false,\"line_color\":\"black\",\"line_alpha\":1.0,\"line_width\":2,\"line_dash\":[4,4],\"fill_color\":\"lightgrey\",\"fill_alpha\":0.5,\"level\":\"overlay\",\"visible\":false,\"left\":{\"type\":\"number\",\"value\":\"nan\"},\"right\":{\"type\":\"number\",\"value\":\"nan\"},\"top\":{\"type\":\"number\",\"value\":\"nan\"},\"bottom\":{\"type\":\"number\",\"value\":\"nan\"},\"left_units\":\"canvas\",\"right_units\":\"canvas\",\"top_units\":\"canvas\",\"bottom_units\":\"canvas\",\"handles\":{\"type\":\"object\",\"name\":\"BoxInteractionHandles\",\"id\":\"p2003\",\"attributes\":{\"all\":{\"type\":\"object\",\"name\":\"AreaVisuals\",\"id\":\"p2002\",\"attributes\":{\"fill_color\":\"white\",\"hover_fill_color\":\"lightgray\"}}}}}}}},{\"type\":\"object\",\"name\":\"SaveTool\",\"id\":\"p2004\"},{\"type\":\"object\",\"name\":\"ResetTool\",\"id\":\"p2005\"},{\"type\":\"object\",\"name\":\"HelpTool\",\"id\":\"p2006\"}]}},\"left\":[{\"type\":\"object\",\"name\":\"CategoricalAxis\",\"id\":\"p1989\",\"attributes\":{\"ticker\":{\"type\":\"object\",\"name\":\"CategoricalTicker\",\"id\":\"p1990\"},\"formatter\":{\"type\":\"object\",\"name\":\"CategoricalTickFormatter\",\"id\":\"p1991\"},\"major_label_policy\":{\"type\":\"object\",\"name\":\"AllLabels\",\"id\":\"p1992\"}}}],\"below\":[{\"type\":\"object\",\"name\":\"LinearAxis\",\"id\":\"p1984\",\"attributes\":{\"ticker\":{\"type\":\"object\",\"name\":\"BasicTicker\",\"id\":\"p1985\",\"attributes\":{\"mantissas\":[1,2,5]}},\"formatter\":{\"type\":\"object\",\"name\":\"BasicTickFormatter\",\"id\":\"p1986\"},\"major_label_policy\":{\"type\":\"object\",\"name\":\"AllLabels\",\"id\":\"p1987\"}}}],\"center\":[{\"type\":\"object\",\"name\":\"Grid\",\"id\":\"p1988\",\"attributes\":{\"axis\":{\"id\":\"p1984\"}}},{\"type\":\"object\",\"name\":\"Grid\",\"id\":\"p1993\",\"attributes\":{\"dimension\":1,\"axis\":{\"id\":\"p1989\"},\"grid_line_color\":null}},{\"type\":\"object\",\"name\":\"Legend\",\"id\":\"p2025\",\"attributes\":{\"location\":\"center_left\",\"items\":[{\"type\":\"object\",\"name\":\"LegendItem\",\"id\":\"p2026\",\"attributes\":{\"label\":{\"type\":\"value\",\"value\":\"2015 exports\"},\"renderers\":[{\"id\":\"p2022\"}]}},{\"type\":\"object\",\"name\":\"LegendItem\",\"id\":\"p2036\",\"attributes\":{\"label\":{\"type\":\"value\",\"value\":\"2016 exports\"},\"renderers\":[{\"id\":\"p2033\"}]}},{\"type\":\"object\",\"name\":\"LegendItem\",\"id\":\"p2046\",\"attributes\":{\"label\":{\"type\":\"value\",\"value\":\"2017 exports\"},\"renderers\":[{\"id\":\"p2043\"}]}}]}}]}}]}};\n  const render_items = [{\"docid\":\"b5675ffa-8738-43f5-996d-1b5ea6db80bc\",\"roots\":{\"p1970\":\"db409e8e-bc90-4f68-8765-075d26620c4a\"},\"root_ids\":[\"p1970\"]}];\n  void root.Bokeh.embed.embed_items_notebook(docs_json, render_items);\n  }\n  if (root.Bokeh !== undefined) {\n    embed_document(root);\n  } else {\n    let attempts = 0;\n    const timer = setInterval(function(root) {\n      if (root.Bokeh !== undefined) {\n        clearInterval(timer);\n        embed_document(root);\n      } else {\n        attempts++;\n        if (attempts > 100) {\n          clearInterval(timer);\n          console.log(\"Bokeh: ERROR: Unable to run BokehJS code because BokehJS library is missing\");\n        }\n      }\n    }, 10, root)\n  }\n})(window);",
      "application/vnd.bokehjs_exec.v0+json": ""
     },
     "metadata": {
      "application/vnd.bokehjs_exec.v0+json": {
       "id": "p1970"
      }
     },
     "output_type": "display_data"
    }
   ],
   "source": [
    "# Create a stacked bar chart with a single call to vbar_stack\n",
    "years = ['2015', '2016', '2017']\n",
    "\n",
    "exports = {'fruits': fruits, '2015': [2, 1, 4, 3, 2, 4], '2016': [5, 3, 4, 2, 4, 6], '2017': [3, 2, 4, 4, 5, 3]}\n",
    "\n",
    "p = figure(y_range=fruits, height=250, x_range=(0, 16), title=\"Fruit export by year\")\n",
    "p.hbar_stack(years, y='fruits', height=0.9, color=GnBu3, source=ColumnDataSource(exports),\n",
    "             legend_label=[\"%s exports\" % x for x in years])\n",
    "\n",
    "p.y_range.range_padding = 0.1\n",
    "p.ygrid.grid_line_color = None\n",
    "p.legend.location = \"center_left\"\n",
    "\n",
    "show(p)"
   ]
  },
  {
   "cell_type": "markdown",
   "id": "044a5fd8",
   "metadata": {},
   "source": [
    "## Grouped Bar Charts\n",
    "\n",
    "Sometimes we want to group bars together, instead of stacking them. Bokeh can handle up to three levels of nested (hierarchical) categories, and will automatically group output according to the outermost level. To specify nested categorical coordinates, the columns of the data source should contain tuples, for example:\n",
    "\n",
    "    x = [ (\"Apples\", \"2015\"), (\"Apples\", \"2016\"), (\"Apples\", \"2017\"), (\"Pears\", \"2015), ... ]\n",
    "    \n",
    "Values in other columns correspond to each item in `x`, exactly as in other cases. When plotting with these kinds of nested coordinates, we must tell Bokeh the contents and order the axis range, by explicitly passing a `FactorRange` to `figure`. In the example below, this is seen as\n",
    "\n",
    "    p = figure(x_range=FactorRange(*x), ....)\n",
    "    "
   ]
  },
  {
   "cell_type": "code",
   "execution_count": 22,
   "id": "12bbdd1a",
   "metadata": {},
   "outputs": [
    {
     "data": {
      "text/html": [
       "\n",
       "  <div id=\"a785ef18-af6c-458f-9dce-a4c922474d62\" data-root-id=\"p2051\" style=\"display: contents;\"></div>\n"
      ]
     },
     "metadata": {},
     "output_type": "display_data"
    },
    {
     "data": {
      "application/javascript": "(function(root) {\n  function embed_document(root) {\n  const docs_json = {\"6e7a198e-414c-4a43-a107-42594694f0c3\":{\"version\":\"3.6.1\",\"title\":\"Bokeh Application\",\"roots\":[{\"type\":\"object\",\"name\":\"Figure\",\"id\":\"p2051\",\"attributes\":{\"height\":250,\"x_range\":{\"type\":\"object\",\"name\":\"FactorRange\",\"id\":\"p2050\",\"attributes\":{\"factors\":[[\"Apples\",\"2015\"],[\"Apples\",\"2016\"],[\"Apples\",\"2017\"],[\"Pears\",\"2015\"],[\"Pears\",\"2016\"],[\"Pears\",\"2017\"],[\"Nectarines\",\"2015\"],[\"Nectarines\",\"2016\"],[\"Nectarines\",\"2017\"],[\"Plums\",\"2015\"],[\"Plums\",\"2016\"],[\"Plums\",\"2017\"],[\"Grapes\",\"2015\"],[\"Grapes\",\"2016\"],[\"Grapes\",\"2017\"],[\"Strawberries\",\"2015\"],[\"Strawberries\",\"2016\"],[\"Strawberries\",\"2017\"]],\"range_padding\":0.1}},\"y_range\":{\"type\":\"object\",\"name\":\"DataRange1d\",\"id\":\"p2053\",\"attributes\":{\"start\":0}},\"x_scale\":{\"type\":\"object\",\"name\":\"CategoricalScale\",\"id\":\"p2061\"},\"y_scale\":{\"type\":\"object\",\"name\":\"LinearScale\",\"id\":\"p2062\"},\"title\":{\"type\":\"object\",\"name\":\"Title\",\"id\":\"p2054\",\"attributes\":{\"text\":\"Fruit Counts by Year\"}},\"renderers\":[{\"type\":\"object\",\"name\":\"GlyphRenderer\",\"id\":\"p2092\",\"attributes\":{\"data_source\":{\"type\":\"object\",\"name\":\"ColumnDataSource\",\"id\":\"p2047\",\"attributes\":{\"selected\":{\"type\":\"object\",\"name\":\"Selection\",\"id\":\"p2048\",\"attributes\":{\"indices\":[],\"line_indices\":[]}},\"selection_policy\":{\"type\":\"object\",\"name\":\"UnionRenderers\",\"id\":\"p2049\"},\"data\":{\"type\":\"map\",\"entries\":[[\"x\",[[\"Apples\",\"2015\"],[\"Apples\",\"2016\"],[\"Apples\",\"2017\"],[\"Pears\",\"2015\"],[\"Pears\",\"2016\"],[\"Pears\",\"2017\"],[\"Nectarines\",\"2015\"],[\"Nectarines\",\"2016\"],[\"Nectarines\",\"2017\"],[\"Plums\",\"2015\"],[\"Plums\",\"2016\"],[\"Plums\",\"2017\"],[\"Grapes\",\"2015\"],[\"Grapes\",\"2016\"],[\"Grapes\",\"2017\"],[\"Strawberries\",\"2015\"],[\"Strawberries\",\"2016\"],[\"Strawberries\",\"2017\"]]],[\"counts\",[2,5,3,1,3,2,4,3,4,3,2,4,2,4,5,4,6,3]]]}}},\"view\":{\"type\":\"object\",\"name\":\"CDSView\",\"id\":\"p2093\",\"attributes\":{\"filter\":{\"type\":\"object\",\"name\":\"AllIndices\",\"id\":\"p2094\"}}},\"glyph\":{\"type\":\"object\",\"name\":\"VBar\",\"id\":\"p2089\",\"attributes\":{\"x\":{\"type\":\"field\",\"field\":\"x\"},\"width\":{\"type\":\"value\",\"value\":0.9},\"top\":{\"type\":\"field\",\"field\":\"counts\"},\"line_color\":{\"type\":\"value\",\"value\":\"#1f77b4\"},\"fill_color\":{\"type\":\"value\",\"value\":\"#1f77b4\"}}},\"nonselection_glyph\":{\"type\":\"object\",\"name\":\"VBar\",\"id\":\"p2090\",\"attributes\":{\"x\":{\"type\":\"field\",\"field\":\"x\"},\"width\":{\"type\":\"value\",\"value\":0.9},\"top\":{\"type\":\"field\",\"field\":\"counts\"},\"line_color\":{\"type\":\"value\",\"value\":\"#1f77b4\"},\"line_alpha\":{\"type\":\"value\",\"value\":0.1},\"fill_color\":{\"type\":\"value\",\"value\":\"#1f77b4\"},\"fill_alpha\":{\"type\":\"value\",\"value\":0.1},\"hatch_alpha\":{\"type\":\"value\",\"value\":0.1}}},\"muted_glyph\":{\"type\":\"object\",\"name\":\"VBar\",\"id\":\"p2091\",\"attributes\":{\"x\":{\"type\":\"field\",\"field\":\"x\"},\"width\":{\"type\":\"value\",\"value\":0.9},\"top\":{\"type\":\"field\",\"field\":\"counts\"},\"line_color\":{\"type\":\"value\",\"value\":\"#1f77b4\"},\"line_alpha\":{\"type\":\"value\",\"value\":0.2},\"fill_color\":{\"type\":\"value\",\"value\":\"#1f77b4\"},\"fill_alpha\":{\"type\":\"value\",\"value\":0.2},\"hatch_alpha\":{\"type\":\"value\",\"value\":0.2}}}}}],\"toolbar\":{\"type\":\"object\",\"name\":\"Toolbar\",\"id\":\"p2060\",\"attributes\":{\"tools\":[{\"type\":\"object\",\"name\":\"PanTool\",\"id\":\"p2073\"},{\"type\":\"object\",\"name\":\"WheelZoomTool\",\"id\":\"p2074\",\"attributes\":{\"renderers\":\"auto\"}},{\"type\":\"object\",\"name\":\"BoxZoomTool\",\"id\":\"p2075\",\"attributes\":{\"overlay\":{\"type\":\"object\",\"name\":\"BoxAnnotation\",\"id\":\"p2076\",\"attributes\":{\"syncable\":false,\"line_color\":\"black\",\"line_alpha\":1.0,\"line_width\":2,\"line_dash\":[4,4],\"fill_color\":\"lightgrey\",\"fill_alpha\":0.5,\"level\":\"overlay\",\"visible\":false,\"left\":{\"type\":\"number\",\"value\":\"nan\"},\"right\":{\"type\":\"number\",\"value\":\"nan\"},\"top\":{\"type\":\"number\",\"value\":\"nan\"},\"bottom\":{\"type\":\"number\",\"value\":\"nan\"},\"left_units\":\"canvas\",\"right_units\":\"canvas\",\"top_units\":\"canvas\",\"bottom_units\":\"canvas\",\"handles\":{\"type\":\"object\",\"name\":\"BoxInteractionHandles\",\"id\":\"p2082\",\"attributes\":{\"all\":{\"type\":\"object\",\"name\":\"AreaVisuals\",\"id\":\"p2081\",\"attributes\":{\"fill_color\":\"white\",\"hover_fill_color\":\"lightgray\"}}}}}}}},{\"type\":\"object\",\"name\":\"SaveTool\",\"id\":\"p2083\"},{\"type\":\"object\",\"name\":\"ResetTool\",\"id\":\"p2084\"},{\"type\":\"object\",\"name\":\"HelpTool\",\"id\":\"p2085\"}]}},\"left\":[{\"type\":\"object\",\"name\":\"LinearAxis\",\"id\":\"p2068\",\"attributes\":{\"ticker\":{\"type\":\"object\",\"name\":\"BasicTicker\",\"id\":\"p2069\",\"attributes\":{\"mantissas\":[1,2,5]}},\"formatter\":{\"type\":\"object\",\"name\":\"BasicTickFormatter\",\"id\":\"p2070\"},\"major_label_policy\":{\"type\":\"object\",\"name\":\"AllLabels\",\"id\":\"p2071\"}}}],\"below\":[{\"type\":\"object\",\"name\":\"CategoricalAxis\",\"id\":\"p2063\",\"attributes\":{\"ticker\":{\"type\":\"object\",\"name\":\"CategoricalTicker\",\"id\":\"p2064\"},\"formatter\":{\"type\":\"object\",\"name\":\"CategoricalTickFormatter\",\"id\":\"p2065\"},\"major_label_orientation\":1,\"major_label_policy\":{\"type\":\"object\",\"name\":\"AllLabels\",\"id\":\"p2066\"}}}],\"center\":[{\"type\":\"object\",\"name\":\"Grid\",\"id\":\"p2067\",\"attributes\":{\"axis\":{\"id\":\"p2063\"},\"grid_line_color\":null}},{\"type\":\"object\",\"name\":\"Grid\",\"id\":\"p2072\",\"attributes\":{\"dimension\":1,\"axis\":{\"id\":\"p2068\"}}}]}}]}};\n  const render_items = [{\"docid\":\"6e7a198e-414c-4a43-a107-42594694f0c3\",\"roots\":{\"p2051\":\"a785ef18-af6c-458f-9dce-a4c922474d62\"},\"root_ids\":[\"p2051\"]}];\n  void root.Bokeh.embed.embed_items_notebook(docs_json, render_items);\n  }\n  if (root.Bokeh !== undefined) {\n    embed_document(root);\n  } else {\n    let attempts = 0;\n    const timer = setInterval(function(root) {\n      if (root.Bokeh !== undefined) {\n        clearInterval(timer);\n        embed_document(root);\n      } else {\n        attempts++;\n        if (attempts > 100) {\n          clearInterval(timer);\n          console.log(\"Bokeh: ERROR: Unable to run BokehJS code because BokehJS library is missing\");\n        }\n      }\n    }, 10, root)\n  }\n})(window);",
      "application/vnd.bokehjs_exec.v0+json": ""
     },
     "metadata": {
      "application/vnd.bokehjs_exec.v0+json": {
       "id": "p2051"
      }
     },
     "output_type": "display_data"
    }
   ],
   "source": [
    "from bokeh.models import FactorRange\n",
    "\n",
    "fruits = ['Apples', 'Pears', 'Nectarines', 'Plums', 'Grapes', 'Strawberries']\n",
    "years = ['2015', '2016', '2017']\n",
    "\n",
    "data = {'fruits' : fruits,\n",
    "        '2015'   : [2, 1, 4, 3, 2, 4],\n",
    "        '2016'   : [5, 3, 3, 2, 4, 6],\n",
    "        '2017'   : [3, 2, 4, 4, 5, 3]}\n",
    "\n",
    "# this creates [ (\"Apples\", \"2015\"), (\"Apples\", \"2016\"), (\"Apples\", \"2017\"), (\"Pears\", \"2015), ... ]\n",
    "x = [ (fruit, year) for fruit in fruits for year in years ]\n",
    "counts = sum(zip(data['2015'], data['2016'], data['2017']), ()) # like an hstack\n",
    "\n",
    "source = ColumnDataSource(data=dict(x=x, counts=counts))\n",
    "\n",
    "p = figure(x_range=FactorRange(*x), height=250, title=\"Fruit Counts by Year\")\n",
    "\n",
    "p.vbar(x='x', top='counts', width=0.9, source=source)\n",
    "\n",
    "p.y_range.start = 0\n",
    "p.x_range.range_padding = 0.1\n",
    "p.xaxis.major_label_orientation = 1\n",
    "p.xgrid.grid_line_color = None\n",
    "\n",
    "show(p)"
   ]
  },
  {
   "cell_type": "code",
   "execution_count": 24,
   "id": "cab7ba4c",
   "metadata": {},
   "outputs": [
    {
     "data": {
      "text/html": [
       "\n",
       "  <div id=\"f3571359-da94-4742-bef2-fa1a29b6a819\" data-root-id=\"p2138\" style=\"display: contents;\"></div>\n"
      ]
     },
     "metadata": {},
     "output_type": "display_data"
    },
    {
     "data": {
      "application/javascript": "(function(root) {\n  function embed_document(root) {\n  const docs_json = {\"94ac84b6-81f1-4c53-a818-03bbe441f61c\":{\"version\":\"3.6.1\",\"title\":\"Bokeh Application\",\"roots\":[{\"type\":\"object\",\"name\":\"Figure\",\"id\":\"p2138\",\"attributes\":{\"height\":250,\"x_range\":{\"type\":\"object\",\"name\":\"FactorRange\",\"id\":\"p2137\",\"attributes\":{\"factors\":[[\"Apples\",\"2015\"],[\"Apples\",\"2016\"],[\"Apples\",\"2017\"],[\"Pears\",\"2015\"],[\"Pears\",\"2016\"],[\"Pears\",\"2017\"],[\"Nectarines\",\"2015\"],[\"Nectarines\",\"2016\"],[\"Nectarines\",\"2017\"],[\"Plums\",\"2015\"],[\"Plums\",\"2016\"],[\"Plums\",\"2017\"],[\"Grapes\",\"2015\"],[\"Grapes\",\"2016\"],[\"Grapes\",\"2017\"],[\"Strawberries\",\"2015\"],[\"Strawberries\",\"2016\"],[\"Strawberries\",\"2017\"]],\"range_padding\":0.1}},\"y_range\":{\"type\":\"object\",\"name\":\"DataRange1d\",\"id\":\"p2140\",\"attributes\":{\"start\":0}},\"x_scale\":{\"type\":\"object\",\"name\":\"CategoricalScale\",\"id\":\"p2148\"},\"y_scale\":{\"type\":\"object\",\"name\":\"LinearScale\",\"id\":\"p2149\"},\"title\":{\"type\":\"object\",\"name\":\"Title\",\"id\":\"p2141\",\"attributes\":{\"text\":\"Fruit Counts by Year\"}},\"renderers\":[{\"type\":\"object\",\"name\":\"GlyphRenderer\",\"id\":\"p2180\",\"attributes\":{\"data_source\":{\"type\":\"object\",\"name\":\"ColumnDataSource\",\"id\":\"p2134\",\"attributes\":{\"selected\":{\"type\":\"object\",\"name\":\"Selection\",\"id\":\"p2135\",\"attributes\":{\"indices\":[],\"line_indices\":[]}},\"selection_policy\":{\"type\":\"object\",\"name\":\"UnionRenderers\",\"id\":\"p2136\"},\"data\":{\"type\":\"map\",\"entries\":[[\"x\",[[\"Apples\",\"2015\"],[\"Apples\",\"2016\"],[\"Apples\",\"2017\"],[\"Pears\",\"2015\"],[\"Pears\",\"2016\"],[\"Pears\",\"2017\"],[\"Nectarines\",\"2015\"],[\"Nectarines\",\"2016\"],[\"Nectarines\",\"2017\"],[\"Plums\",\"2015\"],[\"Plums\",\"2016\"],[\"Plums\",\"2017\"],[\"Grapes\",\"2015\"],[\"Grapes\",\"2016\"],[\"Grapes\",\"2017\"],[\"Strawberries\",\"2015\"],[\"Strawberries\",\"2016\"],[\"Strawberries\",\"2017\"]]],[\"counts\",[2,5,3,1,3,2,4,4,4,3,2,4,2,4,5,4,6,3]]]}}},\"view\":{\"type\":\"object\",\"name\":\"CDSView\",\"id\":\"p2181\",\"attributes\":{\"filter\":{\"type\":\"object\",\"name\":\"AllIndices\",\"id\":\"p2182\"}}},\"glyph\":{\"type\":\"object\",\"name\":\"VBar\",\"id\":\"p2177\",\"attributes\":{\"x\":{\"type\":\"field\",\"field\":\"x\"},\"width\":{\"type\":\"value\",\"value\":0.9},\"top\":{\"type\":\"field\",\"field\":\"counts\"},\"line_color\":{\"type\":\"value\",\"value\":\"white\"},\"fill_color\":{\"type\":\"field\",\"field\":\"x\",\"transform\":{\"type\":\"object\",\"name\":\"CategoricalColorMapper\",\"id\":\"p2173\",\"attributes\":{\"palette\":[\"firebrick\",\"olive\",\"navy\"],\"factors\":[\"2015\",\"2016\",\"2017\"],\"start\":1,\"end\":2}}}}},\"nonselection_glyph\":{\"type\":\"object\",\"name\":\"VBar\",\"id\":\"p2178\",\"attributes\":{\"x\":{\"type\":\"field\",\"field\":\"x\"},\"width\":{\"type\":\"value\",\"value\":0.9},\"top\":{\"type\":\"field\",\"field\":\"counts\"},\"line_color\":{\"type\":\"value\",\"value\":\"white\"},\"line_alpha\":{\"type\":\"value\",\"value\":0.1},\"fill_color\":{\"type\":\"field\",\"field\":\"x\",\"transform\":{\"id\":\"p2173\"}},\"fill_alpha\":{\"type\":\"value\",\"value\":0.1},\"hatch_alpha\":{\"type\":\"value\",\"value\":0.1}}},\"muted_glyph\":{\"type\":\"object\",\"name\":\"VBar\",\"id\":\"p2179\",\"attributes\":{\"x\":{\"type\":\"field\",\"field\":\"x\"},\"width\":{\"type\":\"value\",\"value\":0.9},\"top\":{\"type\":\"field\",\"field\":\"counts\"},\"line_color\":{\"type\":\"value\",\"value\":\"white\"},\"line_alpha\":{\"type\":\"value\",\"value\":0.2},\"fill_color\":{\"type\":\"field\",\"field\":\"x\",\"transform\":{\"id\":\"p2173\"}},\"fill_alpha\":{\"type\":\"value\",\"value\":0.2},\"hatch_alpha\":{\"type\":\"value\",\"value\":0.2}}}}}],\"toolbar\":{\"type\":\"object\",\"name\":\"Toolbar\",\"id\":\"p2147\",\"attributes\":{\"tools\":[{\"type\":\"object\",\"name\":\"PanTool\",\"id\":\"p2160\"},{\"type\":\"object\",\"name\":\"WheelZoomTool\",\"id\":\"p2161\",\"attributes\":{\"renderers\":\"auto\"}},{\"type\":\"object\",\"name\":\"BoxZoomTool\",\"id\":\"p2162\",\"attributes\":{\"overlay\":{\"type\":\"object\",\"name\":\"BoxAnnotation\",\"id\":\"p2163\",\"attributes\":{\"syncable\":false,\"line_color\":\"black\",\"line_alpha\":1.0,\"line_width\":2,\"line_dash\":[4,4],\"fill_color\":\"lightgrey\",\"fill_alpha\":0.5,\"level\":\"overlay\",\"visible\":false,\"left\":{\"type\":\"number\",\"value\":\"nan\"},\"right\":{\"type\":\"number\",\"value\":\"nan\"},\"top\":{\"type\":\"number\",\"value\":\"nan\"},\"bottom\":{\"type\":\"number\",\"value\":\"nan\"},\"left_units\":\"canvas\",\"right_units\":\"canvas\",\"top_units\":\"canvas\",\"bottom_units\":\"canvas\",\"handles\":{\"type\":\"object\",\"name\":\"BoxInteractionHandles\",\"id\":\"p2169\",\"attributes\":{\"all\":{\"type\":\"object\",\"name\":\"AreaVisuals\",\"id\":\"p2168\",\"attributes\":{\"fill_color\":\"white\",\"hover_fill_color\":\"lightgray\"}}}}}}}},{\"type\":\"object\",\"name\":\"SaveTool\",\"id\":\"p2170\"},{\"type\":\"object\",\"name\":\"ResetTool\",\"id\":\"p2171\"},{\"type\":\"object\",\"name\":\"HelpTool\",\"id\":\"p2172\"}]}},\"left\":[{\"type\":\"object\",\"name\":\"LinearAxis\",\"id\":\"p2155\",\"attributes\":{\"ticker\":{\"type\":\"object\",\"name\":\"BasicTicker\",\"id\":\"p2156\",\"attributes\":{\"mantissas\":[1,2,5]}},\"formatter\":{\"type\":\"object\",\"name\":\"BasicTickFormatter\",\"id\":\"p2157\"},\"major_label_policy\":{\"type\":\"object\",\"name\":\"AllLabels\",\"id\":\"p2158\"}}}],\"below\":[{\"type\":\"object\",\"name\":\"CategoricalAxis\",\"id\":\"p2150\",\"attributes\":{\"ticker\":{\"type\":\"object\",\"name\":\"CategoricalTicker\",\"id\":\"p2151\"},\"formatter\":{\"type\":\"object\",\"name\":\"CategoricalTickFormatter\",\"id\":\"p2152\"},\"major_label_orientation\":1,\"major_label_policy\":{\"type\":\"object\",\"name\":\"AllLabels\",\"id\":\"p2153\"}}}],\"center\":[{\"type\":\"object\",\"name\":\"Grid\",\"id\":\"p2154\",\"attributes\":{\"axis\":{\"id\":\"p2150\"},\"grid_line_color\":null}},{\"type\":\"object\",\"name\":\"Grid\",\"id\":\"p2159\",\"attributes\":{\"dimension\":1,\"axis\":{\"id\":\"p2155\"}}}]}}]}};\n  const render_items = [{\"docid\":\"94ac84b6-81f1-4c53-a818-03bbe441f61c\",\"roots\":{\"p2138\":\"f3571359-da94-4742-bef2-fa1a29b6a819\"},\"root_ids\":[\"p2138\"]}];\n  void root.Bokeh.embed.embed_items_notebook(docs_json, render_items);\n  }\n  if (root.Bokeh !== undefined) {\n    embed_document(root);\n  } else {\n    let attempts = 0;\n    const timer = setInterval(function(root) {\n      if (root.Bokeh !== undefined) {\n        clearInterval(timer);\n        embed_document(root);\n      } else {\n        attempts++;\n        if (attempts > 100) {\n          clearInterval(timer);\n          console.log(\"Bokeh: ERROR: Unable to run BokehJS code because BokehJS library is missing\");\n        }\n      }\n    }, 10, root)\n  }\n})(window);",
      "application/vnd.bokehjs_exec.v0+json": ""
     },
     "metadata": {
      "application/vnd.bokehjs_exec.v0+json": {
       "id": "p2138"
      }
     },
     "output_type": "display_data"
    }
   ],
   "source": [
    "# Exercise: Make the chart above have a different color for each year by adding colors to the ColumnDataSource\n",
    "from bokeh.transform import factor_cmap\n",
    "x = [(fruit, year) for fruit in fruits for year in years]\n",
    "counts = sum(zip(exports['2015'], exports['2016'], exports['2017']), ())\n",
    "\n",
    "source = ColumnDataSource(data=dict(x=x, counts=counts))\n",
    "\n",
    "p = figure(x_range=FactorRange(*x), height=250, title=\"Fruit Counts by Year\")\n",
    "\n",
    "p.vbar(x='x', top='counts', width=0.9, source=source, line_color=\"white\",\n",
    "       fill_color=factor_cmap('x', palette=['firebrick', 'olive', 'navy'], factors=years, start=1, end=2))\n",
    "\n",
    "p.y_range.start = 0\n",
    "p.x_range.range_padding = 0.1\n",
    "p.xaxis.major_label_orientation = 1\n",
    "p.xgrid.grid_line_color = None\n",
    "\n",
    "show(p)"
   ]
  },
  {
   "cell_type": "markdown",
   "id": "0681bb80",
   "metadata": {},
   "source": [
    "Another way we can set the color of the bars is to use a transform. We first saw some transforms in previous chapter [Data Sources and Transformations](04 - Data Sources and Transformations.ipynb). Here we use a new one `factor_cmap` that accepts a the name of a column to use for colormapping, as well as the palette and factors that define the color mapping. \n",
    "\n",
    "Additionally we can configure it to map just the sub-factors if desired. For instance in this case we don't want shade each `(fruit, year)` pair differently. Instead, we want to only shade based on the `year`. So we pass `start=1` and `end=2` to specify the slice range of each factor to use when colormapping. Then we pass the result as the `fill_color` value:\n",
    "\n",
    "```\n",
    "    fill_color=factor_cmap('x', palette=['firebrick', 'olive', 'navy'], factors=years, start=1, end=2))\n",
    "```\n",
    "to have the colors be applied automatically based on the underlying data. "
   ]
  },
  {
   "cell_type": "code",
   "execution_count": 25,
   "id": "27bd8b1e",
   "metadata": {},
   "outputs": [
    {
     "data": {
      "text/html": [
       "\n",
       "  <div id=\"e5de0bd0-2a46-4186-af09-4137c76a26f7\" data-root-id=\"p2184\" style=\"display: contents;\"></div>\n"
      ]
     },
     "metadata": {},
     "output_type": "display_data"
    },
    {
     "data": {
      "application/javascript": "(function(root) {\n  function embed_document(root) {\n  const docs_json = {\"900f3b9d-d27b-498c-bed3-8f8b80a20db5\":{\"version\":\"3.6.1\",\"title\":\"Bokeh Application\",\"roots\":[{\"type\":\"object\",\"name\":\"Figure\",\"id\":\"p2184\",\"attributes\":{\"height\":250,\"x_range\":{\"type\":\"object\",\"name\":\"FactorRange\",\"id\":\"p2183\",\"attributes\":{\"factors\":[[\"Apples\",\"2015\"],[\"Apples\",\"2016\"],[\"Apples\",\"2017\"],[\"Pears\",\"2015\"],[\"Pears\",\"2016\"],[\"Pears\",\"2017\"],[\"Nectarines\",\"2015\"],[\"Nectarines\",\"2016\"],[\"Nectarines\",\"2017\"],[\"Plums\",\"2015\"],[\"Plums\",\"2016\"],[\"Plums\",\"2017\"],[\"Grapes\",\"2015\"],[\"Grapes\",\"2016\"],[\"Grapes\",\"2017\"],[\"Strawberries\",\"2015\"],[\"Strawberries\",\"2016\"],[\"Strawberries\",\"2017\"]],\"range_padding\":0.1}},\"y_range\":{\"type\":\"object\",\"name\":\"DataRange1d\",\"id\":\"p2186\",\"attributes\":{\"start\":0}},\"x_scale\":{\"type\":\"object\",\"name\":\"CategoricalScale\",\"id\":\"p2194\"},\"y_scale\":{\"type\":\"object\",\"name\":\"LinearScale\",\"id\":\"p2195\"},\"title\":{\"type\":\"object\",\"name\":\"Title\",\"id\":\"p2187\",\"attributes\":{\"text\":\"Fruit Counts by Year\"}},\"renderers\":[{\"type\":\"object\",\"name\":\"GlyphRenderer\",\"id\":\"p2226\",\"attributes\":{\"data_source\":{\"type\":\"object\",\"name\":\"ColumnDataSource\",\"id\":\"p2134\",\"attributes\":{\"selected\":{\"type\":\"object\",\"name\":\"Selection\",\"id\":\"p2135\",\"attributes\":{\"indices\":[],\"line_indices\":[]}},\"selection_policy\":{\"type\":\"object\",\"name\":\"UnionRenderers\",\"id\":\"p2136\"},\"data\":{\"type\":\"map\",\"entries\":[[\"x\",[[\"Apples\",\"2015\"],[\"Apples\",\"2016\"],[\"Apples\",\"2017\"],[\"Pears\",\"2015\"],[\"Pears\",\"2016\"],[\"Pears\",\"2017\"],[\"Nectarines\",\"2015\"],[\"Nectarines\",\"2016\"],[\"Nectarines\",\"2017\"],[\"Plums\",\"2015\"],[\"Plums\",\"2016\"],[\"Plums\",\"2017\"],[\"Grapes\",\"2015\"],[\"Grapes\",\"2016\"],[\"Grapes\",\"2017\"],[\"Strawberries\",\"2015\"],[\"Strawberries\",\"2016\"],[\"Strawberries\",\"2017\"]]],[\"counts\",[2,5,3,1,3,2,4,4,4,3,2,4,2,4,5,4,6,3]]]}}},\"view\":{\"type\":\"object\",\"name\":\"CDSView\",\"id\":\"p2227\",\"attributes\":{\"filter\":{\"type\":\"object\",\"name\":\"AllIndices\",\"id\":\"p2228\"}}},\"glyph\":{\"type\":\"object\",\"name\":\"VBar\",\"id\":\"p2223\",\"attributes\":{\"x\":{\"type\":\"field\",\"field\":\"x\"},\"width\":{\"type\":\"value\",\"value\":0.9},\"top\":{\"type\":\"field\",\"field\":\"counts\"},\"line_color\":{\"type\":\"value\",\"value\":\"white\"},\"fill_color\":{\"type\":\"field\",\"field\":\"x\",\"transform\":{\"type\":\"object\",\"name\":\"CategoricalColorMapper\",\"id\":\"p2219\",\"attributes\":{\"palette\":[\"#4477AA\",\"#EE6677\",\"#228833\"],\"factors\":[\"2015\",\"2016\",\"2017\"],\"start\":1,\"end\":2}}}}},\"nonselection_glyph\":{\"type\":\"object\",\"name\":\"VBar\",\"id\":\"p2224\",\"attributes\":{\"x\":{\"type\":\"field\",\"field\":\"x\"},\"width\":{\"type\":\"value\",\"value\":0.9},\"top\":{\"type\":\"field\",\"field\":\"counts\"},\"line_color\":{\"type\":\"value\",\"value\":\"white\"},\"line_alpha\":{\"type\":\"value\",\"value\":0.1},\"fill_color\":{\"type\":\"field\",\"field\":\"x\",\"transform\":{\"id\":\"p2219\"}},\"fill_alpha\":{\"type\":\"value\",\"value\":0.1},\"hatch_alpha\":{\"type\":\"value\",\"value\":0.1}}},\"muted_glyph\":{\"type\":\"object\",\"name\":\"VBar\",\"id\":\"p2225\",\"attributes\":{\"x\":{\"type\":\"field\",\"field\":\"x\"},\"width\":{\"type\":\"value\",\"value\":0.9},\"top\":{\"type\":\"field\",\"field\":\"counts\"},\"line_color\":{\"type\":\"value\",\"value\":\"white\"},\"line_alpha\":{\"type\":\"value\",\"value\":0.2},\"fill_color\":{\"type\":\"field\",\"field\":\"x\",\"transform\":{\"id\":\"p2219\"}},\"fill_alpha\":{\"type\":\"value\",\"value\":0.2},\"hatch_alpha\":{\"type\":\"value\",\"value\":0.2}}}}}],\"toolbar\":{\"type\":\"object\",\"name\":\"Toolbar\",\"id\":\"p2193\",\"attributes\":{\"tools\":[{\"type\":\"object\",\"name\":\"PanTool\",\"id\":\"p2206\"},{\"type\":\"object\",\"name\":\"WheelZoomTool\",\"id\":\"p2207\",\"attributes\":{\"renderers\":\"auto\"}},{\"type\":\"object\",\"name\":\"BoxZoomTool\",\"id\":\"p2208\",\"attributes\":{\"overlay\":{\"type\":\"object\",\"name\":\"BoxAnnotation\",\"id\":\"p2209\",\"attributes\":{\"syncable\":false,\"line_color\":\"black\",\"line_alpha\":1.0,\"line_width\":2,\"line_dash\":[4,4],\"fill_color\":\"lightgrey\",\"fill_alpha\":0.5,\"level\":\"overlay\",\"visible\":false,\"left\":{\"type\":\"number\",\"value\":\"nan\"},\"right\":{\"type\":\"number\",\"value\":\"nan\"},\"top\":{\"type\":\"number\",\"value\":\"nan\"},\"bottom\":{\"type\":\"number\",\"value\":\"nan\"},\"left_units\":\"canvas\",\"right_units\":\"canvas\",\"top_units\":\"canvas\",\"bottom_units\":\"canvas\",\"handles\":{\"type\":\"object\",\"name\":\"BoxInteractionHandles\",\"id\":\"p2215\",\"attributes\":{\"all\":{\"type\":\"object\",\"name\":\"AreaVisuals\",\"id\":\"p2214\",\"attributes\":{\"fill_color\":\"white\",\"hover_fill_color\":\"lightgray\"}}}}}}}},{\"type\":\"object\",\"name\":\"SaveTool\",\"id\":\"p2216\"},{\"type\":\"object\",\"name\":\"ResetTool\",\"id\":\"p2217\"},{\"type\":\"object\",\"name\":\"HelpTool\",\"id\":\"p2218\"}]}},\"left\":[{\"type\":\"object\",\"name\":\"LinearAxis\",\"id\":\"p2201\",\"attributes\":{\"ticker\":{\"type\":\"object\",\"name\":\"BasicTicker\",\"id\":\"p2202\",\"attributes\":{\"mantissas\":[1,2,5]}},\"formatter\":{\"type\":\"object\",\"name\":\"BasicTickFormatter\",\"id\":\"p2203\"},\"major_label_policy\":{\"type\":\"object\",\"name\":\"AllLabels\",\"id\":\"p2204\"}}}],\"below\":[{\"type\":\"object\",\"name\":\"CategoricalAxis\",\"id\":\"p2196\",\"attributes\":{\"ticker\":{\"type\":\"object\",\"name\":\"CategoricalTicker\",\"id\":\"p2197\"},\"formatter\":{\"type\":\"object\",\"name\":\"CategoricalTickFormatter\",\"id\":\"p2198\"},\"major_label_orientation\":1,\"major_label_policy\":{\"type\":\"object\",\"name\":\"AllLabels\",\"id\":\"p2199\"}}}],\"center\":[{\"type\":\"object\",\"name\":\"Grid\",\"id\":\"p2200\",\"attributes\":{\"axis\":{\"id\":\"p2196\"},\"grid_line_color\":null}},{\"type\":\"object\",\"name\":\"Grid\",\"id\":\"p2205\",\"attributes\":{\"dimension\":1,\"axis\":{\"id\":\"p2201\"}}}]}}]}};\n  const render_items = [{\"docid\":\"900f3b9d-d27b-498c-bed3-8f8b80a20db5\",\"roots\":{\"p2184\":\"e5de0bd0-2a46-4186-af09-4137c76a26f7\"},\"root_ids\":[\"p2184\"]}];\n  void root.Bokeh.embed.embed_items_notebook(docs_json, render_items);\n  }\n  if (root.Bokeh !== undefined) {\n    embed_document(root);\n  } else {\n    let attempts = 0;\n    const timer = setInterval(function(root) {\n      if (root.Bokeh !== undefined) {\n        clearInterval(timer);\n        embed_document(root);\n      } else {\n        attempts++;\n        if (attempts > 100) {\n          clearInterval(timer);\n          console.log(\"Bokeh: ERROR: Unable to run BokehJS code because BokehJS library is missing\");\n        }\n      }\n    }, 10, root)\n  }\n})(window);",
      "application/vnd.bokehjs_exec.v0+json": ""
     },
     "metadata": {
      "application/vnd.bokehjs_exec.v0+json": {
       "id": "p2184"
      }
     },
     "output_type": "display_data"
    }
   ],
   "source": [
    "from bokeh.transform import factor_cmap\n",
    "\n",
    "p = figure(x_range=FactorRange(*x), height=250, title=\"Fruit Counts by Year\")\n",
    "\n",
    "p.vbar(x='x', top='counts', width=0.9, source=source, line_color=\"white\",\n",
    "\n",
    "       # use the palette to colormap based on the the x[1:2] values\n",
    "       fill_color=factor_cmap('x', palette=\"Bright3\", factors=years, start=1, end=2))\n",
    "\n",
    "p.y_range.start = 0\n",
    "p.x_range.range_padding = 0.1\n",
    "p.xaxis.major_label_orientation = 1\n",
    "p.xgrid.grid_line_color = None\n",
    "\n",
    "show(p)"
   ]
  },
  {
   "cell_type": "markdown",
   "id": "ba25bf7a",
   "metadata": {},
   "source": [
    "It is also possible to achieve grouped bar plots using another technique called \"visual dodge\". That would be useful e.g. if you only wanted to have the axis labeled by fruit type, and not include the years on the axis. This tutorial does not cover that technique but you can find information in the [User's Guide](https://bokeh.pydata.org/en/dev/docs/user_guide/categorical.html#visual-dodge). "
   ]
  },
  {
   "cell_type": "markdown",
   "id": "713cf04d",
   "metadata": {},
   "source": [
    "## Mixing Categorical Levels\n",
    "\n",
    "If you have created a range with nested categories as above, it is possible to plot glyphs using only the \"outer\" categories, if desired. The plot below shows monthly values grouped by quarter as bars. The data for these are in the familiar format:\n",
    "\n",
    "    factors = [(\"Q1\", \"jan\"), (\"Q1\", \"feb\"), (\"Q1\", \"mar\"), ....]\n",
    "\n",
    "The plot also overlays a line representing average quarterly values, and this is accomplished by using only the \"quarter\" part of each nexted category:\n",
    "\n",
    "    p.line(x=[\"Q1\", \"Q2\", \"Q3\", \"Q4\"], y=....)"
   ]
  },
  {
   "cell_type": "code",
   "execution_count": 26,
   "id": "180fec99",
   "metadata": {},
   "outputs": [
    {
     "name": "stderr",
     "output_type": "stream",
     "text": [
      "BokehDeprecationWarning: 'circle() method with size value' was deprecated in Bokeh 3.4.0 and will be removed, use 'scatter(size=...) instead' instead.\n"
     ]
    },
    {
     "data": {
      "text/html": [
       "\n",
       "  <div id=\"cde9f10d-6e26-4f89-b8ae-13cc81be85cf\" data-root-id=\"p2230\" style=\"display: contents;\"></div>\n"
      ]
     },
     "metadata": {},
     "output_type": "display_data"
    },
    {
     "data": {
      "application/javascript": "(function(root) {\n  function embed_document(root) {\n  const docs_json = {\"3389e113-25de-4838-895c-0eed6bc49ca0\":{\"version\":\"3.6.1\",\"title\":\"Bokeh Application\",\"roots\":[{\"type\":\"object\",\"name\":\"Figure\",\"id\":\"p2230\",\"attributes\":{\"height\":250,\"x_range\":{\"type\":\"object\",\"name\":\"FactorRange\",\"id\":\"p2229\",\"attributes\":{\"factors\":[[\"Q1\",\"jan\"],[\"Q1\",\"feb\"],[\"Q1\",\"mar\"],[\"Q2\",\"apr\"],[\"Q2\",\"may\"],[\"Q2\",\"jun\"],[\"Q3\",\"jul\"],[\"Q3\",\"aug\"],[\"Q3\",\"sep\"],[\"Q4\",\"oct\"],[\"Q4\",\"nov\"],[\"Q4\",\"dec\"]],\"range_padding\":0.1}},\"y_range\":{\"type\":\"object\",\"name\":\"DataRange1d\",\"id\":\"p2232\",\"attributes\":{\"start\":0}},\"x_scale\":{\"type\":\"object\",\"name\":\"CategoricalScale\",\"id\":\"p2239\"},\"y_scale\":{\"type\":\"object\",\"name\":\"LinearScale\",\"id\":\"p2240\"},\"title\":{\"type\":\"object\",\"name\":\"Title\",\"id\":\"p2237\"},\"renderers\":[{\"type\":\"object\",\"name\":\"GlyphRenderer\",\"id\":\"p2270\",\"attributes\":{\"data_source\":{\"type\":\"object\",\"name\":\"ColumnDataSource\",\"id\":\"p2264\",\"attributes\":{\"selected\":{\"type\":\"object\",\"name\":\"Selection\",\"id\":\"p2265\",\"attributes\":{\"indices\":[],\"line_indices\":[]}},\"selection_policy\":{\"type\":\"object\",\"name\":\"UnionRenderers\",\"id\":\"p2266\"},\"data\":{\"type\":\"map\",\"entries\":[[\"x\",[[\"Q1\",\"jan\"],[\"Q1\",\"feb\"],[\"Q1\",\"mar\"],[\"Q2\",\"apr\"],[\"Q2\",\"may\"],[\"Q2\",\"jun\"],[\"Q3\",\"jul\"],[\"Q3\",\"aug\"],[\"Q3\",\"sep\"],[\"Q4\",\"oct\"],[\"Q4\",\"nov\"],[\"Q4\",\"dec\"]]],[\"top\",[10,12,16,9,10,8,12,13,14,14,12,16]]]}}},\"view\":{\"type\":\"object\",\"name\":\"CDSView\",\"id\":\"p2271\",\"attributes\":{\"filter\":{\"type\":\"object\",\"name\":\"AllIndices\",\"id\":\"p2272\"}}},\"glyph\":{\"type\":\"object\",\"name\":\"VBar\",\"id\":\"p2267\",\"attributes\":{\"x\":{\"type\":\"field\",\"field\":\"x\"},\"width\":{\"type\":\"value\",\"value\":0.9},\"top\":{\"type\":\"field\",\"field\":\"top\"},\"line_color\":{\"type\":\"value\",\"value\":\"#1f77b4\"},\"line_alpha\":{\"type\":\"value\",\"value\":0.5},\"fill_color\":{\"type\":\"value\",\"value\":\"#1f77b4\"},\"fill_alpha\":{\"type\":\"value\",\"value\":0.5},\"hatch_alpha\":{\"type\":\"value\",\"value\":0.5}}},\"nonselection_glyph\":{\"type\":\"object\",\"name\":\"VBar\",\"id\":\"p2268\",\"attributes\":{\"x\":{\"type\":\"field\",\"field\":\"x\"},\"width\":{\"type\":\"value\",\"value\":0.9},\"top\":{\"type\":\"field\",\"field\":\"top\"},\"line_color\":{\"type\":\"value\",\"value\":\"#1f77b4\"},\"line_alpha\":{\"type\":\"value\",\"value\":0.1},\"fill_color\":{\"type\":\"value\",\"value\":\"#1f77b4\"},\"fill_alpha\":{\"type\":\"value\",\"value\":0.1},\"hatch_alpha\":{\"type\":\"value\",\"value\":0.1}}},\"muted_glyph\":{\"type\":\"object\",\"name\":\"VBar\",\"id\":\"p2269\",\"attributes\":{\"x\":{\"type\":\"field\",\"field\":\"x\"},\"width\":{\"type\":\"value\",\"value\":0.9},\"top\":{\"type\":\"field\",\"field\":\"top\"},\"line_color\":{\"type\":\"value\",\"value\":\"#1f77b4\"},\"line_alpha\":{\"type\":\"value\",\"value\":0.2},\"fill_color\":{\"type\":\"value\",\"value\":\"#1f77b4\"},\"fill_alpha\":{\"type\":\"value\",\"value\":0.2},\"hatch_alpha\":{\"type\":\"value\",\"value\":0.2}}}}},{\"type\":\"object\",\"name\":\"GlyphRenderer\",\"id\":\"p2279\",\"attributes\":{\"data_source\":{\"type\":\"object\",\"name\":\"ColumnDataSource\",\"id\":\"p2273\",\"attributes\":{\"selected\":{\"type\":\"object\",\"name\":\"Selection\",\"id\":\"p2274\",\"attributes\":{\"indices\":[],\"line_indices\":[]}},\"selection_policy\":{\"type\":\"object\",\"name\":\"UnionRenderers\",\"id\":\"p2275\"},\"data\":{\"type\":\"map\",\"entries\":[[\"x\",[\"Q1\",\"Q2\",\"Q3\",\"Q4\"]],[\"y\",[12,9,13,14]]]}}},\"view\":{\"type\":\"object\",\"name\":\"CDSView\",\"id\":\"p2280\",\"attributes\":{\"filter\":{\"type\":\"object\",\"name\":\"AllIndices\",\"id\":\"p2281\"}}},\"glyph\":{\"type\":\"object\",\"name\":\"Line\",\"id\":\"p2276\",\"attributes\":{\"x\":{\"type\":\"field\",\"field\":\"x\"},\"y\":{\"type\":\"field\",\"field\":\"y\"},\"line_color\":\"red\",\"line_width\":3}},\"nonselection_glyph\":{\"type\":\"object\",\"name\":\"Line\",\"id\":\"p2277\",\"attributes\":{\"x\":{\"type\":\"field\",\"field\":\"x\"},\"y\":{\"type\":\"field\",\"field\":\"y\"},\"line_color\":\"red\",\"line_alpha\":0.1,\"line_width\":3}},\"muted_glyph\":{\"type\":\"object\",\"name\":\"Line\",\"id\":\"p2278\",\"attributes\":{\"x\":{\"type\":\"field\",\"field\":\"x\"},\"y\":{\"type\":\"field\",\"field\":\"y\"},\"line_color\":\"red\",\"line_alpha\":0.2,\"line_width\":3}}}},{\"type\":\"object\",\"name\":\"GlyphRenderer\",\"id\":\"p2288\",\"attributes\":{\"data_source\":{\"type\":\"object\",\"name\":\"ColumnDataSource\",\"id\":\"p2282\",\"attributes\":{\"selected\":{\"type\":\"object\",\"name\":\"Selection\",\"id\":\"p2283\",\"attributes\":{\"indices\":[],\"line_indices\":[]}},\"selection_policy\":{\"type\":\"object\",\"name\":\"UnionRenderers\",\"id\":\"p2284\"},\"data\":{\"type\":\"map\",\"entries\":[[\"x\",[\"Q1\",\"Q2\",\"Q3\",\"Q4\"]],[\"y\",[12,9,13,14]]]}}},\"view\":{\"type\":\"object\",\"name\":\"CDSView\",\"id\":\"p2289\",\"attributes\":{\"filter\":{\"type\":\"object\",\"name\":\"AllIndices\",\"id\":\"p2290\"}}},\"glyph\":{\"type\":\"object\",\"name\":\"Scatter\",\"id\":\"p2285\",\"attributes\":{\"x\":{\"type\":\"field\",\"field\":\"x\"},\"y\":{\"type\":\"field\",\"field\":\"y\"},\"size\":{\"type\":\"value\",\"value\":10},\"line_color\":{\"type\":\"value\",\"value\":\"red\"},\"fill_color\":{\"type\":\"value\",\"value\":\"white\"}}},\"nonselection_glyph\":{\"type\":\"object\",\"name\":\"Scatter\",\"id\":\"p2286\",\"attributes\":{\"x\":{\"type\":\"field\",\"field\":\"x\"},\"y\":{\"type\":\"field\",\"field\":\"y\"},\"size\":{\"type\":\"value\",\"value\":10},\"line_color\":{\"type\":\"value\",\"value\":\"red\"},\"line_alpha\":{\"type\":\"value\",\"value\":0.1},\"fill_color\":{\"type\":\"value\",\"value\":\"white\"},\"fill_alpha\":{\"type\":\"value\",\"value\":0.1},\"hatch_alpha\":{\"type\":\"value\",\"value\":0.1}}},\"muted_glyph\":{\"type\":\"object\",\"name\":\"Scatter\",\"id\":\"p2287\",\"attributes\":{\"x\":{\"type\":\"field\",\"field\":\"x\"},\"y\":{\"type\":\"field\",\"field\":\"y\"},\"size\":{\"type\":\"value\",\"value\":10},\"line_color\":{\"type\":\"value\",\"value\":\"red\"},\"line_alpha\":{\"type\":\"value\",\"value\":0.2},\"fill_color\":{\"type\":\"value\",\"value\":\"white\"},\"fill_alpha\":{\"type\":\"value\",\"value\":0.2},\"hatch_alpha\":{\"type\":\"value\",\"value\":0.2}}}}}],\"toolbar\":{\"type\":\"object\",\"name\":\"Toolbar\",\"id\":\"p2238\",\"attributes\":{\"tools\":[{\"type\":\"object\",\"name\":\"PanTool\",\"id\":\"p2251\"},{\"type\":\"object\",\"name\":\"WheelZoomTool\",\"id\":\"p2252\",\"attributes\":{\"renderers\":\"auto\"}},{\"type\":\"object\",\"name\":\"BoxZoomTool\",\"id\":\"p2253\",\"attributes\":{\"overlay\":{\"type\":\"object\",\"name\":\"BoxAnnotation\",\"id\":\"p2254\",\"attributes\":{\"syncable\":false,\"line_color\":\"black\",\"line_alpha\":1.0,\"line_width\":2,\"line_dash\":[4,4],\"fill_color\":\"lightgrey\",\"fill_alpha\":0.5,\"level\":\"overlay\",\"visible\":false,\"left\":{\"type\":\"number\",\"value\":\"nan\"},\"right\":{\"type\":\"number\",\"value\":\"nan\"},\"top\":{\"type\":\"number\",\"value\":\"nan\"},\"bottom\":{\"type\":\"number\",\"value\":\"nan\"},\"left_units\":\"canvas\",\"right_units\":\"canvas\",\"top_units\":\"canvas\",\"bottom_units\":\"canvas\",\"handles\":{\"type\":\"object\",\"name\":\"BoxInteractionHandles\",\"id\":\"p2260\",\"attributes\":{\"all\":{\"type\":\"object\",\"name\":\"AreaVisuals\",\"id\":\"p2259\",\"attributes\":{\"fill_color\":\"white\",\"hover_fill_color\":\"lightgray\"}}}}}}}},{\"type\":\"object\",\"name\":\"SaveTool\",\"id\":\"p2261\"},{\"type\":\"object\",\"name\":\"ResetTool\",\"id\":\"p2262\"},{\"type\":\"object\",\"name\":\"HelpTool\",\"id\":\"p2263\"}]}},\"left\":[{\"type\":\"object\",\"name\":\"LinearAxis\",\"id\":\"p2246\",\"attributes\":{\"ticker\":{\"type\":\"object\",\"name\":\"BasicTicker\",\"id\":\"p2247\",\"attributes\":{\"mantissas\":[1,2,5]}},\"formatter\":{\"type\":\"object\",\"name\":\"BasicTickFormatter\",\"id\":\"p2248\"},\"major_label_policy\":{\"type\":\"object\",\"name\":\"AllLabels\",\"id\":\"p2249\"}}}],\"below\":[{\"type\":\"object\",\"name\":\"CategoricalAxis\",\"id\":\"p2241\",\"attributes\":{\"ticker\":{\"type\":\"object\",\"name\":\"CategoricalTicker\",\"id\":\"p2242\"},\"formatter\":{\"type\":\"object\",\"name\":\"CategoricalTickFormatter\",\"id\":\"p2243\"},\"major_label_policy\":{\"type\":\"object\",\"name\":\"AllLabels\",\"id\":\"p2244\"}}}],\"center\":[{\"type\":\"object\",\"name\":\"Grid\",\"id\":\"p2245\",\"attributes\":{\"axis\":{\"id\":\"p2241\"},\"grid_line_color\":null}},{\"type\":\"object\",\"name\":\"Grid\",\"id\":\"p2250\",\"attributes\":{\"dimension\":1,\"axis\":{\"id\":\"p2246\"}}}]}}]}};\n  const render_items = [{\"docid\":\"3389e113-25de-4838-895c-0eed6bc49ca0\",\"roots\":{\"p2230\":\"cde9f10d-6e26-4f89-b8ae-13cc81be85cf\"},\"root_ids\":[\"p2230\"]}];\n  void root.Bokeh.embed.embed_items_notebook(docs_json, render_items);\n  }\n  if (root.Bokeh !== undefined) {\n    embed_document(root);\n  } else {\n    let attempts = 0;\n    const timer = setInterval(function(root) {\n      if (root.Bokeh !== undefined) {\n        clearInterval(timer);\n        embed_document(root);\n      } else {\n        attempts++;\n        if (attempts > 100) {\n          clearInterval(timer);\n          console.log(\"Bokeh: ERROR: Unable to run BokehJS code because BokehJS library is missing\");\n        }\n      }\n    }, 10, root)\n  }\n})(window);",
      "application/vnd.bokehjs_exec.v0+json": ""
     },
     "metadata": {
      "application/vnd.bokehjs_exec.v0+json": {
       "id": "p2230"
      }
     },
     "output_type": "display_data"
    }
   ],
   "source": [
    "factors = [(\"Q1\", \"jan\"), (\"Q1\", \"feb\"), (\"Q1\", \"mar\"),\n",
    "           (\"Q2\", \"apr\"), (\"Q2\", \"may\"), (\"Q2\", \"jun\"),\n",
    "           (\"Q3\", \"jul\"), (\"Q3\", \"aug\"), (\"Q3\", \"sep\"),\n",
    "           (\"Q4\", \"oct\"), (\"Q4\", \"nov\"), (\"Q4\", \"dec\")]\n",
    "\n",
    "p = figure(x_range=FactorRange(*factors), height=250)\n",
    "\n",
    "x = [ 10, 12, 16, 9, 10, 8, 12, 13, 14, 14, 12, 16 ]\n",
    "p.vbar(x=factors, top=x, width=0.9, alpha=0.5)\n",
    "\n",
    "qs, aves = [\"Q1\", \"Q2\", \"Q3\", \"Q4\"], [12, 9, 13, 14]\n",
    "p.line(x=qs, y=aves, color=\"red\", line_width=3)\n",
    "p.circle(x=qs, y=aves, line_color=\"red\", fill_color=\"white\", size=10)\n",
    "\n",
    "p.y_range.start = 0\n",
    "p.x_range.range_padding = 0.1\n",
    "p.xgrid.grid_line_color = None\n",
    "\n",
    "show(p)"
   ]
  },
  {
   "cell_type": "markdown",
   "id": "39fed8e3",
   "metadata": {},
   "source": [
    "## Using Pandas `GroupBy`\n",
    "\n",
    "We may want to make charts based on the results of \"group by\" operations. Bokeh can utilize Pandas `GroupBy` objects directly to make this simpler. Let's take a look at how Bokeh deals with `GroupBy` objects by examining the \"cars\" data set."
   ]
  },
  {
   "cell_type": "code",
   "execution_count": 27,
   "id": "756d57f9",
   "metadata": {},
   "outputs": [
    {
     "data": {
      "text/html": [
       "<div>\n",
       "<style scoped>\n",
       "    .dataframe tbody tr th:only-of-type {\n",
       "        vertical-align: middle;\n",
       "    }\n",
       "\n",
       "    .dataframe tbody tr th {\n",
       "        vertical-align: top;\n",
       "    }\n",
       "\n",
       "    .dataframe thead th {\n",
       "        text-align: right;\n",
       "    }\n",
       "</style>\n",
       "<table border=\"1\" class=\"dataframe\">\n",
       "  <thead>\n",
       "    <tr style=\"text-align: right;\">\n",
       "      <th></th>\n",
       "      <th>mpg</th>\n",
       "      <th>cyl</th>\n",
       "      <th>displ</th>\n",
       "      <th>hp</th>\n",
       "      <th>weight</th>\n",
       "      <th>accel</th>\n",
       "      <th>yr</th>\n",
       "      <th>origin</th>\n",
       "      <th>name</th>\n",
       "      <th>mfr</th>\n",
       "    </tr>\n",
       "  </thead>\n",
       "  <tbody>\n",
       "    <tr>\n",
       "      <th>0</th>\n",
       "      <td>18.0</td>\n",
       "      <td>8</td>\n",
       "      <td>307.0</td>\n",
       "      <td>130</td>\n",
       "      <td>3504</td>\n",
       "      <td>12.0</td>\n",
       "      <td>70</td>\n",
       "      <td>North America</td>\n",
       "      <td>chevrolet chevelle malibu</td>\n",
       "      <td>chevrolet</td>\n",
       "    </tr>\n",
       "    <tr>\n",
       "      <th>1</th>\n",
       "      <td>15.0</td>\n",
       "      <td>8</td>\n",
       "      <td>350.0</td>\n",
       "      <td>165</td>\n",
       "      <td>3693</td>\n",
       "      <td>11.5</td>\n",
       "      <td>70</td>\n",
       "      <td>North America</td>\n",
       "      <td>buick skylark 320</td>\n",
       "      <td>buick</td>\n",
       "    </tr>\n",
       "    <tr>\n",
       "      <th>2</th>\n",
       "      <td>18.0</td>\n",
       "      <td>8</td>\n",
       "      <td>318.0</td>\n",
       "      <td>150</td>\n",
       "      <td>3436</td>\n",
       "      <td>11.0</td>\n",
       "      <td>70</td>\n",
       "      <td>North America</td>\n",
       "      <td>plymouth satellite</td>\n",
       "      <td>plymouth</td>\n",
       "    </tr>\n",
       "    <tr>\n",
       "      <th>3</th>\n",
       "      <td>16.0</td>\n",
       "      <td>8</td>\n",
       "      <td>304.0</td>\n",
       "      <td>150</td>\n",
       "      <td>3433</td>\n",
       "      <td>12.0</td>\n",
       "      <td>70</td>\n",
       "      <td>North America</td>\n",
       "      <td>amc rebel sst</td>\n",
       "      <td>amc</td>\n",
       "    </tr>\n",
       "    <tr>\n",
       "      <th>4</th>\n",
       "      <td>17.0</td>\n",
       "      <td>8</td>\n",
       "      <td>302.0</td>\n",
       "      <td>140</td>\n",
       "      <td>3449</td>\n",
       "      <td>10.5</td>\n",
       "      <td>70</td>\n",
       "      <td>North America</td>\n",
       "      <td>ford torino</td>\n",
       "      <td>ford</td>\n",
       "    </tr>\n",
       "  </tbody>\n",
       "</table>\n",
       "</div>"
      ],
      "text/plain": [
       "    mpg cyl  displ   hp  weight  accel  yr         origin  \\\n",
       "0  18.0   8  307.0  130    3504   12.0  70  North America   \n",
       "1  15.0   8  350.0  165    3693   11.5  70  North America   \n",
       "2  18.0   8  318.0  150    3436   11.0  70  North America   \n",
       "3  16.0   8  304.0  150    3433   12.0  70  North America   \n",
       "4  17.0   8  302.0  140    3449   10.5  70  North America   \n",
       "\n",
       "                        name        mfr  \n",
       "0  chevrolet chevelle malibu  chevrolet  \n",
       "1          buick skylark 320      buick  \n",
       "2         plymouth satellite   plymouth  \n",
       "3              amc rebel sst        amc  \n",
       "4                ford torino       ford  "
      ]
     },
     "execution_count": 27,
     "metadata": {},
     "output_type": "execute_result"
    }
   ],
   "source": [
    "from bokeh.sampledata.autompg import autompg_clean as df\n",
    "\n",
    "df.cyl = df.cyl.astype(str)\n",
    "df.head()"
   ]
  },
  {
   "cell_type": "markdown",
   "id": "d64e8be1",
   "metadata": {},
   "source": [
    "Suppose we would like to display some values grouped according to `\"cyl\"`. If we create `df.groupby(('cyl'))` then call `group.describe()` we can see that Pandas automatically computes various statistics for each group. "
   ]
  },
  {
   "cell_type": "code",
   "execution_count": 28,
   "id": "0cc5bab0",
   "metadata": {},
   "outputs": [
    {
     "data": {
      "text/html": [
       "<div>\n",
       "<style scoped>\n",
       "    .dataframe tbody tr th:only-of-type {\n",
       "        vertical-align: middle;\n",
       "    }\n",
       "\n",
       "    .dataframe tbody tr th {\n",
       "        vertical-align: top;\n",
       "    }\n",
       "\n",
       "    .dataframe thead tr th {\n",
       "        text-align: left;\n",
       "    }\n",
       "\n",
       "    .dataframe thead tr:last-of-type th {\n",
       "        text-align: right;\n",
       "    }\n",
       "</style>\n",
       "<table border=\"1\" class=\"dataframe\">\n",
       "  <thead>\n",
       "    <tr>\n",
       "      <th></th>\n",
       "      <th colspan=\"8\" halign=\"left\">mpg</th>\n",
       "      <th colspan=\"2\" halign=\"left\">displ</th>\n",
       "      <th>...</th>\n",
       "      <th colspan=\"2\" halign=\"left\">accel</th>\n",
       "      <th colspan=\"8\" halign=\"left\">yr</th>\n",
       "    </tr>\n",
       "    <tr>\n",
       "      <th></th>\n",
       "      <th>count</th>\n",
       "      <th>mean</th>\n",
       "      <th>std</th>\n",
       "      <th>min</th>\n",
       "      <th>25%</th>\n",
       "      <th>50%</th>\n",
       "      <th>75%</th>\n",
       "      <th>max</th>\n",
       "      <th>count</th>\n",
       "      <th>mean</th>\n",
       "      <th>...</th>\n",
       "      <th>75%</th>\n",
       "      <th>max</th>\n",
       "      <th>count</th>\n",
       "      <th>mean</th>\n",
       "      <th>std</th>\n",
       "      <th>min</th>\n",
       "      <th>25%</th>\n",
       "      <th>50%</th>\n",
       "      <th>75%</th>\n",
       "      <th>max</th>\n",
       "    </tr>\n",
       "    <tr>\n",
       "      <th>cyl</th>\n",
       "      <th></th>\n",
       "      <th></th>\n",
       "      <th></th>\n",
       "      <th></th>\n",
       "      <th></th>\n",
       "      <th></th>\n",
       "      <th></th>\n",
       "      <th></th>\n",
       "      <th></th>\n",
       "      <th></th>\n",
       "      <th></th>\n",
       "      <th></th>\n",
       "      <th></th>\n",
       "      <th></th>\n",
       "      <th></th>\n",
       "      <th></th>\n",
       "      <th></th>\n",
       "      <th></th>\n",
       "      <th></th>\n",
       "      <th></th>\n",
       "      <th></th>\n",
       "    </tr>\n",
       "  </thead>\n",
       "  <tbody>\n",
       "    <tr>\n",
       "      <th>3</th>\n",
       "      <td>4.0</td>\n",
       "      <td>20.550000</td>\n",
       "      <td>2.564501</td>\n",
       "      <td>18.0</td>\n",
       "      <td>18.75</td>\n",
       "      <td>20.25</td>\n",
       "      <td>22.05</td>\n",
       "      <td>23.7</td>\n",
       "      <td>4.0</td>\n",
       "      <td>72.500000</td>\n",
       "      <td>...</td>\n",
       "      <td>13.5</td>\n",
       "      <td>13.5</td>\n",
       "      <td>4.0</td>\n",
       "      <td>75.500000</td>\n",
       "      <td>3.696846</td>\n",
       "      <td>72.0</td>\n",
       "      <td>72.75</td>\n",
       "      <td>75.0</td>\n",
       "      <td>77.75</td>\n",
       "      <td>80.0</td>\n",
       "    </tr>\n",
       "    <tr>\n",
       "      <th>4</th>\n",
       "      <td>199.0</td>\n",
       "      <td>29.283920</td>\n",
       "      <td>5.670546</td>\n",
       "      <td>18.0</td>\n",
       "      <td>25.00</td>\n",
       "      <td>28.40</td>\n",
       "      <td>32.95</td>\n",
       "      <td>46.6</td>\n",
       "      <td>199.0</td>\n",
       "      <td>109.670854</td>\n",
       "      <td>...</td>\n",
       "      <td>18.0</td>\n",
       "      <td>24.8</td>\n",
       "      <td>199.0</td>\n",
       "      <td>77.030151</td>\n",
       "      <td>3.737484</td>\n",
       "      <td>70.0</td>\n",
       "      <td>74.00</td>\n",
       "      <td>77.0</td>\n",
       "      <td>80.00</td>\n",
       "      <td>82.0</td>\n",
       "    </tr>\n",
       "    <tr>\n",
       "      <th>5</th>\n",
       "      <td>3.0</td>\n",
       "      <td>27.366667</td>\n",
       "      <td>8.228204</td>\n",
       "      <td>20.3</td>\n",
       "      <td>22.85</td>\n",
       "      <td>25.40</td>\n",
       "      <td>30.90</td>\n",
       "      <td>36.4</td>\n",
       "      <td>3.0</td>\n",
       "      <td>145.000000</td>\n",
       "      <td>...</td>\n",
       "      <td>20.0</td>\n",
       "      <td>20.1</td>\n",
       "      <td>3.0</td>\n",
       "      <td>79.000000</td>\n",
       "      <td>1.000000</td>\n",
       "      <td>78.0</td>\n",
       "      <td>78.50</td>\n",
       "      <td>79.0</td>\n",
       "      <td>79.50</td>\n",
       "      <td>80.0</td>\n",
       "    </tr>\n",
       "    <tr>\n",
       "      <th>6</th>\n",
       "      <td>83.0</td>\n",
       "      <td>19.973494</td>\n",
       "      <td>3.828809</td>\n",
       "      <td>15.0</td>\n",
       "      <td>18.00</td>\n",
       "      <td>19.00</td>\n",
       "      <td>21.00</td>\n",
       "      <td>38.0</td>\n",
       "      <td>83.0</td>\n",
       "      <td>218.361446</td>\n",
       "      <td>...</td>\n",
       "      <td>17.6</td>\n",
       "      <td>21.0</td>\n",
       "      <td>83.0</td>\n",
       "      <td>75.951807</td>\n",
       "      <td>3.264381</td>\n",
       "      <td>70.0</td>\n",
       "      <td>74.00</td>\n",
       "      <td>76.0</td>\n",
       "      <td>78.00</td>\n",
       "      <td>82.0</td>\n",
       "    </tr>\n",
       "    <tr>\n",
       "      <th>8</th>\n",
       "      <td>103.0</td>\n",
       "      <td>14.963107</td>\n",
       "      <td>2.836284</td>\n",
       "      <td>9.0</td>\n",
       "      <td>13.00</td>\n",
       "      <td>14.00</td>\n",
       "      <td>16.00</td>\n",
       "      <td>26.6</td>\n",
       "      <td>103.0</td>\n",
       "      <td>345.009709</td>\n",
       "      <td>...</td>\n",
       "      <td>14.0</td>\n",
       "      <td>22.2</td>\n",
       "      <td>103.0</td>\n",
       "      <td>73.902913</td>\n",
       "      <td>3.021214</td>\n",
       "      <td>70.0</td>\n",
       "      <td>72.00</td>\n",
       "      <td>73.0</td>\n",
       "      <td>76.00</td>\n",
       "      <td>81.0</td>\n",
       "    </tr>\n",
       "  </tbody>\n",
       "</table>\n",
       "<p>5 rows × 48 columns</p>\n",
       "</div>"
      ],
      "text/plain": [
       "       mpg                                                        displ  \\\n",
       "     count       mean       std   min    25%    50%    75%   max  count   \n",
       "cyl                                                                       \n",
       "3      4.0  20.550000  2.564501  18.0  18.75  20.25  22.05  23.7    4.0   \n",
       "4    199.0  29.283920  5.670546  18.0  25.00  28.40  32.95  46.6  199.0   \n",
       "5      3.0  27.366667  8.228204  20.3  22.85  25.40  30.90  36.4    3.0   \n",
       "6     83.0  19.973494  3.828809  15.0  18.00  19.00  21.00  38.0   83.0   \n",
       "8    103.0  14.963107  2.836284   9.0  13.00  14.00  16.00  26.6  103.0   \n",
       "\n",
       "                 ... accel           yr                                    \\\n",
       "           mean  ...   75%   max  count       mean       std   min    25%   \n",
       "cyl              ...                                                        \n",
       "3     72.500000  ...  13.5  13.5    4.0  75.500000  3.696846  72.0  72.75   \n",
       "4    109.670854  ...  18.0  24.8  199.0  77.030151  3.737484  70.0  74.00   \n",
       "5    145.000000  ...  20.0  20.1    3.0  79.000000  1.000000  78.0  78.50   \n",
       "6    218.361446  ...  17.6  21.0   83.0  75.951807  3.264381  70.0  74.00   \n",
       "8    345.009709  ...  14.0  22.2  103.0  73.902913  3.021214  70.0  72.00   \n",
       "\n",
       "                        \n",
       "      50%    75%   max  \n",
       "cyl                     \n",
       "3    75.0  77.75  80.0  \n",
       "4    77.0  80.00  82.0  \n",
       "5    79.0  79.50  80.0  \n",
       "6    76.0  78.00  82.0  \n",
       "8    73.0  76.00  81.0  \n",
       "\n",
       "[5 rows x 48 columns]"
      ]
     },
     "execution_count": 28,
     "metadata": {},
     "output_type": "execute_result"
    }
   ],
   "source": [
    "group = df.groupby(('cyl'))\n",
    "\n",
    "group.describe()"
   ]
  },
  {
   "cell_type": "markdown",
   "id": "8141aead",
   "metadata": {},
   "source": [
    "Bokeh allows us to create a `ColumnDataSource` directly from Pandas `GroupBy` objects, and when this happens, the data source is automatically filled with the summary values from `group.desribe()`. Observe the column names below, which correspond to the output above."
   ]
  },
  {
   "cell_type": "code",
   "execution_count": 29,
   "id": "d82ff8e3",
   "metadata": {},
   "outputs": [
    {
     "data": {
      "text/plain": [
       "'cyl,mpg_count,mpg_mean,mpg_std,mpg_min,mpg_25%,mpg_50%,mpg_75%,mpg_max,displ_count,displ_mean,displ_std,displ_min,displ_25%,displ_50%,displ_75%,displ_max,hp_count,hp_mean,hp_std,hp_min,hp_25%,hp_50%,hp_75%,hp_max,weight_count,weight_mean,weight_std,weight_min,weight_25%,weight_50%,weight_75%,weight_max,accel_count,accel_mean,accel_std,accel_min,accel_25%,accel_50%,accel_75%,accel_max,yr_count,yr_mean,yr_std,yr_min,yr_25%,yr_50%,yr_75%,yr_max'"
      ]
     },
     "execution_count": 29,
     "metadata": {},
     "output_type": "execute_result"
    }
   ],
   "source": [
    "source = ColumnDataSource(group)\n",
    "\n",
    "\",\".join(source.column_names)"
   ]
  },
  {
   "cell_type": "markdown",
   "id": "da5fc3bc",
   "metadata": {},
   "source": [
    "Knowing these column names, we can immediately create bar charts based on Pandas `GroupBy` objects. The example below plots the aveage MPG per cylinder, i.e. columns `\"mpg_mean\"` vs `\"cyl\"`"
   ]
  },
  {
   "cell_type": "code",
   "execution_count": 30,
   "id": "3adb3c0c",
   "metadata": {},
   "outputs": [
    {
     "data": {
      "text/html": [
       "\n",
       "  <div id=\"ce212379-ba85-4be6-9d4e-59ffa64b7747\" data-root-id=\"p2295\" style=\"display: contents;\"></div>\n"
      ]
     },
     "metadata": {},
     "output_type": "display_data"
    },
    {
     "data": {
      "application/javascript": "(function(root) {\n  function embed_document(root) {\n  const docs_json = {\"b327a932-e8d3-473d-8b9c-6c4908c30bb8\":{\"version\":\"3.6.1\",\"title\":\"Bokeh Application\",\"roots\":[{\"type\":\"object\",\"name\":\"Figure\",\"id\":\"p2295\",\"attributes\":{\"height\":350,\"x_range\":{\"type\":\"object\",\"name\":\"FactorRange\",\"id\":\"p2304\",\"attributes\":{\"factors\":[\"3\",\"4\",\"5\",\"6\",\"8\"]}},\"y_range\":{\"type\":\"object\",\"name\":\"DataRange1d\",\"id\":\"p2297\",\"attributes\":{\"start\":0}},\"x_scale\":{\"type\":\"object\",\"name\":\"CategoricalScale\",\"id\":\"p2305\"},\"y_scale\":{\"type\":\"object\",\"name\":\"LinearScale\",\"id\":\"p2306\"},\"title\":{\"type\":\"object\",\"name\":\"Title\",\"id\":\"p2302\"},\"renderers\":[{\"type\":\"object\",\"name\":\"GlyphRenderer\",\"id\":\"p2336\",\"attributes\":{\"data_source\":{\"type\":\"object\",\"name\":\"ColumnDataSource\",\"id\":\"p2291\",\"attributes\":{\"selected\":{\"type\":\"object\",\"name\":\"Selection\",\"id\":\"p2292\",\"attributes\":{\"indices\":[],\"line_indices\":[]}},\"selection_policy\":{\"type\":\"object\",\"name\":\"UnionRenderers\",\"id\":\"p2293\"},\"data\":{\"type\":\"map\",\"entries\":[[\"cyl\",{\"type\":\"ndarray\",\"array\":[\"3\",\"4\",\"5\",\"6\",\"8\"],\"shape\":[5],\"dtype\":\"object\",\"order\":\"little\"}],[\"mpg_count\",{\"type\":\"ndarray\",\"array\":{\"type\":\"bytes\",\"data\":\"AAAAAAAAEEAAAAAAAOBoQAAAAAAAAAhAAAAAAADAVEAAAAAAAMBZQA==\"},\"shape\":[5],\"dtype\":\"float64\",\"order\":\"little\"}],[\"mpg_mean\",{\"type\":\"ndarray\",\"array\":{\"type\":\"bytes\",\"data\":\"zczMzMyMNEBwD2z0rkg9QN3d3d3dXTtA6lu15jb5M0BgwH9VHO0tQA==\"},\"shape\":[5],\"dtype\":\"float64\",\"order\":\"little\"}],[\"mpg_std\",{\"type\":\"ndarray\",\"array\":{\"type\":\"bytes\",\"data\":\"ca9eOxmEBECNLXOmo64WQOWG1RfXdCBALURKf2ahDkC0cW7BtbAGQA==\"},\"shape\":[5],\"dtype\":\"float64\",\"order\":\"little\"}],[\"mpg_min\",{\"type\":\"ndarray\",\"array\":{\"type\":\"bytes\",\"data\":\"AAAAAAAAMkAAAAAAAAAyQM3MzMzMTDRAAAAAAAAALkAAAAAAAAAiQA==\"},\"shape\":[5],\"dtype\":\"float64\",\"order\":\"little\"}],[\"mpg_25%\",{\"type\":\"ndarray\",\"array\":{\"type\":\"bytes\",\"data\":\"AAAAAADAMkAAAAAAAAA5QJqZmZmZ2TZAAAAAAAAAMkAAAAAAAAAqQA==\"},\"shape\":[5],\"dtype\":\"float64\",\"order\":\"little\"}],[\"mpg_50%\",{\"type\":\"ndarray\",\"array\":{\"type\":\"bytes\",\"data\":\"AAAAAABANEBmZmZmZmY8QGZmZmZmZjlAAAAAAAAAM0AAAAAAAAAsQA==\"},\"shape\":[5],\"dtype\":\"float64\",\"order\":\"little\"}],[\"mpg_75%\",{\"type\":\"ndarray\",\"array\":{\"type\":\"bytes\",\"data\":\"zczMzMwMNkCamZmZmXlAQGZmZmZm5j5AAAAAAAAANUAAAAAAAAAwQA==\"},\"shape\":[5],\"dtype\":\"float64\",\"order\":\"little\"}],[\"mpg_max\",{\"type\":\"ndarray\",\"array\":{\"type\":\"bytes\",\"data\":\"MzMzMzOzN0DNzMzMzExHQDMzMzMzM0JAAAAAAAAAQ0CamZmZmZk6QA==\"},\"shape\":[5],\"dtype\":\"float64\",\"order\":\"little\"}],[\"displ_count\",{\"type\":\"ndarray\",\"array\":{\"type\":\"bytes\",\"data\":\"AAAAAAAAEEAAAAAAAOBoQAAAAAAAAAhAAAAAAADAVEAAAAAAAMBZQA==\"},\"shape\":[5],\"dtype\":\"float64\",\"order\":\"little\"}],[\"displ_mean\",{\"type\":\"ndarray\",\"array\":{\"type\":\"bytes\",\"data\":\"AAAAAAAgUkD/9sBG72pbQAAAAAAAIGJAmjq/9pBLa0DJeVnEJ5B1QA==\"},\"shape\":[5],\"dtype\":\"float64\",\"order\":\"little\"}],[\"displ_std\",{\"type\":\"ndarray\",\"array\":{\"type\":\"bytes\",\"data\":\"AAAAAAAAFEC8furRdmA1QLmT4WuwpEBAT4BvAbA2QEDXs8ZGYGNHQA==\"},\"shape\":[5],\"dtype\":\"float64\",\"order\":\"little\"}],[\"displ_min\",{\"type\":\"ndarray\",\"array\":{\"type\":\"bytes\",\"data\":\"AAAAAACAUUAAAAAAAABRQAAAAAAAQF5AAAAAAAAgYkAAAAAAAEBwQA==\"},\"shape\":[5],\"dtype\":\"float64\",\"order\":\"little\"}],[\"displ_25%\",{\"type\":\"ndarray\",\"array\":{\"type\":\"bytes\",\"data\":\"AAAAAACAUUAAAAAAAMBWQAAAAAAAgF9AAAAAAADwaEAAAAAAABBzQA==\"},\"shape\":[5],\"dtype\":\"float64\",\"order\":\"little\"}],[\"displ_50%\",{\"type\":\"ndarray\",\"array\":{\"type\":\"bytes\",\"data\":\"AAAAAACAUUAAAAAAAEBaQAAAAAAAYGBAAAAAAADgbEAAAAAAAOB1QA==\"},\"shape\":[5],\"dtype\":\"float64\",\"order\":\"little\"}],[\"displ_75%\",{\"type\":\"ndarray\",\"array\":{\"type\":\"bytes\",\"data\":\"AAAAAAAgUkAAAAAAAEBeQAAAAAAAoGNAAAAAAABAb0AAAAAAAIB2QA==\"},\"shape\":[5],\"dtype\":\"float64\",\"order\":\"little\"}],[\"displ_max\",{\"type\":\"ndarray\",\"array\":{\"type\":\"bytes\",\"data\":\"AAAAAAAAVEAAAAAAAIBjQAAAAAAA4GZAAAAAAABgcEAAAAAAAHB8QA==\"},\"shape\":[5],\"dtype\":\"float64\",\"order\":\"little\"}],[\"hp_count\",{\"type\":\"ndarray\",\"array\":{\"type\":\"bytes\",\"data\":\"AAAAAAAAEEAAAAAAAOBoQAAAAAAAAAhAAAAAAADAVEAAAAAAAMBZQA==\"},\"shape\":[5],\"dtype\":\"float64\",\"order\":\"little\"}],[\"hp_mean\",{\"type\":\"ndarray\",\"array\":{\"type\":\"bytes\",\"data\":\"AAAAAADQWEB2PKeSApJTQFVVVVVVlVRAsD3ksmJgWUDCfquNocljQA==\"},\"shape\":[5],\"dtype\":\"float64\",\"order\":\"little\"}],[\"hp_std\",{\"type\":\"ndarray\",\"array\":{\"type\":\"bytes\",\"data\":\"sTIWI2yaIECGr0Go0wstQDKsjxZJlTJAxZAwIvaeLEBQwZb3G3Q8QA==\"},\"shape\":[5],\"dtype\":\"float64\",\"order\":\"little\"}],[\"hp_min\",{\"type\":\"ndarray\",\"array\":{\"type\":\"bytes\",\"data\":\"AAAAAACAVkAAAAAAAABHQAAAAAAAwFBAAAAAAAAAUkAAAAAAAIBWQA==\"},\"shape\":[5],\"dtype\":\"float64\",\"order\":\"little\"}],[\"hp_25%\",{\"type\":\"ndarray\",\"array\":{\"type\":\"bytes\",\"data\":\"AAAAAADQV0AAAAAAAABRQAAAAAAAAFJAAAAAAAAgV0AAAAAAAIBhQA==\"},\"shape\":[5],\"dtype\":\"float64\",\"order\":\"little\"}],[\"hp_50%\",{\"type\":\"ndarray\",\"array\":{\"type\":\"bytes\",\"data\":\"AAAAAACgWEAAAAAAAIBTQAAAAAAAQFNAAAAAAAAAWUAAAAAAAMBiQA==\"},\"shape\":[5],\"dtype\":\"float64\",\"order\":\"little\"}],[\"hp_75%\",{\"type\":\"ndarray\",\"array\":{\"type\":\"bytes\",\"data\":\"AAAAAACgWUAAAAAAAABWQAAAAAAAgFZAAAAAAACAW0AAAAAAAOBlQA==\"},\"shape\":[5],\"dtype\":\"float64\",\"order\":\"little\"}],[\"hp_max\",{\"type\":\"ndarray\",\"array\":{\"type\":\"bytes\",\"data\":\"AAAAAACAW0AAAAAAAMBcQAAAAAAAwFlAAAAAAACgZEAAAAAAAMBsQA==\"},\"shape\":[5],\"dtype\":\"float64\",\"order\":\"little\"}],[\"weight_count\",{\"type\":\"ndarray\",\"array\":{\"type\":\"bytes\",\"data\":\"AAAAAAAAEEAAAAAAAOBoQAAAAAAAAAhAAAAAAADAVEAAAAAAAMBZQA==\"},\"shape\":[5],\"dtype\":\"float64\",\"order\":\"little\"}],[\"weight_mean\",{\"type\":\"ndarray\",\"array\":{\"type\":\"bytes\",\"data\":\"AAAAAAC9okAsMl+aOAKiQKuqqqqqPqhAjqbOrz0EqUBD0x3stxKwQA==\"},\"shape\":[5],\"dtype\":\"float64\",\"order\":\"little\"}],[\"weight_std\",{\"type\":\"ndarray\",\"array\":{\"type\":\"bytes\",\"data\":\"udhs7B3ybkC6+VSg9G11QA9pSX6AZXdAdmeNgiLGdEC+UR6eVA18QA==\"},\"shape\":[5],\"dtype\":\"float64\",\"order\":\"little\"}],[\"weight_min\",{\"type\":\"ndarray\",\"array\":{\"type\":\"bytes\",\"data\":\"AAAAAACYoEAAAAAAADSZQAAAAAAAHKZAAAAAAABQo0AAAAAAAByoQA==\"},\"shape\":[5],\"dtype\":\"float64\",\"order\":\"little\"}],[\"weight_25%\",{\"type\":\"ndarray\",\"array\":{\"type\":\"bytes\",\"data\":\"AAAAAADNoUAAAAAAAP6fQAAAAAAAlKZAAAAAAAACp0AAAAAAAK6tQA==\"},\"shape\":[5],\"dtype\":\"float64\",\"order\":\"little\"}],[\"weight_50%\",{\"type\":\"ndarray\",\"array\":{\"type\":\"bytes\",\"data\":\"AAAAAACOokAAAAAAAGyhQAAAAAAADKdAAAAAAAAUqUAAAAAAACywQA==\"},\"shape\":[5],\"dtype\":\"float64\",\"order\":\"little\"}],[\"weight_75%\",{\"type\":\"ndarray\",\"array\":{\"type\":\"bytes\",\"data\":\"AAAAAAB+o0AAAAAAAAWkQAAAAAAAUKlAAAAAAADOqkAAAAAAgDOxQA==\"},\"shape\":[5],\"dtype\":\"float64\",\"order\":\"little\"}],[\"weight_max\",{\"type\":\"ndarray\",\"array\":{\"type\":\"bytes\",\"data\":\"AAAAAABApUAAAAAAAIypQAAAAAAAlKtAAAAAAACGrkAAAAAAABS0QA==\"},\"shape\":[5],\"dtype\":\"float64\",\"order\":\"little\"}],[\"accel_count\",{\"type\":\"ndarray\",\"array\":{\"type\":\"bytes\",\"data\":\"AAAAAAAAEEAAAAAAAOBoQAAAAAAAAAhAAAAAAADAVEAAAAAAAMBZQA==\"},\"shape\":[5],\"dtype\":\"float64\",\"order\":\"little\"}],[\"accel_mean\",{\"type\":\"ndarray\",\"array\":{\"type\":\"bytes\",\"data\":\"AAAAAACAKkCRxCwG+JQwQCIiIiIiojJA7d9LWxRBMEA+LI1MIukpQA==\"},\"shape\":[5],\"dtype\":\"float64\",\"order\":\"little\"}],[\"accel_std\",{\"type\":\"ndarray\",\"array\":{\"type\":\"bytes\",\"data\":\"AAAAAAAA4D+b1TA5wxADQO1jrP039AJA0StM4BRBAED/ZpysTswBQA==\"},\"shape\":[5],\"dtype\":\"float64\",\"order\":\"little\"}],[\"accel_min\",{\"type\":\"ndarray\",\"array\":{\"type\":\"bytes\",\"data\":\"AAAAAAAAKUAzMzMzMzMnQM3MzMzMzC9AmpmZmZmZJkAAAAAAAAAgQA==\"},\"shape\":[5],\"dtype\":\"float64\",\"order\":\"little\"}],[\"accel_25%\",{\"type\":\"ndarray\",\"array\":{\"type\":\"bytes\",\"data\":\"AAAAAACAKkCamZmZmZktQGZmZmZm5jFAmpmZmZkZLkAAAAAAAAAnQA==\"},\"shape\":[5],\"dtype\":\"float64\",\"order\":\"little\"}],[\"accel_50%\",{\"type\":\"ndarray\",\"array\":{\"type\":\"bytes\",\"data\":\"AAAAAAAAK0AzMzMzMzMwQGZmZmZm5jNAAAAAAAAAMEAAAAAAAAAqQA==\"},\"shape\":[5],\"dtype\":\"float64\",\"order\":\"little\"}],[\"accel_75%\",{\"type\":\"ndarray\",\"array\":{\"type\":\"bytes\",\"data\":\"AAAAAAAAK0AAAAAAAAAyQAAAAAAAADRAmpmZmZmZMUAAAAAAAAAsQA==\"},\"shape\":[5],\"dtype\":\"float64\",\"order\":\"little\"}],[\"accel_max\",{\"type\":\"ndarray\",\"array\":{\"type\":\"bytes\",\"data\":\"AAAAAAAAK0DNzMzMzMw4QJqZmZmZGTRAAAAAAAAANUAzMzMzMzM2QA==\"},\"shape\":[5],\"dtype\":\"float64\",\"order\":\"little\"}],[\"yr_count\",{\"type\":\"ndarray\",\"array\":{\"type\":\"bytes\",\"data\":\"AAAAAAAAEEAAAAAAAOBoQAAAAAAAAAhAAAAAAADAVEAAAAAAAMBZQA==\"},\"shape\":[5],\"dtype\":\"float64\",\"order\":\"little\"}],[\"yr_mean\",{\"type\":\"ndarray\",\"array\":{\"type\":\"bytes\",\"data\":\"AAAAAADgUkDEWG397UFTQAAAAAAAwFNAghLeaOr8UkCL+ARSyXlSQA==\"},\"shape\":[5],\"dtype\":\"float64\",\"order\":\"little\"}],[\"yr_std\",{\"type\":\"ndarray\",\"array\":{\"type\":\"bytes\",\"data\":\"p1MQvCOTDUAd5PLGXeYNQAAAAAAAAPA/p0OY+nMdCkAEv1x2cisIQA==\"},\"shape\":[5],\"dtype\":\"float64\",\"order\":\"little\"}],[\"yr_min\",{\"type\":\"ndarray\",\"array\":{\"type\":\"bytes\",\"data\":\"AAAAAAAAUkAAAAAAAIBRQAAAAAAAgFNAAAAAAACAUUAAAAAAAIBRQA==\"},\"shape\":[5],\"dtype\":\"float64\",\"order\":\"little\"}],[\"yr_25%\",{\"type\":\"ndarray\",\"array\":{\"type\":\"bytes\",\"data\":\"AAAAAAAwUkAAAAAAAIBSQAAAAAAAoFNAAAAAAACAUkAAAAAAAABSQA==\"},\"shape\":[5],\"dtype\":\"float64\",\"order\":\"little\"}],[\"yr_50%\",{\"type\":\"ndarray\",\"array\":{\"type\":\"bytes\",\"data\":\"AAAAAADAUkAAAAAAAEBTQAAAAAAAwFNAAAAAAAAAU0AAAAAAAEBSQA==\"},\"shape\":[5],\"dtype\":\"float64\",\"order\":\"little\"}],[\"yr_75%\",{\"type\":\"ndarray\",\"array\":{\"type\":\"bytes\",\"data\":\"AAAAAABwU0AAAAAAAABUQAAAAAAA4FNAAAAAAACAU0AAAAAAAABTQA==\"},\"shape\":[5],\"dtype\":\"float64\",\"order\":\"little\"}],[\"yr_max\",{\"type\":\"ndarray\",\"array\":{\"type\":\"bytes\",\"data\":\"AAAAAAAAVEAAAAAAAIBUQAAAAAAAAFRAAAAAAACAVEAAAAAAAEBUQA==\"},\"shape\":[5],\"dtype\":\"float64\",\"order\":\"little\"}]]}}},\"view\":{\"type\":\"object\",\"name\":\"CDSView\",\"id\":\"p2337\",\"attributes\":{\"filter\":{\"type\":\"object\",\"name\":\"AllIndices\",\"id\":\"p2338\"}}},\"glyph\":{\"type\":\"object\",\"name\":\"VBar\",\"id\":\"p2333\",\"attributes\":{\"x\":{\"type\":\"field\",\"field\":\"cyl\"},\"width\":{\"type\":\"value\",\"value\":0.9},\"top\":{\"type\":\"field\",\"field\":\"mpg_mean\"},\"line_color\":{\"type\":\"value\",\"value\":\"white\"},\"fill_color\":{\"type\":\"field\",\"field\":\"cyl\",\"transform\":{\"type\":\"object\",\"name\":\"CategoricalColorMapper\",\"id\":\"p2294\",\"attributes\":{\"palette\":[\"#2b83ba\",\"#abdda4\",\"#ffffbf\",\"#fdae61\",\"#d7191c\"],\"factors\":[\"3\",\"4\",\"5\",\"6\",\"8\"]}}}}},\"nonselection_glyph\":{\"type\":\"object\",\"name\":\"VBar\",\"id\":\"p2334\",\"attributes\":{\"x\":{\"type\":\"field\",\"field\":\"cyl\"},\"width\":{\"type\":\"value\",\"value\":0.9},\"top\":{\"type\":\"field\",\"field\":\"mpg_mean\"},\"line_color\":{\"type\":\"value\",\"value\":\"white\"},\"line_alpha\":{\"type\":\"value\",\"value\":0.1},\"fill_color\":{\"type\":\"field\",\"field\":\"cyl\",\"transform\":{\"id\":\"p2294\"}},\"fill_alpha\":{\"type\":\"value\",\"value\":0.1},\"hatch_alpha\":{\"type\":\"value\",\"value\":0.1}}},\"muted_glyph\":{\"type\":\"object\",\"name\":\"VBar\",\"id\":\"p2335\",\"attributes\":{\"x\":{\"type\":\"field\",\"field\":\"cyl\"},\"width\":{\"type\":\"value\",\"value\":0.9},\"top\":{\"type\":\"field\",\"field\":\"mpg_mean\"},\"line_color\":{\"type\":\"value\",\"value\":\"white\"},\"line_alpha\":{\"type\":\"value\",\"value\":0.2},\"fill_color\":{\"type\":\"field\",\"field\":\"cyl\",\"transform\":{\"id\":\"p2294\"}},\"fill_alpha\":{\"type\":\"value\",\"value\":0.2},\"hatch_alpha\":{\"type\":\"value\",\"value\":0.2}}}}}],\"toolbar\":{\"type\":\"object\",\"name\":\"Toolbar\",\"id\":\"p2303\",\"attributes\":{\"tools\":[{\"type\":\"object\",\"name\":\"PanTool\",\"id\":\"p2317\"},{\"type\":\"object\",\"name\":\"WheelZoomTool\",\"id\":\"p2318\",\"attributes\":{\"renderers\":\"auto\"}},{\"type\":\"object\",\"name\":\"BoxZoomTool\",\"id\":\"p2319\",\"attributes\":{\"overlay\":{\"type\":\"object\",\"name\":\"BoxAnnotation\",\"id\":\"p2320\",\"attributes\":{\"syncable\":false,\"line_color\":\"black\",\"line_alpha\":1.0,\"line_width\":2,\"line_dash\":[4,4],\"fill_color\":\"lightgrey\",\"fill_alpha\":0.5,\"level\":\"overlay\",\"visible\":false,\"left\":{\"type\":\"number\",\"value\":\"nan\"},\"right\":{\"type\":\"number\",\"value\":\"nan\"},\"top\":{\"type\":\"number\",\"value\":\"nan\"},\"bottom\":{\"type\":\"number\",\"value\":\"nan\"},\"left_units\":\"canvas\",\"right_units\":\"canvas\",\"top_units\":\"canvas\",\"bottom_units\":\"canvas\",\"handles\":{\"type\":\"object\",\"name\":\"BoxInteractionHandles\",\"id\":\"p2326\",\"attributes\":{\"all\":{\"type\":\"object\",\"name\":\"AreaVisuals\",\"id\":\"p2325\",\"attributes\":{\"fill_color\":\"white\",\"hover_fill_color\":\"lightgray\"}}}}}}}},{\"type\":\"object\",\"name\":\"SaveTool\",\"id\":\"p2327\"},{\"type\":\"object\",\"name\":\"ResetTool\",\"id\":\"p2328\"},{\"type\":\"object\",\"name\":\"HelpTool\",\"id\":\"p2329\"}]}},\"left\":[{\"type\":\"object\",\"name\":\"LinearAxis\",\"id\":\"p2312\",\"attributes\":{\"ticker\":{\"type\":\"object\",\"name\":\"BasicTicker\",\"id\":\"p2313\",\"attributes\":{\"mantissas\":[1,2,5]}},\"formatter\":{\"type\":\"object\",\"name\":\"BasicTickFormatter\",\"id\":\"p2314\"},\"axis_label\":\"Mean MPG\",\"major_label_policy\":{\"type\":\"object\",\"name\":\"AllLabels\",\"id\":\"p2315\"}}}],\"below\":[{\"type\":\"object\",\"name\":\"CategoricalAxis\",\"id\":\"p2307\",\"attributes\":{\"ticker\":{\"type\":\"object\",\"name\":\"CategoricalTicker\",\"id\":\"p2308\"},\"formatter\":{\"type\":\"object\",\"name\":\"CategoricalTickFormatter\",\"id\":\"p2309\"},\"axis_label\":\"number of cylinders\",\"major_label_policy\":{\"type\":\"object\",\"name\":\"AllLabels\",\"id\":\"p2310\"}}}],\"center\":[{\"type\":\"object\",\"name\":\"Grid\",\"id\":\"p2311\",\"attributes\":{\"axis\":{\"id\":\"p2307\"},\"grid_line_color\":null}},{\"type\":\"object\",\"name\":\"Grid\",\"id\":\"p2316\",\"attributes\":{\"dimension\":1,\"axis\":{\"id\":\"p2312\"}}}]}}]}};\n  const render_items = [{\"docid\":\"b327a932-e8d3-473d-8b9c-6c4908c30bb8\",\"roots\":{\"p2295\":\"ce212379-ba85-4be6-9d4e-59ffa64b7747\"},\"root_ids\":[\"p2295\"]}];\n  void root.Bokeh.embed.embed_items_notebook(docs_json, render_items);\n  }\n  if (root.Bokeh !== undefined) {\n    embed_document(root);\n  } else {\n    let attempts = 0;\n    const timer = setInterval(function(root) {\n      if (root.Bokeh !== undefined) {\n        clearInterval(timer);\n        embed_document(root);\n      } else {\n        attempts++;\n        if (attempts > 100) {\n          clearInterval(timer);\n          console.log(\"Bokeh: ERROR: Unable to run BokehJS code because BokehJS library is missing\");\n        }\n      }\n    }, 10, root)\n  }\n})(window);",
      "application/vnd.bokehjs_exec.v0+json": ""
     },
     "metadata": {
      "application/vnd.bokehjs_exec.v0+json": {
       "id": "p2295"
      }
     },
     "output_type": "display_data"
    }
   ],
   "source": [
    "cyl_cmap = factor_cmap('cyl', palette=\"Spectral5\", factors=sorted(df.cyl.unique()))\n",
    "\n",
    "p = figure(height=350, x_range=group)\n",
    "p.vbar(x='cyl', top='mpg_mean', width=0.9, line_color=\"white\", \n",
    "       fill_color=cyl_cmap, source=source)\n",
    "\n",
    "p.xgrid.grid_line_color = None\n",
    "p.xaxis.axis_label = \"number of cylinders\"\n",
    "p.yaxis.axis_label = \"Mean MPG\"\n",
    "p.y_range.start = 0\n",
    "\n",
    "show(p)"
   ]
  },
  {
   "cell_type": "markdown",
   "id": "ca8f1a03",
   "metadata": {},
   "source": [
    "## Categorical Scatterplots\n",
    "\n",
    "So far we have seen Categorical data used together with various bar glyphs. But Bokeh can use categorical coordinates for most any glyphs. Let's create a scatter plot with categorical coordinates on one axis. The `commits` data set simply has a series datetimes of GitHub commit. Additional columns to express the day and hour of day for each commit have already been added."
   ]
  },
  {
   "cell_type": "code",
   "execution_count": 38,
   "id": "58080d9c",
   "metadata": {},
   "outputs": [
    {
     "data": {
      "text/html": [
       "<div>\n",
       "<style scoped>\n",
       "    .dataframe tbody tr th:only-of-type {\n",
       "        vertical-align: middle;\n",
       "    }\n",
       "\n",
       "    .dataframe tbody tr th {\n",
       "        vertical-align: top;\n",
       "    }\n",
       "\n",
       "    .dataframe thead th {\n",
       "        text-align: right;\n",
       "    }\n",
       "</style>\n",
       "<table border=\"1\" class=\"dataframe\">\n",
       "  <thead>\n",
       "    <tr style=\"text-align: right;\">\n",
       "      <th></th>\n",
       "      <th>day</th>\n",
       "      <th>time</th>\n",
       "    </tr>\n",
       "    <tr>\n",
       "      <th>datetime</th>\n",
       "      <th></th>\n",
       "      <th></th>\n",
       "    </tr>\n",
       "  </thead>\n",
       "  <tbody>\n",
       "    <tr>\n",
       "      <th>2017-04-22 15:11:58-05:00</th>\n",
       "      <td>Sat</td>\n",
       "      <td>15:11:58</td>\n",
       "    </tr>\n",
       "    <tr>\n",
       "      <th>2017-04-21 14:20:57-05:00</th>\n",
       "      <td>Fri</td>\n",
       "      <td>14:20:57</td>\n",
       "    </tr>\n",
       "    <tr>\n",
       "      <th>2017-04-20 14:35:08-05:00</th>\n",
       "      <td>Thu</td>\n",
       "      <td>14:35:08</td>\n",
       "    </tr>\n",
       "    <tr>\n",
       "      <th>2017-04-20 10:34:29-05:00</th>\n",
       "      <td>Thu</td>\n",
       "      <td>10:34:29</td>\n",
       "    </tr>\n",
       "    <tr>\n",
       "      <th>2017-04-20 09:17:23-05:00</th>\n",
       "      <td>Thu</td>\n",
       "      <td>09:17:23</td>\n",
       "    </tr>\n",
       "  </tbody>\n",
       "</table>\n",
       "</div>"
      ],
      "text/plain": [
       "                           day      time\n",
       "datetime                                \n",
       "2017-04-22 15:11:58-05:00  Sat  15:11:58\n",
       "2017-04-21 14:20:57-05:00  Fri  14:20:57\n",
       "2017-04-20 14:35:08-05:00  Thu  14:35:08\n",
       "2017-04-20 10:34:29-05:00  Thu  10:34:29\n",
       "2017-04-20 09:17:23-05:00  Thu  09:17:23"
      ]
     },
     "execution_count": 38,
     "metadata": {},
     "output_type": "execute_result"
    }
   ],
   "source": [
    "from bokeh.sampledata.commits import data\n",
    "\n",
    "data.head()"
   ]
  },
  {
   "cell_type": "markdown",
   "id": "768add4b",
   "metadata": {},
   "source": [
    "To create our scatter plot, we pass the list of categories as the range just as before\n",
    "\n",
    "    p = figure(y_range=DAYS, ...)\n",
    "    \n",
    "Then we can plot circles for each commit, with `\"time\"` driving the x-coordinate, and `\"day\"` driving the y-coordinate.\n",
    "\n",
    "    p.circle(x='time', y='day', ...)\n",
    "\n",
    "To make the values more distinguishable, we can also add a `jitter` transform to the y-coordinate, which is shown in the complete example below."
   ]
  },
  {
   "cell_type": "code",
   "execution_count": 32,
   "id": "15a6f536",
   "metadata": {},
   "outputs": [
    {
     "name": "stderr",
     "output_type": "stream",
     "text": [
      "ERROR:bokeh.core.validation.check:E-1001 (BAD_COLUMN_NAME): Glyph refers to nonexistent column name. This could either be due to a misspelling or typo, or due to an expected column being missing. : x='time' [no close matches], y='day' [no close matches] {renderer: GlyphRenderer(id='p2496', ...)}\n"
     ]
    },
    {
     "data": {
      "text/html": [
       "\n",
       "  <div id=\"ea770e10-6120-4c62-ae9e-c330165d7f43\" data-root-id=\"p2441\" style=\"display: contents;\"></div>\n"
      ]
     },
     "metadata": {},
     "output_type": "display_data"
    },
    {
     "data": {
      "application/javascript": "(function(root) {\n  function embed_document(root) {\n  const docs_json = {\"bac035a2-5c35-4a22-8f91-576797fcbbb2\":{\"version\":\"3.6.1\",\"title\":\"Bokeh Application\",\"roots\":[{\"type\":\"object\",\"name\":\"Figure\",\"id\":\"p2441\",\"attributes\":{\"width\":800,\"height\":300,\"x_range\":{\"type\":\"object\",\"name\":\"DataRange1d\",\"id\":\"p2443\",\"attributes\":{\"range_padding\":0}},\"y_range\":{\"type\":\"object\",\"name\":\"FactorRange\",\"id\":\"p2451\",\"attributes\":{\"factors\":[\"Sun\",\"Sat\",\"Fri\",\"Thu\",\"Wed\",\"Tue\",\"Mon\"]}},\"x_scale\":{\"type\":\"object\",\"name\":\"LinearScale\",\"id\":\"p2452\"},\"y_scale\":{\"type\":\"object\",\"name\":\"CategoricalScale\",\"id\":\"p2453\"},\"title\":{\"type\":\"object\",\"name\":\"Title\",\"id\":\"p2444\",\"attributes\":{\"text\":\"Commits by Time of Day (US/Central) 2012\\u20142016\"}},\"renderers\":[{\"type\":\"object\",\"name\":\"GlyphRenderer\",\"id\":\"p2496\",\"attributes\":{\"data_source\":{\"type\":\"object\",\"name\":\"ColumnDataSource\",\"id\":\"p2438\",\"attributes\":{\"selected\":{\"type\":\"object\",\"name\":\"Selection\",\"id\":\"p2439\",\"attributes\":{\"indices\":[],\"line_indices\":[]}},\"selection_policy\":{\"type\":\"object\",\"name\":\"UnionRenderers\",\"id\":\"p2440\"},\"data\":{\"type\":\"map\",\"entries\":[[\"fruits\",[\"Apples\",\"Pears\",\"Nectarines\",\"Plums\",\"Grapes\",\"Strawberries\"]],[\"2015\",[2,1,4,3,2,4]],[\"2016\",[5,3,3,2,4,6]],[\"2017\",[3,2,4,4,5,3]]]}}},\"view\":{\"type\":\"object\",\"name\":\"CDSView\",\"id\":\"p2497\",\"attributes\":{\"filter\":{\"type\":\"object\",\"name\":\"AllIndices\",\"id\":\"p2498\"}}},\"glyph\":{\"type\":\"object\",\"name\":\"Circle\",\"id\":\"p2493\",\"attributes\":{\"x\":{\"type\":\"field\",\"field\":\"time\"},\"y\":{\"type\":\"field\",\"field\":\"day\",\"transform\":{\"type\":\"object\",\"name\":\"Jitter\",\"id\":\"p2489\",\"attributes\":{\"width\":0.6,\"range\":{\"id\":\"p2451\"}}}},\"line_color\":{\"type\":\"value\",\"value\":\"#1f77b4\"},\"line_alpha\":{\"type\":\"value\",\"value\":0.3},\"fill_color\":{\"type\":\"value\",\"value\":\"#1f77b4\"},\"fill_alpha\":{\"type\":\"value\",\"value\":0.3},\"hatch_alpha\":{\"type\":\"value\",\"value\":0.3}}},\"nonselection_glyph\":{\"type\":\"object\",\"name\":\"Circle\",\"id\":\"p2494\",\"attributes\":{\"x\":{\"type\":\"field\",\"field\":\"time\"},\"y\":{\"type\":\"field\",\"field\":\"day\",\"transform\":{\"id\":\"p2489\"}},\"line_color\":{\"type\":\"value\",\"value\":\"#1f77b4\"},\"line_alpha\":{\"type\":\"value\",\"value\":0.1},\"fill_color\":{\"type\":\"value\",\"value\":\"#1f77b4\"},\"fill_alpha\":{\"type\":\"value\",\"value\":0.1},\"hatch_alpha\":{\"type\":\"value\",\"value\":0.1}}},\"muted_glyph\":{\"type\":\"object\",\"name\":\"Circle\",\"id\":\"p2495\",\"attributes\":{\"x\":{\"type\":\"field\",\"field\":\"time\"},\"y\":{\"type\":\"field\",\"field\":\"day\",\"transform\":{\"id\":\"p2489\"}},\"line_color\":{\"type\":\"value\",\"value\":\"#1f77b4\"},\"line_alpha\":{\"type\":\"value\",\"value\":0.2},\"fill_color\":{\"type\":\"value\",\"value\":\"#1f77b4\"},\"fill_alpha\":{\"type\":\"value\",\"value\":0.2},\"hatch_alpha\":{\"type\":\"value\",\"value\":0.2}}}}}],\"toolbar\":{\"type\":\"object\",\"name\":\"Toolbar\",\"id\":\"p2450\",\"attributes\":{\"tools\":[{\"type\":\"object\",\"name\":\"PanTool\",\"id\":\"p2476\"},{\"type\":\"object\",\"name\":\"WheelZoomTool\",\"id\":\"p2477\",\"attributes\":{\"renderers\":\"auto\"}},{\"type\":\"object\",\"name\":\"BoxZoomTool\",\"id\":\"p2478\",\"attributes\":{\"overlay\":{\"type\":\"object\",\"name\":\"BoxAnnotation\",\"id\":\"p2479\",\"attributes\":{\"syncable\":false,\"line_color\":\"black\",\"line_alpha\":1.0,\"line_width\":2,\"line_dash\":[4,4],\"fill_color\":\"lightgrey\",\"fill_alpha\":0.5,\"level\":\"overlay\",\"visible\":false,\"left\":{\"type\":\"number\",\"value\":\"nan\"},\"right\":{\"type\":\"number\",\"value\":\"nan\"},\"top\":{\"type\":\"number\",\"value\":\"nan\"},\"bottom\":{\"type\":\"number\",\"value\":\"nan\"},\"left_units\":\"canvas\",\"right_units\":\"canvas\",\"top_units\":\"canvas\",\"bottom_units\":\"canvas\",\"handles\":{\"type\":\"object\",\"name\":\"BoxInteractionHandles\",\"id\":\"p2485\",\"attributes\":{\"all\":{\"type\":\"object\",\"name\":\"AreaVisuals\",\"id\":\"p2484\",\"attributes\":{\"fill_color\":\"white\",\"hover_fill_color\":\"lightgray\"}}}}}}}},{\"type\":\"object\",\"name\":\"SaveTool\",\"id\":\"p2486\"},{\"type\":\"object\",\"name\":\"ResetTool\",\"id\":\"p2487\"},{\"type\":\"object\",\"name\":\"HelpTool\",\"id\":\"p2488\"}]}},\"left\":[{\"type\":\"object\",\"name\":\"CategoricalAxis\",\"id\":\"p2471\",\"attributes\":{\"ticker\":{\"type\":\"object\",\"name\":\"CategoricalTicker\",\"id\":\"p2472\"},\"formatter\":{\"type\":\"object\",\"name\":\"CategoricalTickFormatter\",\"id\":\"p2473\"},\"major_label_policy\":{\"type\":\"object\",\"name\":\"AllLabels\",\"id\":\"p2474\"}}}],\"below\":[{\"type\":\"object\",\"name\":\"DatetimeAxis\",\"id\":\"p2454\",\"attributes\":{\"ticker\":{\"type\":\"object\",\"name\":\"DatetimeTicker\",\"id\":\"p2455\",\"attributes\":{\"num_minor_ticks\":5,\"tickers\":[{\"type\":\"object\",\"name\":\"AdaptiveTicker\",\"id\":\"p2456\",\"attributes\":{\"num_minor_ticks\":0,\"mantissas\":[1,2,5],\"max_interval\":500.0}},{\"type\":\"object\",\"name\":\"AdaptiveTicker\",\"id\":\"p2457\",\"attributes\":{\"num_minor_ticks\":0,\"base\":60,\"mantissas\":[1,2,5,10,15,20,30],\"min_interval\":1000.0,\"max_interval\":1800000.0}},{\"type\":\"object\",\"name\":\"AdaptiveTicker\",\"id\":\"p2458\",\"attributes\":{\"num_minor_ticks\":0,\"base\":24,\"mantissas\":[1,2,4,6,8,12],\"min_interval\":3600000.0,\"max_interval\":43200000.0}},{\"type\":\"object\",\"name\":\"DaysTicker\",\"id\":\"p2459\",\"attributes\":{\"days\":[1,2,3,4,5,6,7,8,9,10,11,12,13,14,15,16,17,18,19,20,21,22,23,24,25,26,27,28,29,30,31]}},{\"type\":\"object\",\"name\":\"DaysTicker\",\"id\":\"p2460\",\"attributes\":{\"days\":[1,4,7,10,13,16,19,22,25,28]}},{\"type\":\"object\",\"name\":\"DaysTicker\",\"id\":\"p2461\",\"attributes\":{\"days\":[1,8,15,22]}},{\"type\":\"object\",\"name\":\"DaysTicker\",\"id\":\"p2462\",\"attributes\":{\"days\":[1,15]}},{\"type\":\"object\",\"name\":\"MonthsTicker\",\"id\":\"p2463\",\"attributes\":{\"months\":[0,1,2,3,4,5,6,7,8,9,10,11]}},{\"type\":\"object\",\"name\":\"MonthsTicker\",\"id\":\"p2464\",\"attributes\":{\"months\":[0,2,4,6,8,10]}},{\"type\":\"object\",\"name\":\"MonthsTicker\",\"id\":\"p2465\",\"attributes\":{\"months\":[0,4,8]}},{\"type\":\"object\",\"name\":\"MonthsTicker\",\"id\":\"p2466\",\"attributes\":{\"months\":[0,6]}},{\"type\":\"object\",\"name\":\"YearsTicker\",\"id\":\"p2467\"}]}},\"formatter\":{\"type\":\"object\",\"name\":\"DatetimeTickFormatter\",\"id\":\"p2468\",\"attributes\":{\"days\":\"%Hh\"}},\"major_label_policy\":{\"type\":\"object\",\"name\":\"AllLabels\",\"id\":\"p2469\"}}}],\"center\":[{\"type\":\"object\",\"name\":\"Grid\",\"id\":\"p2470\",\"attributes\":{\"axis\":{\"id\":\"p2454\"}}},{\"type\":\"object\",\"name\":\"Grid\",\"id\":\"p2475\",\"attributes\":{\"dimension\":1,\"axis\":{\"id\":\"p2471\"},\"grid_line_color\":null}}]}}]}};\n  const render_items = [{\"docid\":\"bac035a2-5c35-4a22-8f91-576797fcbbb2\",\"roots\":{\"p2441\":\"ea770e10-6120-4c62-ae9e-c330165d7f43\"},\"root_ids\":[\"p2441\"]}];\n  void root.Bokeh.embed.embed_items_notebook(docs_json, render_items);\n  }\n  if (root.Bokeh !== undefined) {\n    embed_document(root);\n  } else {\n    let attempts = 0;\n    const timer = setInterval(function(root) {\n      if (root.Bokeh !== undefined) {\n        clearInterval(timer);\n        embed_document(root);\n      } else {\n        attempts++;\n        if (attempts > 100) {\n          clearInterval(timer);\n          console.log(\"Bokeh: ERROR: Unable to run BokehJS code because BokehJS library is missing\");\n        }\n      }\n    }, 10, root)\n  }\n})(window);",
      "application/vnd.bokehjs_exec.v0+json": ""
     },
     "metadata": {
      "application/vnd.bokehjs_exec.v0+json": {
       "id": "p2441"
      }
     },
     "output_type": "display_data"
    }
   ],
   "source": [
    "from bokeh.transform import jitter\n",
    "\n",
    "DAYS = ['Sun', 'Sat', 'Fri', 'Thu', 'Wed', 'Tue', 'Mon']\n",
    "\n",
    "source = ColumnDataSource(data)\n",
    "\n",
    "p = figure(width=800, height=300, y_range=DAYS, x_axis_type='datetime', \n",
    "           title=\"Commits by Time of Day (US/Central) 2012—2016\")\n",
    "\n",
    "p.circle(x='time', y=jitter('day', width=0.6, range=p.y_range),  source=source, alpha=0.3)\n",
    "\n",
    "p.xaxis[0].formatter.days = '%Hh'\n",
    "p.x_range.range_padding = 0\n",
    "p.ygrid.grid_line_color = None\n",
    "\n",
    "show(p)"
   ]
  },
  {
   "cell_type": "code",
   "execution_count": 33,
   "id": "9abdb6aa",
   "metadata": {},
   "outputs": [
    {
     "name": "stderr",
     "output_type": "stream",
     "text": [
      "ERROR:bokeh.core.validation.check:E-1001 (BAD_COLUMN_NAME): Glyph refers to nonexistent column name. This could either be due to a misspelling or typo, or due to an expected column being missing. : x='time' [no close matches], y='day' [no close matches] {renderer: GlyphRenderer(id='p2554', ...)}\n"
     ]
    },
    {
     "data": {
      "text/html": [
       "\n",
       "  <div id=\"fe365e79-c8c9-42e5-8284-6af2fc214136\" data-root-id=\"p2499\" style=\"display: contents;\"></div>\n"
      ]
     },
     "metadata": {},
     "output_type": "display_data"
    },
    {
     "data": {
      "application/javascript": "(function(root) {\n  function embed_document(root) {\n  const docs_json = {\"73a9fc79-9f50-4038-ac08-e3885de79730\":{\"version\":\"3.6.1\",\"title\":\"Bokeh Application\",\"roots\":[{\"type\":\"object\",\"name\":\"Figure\",\"id\":\"p2499\",\"attributes\":{\"width\":800,\"height\":300,\"x_range\":{\"type\":\"object\",\"name\":\"DataRange1d\",\"id\":\"p2501\",\"attributes\":{\"range_padding\":0}},\"y_range\":{\"type\":\"object\",\"name\":\"FactorRange\",\"id\":\"p2509\",\"attributes\":{\"factors\":[\"Sun\",\"Sat\",\"Fri\",\"Thu\",\"Wed\",\"Tue\",\"Mon\"]}},\"x_scale\":{\"type\":\"object\",\"name\":\"LinearScale\",\"id\":\"p2510\"},\"y_scale\":{\"type\":\"object\",\"name\":\"CategoricalScale\",\"id\":\"p2511\"},\"title\":{\"type\":\"object\",\"name\":\"Title\",\"id\":\"p2502\",\"attributes\":{\"text\":\"Commits by Time of Day (US/Central) 2012\\u20142016\"}},\"renderers\":[{\"type\":\"object\",\"name\":\"GlyphRenderer\",\"id\":\"p2554\",\"attributes\":{\"data_source\":{\"type\":\"object\",\"name\":\"ColumnDataSource\",\"id\":\"p2438\",\"attributes\":{\"selected\":{\"type\":\"object\",\"name\":\"Selection\",\"id\":\"p2439\",\"attributes\":{\"indices\":[],\"line_indices\":[]}},\"selection_policy\":{\"type\":\"object\",\"name\":\"UnionRenderers\",\"id\":\"p2440\"},\"data\":{\"type\":\"map\",\"entries\":[[\"fruits\",[\"Apples\",\"Pears\",\"Nectarines\",\"Plums\",\"Grapes\",\"Strawberries\"]],[\"2015\",[2,1,4,3,2,4]],[\"2016\",[5,3,3,2,4,6]],[\"2017\",[3,2,4,4,5,3]]]}}},\"view\":{\"type\":\"object\",\"name\":\"CDSView\",\"id\":\"p2555\",\"attributes\":{\"filter\":{\"type\":\"object\",\"name\":\"AllIndices\",\"id\":\"p2556\"}}},\"glyph\":{\"type\":\"object\",\"name\":\"Circle\",\"id\":\"p2551\",\"attributes\":{\"x\":{\"type\":\"field\",\"field\":\"time\"},\"y\":{\"type\":\"field\",\"field\":\"day\",\"transform\":{\"type\":\"object\",\"name\":\"Jitter\",\"id\":\"p2547\",\"attributes\":{\"width\":0.6,\"range\":{\"id\":\"p2509\"}}}},\"line_color\":{\"type\":\"value\",\"value\":\"#1f77b4\"},\"line_alpha\":{\"type\":\"value\",\"value\":0.3},\"fill_color\":{\"type\":\"value\",\"value\":\"#1f77b4\"},\"fill_alpha\":{\"type\":\"value\",\"value\":0.3},\"hatch_alpha\":{\"type\":\"value\",\"value\":0.3}}},\"nonselection_glyph\":{\"type\":\"object\",\"name\":\"Circle\",\"id\":\"p2552\",\"attributes\":{\"x\":{\"type\":\"field\",\"field\":\"time\"},\"y\":{\"type\":\"field\",\"field\":\"day\",\"transform\":{\"id\":\"p2547\"}},\"line_color\":{\"type\":\"value\",\"value\":\"#1f77b4\"},\"line_alpha\":{\"type\":\"value\",\"value\":0.1},\"fill_color\":{\"type\":\"value\",\"value\":\"#1f77b4\"},\"fill_alpha\":{\"type\":\"value\",\"value\":0.1},\"hatch_alpha\":{\"type\":\"value\",\"value\":0.1}}},\"muted_glyph\":{\"type\":\"object\",\"name\":\"Circle\",\"id\":\"p2553\",\"attributes\":{\"x\":{\"type\":\"field\",\"field\":\"time\"},\"y\":{\"type\":\"field\",\"field\":\"day\",\"transform\":{\"id\":\"p2547\"}},\"line_color\":{\"type\":\"value\",\"value\":\"#1f77b4\"},\"line_alpha\":{\"type\":\"value\",\"value\":0.2},\"fill_color\":{\"type\":\"value\",\"value\":\"#1f77b4\"},\"fill_alpha\":{\"type\":\"value\",\"value\":0.2},\"hatch_alpha\":{\"type\":\"value\",\"value\":0.2}}}}}],\"toolbar\":{\"type\":\"object\",\"name\":\"Toolbar\",\"id\":\"p2508\",\"attributes\":{\"tools\":[{\"type\":\"object\",\"name\":\"PanTool\",\"id\":\"p2534\"},{\"type\":\"object\",\"name\":\"WheelZoomTool\",\"id\":\"p2535\",\"attributes\":{\"renderers\":\"auto\"}},{\"type\":\"object\",\"name\":\"BoxZoomTool\",\"id\":\"p2536\",\"attributes\":{\"overlay\":{\"type\":\"object\",\"name\":\"BoxAnnotation\",\"id\":\"p2537\",\"attributes\":{\"syncable\":false,\"line_color\":\"black\",\"line_alpha\":1.0,\"line_width\":2,\"line_dash\":[4,4],\"fill_color\":\"lightgrey\",\"fill_alpha\":0.5,\"level\":\"overlay\",\"visible\":false,\"left\":{\"type\":\"number\",\"value\":\"nan\"},\"right\":{\"type\":\"number\",\"value\":\"nan\"},\"top\":{\"type\":\"number\",\"value\":\"nan\"},\"bottom\":{\"type\":\"number\",\"value\":\"nan\"},\"left_units\":\"canvas\",\"right_units\":\"canvas\",\"top_units\":\"canvas\",\"bottom_units\":\"canvas\",\"handles\":{\"type\":\"object\",\"name\":\"BoxInteractionHandles\",\"id\":\"p2543\",\"attributes\":{\"all\":{\"type\":\"object\",\"name\":\"AreaVisuals\",\"id\":\"p2542\",\"attributes\":{\"fill_color\":\"white\",\"hover_fill_color\":\"lightgray\"}}}}}}}},{\"type\":\"object\",\"name\":\"SaveTool\",\"id\":\"p2544\"},{\"type\":\"object\",\"name\":\"ResetTool\",\"id\":\"p2545\"},{\"type\":\"object\",\"name\":\"HelpTool\",\"id\":\"p2546\"}]}},\"left\":[{\"type\":\"object\",\"name\":\"CategoricalAxis\",\"id\":\"p2529\",\"attributes\":{\"ticker\":{\"type\":\"object\",\"name\":\"CategoricalTicker\",\"id\":\"p2530\"},\"formatter\":{\"type\":\"object\",\"name\":\"CategoricalTickFormatter\",\"id\":\"p2531\"},\"major_label_policy\":{\"type\":\"object\",\"name\":\"AllLabels\",\"id\":\"p2532\"}}}],\"below\":[{\"type\":\"object\",\"name\":\"DatetimeAxis\",\"id\":\"p2512\",\"attributes\":{\"ticker\":{\"type\":\"object\",\"name\":\"DatetimeTicker\",\"id\":\"p2513\",\"attributes\":{\"num_minor_ticks\":5,\"tickers\":[{\"type\":\"object\",\"name\":\"AdaptiveTicker\",\"id\":\"p2514\",\"attributes\":{\"num_minor_ticks\":0,\"mantissas\":[1,2,5],\"max_interval\":500.0}},{\"type\":\"object\",\"name\":\"AdaptiveTicker\",\"id\":\"p2515\",\"attributes\":{\"num_minor_ticks\":0,\"base\":60,\"mantissas\":[1,2,5,10,15,20,30],\"min_interval\":1000.0,\"max_interval\":1800000.0}},{\"type\":\"object\",\"name\":\"AdaptiveTicker\",\"id\":\"p2516\",\"attributes\":{\"num_minor_ticks\":0,\"base\":24,\"mantissas\":[1,2,4,6,8,12],\"min_interval\":3600000.0,\"max_interval\":43200000.0}},{\"type\":\"object\",\"name\":\"DaysTicker\",\"id\":\"p2517\",\"attributes\":{\"days\":[1,2,3,4,5,6,7,8,9,10,11,12,13,14,15,16,17,18,19,20,21,22,23,24,25,26,27,28,29,30,31]}},{\"type\":\"object\",\"name\":\"DaysTicker\",\"id\":\"p2518\",\"attributes\":{\"days\":[1,4,7,10,13,16,19,22,25,28]}},{\"type\":\"object\",\"name\":\"DaysTicker\",\"id\":\"p2519\",\"attributes\":{\"days\":[1,8,15,22]}},{\"type\":\"object\",\"name\":\"DaysTicker\",\"id\":\"p2520\",\"attributes\":{\"days\":[1,15]}},{\"type\":\"object\",\"name\":\"MonthsTicker\",\"id\":\"p2521\",\"attributes\":{\"months\":[0,1,2,3,4,5,6,7,8,9,10,11]}},{\"type\":\"object\",\"name\":\"MonthsTicker\",\"id\":\"p2522\",\"attributes\":{\"months\":[0,2,4,6,8,10]}},{\"type\":\"object\",\"name\":\"MonthsTicker\",\"id\":\"p2523\",\"attributes\":{\"months\":[0,4,8]}},{\"type\":\"object\",\"name\":\"MonthsTicker\",\"id\":\"p2524\",\"attributes\":{\"months\":[0,6]}},{\"type\":\"object\",\"name\":\"YearsTicker\",\"id\":\"p2525\"}]}},\"formatter\":{\"type\":\"object\",\"name\":\"DatetimeTickFormatter\",\"id\":\"p2526\",\"attributes\":{\"days\":\"%Hh\"}},\"major_label_policy\":{\"type\":\"object\",\"name\":\"AllLabels\",\"id\":\"p2527\"}}}],\"center\":[{\"type\":\"object\",\"name\":\"Grid\",\"id\":\"p2528\",\"attributes\":{\"axis\":{\"id\":\"p2512\"}}},{\"type\":\"object\",\"name\":\"Grid\",\"id\":\"p2533\",\"attributes\":{\"dimension\":1,\"axis\":{\"id\":\"p2529\"},\"grid_line_color\":null}}]}}]}};\n  const render_items = [{\"docid\":\"73a9fc79-9f50-4038-ac08-e3885de79730\",\"roots\":{\"p2499\":\"fe365e79-c8c9-42e5-8284-6af2fc214136\"},\"root_ids\":[\"p2499\"]}];\n  void root.Bokeh.embed.embed_items_notebook(docs_json, render_items);\n  }\n  if (root.Bokeh !== undefined) {\n    embed_document(root);\n  } else {\n    let attempts = 0;\n    const timer = setInterval(function(root) {\n      if (root.Bokeh !== undefined) {\n        clearInterval(timer);\n        embed_document(root);\n      } else {\n        attempts++;\n        if (attempts > 100) {\n          clearInterval(timer);\n          console.log(\"Bokeh: ERROR: Unable to run BokehJS code because BokehJS library is missing\");\n        }\n      }\n    }, 10, root)\n  }\n})(window);",
      "application/vnd.bokehjs_exec.v0+json": ""
     },
     "metadata": {
      "application/vnd.bokehjs_exec.v0+json": {
       "id": "p2499"
      }
     },
     "output_type": "display_data"
    }
   ],
   "source": [
    "# Exercise: Create a plot using categorical coordinates and any non-\"bar\" glyphs\n",
    "\n",
    "p = figure(width=800, height=300, y_range=DAYS, x_axis_type='datetime',\n",
    "           title=\"Commits by Time of Day (US/Central) 2012—2016\")\n",
    "\n",
    "p.circle(x='time', y=jitter('day', width=0.6, range=p.y_range), source=source, alpha=0.3)\n",
    "\n",
    "p.xaxis[0].formatter.days = '%Hh'\n",
    "p.x_range.range_padding = 0\n",
    "p.ygrid.grid_line_color = None\n",
    "\n",
    "show(p)"
   ]
  },
  {
   "cell_type": "markdown",
   "id": "513e6fe3",
   "metadata": {},
   "source": [
    "# Next Section"
   ]
  },
  {
   "cell_type": "markdown",
   "id": "19db58d1",
   "metadata": {},
   "source": [
    "Click on this link to go to the next notebook: [08 - Graph and Network Plots](08%20-%20Graph%20and%20Network%20Plots.ipynb).\n",
    "\n",
    "To go back to the overview, click [here](00%20-%20Introduction%20and%20Setup.ipynb)."
   ]
  },
  {
   "cell_type": "code",
   "execution_count": null,
   "id": "fa1e2a6d",
   "metadata": {},
   "outputs": [],
   "source": []
  },
  {
   "cell_type": "code",
   "execution_count": null,
   "id": "99fb9eae",
   "metadata": {},
   "outputs": [],
   "source": []
  }
 ],
 "metadata": {
  "kernelspec": {
   "display_name": "env-cpia-CWEp8oh_-py3.12",
   "language": "python",
   "name": "python3"
  },
  "language_info": {
   "codemirror_mode": {
    "name": "ipython",
    "version": 3
   },
   "file_extension": ".py",
   "mimetype": "text/x-python",
   "name": "python",
   "nbconvert_exporter": "python",
   "pygments_lexer": "ipython3",
   "version": "3.12.0"
  }
 },
 "nbformat": 4,
 "nbformat_minor": 5
}
