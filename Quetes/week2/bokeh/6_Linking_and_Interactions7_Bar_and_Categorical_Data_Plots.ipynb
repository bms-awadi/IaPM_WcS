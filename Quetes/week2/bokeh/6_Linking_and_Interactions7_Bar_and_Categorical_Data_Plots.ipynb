{
 "cells": [
  {
   "cell_type": "markdown",
   "id": "0eb4dc1c",
   "metadata": {
    "id": "dQIf7pfcowg-"
   },
   "source": [
    "<table style=\"float:left; border:none\">\n",
    "   <tr style=\"border:none\">\n",
    "       <td style=\"border:none\">\n",
    "           <a href=\"https://bokeh.org/\">     \n",
    "           <img\n",
    "               src=\"assets/bokeh-transparent.png\"\n",
    "               style=\"width:50px\"\n",
    "           >\n",
    "           </a>    \n",
    "       </td>\n",
    "       <td style=\"border:none\">\n",
    "           <h1>Bokeh Tutorial</h1>\n",
    "       </td>\n",
    "   </tr>\n",
    "</table>\n",
    "\n",
    "<div style=\"float:right;\"><h2>06. Linking and Interactions</h2></div>"
   ]
  },
  {
   "cell_type": "code",
   "execution_count": null,
   "id": "8e930634",
   "metadata": {
    "id": "G-45lzA2owhG"
   },
   "outputs": [],
   "source": [
    "from bokeh.io import output_notebook, show\n",
    "from bokeh.plotting import figure\n",
    "output_notebook()"
   ]
  },
  {
   "cell_type": "markdown",
   "id": "12d4f0e1",
   "metadata": {
    "id": "Rh4D-oMaowhI"
   },
   "source": [
    "Now that we know from the previous chapter how multiple plots can be placed together in a layout, we can start to look at how different plots can be linked together, or how plots can be linked to widgets."
   ]
  },
  {
   "cell_type": "markdown",
   "id": "33b3ecee",
   "metadata": {
    "id": "fMErwCs0owhL"
   },
   "source": [
    "# Linked Interactions\n",
    "\n",
    "It is possible to link various interactions between different Bokeh plots. For instance, the ranges of two (or more) plots can be linked, so that when one of the plots is panned (or zoomed, or otherwise has its range changed) the other plots will update in unison. It is also possible to link selections between two plots, so that when items are selected on one plot, the corresponding items on the second plot also become selected."
   ]
  },
  {
   "cell_type": "markdown",
   "id": "c0b480bd",
   "metadata": {
    "id": "NQy4yGLVowhM"
   },
   "source": [
    "## Linked panning\n",
    "\n",
    "Linked panning (when multiple plots have ranges that stay in sync) is simple to spell with Bokeh. You simply share the appropriate range objects between two (or more) plots. The example below shows how to accomplish this by linking the ranges of three plots in various ways:"
   ]
  },
  {
   "cell_type": "code",
   "execution_count": null,
   "id": "897981dd",
   "metadata": {
    "id": "p7ybw7UEowhN"
   },
   "outputs": [],
   "source": [
    "from bokeh.layouts import gridplot\n",
    "\n",
    "x = list(range(11))\n",
    "y0, y1, y2 = x, [10-i for i in x], [abs(i-5) for i in x]\n",
    "\n",
    "plot_options = dict(width=250, height=250, tools='pan,wheel_zoom')\n",
    "\n",
    "# create a new plot\n",
    "s1 = figure(**plot_options)\n",
    "s1.circle(x, y0, size=10, color=\"navy\")\n",
    "\n",
    "# create a new plot and share both ranges\n",
    "s2 = figure(x_range=s1.x_range, y_range=s1.y_range, **plot_options)\n",
    "s2.triangle(x, y1, size=10, color=\"firebrick\")\n",
    "\n",
    "# create a new plot and share only one range\n",
    "s3 = figure(x_range=s1.x_range, **plot_options)\n",
    "s3.square(x, y2, size=10, color=\"olive\")\n",
    "\n",
    "p = gridplot([[s1, s2, s3]])\n",
    "\n",
    "# show the results\n",
    "show(p)"
   ]
  },
  {
   "cell_type": "code",
   "execution_count": null,
   "id": "25ffd276",
   "metadata": {
    "id": "l8kMfW1nowhO"
   },
   "outputs": [],
   "source": [
    "# EXERCISE: create two plots in a gridplot, and link their ranges\n"
   ]
  },
  {
   "cell_type": "markdown",
   "id": "440d2168",
   "metadata": {
    "id": "0BKwjdoEowhP"
   },
   "source": [
    "## Linked brushing\n",
    "\n",
    "Linking selections is accomplished in a similar way, by sharing data sources between plots. Note that normally with ``bokeh.plotting`` and ``bokeh.charts`` creating a default data source for simple plots is handled automatically. However to share a data source, we must create them by hand and pass them explicitly. This is illustrated in the example below:"
   ]
  },
  {
   "cell_type": "code",
   "execution_count": null,
   "id": "4a35b0d3",
   "metadata": {
    "id": "ZYgSz-eoowhQ"
   },
   "outputs": [],
   "source": [
    "from bokeh.models import ColumnDataSource\n",
    "\n",
    "x = list(range(-20, 21))\n",
    "y0, y1 = [abs(xx) for xx in x], [xx**2 for xx in x]\n",
    "\n",
    "# create a column data source for the plots to share\n",
    "source = ColumnDataSource(data=dict(x=x, y0=y0, y1=y1))\n",
    "\n",
    "TOOLS = \"box_select,lasso_select,help\"\n",
    "\n",
    "# create a new plot and add a renderer\n",
    "left = figure(tools=TOOLS, width=300, height=300)\n",
    "left.circle('x', 'y0', source=source)\n",
    "\n",
    "# create another new plot and add a renderer\n",
    "right = figure(tools=TOOLS, width=300, height=300)\n",
    "right.circle('x', 'y1', source=source)\n",
    "\n",
    "p = gridplot([[left, right]])\n",
    "\n",
    "show(p)"
   ]
  },
  {
   "cell_type": "code",
   "execution_count": null,
   "id": "a5ca9369",
   "metadata": {
    "id": "ClRKKMhsowhR"
   },
   "outputs": [],
   "source": [
    "# EXERCISE: create two plots in a gridplot, and link their data sources\n",
    "\n"
   ]
  },
  {
   "cell_type": "markdown",
   "id": "928d2405",
   "metadata": {
    "id": "g04GhuawowhS"
   },
   "source": [
    "# Hover Tools\n",
    "\n",
    "Bokeh has a Hover Tool that allows additional information to be displayed in a popup whenever the user hovers over a specific glyph. Basic hover tool configuration amounts to providing a list of ``(name, format)`` tuples. The full details can be found in the User's Guide [here](https://bokeh.pydata.org/en/latest/docs/user_guide/tools.html#hovertool).\n",
    "\n",
    "The example below shows some basic usage of the Hover tool with a circle glyph, using hover information defined in utils.py:"
   ]
  },
  {
   "cell_type": "code",
   "execution_count": null,
   "id": "35e05293",
   "metadata": {
    "id": "aDCQjLw5owhS"
   },
   "outputs": [],
   "source": [
    "from bokeh.models import HoverTool\n",
    "\n",
    "source = ColumnDataSource(\n",
    "        data=dict(\n",
    "            x=[1, 2, 3, 4, 5],\n",
    "            y=[2, 5, 8, 2, 7],\n",
    "            desc=['A', 'b', 'C', 'd', 'E'],\n",
    "        )\n",
    "    )\n",
    "\n",
    "hover = HoverTool(\n",
    "        tooltips=[\n",
    "            (\"index\", \"$index\"),\n",
    "            (\"(x,y)\", \"($x, $y)\"),\n",
    "            (\"desc\", \"@desc\"),\n",
    "        ]\n",
    "    )\n",
    "\n",
    "p = figure(width=300, height=300, tools=[hover], title=\"Mouse over the dots\")\n",
    "\n",
    "p.circle('x', 'y', size=20, source=source)\n",
    "\n",
    "show(p)"
   ]
  },
  {
   "cell_type": "markdown",
   "id": "aad260b0",
   "metadata": {
    "id": "HWiwXjm7owhT"
   },
   "source": [
    "# Widgets"
   ]
  },
  {
   "cell_type": "markdown",
   "id": "b629a2dd",
   "metadata": {
    "id": "uRyJEE05owhT"
   },
   "source": [
    "Bokeh supports direct integration with a small basic widget set. These can be used in conjunction with a Bokeh Server, or with ``CustomJS`` models to add more interactive capability to your documents. You can see a complete list, with example code in the [Widgets and DOM elements](https://docs.bokeh.org/en/latest/docs/user_guide/interaction/widgets.html) section of the User's Guide.\n",
    "\n",
    "\n",
    "\n",
    "*NOTE: In this Tutorial chapter, we will focus on using widgets with JavaScript callbacks. The Tutorial chapter on Bokeh server applications covers using Bokeh widgets with real Python callbacks*\n",
    "\n",
    "\n",
    "\n",
    "\n",
    "To use the widgets, include them in a layout like you would a plot object:"
   ]
  },
  {
   "cell_type": "code",
   "execution_count": null,
   "id": "95449a22",
   "metadata": {
    "id": "jPyCU0H1owhU"
   },
   "outputs": [],
   "source": [
    "from bokeh.models import Slider\n",
    "\n",
    "\n",
    "slider = Slider(start=0, end=10, value=1, step=.1, title=\"foo\")\n",
    "\n",
    "show(slider)"
   ]
  },
  {
   "cell_type": "code",
   "execution_count": null,
   "id": "85842737",
   "metadata": {
    "id": "70gXlN1SowhU"
   },
   "outputs": [],
   "source": [
    "# EXERCISE: create and show a Select widget\n"
   ]
  },
  {
   "cell_type": "markdown",
   "id": "cdb092ec",
   "metadata": {
    "id": "aoOXlBYMowhU"
   },
   "source": [
    "# CustomJS Callbacks\n",
    "\n",
    "In order for a widget to be useful, it needs to be able to perform some action. Using the Bokeh server, it is possible to have widgets trigger real Python code. That possibility will be explored in the Bokeh server chapter of the tutorial. Here, we look at how widgets can be configured with `CustomJS` callbacks that execute snippets of JavaScript code."
   ]
  },
  {
   "cell_type": "code",
   "execution_count": null,
   "id": "551eeaad",
   "metadata": {
    "id": "q7-r1gZWowhV"
   },
   "outputs": [],
   "source": [
    "from bokeh.models import TapTool, CustomJS, ColumnDataSource\n",
    "\n",
    "callback = CustomJS(code=\"alert('you tapped a circle!')\")\n",
    "tap = TapTool(callback=callback)\n",
    "\n",
    "p = figure(width=600, height=300, tools=[tap])\n",
    "\n",
    "p.circle(x=[1, 2, 3, 4, 5], y=[2, 5, 8, 2, 7], size=20)\n",
    "\n",
    "show(p)"
   ]
  },
  {
   "cell_type": "markdown",
   "id": "ef3b88f9",
   "metadata": {
    "id": "-5CCzJ__owhV"
   },
   "source": [
    "## CustomJS for Property changes\n",
    "\n",
    "Bokeh objects that have values associated can have small JavaScript actions attached to them using the `js_on_change` method. These actions (also referred to as \"callbacks\") are executed whenever the widget's value is changed. In order to make it easier to refer to specific Bokeh models (e.g., a data source, or a glyph) from JavaScript, the ``CustomJS`` object also accepts a dictionary of \"args\" that map names to Python Bokeh models. The corresponding JavaScript models are made available automatically to the ``CustomJS`` code:\n",
    "\n",
    "```python\n",
    "CustomJS(args=dict(source=source, slider=slider), code=\"\"\"\n",
    "    // easily refer to BokehJS source and slider objects in this JS code\n",
    "    var data = source.data;\n",
    "    var f = slider.value;\n",
    "\"\"\")\n",
    "```"
   ]
  },
  {
   "cell_type": "markdown",
   "id": "77ba5eee",
   "metadata": {
    "id": "ZIwn1j0howhW"
   },
   "source": [
    "### Slider widget example\n",
    "\n",
    "The example below shows an action attached to a slider that updates a data source whenever the slider is moved.  "
   ]
  },
  {
   "cell_type": "code",
   "execution_count": null,
   "id": "1fcde20d",
   "metadata": {
    "id": "UAA5lC7iowhW"
   },
   "outputs": [],
   "source": [
    "from bokeh.layouts import column\n",
    "from bokeh.models import CustomJS, ColumnDataSource, Slider\n",
    "\n",
    "x = [x*0.005 for x in range(0, 201)]\n",
    "\n",
    "source = ColumnDataSource(data=dict(x=x, y=x))\n",
    "\n",
    "plot = figure(width=400, height=400)\n",
    "plot.line('x', 'y', source=source, line_width=3, line_alpha=0.6)\n",
    "\n",
    "slider = Slider(start=0.1, end=6, value=1, step=.1, title=\"power\")\n",
    "\n",
    "update_curve = CustomJS(args=dict(source=source, slider=slider), code=\"\"\"\n",
    "    const f = cb_obj.value\n",
    "    const x = source.data.x\n",
    "    const y = Array.from(x, (x) => Math.pow(x, f))\n",
    "    source.data = { x, y }\n",
    "\"\"\")\n",
    "slider.js_on_change('value', update_curve)\n",
    "\n",
    "\n",
    "show(column(slider, plot))"
   ]
  },
  {
   "cell_type": "code",
   "execution_count": null,
   "id": "8125c7c8",
   "metadata": {
    "id": "E0OH_pKIowhW"
   },
   "outputs": [],
   "source": [
    "# Exercise: Create a plot that updates based on a Select widget\n",
    "\n"
   ]
  },
  {
   "cell_type": "markdown",
   "id": "a1f0c7de",
   "metadata": {
    "id": "L_SdnCbFowhX"
   },
   "source": [
    "### Data selection example\n",
    "\n",
    "It's also possible to make JavaScript actions that execute whenever a user selection (e.g., box, point, lasso) changes. This is done by attaching the same kind of CustomJS object to whatever data source the selection is made on.\n",
    "\n",
    "The example below is a bit more sophisticated, and demonstrates updating one glyph's data source in response to another glyph's selection:"
   ]
  },
  {
   "cell_type": "code",
   "execution_count": null,
   "id": "6ac55fd6",
   "metadata": {
    "id": "KrHCcMMnowhY"
   },
   "outputs": [],
   "source": [
    "from random import random\n",
    "\n",
    "from bokeh.models import ColumnDataSource, CustomJS\n",
    "from bokeh.plotting import figure, show\n",
    "\n",
    "x = [random() for x in range(500)]\n",
    "y = [random() for y in range(500)]\n",
    "color = [\"navy\"] * len(x)\n",
    "\n",
    "s = ColumnDataSource(data=dict(x=x, y=y, color=color))\n",
    "p = figure(width=400, height=400, tools=\"lasso_select\", title=\"Select Here\")\n",
    "p.circle('x', 'y', color='color', size=8, source=s, alpha=0.4,\n",
    "         selection_color=\"firebrick\")\n",
    "\n",
    "s2 = ColumnDataSource(data=dict(x=[0, 1], ym=[0.5, 0.5]))\n",
    "p.line(x='x', y='ym', color=\"orange\", line_width=5, alpha=0.6, source=s2)\n",
    "\n",
    "s.selected.js_on_change('indices', CustomJS(args=dict(s=s, s2=s2), code=\"\"\"\n",
    "    const inds = s.selected.indices\n",
    "    if (inds.length > 0) {\n",
    "        const ym = inds.reduce((a, b) => a + s.data.y[b], 0) / inds.length\n",
    "        s2.data = { x: s2.data.x, ym: [ym, ym] }\n",
    "    }\n",
    "\"\"\"))\n",
    "\n",
    "show(p)"
   ]
  },
  {
   "cell_type": "code",
   "execution_count": null,
   "id": "b582c12e",
   "metadata": {
    "id": "4sBylT9aowhY"
   },
   "outputs": [],
   "source": [
    "# Exercise: Experiment with selection callbacks\n",
    "\n"
   ]
  },
  {
   "cell_type": "markdown",
   "id": "3b3fb74b",
   "metadata": {
    "id": "YZ0v1_aHowhZ"
   },
   "source": [
    "## CustomJS for UI Events\n",
    "\n",
    "Bokeh also has a general events system\n",
    "\n",
    "All of the available UI events, and their properties, are listed in the Reference Guide section for [bokeh.events](https://bokeh.pydata.org/en/latest/docs/reference/events.html)"
   ]
  },
  {
   "cell_type": "code",
   "execution_count": null,
   "id": "37a4d84a",
   "metadata": {
    "id": "XHPtfei9owhZ"
   },
   "outputs": [],
   "source": [
    "from bokeh.plotting import figure\n",
    "from bokeh import events\n",
    "from bokeh.models import CustomJS, Div, Button\n",
    "from bokeh.layouts import column, row\n",
    "\n",
    "import numpy as np\n",
    "x = np.random.random(size=2000) * 100\n",
    "y = np.random.random(size=2000) * 100\n",
    "\n",
    "p = figure(tools=\"box_select\")\n",
    "p.scatter(x, y, radius=1, fill_alpha=0.6, line_color=None)\n",
    "\n",
    "div = Div(width=400)\n",
    "button = Button(label=\"Button\", width=300)\n",
    "layout = column(button, row(p, div))\n",
    "\n",
    "# Events with no attributes\n",
    "button.js_on_event(events.ButtonClick,  CustomJS(args=dict(div=div), code=\"\"\"\n",
    "div.text = \"Button!\";\n",
    "\"\"\"))\n",
    "\n",
    "p.js_on_event(events.SelectionGeometry, CustomJS(args=dict(div=div), code=\"\"\"\n",
    "div.text = \"Selection! <p> <p>\" + JSON.stringify(cb_obj.geometry, undefined, 2);\n",
    "\"\"\"))\n",
    "\n",
    "show(layout)"
   ]
  },
  {
   "cell_type": "code",
   "execution_count": null,
   "id": "d91ba308",
   "metadata": {
    "id": "G-G0IpcTowhZ"
   },
   "outputs": [],
   "source": [
    "# Exercise: Create a plot that responds to different events from bokeh.events\n",
    "\n"
   ]
  },
  {
   "cell_type": "markdown",
   "id": "53abbb08",
   "metadata": {
    "id": "BMaVNRj-owha"
   },
   "source": [
    "## Additional Information\n",
    "\n",
    "There are many kinds of interactions and events that can be connected to `CustomJS` callbacks.\n",
    "\n",
    "\n",
    "* Widgets - Button, Toggle, Dropdown, TextInput, AutocompleteInput, Select, Multiselect, Slider, (DateRangeSlider), DatePicker,\n",
    "* Tools - TapTool, BoxSelectTool, HoverTool,\n",
    "* Selection - ColumnDataSource, AjaxDataSource, BlazeDataSource, ServerDataSource\n",
    "* Ranges - Range1d, DataRange1d, FactorRange\n",
    "\n",
    "\n",
    "For more complete examples the User Guide section on [JavaScript Interactions](https://bokeh.pydata.org/en/latest/docs/user_guide/interaction.html)"
   ]
  },
  {
   "cell_type": "markdown",
   "id": "380a74cb",
   "metadata": {
    "id": "nTk9CcOhowha"
   },
   "source": [
    "# Next Section"
   ]
  },
  {
   "cell_type": "markdown",
   "id": "d29481be",
   "metadata": {
    "id": "JqxOzK17owha"
   },
   "source": [
    "Click on this link to go to the next notebook: [07 - Bar and Categorical Data Plots](07%20-%20Bar%20and%20Categorical%20Data%20Plots.ipynb).\n",
    "\n",
    "To go back to the overview, click [here](00%20-%20Introduction%20and%20Setup.ipynb)."
   ]
  },
  {
   "cell_type": "code",
   "execution_count": null,
   "id": "eb9ec773",
   "metadata": {
    "id": "Ut4Ye-uWowhb"
   },
   "outputs": [],
   "source": []
  },
  {
   "cell_type": "markdown",
   "id": "7eda86c0",
   "metadata": {},
   "source": [
    "<table style=\"float:left; border:none\">\n",
    "   <tr style=\"border:none\">\n",
    "       <td style=\"border:none\">\n",
    "           <a href=\"https://bokeh.org/\">     \n",
    "           <img \n",
    "               src=\"assets/bokeh-transparent.png\" \n",
    "               style=\"width:50px\"\n",
    "           >\n",
    "           </a>    \n",
    "       </td>\n",
    "       <td style=\"border:none\">\n",
    "           <h1>Bokeh Tutorial</h1>\n",
    "       </td>\n",
    "   </tr>\n",
    "</table>\n",
    "\n",
    "<div style=\"float:right;\"><h2>07. Bar and Categorical Data Plots</h2></div>"
   ]
  },
  {
   "cell_type": "code",
   "execution_count": null,
   "id": "a9800102",
   "metadata": {},
   "outputs": [],
   "source": [
    "from bokeh.io import show, output_notebook\n",
    "from bokeh.plotting import figure\n",
    "\n",
    "output_notebook()"
   ]
  },
  {
   "cell_type": "markdown",
   "id": "fd50359e",
   "metadata": {},
   "source": [
    "## Basic Bar Charts\n",
    "\n",
    "Bar charts are a common and important type of plot. Bokeh makes it simple to create all sorts of stacked or nested bar charts, and to deal with categorical data in general."
   ]
  },
  {
   "cell_type": "markdown",
   "id": "62366c0f",
   "metadata": {},
   "source": [
    "The example below shows a simple bar chart created using the `vbar` method for drawing vertical bars. (There is a corresponding `hbar` for horizontal bars.) We also set a few plot properties to make the chart look nicer, see chapter [Styling and Theming](02 - Styling and Theming.ipynb) for information about visual properties."
   ]
  },
  {
   "cell_type": "code",
   "execution_count": null,
   "id": "f9eaaa35",
   "metadata": {},
   "outputs": [],
   "source": [
    "# Here is a list of categorical values (or factors)\n",
    "fruits = ['Apples', 'Pears', 'Nectarines', 'Plums', 'Grapes', 'Strawberries']\n",
    "\n",
    "# Set the x_range to the list of categories above\n",
    "p = figure(x_range=fruits, height=250, title=\"Fruit Counts\")\n",
    "\n",
    "# Categorical values can also be used as coordinates\n",
    "p.vbar(x=fruits, top=[5, 3, 4, 2, 4, 6], width=0.9)\n",
    "\n",
    "# Set some properties to make the plot look better\n",
    "p.xgrid.grid_line_color = None\n",
    "p.y_range.start = 0\n",
    "\n",
    "show(p)"
   ]
  },
  {
   "cell_type": "markdown",
   "id": "094d77d1",
   "metadata": {},
   "source": [
    "When we want to create a plot with a categorical range, we pass the ordered list of categorical values to `figure`, e.g. `x_range=['a', 'b', 'c']`. In the plot above, we passed the list of fruits as `x_range`, and we can see those refelected as the x-axis.\n",
    "\n",
    "The `vbar` glyph method takes an `x` location for the center of the bar, a `top` and `bottom` (which defaults to 0), and a `width`. When we are using a categorical range as we are here, each category implicitly has width of 1, so setting `width=0.9` as we have done here makes the bars shrink away from each other. (Another option would be to add some padding to the range.)"
   ]
  },
  {
   "cell_type": "code",
   "execution_count": null,
   "id": "ed421906",
   "metadata": {},
   "outputs": [],
   "source": [
    "# Exercise: Create your own simple bar chart\n"
   ]
  },
  {
   "cell_type": "markdown",
   "id": "7aaaad40",
   "metadata": {},
   "source": [
    "Since `vbar` is a glyph method, we can use it with a `ColumnDataSource` just as we would with any other glyph. In the example below, we put the data (including color data) in a `ColumnDataSource` and use that to drive our plot. We also add a legend, see chapter [Adding Annotations.ipynb](03 - Adding Annotations.ipynb) for more information about legends and other annotations."
   ]
  },
  {
   "cell_type": "code",
   "execution_count": null,
   "id": "5e5697bf",
   "metadata": {},
   "outputs": [],
   "source": [
    "from bokeh.models import ColumnDataSource\n",
    "from bokeh.palettes import Spectral6\n",
    "\n",
    "fruits = ['Apples', 'Pears', 'Nectarines', 'Plums', 'Grapes', 'Strawberries']\n",
    "counts = [5, 3, 4, 2, 4, 6]\n",
    "\n",
    "source = ColumnDataSource(data=dict(fruits=fruits, counts=counts, color=Spectral6))\n",
    "\n",
    "p = figure(x_range=fruits, height=250, y_range=(0, 9), title=\"Fruit Counts\")\n",
    "p.vbar(x='fruits', top='counts', width=0.9, color='color', legend_field=\"fruits\", source=source)\n",
    "\n",
    "p.xgrid.grid_line_color = None\n",
    "p.legend.orientation = \"horizontal\"\n",
    "p.legend.location = \"top_center\"\n",
    "\n",
    "show(p)"
   ]
  },
  {
   "cell_type": "code",
   "execution_count": null,
   "id": "3e466f4f",
   "metadata": {},
   "outputs": [],
   "source": [
    "# Exercise: Create your own simple bar chart driven by a ColumnDataSource\n"
   ]
  },
  {
   "cell_type": "markdown",
   "id": "e0568a30",
   "metadata": {},
   "source": [
    "## Stacked Bars\n",
    "\n",
    "It's often desirable to stack bars together. Bokeh makes this straightforward using the `vbar_stack` and `hbar_stack` methods. When passing data to one of these methods, the data source should have a series for each \"row\" in the stack. You will provide an ordered list of column names to stack together from the data source. \n",
    "\n",
    "In the example below, we see simulated data for fruit exports (positive values) and imports (negative values) stacked using two calls to `hbar_stack`. The values in the columns for each year are ordered according to the `fruits`, i.e. this is not a \"tidy\" data format."
   ]
  },
  {
   "cell_type": "code",
   "execution_count": null,
   "id": "504bb3f6",
   "metadata": {},
   "outputs": [],
   "source": [
    "from bokeh.palettes import GnBu3, OrRd3\n",
    "\n",
    "years = ['2015', '2016', '2017']\n",
    "\n",
    "exports = {'fruits' : fruits,\n",
    "           '2015'   : [2, 1, 4, 3, 2, 4],\n",
    "           '2016'   : [5, 3, 4, 2, 4, 6],\n",
    "           '2017'   : [3, 2, 4, 4, 5, 3]}\n",
    "imports = {'fruits' : fruits,\n",
    "           '2015'   : [-1, 0, -1, -3, -2, -1],\n",
    "           '2016'   : [-2, -1, -3, -1, -2, -2],\n",
    "           '2017'   : [-1, -2, -1, 0, -2, -2]}\n",
    "\n",
    "p = figure(y_range=fruits, height=250, x_range=(-16, 16), title=\"Fruit import/export, by year\")\n",
    "\n",
    "p.hbar_stack(years, y='fruits', height=0.9, color=GnBu3, source=ColumnDataSource(exports),\n",
    "             legend_label=[\"%s exports\" % x for x in years])\n",
    "\n",
    "p.hbar_stack(years, y='fruits', height=0.9, color=OrRd3, source=ColumnDataSource(imports),\n",
    "             legend_label=[\"%s imports\" % x for x in years])\n",
    "\n",
    "p.y_range.range_padding = 0.1\n",
    "p.ygrid.grid_line_color = None\n",
    "p.legend.location = \"center_left\"\n",
    "\n",
    "show(p)"
   ]
  },
  {
   "cell_type": "markdown",
   "id": "b5d98225",
   "metadata": {},
   "source": [
    "Notice we also added some padding *around* the categorical range (e.g. at both ends of the axis) by specifying\n",
    "\n",
    "```\n",
    "p.y_range.range_padding = 0.1\n",
    "```"
   ]
  },
  {
   "cell_type": "code",
   "execution_count": null,
   "id": "7ca48bf0",
   "metadata": {},
   "outputs": [],
   "source": [
    "# Create a stacked bar chart with a single call to vbar_stack\n"
   ]
  },
  {
   "cell_type": "markdown",
   "id": "044a5fd8",
   "metadata": {},
   "source": [
    "## Grouped Bar Charts\n",
    "\n",
    "Sometimes we want to group bars together, instead of stacking them. Bokeh can handle up to three levels of nested (hierarchical) categories, and will automatically group output according to the outermost level. To specify nested categorical coordinates, the columns of the data source should contain tuples, for example:\n",
    "\n",
    "    x = [ (\"Apples\", \"2015\"), (\"Apples\", \"2016\"), (\"Apples\", \"2017\"), (\"Pears\", \"2015), ... ]\n",
    "    \n",
    "Values in other columns correspond to each item in `x`, exactly as in other cases. When plotting with these kinds of nested coordinates, we must tell Bokeh the contents and order the axis range, by explicitly passing a `FactorRange` to `figure`. In the example below, this is seen as\n",
    "\n",
    "    p = figure(x_range=FactorRange(*x), ....)\n",
    "    "
   ]
  },
  {
   "cell_type": "code",
   "execution_count": null,
   "id": "12bbdd1a",
   "metadata": {},
   "outputs": [],
   "source": [
    "from bokeh.models import FactorRange\n",
    "\n",
    "fruits = ['Apples', 'Pears', 'Nectarines', 'Plums', 'Grapes', 'Strawberries']\n",
    "years = ['2015', '2016', '2017']\n",
    "\n",
    "data = {'fruits' : fruits,\n",
    "        '2015'   : [2, 1, 4, 3, 2, 4],\n",
    "        '2016'   : [5, 3, 3, 2, 4, 6],\n",
    "        '2017'   : [3, 2, 4, 4, 5, 3]}\n",
    "\n",
    "# this creates [ (\"Apples\", \"2015\"), (\"Apples\", \"2016\"), (\"Apples\", \"2017\"), (\"Pears\", \"2015), ... ]\n",
    "x = [ (fruit, year) for fruit in fruits for year in years ]\n",
    "counts = sum(zip(data['2015'], data['2016'], data['2017']), ()) # like an hstack\n",
    "\n",
    "source = ColumnDataSource(data=dict(x=x, counts=counts))\n",
    "\n",
    "p = figure(x_range=FactorRange(*x), height=250, title=\"Fruit Counts by Year\")\n",
    "\n",
    "p.vbar(x='x', top='counts', width=0.9, source=source)\n",
    "\n",
    "p.y_range.start = 0\n",
    "p.x_range.range_padding = 0.1\n",
    "p.xaxis.major_label_orientation = 1\n",
    "p.xgrid.grid_line_color = None\n",
    "\n",
    "show(p)"
   ]
  },
  {
   "cell_type": "code",
   "execution_count": null,
   "id": "cab7ba4c",
   "metadata": {},
   "outputs": [],
   "source": [
    "# Exercise: Make the chart above have a different color for each year by adding colors to the ColumnDataSource\n"
   ]
  },
  {
   "cell_type": "markdown",
   "id": "0681bb80",
   "metadata": {},
   "source": [
    "Another way we can set the color of the bars is to use a transform. We first saw some transforms in previous chapter [Data Sources and Transformations](04 - Data Sources and Transformations.ipynb). Here we use a new one `factor_cmap` that accepts a the name of a column to use for colormapping, as well as the palette and factors that define the color mapping. \n",
    "\n",
    "Additionally we can configure it to map just the sub-factors if desired. For instance in this case we don't want shade each `(fruit, year)` pair differently. Instead, we want to only shade based on the `year`. So we pass `start=1` and `end=2` to specify the slice range of each factor to use when colormapping. Then we pass the result as the `fill_color` value:\n",
    "\n",
    "```\n",
    "    fill_color=factor_cmap('x', palette=['firebrick', 'olive', 'navy'], factors=years, start=1, end=2))\n",
    "```\n",
    "to have the colors be applied automatically based on the underlying data. "
   ]
  },
  {
   "cell_type": "code",
   "execution_count": null,
   "id": "27bd8b1e",
   "metadata": {},
   "outputs": [],
   "source": [
    "from bokeh.transform import factor_cmap\n",
    "\n",
    "p = figure(x_range=FactorRange(*x), height=250, title=\"Fruit Counts by Year\")\n",
    "\n",
    "p.vbar(x='x', top='counts', width=0.9, source=source, line_color=\"white\",\n",
    "\n",
    "       # use the palette to colormap based on the the x[1:2] values\n",
    "       fill_color=factor_cmap('x', palette=\"Bright3\", factors=years, start=1, end=2))\n",
    "\n",
    "p.y_range.start = 0\n",
    "p.x_range.range_padding = 0.1\n",
    "p.xaxis.major_label_orientation = 1\n",
    "p.xgrid.grid_line_color = None\n",
    "\n",
    "show(p)"
   ]
  },
  {
   "cell_type": "markdown",
   "id": "ba25bf7a",
   "metadata": {},
   "source": [
    "It is also possible to achieve grouped bar plots using another technique called \"visual dodge\". That would be useful e.g. if you only wanted to have the axis labeled by fruit type, and not include the years on the axis. This tutorial does not cover that technique but you can find information in the [User's Guide](https://bokeh.pydata.org/en/dev/docs/user_guide/categorical.html#visual-dodge). "
   ]
  },
  {
   "cell_type": "markdown",
   "id": "713cf04d",
   "metadata": {},
   "source": [
    "## Mixing Categorical Levels\n",
    "\n",
    "If you have created a range with nested categories as above, it is possible to plot glyphs using only the \"outer\" categories, if desired. The plot below shows monthly values grouped by quarter as bars. The data for these are in the familiar format:\n",
    "\n",
    "    factors = [(\"Q1\", \"jan\"), (\"Q1\", \"feb\"), (\"Q1\", \"mar\"), ....]\n",
    "\n",
    "The plot also overlays a line representing average quarterly values, and this is accomplished by using only the \"quarter\" part of each nexted category:\n",
    "\n",
    "    p.line(x=[\"Q1\", \"Q2\", \"Q3\", \"Q4\"], y=....)"
   ]
  },
  {
   "cell_type": "code",
   "execution_count": null,
   "id": "180fec99",
   "metadata": {},
   "outputs": [],
   "source": [
    "factors = [(\"Q1\", \"jan\"), (\"Q1\", \"feb\"), (\"Q1\", \"mar\"),\n",
    "           (\"Q2\", \"apr\"), (\"Q2\", \"may\"), (\"Q2\", \"jun\"),\n",
    "           (\"Q3\", \"jul\"), (\"Q3\", \"aug\"), (\"Q3\", \"sep\"),\n",
    "           (\"Q4\", \"oct\"), (\"Q4\", \"nov\"), (\"Q4\", \"dec\")]\n",
    "\n",
    "p = figure(x_range=FactorRange(*factors), height=250)\n",
    "\n",
    "x = [ 10, 12, 16, 9, 10, 8, 12, 13, 14, 14, 12, 16 ]\n",
    "p.vbar(x=factors, top=x, width=0.9, alpha=0.5)\n",
    "\n",
    "qs, aves = [\"Q1\", \"Q2\", \"Q3\", \"Q4\"], [12, 9, 13, 14]\n",
    "p.line(x=qs, y=aves, color=\"red\", line_width=3)\n",
    "p.circle(x=qs, y=aves, line_color=\"red\", fill_color=\"white\", size=10)\n",
    "\n",
    "p.y_range.start = 0\n",
    "p.x_range.range_padding = 0.1\n",
    "p.xgrid.grid_line_color = None\n",
    "\n",
    "show(p)"
   ]
  },
  {
   "cell_type": "markdown",
   "id": "39fed8e3",
   "metadata": {},
   "source": [
    "## Using Pandas `GroupBy`\n",
    "\n",
    "We may want to make charts based on the results of \"group by\" operations. Bokeh can utilize Pandas `GroupBy` objects directly to make this simpler. Let's take a look at how Bokeh deals with `GroupBy` objects by examining the \"cars\" data set."
   ]
  },
  {
   "cell_type": "code",
   "execution_count": null,
   "id": "756d57f9",
   "metadata": {},
   "outputs": [],
   "source": [
    "from bokeh.sampledata.autompg import autompg_clean as df\n",
    "\n",
    "df.cyl = df.cyl.astype(str)\n",
    "df.head()"
   ]
  },
  {
   "cell_type": "markdown",
   "id": "d64e8be1",
   "metadata": {},
   "source": [
    "Suppose we would like to display some values grouped according to `\"cyl\"`. If we create `df.groupby(('cyl'))` then call `group.describe()` we can see that Pandas automatically computes various statistics for each group. "
   ]
  },
  {
   "cell_type": "code",
   "execution_count": null,
   "id": "0cc5bab0",
   "metadata": {},
   "outputs": [],
   "source": [
    "group = df.groupby(('cyl'))\n",
    "\n",
    "group.describe()"
   ]
  },
  {
   "cell_type": "markdown",
   "id": "8141aead",
   "metadata": {},
   "source": [
    "Bokeh allows us to create a `ColumnDataSource` directly from Pandas `GroupBy` objects, and when this happens, the data source is automatically filled with the summary values from `group.desribe()`. Observe the column names below, which correspond to the output above."
   ]
  },
  {
   "cell_type": "code",
   "execution_count": null,
   "id": "d82ff8e3",
   "metadata": {},
   "outputs": [],
   "source": [
    "source = ColumnDataSource(group)\n",
    "\n",
    "\",\".join(source.column_names)"
   ]
  },
  {
   "cell_type": "markdown",
   "id": "da5fc3bc",
   "metadata": {},
   "source": [
    "Knowing these column names, we can immediately create bar charts based on Pandas `GroupBy` objects. The example below plots the aveage MPG per cylinder, i.e. columns `\"mpg_mean\"` vs `\"cyl\"`"
   ]
  },
  {
   "cell_type": "code",
   "execution_count": null,
   "id": "3adb3c0c",
   "metadata": {},
   "outputs": [],
   "source": [
    "cyl_cmap = factor_cmap('cyl', palette=\"Spectral5\", factors=sorted(df.cyl.unique()))\n",
    "\n",
    "p = figure(height=350, x_range=group)\n",
    "p.vbar(x='cyl', top='mpg_mean', width=0.9, line_color=\"white\", \n",
    "       fill_color=cyl_cmap, source=source)\n",
    "\n",
    "p.xgrid.grid_line_color = None\n",
    "p.xaxis.axis_label = \"number of cylinders\"\n",
    "p.yaxis.axis_label = \"Mean MPG\"\n",
    "p.y_range.start = 0\n",
    "\n",
    "show(p)"
   ]
  },
  {
   "cell_type": "code",
   "execution_count": null,
   "id": "a5859a0d",
   "metadata": {},
   "outputs": [],
   "source": [
    "# Exercise: Use the same dataset to make a similar plot of mean horsepower (hp) by origin\n"
   ]
  },
  {
   "cell_type": "markdown",
   "id": "ca8f1a03",
   "metadata": {},
   "source": [
    "## Categorical Scatterplots\n",
    "\n",
    "So far we have seen Categorical data used together with various bar glyphs. But Bokeh can use categorical coordinates for most any glyphs. Let's create a scatter plot with categorical coordinates on one axis. The `commits` data set simply has a series datetimes of GitHub commit. Additional columns to express the day and hour of day for each commit have already been added."
   ]
  },
  {
   "cell_type": "code",
   "execution_count": null,
   "id": "58080d9c",
   "metadata": {},
   "outputs": [],
   "source": [
    "from bokeh.sampledata.commits import data\n",
    "\n",
    "data.head()"
   ]
  },
  {
   "cell_type": "markdown",
   "id": "768add4b",
   "metadata": {},
   "source": [
    "To create our scatter plot, we pass the list of categories as the range just as before\n",
    "\n",
    "    p = figure(y_range=DAYS, ...)\n",
    "    \n",
    "Then we can plot circles for each commit, with `\"time\"` driving the x-coordinate, and `\"day\"` driving the y-coordinate.\n",
    "\n",
    "    p.circle(x='time', y='day', ...)\n",
    "\n",
    "To make the values more distinguishable, we can also add a `jitter` transform to the y-coordinate, which is shown in the complete example below."
   ]
  },
  {
   "cell_type": "code",
   "execution_count": null,
   "id": "15a6f536",
   "metadata": {},
   "outputs": [],
   "source": [
    "from bokeh.transform import jitter\n",
    "\n",
    "DAYS = ['Sun', 'Sat', 'Fri', 'Thu', 'Wed', 'Tue', 'Mon']\n",
    "\n",
    "source = ColumnDataSource(data)\n",
    "\n",
    "p = figure(width=800, height=300, y_range=DAYS, x_axis_type='datetime', \n",
    "           title=\"Commits by Time of Day (US/Central) 2012—2016\")\n",
    "\n",
    "p.circle(x='time', y=jitter('day', width=0.6, range=p.y_range),  source=source, alpha=0.3)\n",
    "\n",
    "p.xaxis[0].formatter.days = '%Hh'\n",
    "p.x_range.range_padding = 0\n",
    "p.ygrid.grid_line_color = None\n",
    "\n",
    "show(p)"
   ]
  },
  {
   "cell_type": "code",
   "execution_count": null,
   "id": "9abdb6aa",
   "metadata": {},
   "outputs": [],
   "source": [
    "# Exercise: Create a plot using categorical coordinates and any non-\"bar\" glyphs\n"
   ]
  },
  {
   "cell_type": "markdown",
   "id": "513e6fe3",
   "metadata": {},
   "source": [
    "# Next Section"
   ]
  },
  {
   "cell_type": "markdown",
   "id": "19db58d1",
   "metadata": {},
   "source": [
    "Click on this link to go to the next notebook: [08 - Graph and Network Plots](08%20-%20Graph%20and%20Network%20Plots.ipynb).\n",
    "\n",
    "To go back to the overview, click [here](00%20-%20Introduction%20and%20Setup.ipynb)."
   ]
  },
  {
   "cell_type": "code",
   "execution_count": null,
   "id": "fa1e2a6d",
   "metadata": {},
   "outputs": [],
   "source": []
  },
  {
   "cell_type": "code",
   "execution_count": null,
   "id": "99fb9eae",
   "metadata": {},
   "outputs": [],
   "source": []
  }
 ],
 "metadata": {},
 "nbformat": 4,
 "nbformat_minor": 5
}
